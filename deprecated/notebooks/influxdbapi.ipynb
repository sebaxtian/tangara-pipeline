{
 "cells": [
  {
   "cell_type": "code",
   "execution_count": 1,
   "metadata": {},
   "outputs": [],
   "source": [
    "import pandas as pd\n",
    "import requests\n",
    "from datetime import datetime, timezone, timedelta\n",
    "from io import StringIO\n",
    "import geohash2"
   ]
  },
  {
   "cell_type": "markdown",
   "metadata": {},
   "source": [
    "# Extraction"
   ]
  },
  {
   "cell_type": "code",
   "execution_count": 2,
   "metadata": {},
   "outputs": [
    {
     "name": "stdout",
     "output_type": "stream",
     "text": [
      "2022-09-05 13:05:30,420 - kedro.io.data_catalog - INFO - Loading data from `parameters` (MemoryDataSet)...\n",
      "start_datetime: 2022-09-04T00:00:00\n",
      "end_datetime: 2022-09-04T23:59:59\n"
     ]
    }
   ],
   "source": [
    "# Period time when sensors were validated\n",
    "parameters = catalog.load('parameters')\n",
    "start_datetime = parameters['start_datetime']\n",
    "end_datetime = parameters['end_datetime']\n",
    "print('start_datetime:', start_datetime)\n",
    "print('end_datetime:', end_datetime)"
   ]
  },
  {
   "cell_type": "code",
   "execution_count": 3,
   "metadata": {},
   "outputs": [],
   "source": [
    "# Request to InfluxDB API REST\n",
    "def request_to_influxdb(sql_query):\n",
    "    endpoint = \"http://influxdb.canair.io:8086/query\"\n",
    "    database = \"canairio\"\n",
    "    parameters = {\n",
    "        'db': database,\n",
    "        'q': sql_query,\n",
    "        'epoch': 'ms'\n",
    "    }\n",
    "    # To get response as CSV text\n",
    "    headers = {'Accept': 'application/csv'}\n",
    "    # GET Request\n",
    "    return requests.get(endpoint, params=parameters, headers=headers)"
   ]
  },
  {
   "cell_type": "code",
   "execution_count": 4,
   "metadata": {},
   "outputs": [],
   "source": [
    "# Get Period Time\n",
    "def get_period_time(start_datetime, end_datetime):\n",
    "    start_datetime = int(datetime.fromisoformat(start_datetime).timestamp() * 1000)\n",
    "    end_datetime = int(datetime.fromisoformat(end_datetime).timestamp() * 1000)\n",
    "    return f\"time >= {start_datetime}ms and time <= {end_datetime}ms\""
   ]
  },
  {
   "cell_type": "code",
   "execution_count": 5,
   "metadata": {},
   "outputs": [
    {
     "data": {
      "text/plain": [
       "'time >= 1662267600000ms and time <= 1662353999000ms'"
      ]
     },
     "execution_count": 5,
     "metadata": {},
     "output_type": "execute_result"
    }
   ],
   "source": [
    "# Period Time\n",
    "period_time = get_period_time(start_datetime, end_datetime)\n",
    "period_time"
   ]
  },
  {
   "cell_type": "code",
   "execution_count": 6,
   "metadata": {},
   "outputs": [],
   "source": [
    "# Get SQL Query Tangaras\n",
    "def get_sql_query_tangaras(start_datetime, end_datetime):\n",
    "    sql_query = \"\"\n",
    "    #period_time = \"time >= now() - 1h and time <= now()\"\n",
    "    #period_time = \"time >= now() - 24h and time <= now()\"\n",
    "    period_time = get_period_time(start_datetime, end_datetime)\n",
    "    sql_query = \"SELECT DISTINCT(geo) AS \\\"geohash\\\" \"\\\n",
    "                \"FROM \\\"fixed_stations_01\\\" WHERE \"\\\n",
    "                    \"(\\\"geo3\\\" = 'd29') AND \"\\\n",
    "                    f\"{period_time} \"\\\n",
    "                \"GROUP BY \\\"name\\\";\"\n",
    "    return sql_query"
   ]
  },
  {
   "cell_type": "code",
   "execution_count": 15,
   "metadata": {},
   "outputs": [
    {
     "name": "stdout",
     "output_type": "stream",
     "text": [
      "SELECT DISTINCT(geo) AS \"geohash\" FROM \"fixed_stations_01\" WHERE (\"geo3\" = 'd29') AND time >= 1662267600000ms and time <= 1662353999000ms GROUP BY \"name\";\n"
     ]
    }
   ],
   "source": [
    "sql_query = get_sql_query_tangaras(start_datetime, end_datetime)\n",
    "print(sql_query)"
   ]
  },
  {
   "cell_type": "code",
   "execution_count": 7,
   "metadata": {},
   "outputs": [],
   "source": [
    "# Get Data Frame Tangaras\n",
    "def get_df_tangaras(start_datetime, end_datetime):\n",
    "    # SQL Query Tangaras\n",
    "    sql_query = get_sql_query_tangaras(start_datetime, end_datetime)\n",
    "    # InfluxDB API REST Request\n",
    "    influxdb_api_request = request_to_influxdb(sql_query)\n",
    "    df_tangaras = pd.read_csv(StringIO(influxdb_api_request.text), sep=\",\")\n",
    "    \n",
    "    # Remove/Add Columns\n",
    "    df_tangaras = df_tangaras[['tags', 'geohash']]\n",
    "    df_tangaras['MAC'] = df_tangaras['tags'].apply(lambda x: x.split('=')[1])\n",
    "    df_tangaras['GEOLOCATION'] = df_tangaras['geohash'].apply(lambda x: \" \".join(str(value) for value in list(geohash2.decode_exactly(x)[0:2])))\n",
    "    df_tangaras['LATITUDE'] = df_tangaras['GEOLOCATION'].apply(lambda x: x.split(' ')[0])\n",
    "    df_tangaras['LONGITUDE'] = df_tangaras['GEOLOCATION'].apply(lambda x: x.split(' ')[1])\n",
    "    df_tangaras['tags'] = df_tangaras['tags'].apply(lambda x: f\"TANGARA_{x[-4:]}\")\n",
    "    df_tangaras.rename(columns={'tags': 'ID', 'geohash': 'GEOHASH'}, inplace=True)\n",
    "    # Date time when query is executed\n",
    "    tz = timezone(timedelta(hours=-5))\n",
    "    df_tangaras['DATETIME'] = datetime.now(tz=tz)\n",
    "\n",
    "    return df_tangaras"
   ]
  },
  {
   "cell_type": "code",
   "execution_count": 8,
   "metadata": {},
   "outputs": [
    {
     "data": {
      "text/html": [
       "<div>\n",
       "<style scoped>\n",
       "    .dataframe tbody tr th:only-of-type {\n",
       "        vertical-align: middle;\n",
       "    }\n",
       "\n",
       "    .dataframe tbody tr th {\n",
       "        vertical-align: top;\n",
       "    }\n",
       "\n",
       "    .dataframe thead th {\n",
       "        text-align: right;\n",
       "    }\n",
       "</style>\n",
       "<table border=\"1\" class=\"dataframe\">\n",
       "  <thead>\n",
       "    <tr style=\"text-align: right;\">\n",
       "      <th></th>\n",
       "      <th>ID</th>\n",
       "      <th>GEOHASH</th>\n",
       "      <th>MAC</th>\n",
       "      <th>GEOLOCATION</th>\n",
       "      <th>LATITUDE</th>\n",
       "      <th>LONGITUDE</th>\n",
       "      <th>DATETIME</th>\n",
       "    </tr>\n",
       "  </thead>\n",
       "  <tbody>\n",
       "    <tr>\n",
       "      <th>0</th>\n",
       "      <td>TANGARA_2BBA</td>\n",
       "      <td>d29e6b4</td>\n",
       "      <td>D29ESP32DE02BBA</td>\n",
       "      <td>3.3844757080078125 -76.51634216308594</td>\n",
       "      <td>3.3844757080078125</td>\n",
       "      <td>-76.51634216308594</td>\n",
       "      <td>2022-09-05 13:05:32.281197-05:00</td>\n",
       "    </tr>\n",
       "    <tr>\n",
       "      <th>1</th>\n",
       "      <td>TANGARA_14D6</td>\n",
       "      <td>d29dfx4</td>\n",
       "      <td>D29ESP32DED14D6</td>\n",
       "      <td>3.3350372314453125 -76.52732849121094</td>\n",
       "      <td>3.3350372314453125</td>\n",
       "      <td>-76.52732849121094</td>\n",
       "      <td>2022-09-05 13:05:32.281197-05:00</td>\n",
       "    </tr>\n",
       "    <tr>\n",
       "      <th>2</th>\n",
       "      <td>TANGARA_1CE2</td>\n",
       "      <td>d29e4cv</td>\n",
       "      <td>D29ESP32DED1CE2</td>\n",
       "      <td>3.3501434326171875 -76.51222229003906</td>\n",
       "      <td>3.3501434326171875</td>\n",
       "      <td>-76.51222229003906</td>\n",
       "      <td>2022-09-05 13:05:32.281197-05:00</td>\n",
       "    </tr>\n",
       "    <tr>\n",
       "      <th>3</th>\n",
       "      <td>TANGARA_1FCA</td>\n",
       "      <td>d29e48s</td>\n",
       "      <td>D29ESP32DED1FCA</td>\n",
       "      <td>3.3432769775390625 -76.52458190917969</td>\n",
       "      <td>3.3432769775390625</td>\n",
       "      <td>-76.52458190917969</td>\n",
       "      <td>2022-09-05 13:05:32.281197-05:00</td>\n",
       "    </tr>\n",
       "    <tr>\n",
       "      <th>4</th>\n",
       "      <td>TANGARA_2492</td>\n",
       "      <td>d29e64g</td>\n",
       "      <td>D29ESP32DED2492</td>\n",
       "      <td>3.3995819091796875 -76.54792785644531</td>\n",
       "      <td>3.3995819091796875</td>\n",
       "      <td>-76.54792785644531</td>\n",
       "      <td>2022-09-05 13:05:32.281197-05:00</td>\n",
       "    </tr>\n",
       "  </tbody>\n",
       "</table>\n",
       "</div>"
      ],
      "text/plain": [
       "             ID  GEOHASH              MAC  \\\n",
       "0  TANGARA_2BBA  d29e6b4  D29ESP32DE02BBA   \n",
       "1  TANGARA_14D6  d29dfx4  D29ESP32DED14D6   \n",
       "2  TANGARA_1CE2  d29e4cv  D29ESP32DED1CE2   \n",
       "3  TANGARA_1FCA  d29e48s  D29ESP32DED1FCA   \n",
       "4  TANGARA_2492  d29e64g  D29ESP32DED2492   \n",
       "\n",
       "                             GEOLOCATION            LATITUDE  \\\n",
       "0  3.3844757080078125 -76.51634216308594  3.3844757080078125   \n",
       "1  3.3350372314453125 -76.52732849121094  3.3350372314453125   \n",
       "2  3.3501434326171875 -76.51222229003906  3.3501434326171875   \n",
       "3  3.3432769775390625 -76.52458190917969  3.3432769775390625   \n",
       "4  3.3995819091796875 -76.54792785644531  3.3995819091796875   \n",
       "\n",
       "            LONGITUDE                         DATETIME  \n",
       "0  -76.51634216308594 2022-09-05 13:05:32.281197-05:00  \n",
       "1  -76.52732849121094 2022-09-05 13:05:32.281197-05:00  \n",
       "2  -76.51222229003906 2022-09-05 13:05:32.281197-05:00  \n",
       "3  -76.52458190917969 2022-09-05 13:05:32.281197-05:00  \n",
       "4  -76.54792785644531 2022-09-05 13:05:32.281197-05:00  "
      ]
     },
     "execution_count": 8,
     "metadata": {},
     "output_type": "execute_result"
    }
   ],
   "source": [
    "# Data Frame Tangaras\n",
    "df_tangaras = get_df_tangaras(start_datetime, end_datetime)\n",
    "df_tangaras.head()"
   ]
  },
  {
   "cell_type": "code",
   "execution_count": 9,
   "metadata": {},
   "outputs": [
    {
     "name": "stdout",
     "output_type": "stream",
     "text": [
      "2022-09-05 13:05:32,346 - kedro.io.data_catalog - INFO - Saving data to `tangaras` (CSVDataSet)...\n"
     ]
    }
   ],
   "source": [
    "# Save df_tangaras into Catalog\n",
    "catalog.save('tangaras', df_tangaras)"
   ]
  },
  {
   "cell_type": "code",
   "execution_count": 10,
   "metadata": {},
   "outputs": [],
   "source": [
    "# Get SQL Query Data Sensors\n",
    "def get_sql_query_sensors(tangaras, start_datetime, end_datetime):\n",
    "    sql_query = \"\"\n",
    "    period_time = get_period_time(start_datetime, end_datetime)\n",
    "    #period_time = \"time >= now() - 1h and time <= now()\"\n",
    "    for mac in tangaras['MAC'].to_list():\n",
    "        sql_query += \"SELECT \\\"name\\\", last(\\\"pm25\\\") \"\\\n",
    "                    \"FROM \\\"fixed_stations_01\\\" WHERE \"\\\n",
    "                    f\"(\\\"name\\\" = '{mac}') AND \"\\\n",
    "                    f\"{period_time} \" \\\n",
    "                    \"GROUP BY time(30s) fill(none); \"\n",
    "    return sql_query[:-2]"
   ]
  },
  {
   "cell_type": "code",
   "execution_count": 11,
   "metadata": {},
   "outputs": [],
   "source": [
    "# Get Data Frame Sensors\n",
    "def get_df_sensors(tangaras, start_datetime, end_datetime):\n",
    "    # Data Frame Sensors\n",
    "    df_sensors = []\n",
    "    # SQL Query Data Sensors\n",
    "    sql_query = get_sql_query_sensors(tangaras, start_datetime, end_datetime)\n",
    "    # InfluxDB API REST Request\n",
    "    influxdb_api_request = request_to_influxdb(sql_query)\n",
    "    df_influxdb_api_sensors = pd.read_csv(StringIO(influxdb_api_request.text), sep=\",\")\n",
    "\n",
    "    # Remove/Add Columns\n",
    "    df_influxdb_api_sensors = df_influxdb_api_sensors[['time', 'name.1', 'last']]\n",
    "    df_influxdb_api_sensors.rename(columns={'time': 'DATETIME', 'name.1': 'MAC', 'last': 'PM25'}, inplace=True)\n",
    "\n",
    "    # Truncate Response\n",
    "    for index, row in tangaras.iterrows():\n",
    "        df_sensor = df_influxdb_api_sensors.loc[df_influxdb_api_sensors['MAC'] == row['MAC']].reset_index(drop=True)[['DATETIME', 'PM25']] # Warning\n",
    "        if not df_sensor.empty:\n",
    "            df_sensor.rename(columns={'PM25': row['ID']}, inplace=True)\n",
    "            df_sensor.set_index('DATETIME', inplace=True)\n",
    "            df_sensors.append(df_sensor)\n",
    "    \n",
    "    df_sensors = df_sensors[0].join(df_sensors[1:]).reset_index()\n",
    "\n",
    "    tz = timezone(timedelta(hours=-5))\n",
    "    df_sensors['DATETIME'] = df_sensors['DATETIME'].apply(lambda x: datetime.fromtimestamp(int(x) / 1000, tz=tz).isoformat())\n",
    "\n",
    "    df_sensors[df_sensors.columns.to_list()[1:]] = df_sensors[df_sensors.columns.to_list()[1:]].astype('Int64')\n",
    "    \n",
    "    return df_sensors"
   ]
  },
  {
   "cell_type": "code",
   "execution_count": 12,
   "metadata": {},
   "outputs": [
    {
     "data": {
      "text/html": [
       "<div>\n",
       "<style scoped>\n",
       "    .dataframe tbody tr th:only-of-type {\n",
       "        vertical-align: middle;\n",
       "    }\n",
       "\n",
       "    .dataframe tbody tr th {\n",
       "        vertical-align: top;\n",
       "    }\n",
       "\n",
       "    .dataframe thead th {\n",
       "        text-align: right;\n",
       "    }\n",
       "</style>\n",
       "<table border=\"1\" class=\"dataframe\">\n",
       "  <thead>\n",
       "    <tr style=\"text-align: right;\">\n",
       "      <th></th>\n",
       "      <th>DATETIME</th>\n",
       "      <th>TANGARA_2BBA</th>\n",
       "      <th>TANGARA_14D6</th>\n",
       "      <th>TANGARA_1CE2</th>\n",
       "      <th>TANGARA_1FCA</th>\n",
       "      <th>TANGARA_2492</th>\n",
       "      <th>TANGARA_2FF6</th>\n",
       "      <th>TANGARA_48C6</th>\n",
       "      <th>TANGARA_4D7A</th>\n",
       "      <th>TANGARA_532E</th>\n",
       "      <th>TANGARA_EA06</th>\n",
       "      <th>TANGARA_F1AE</th>\n",
       "      <th>TANGARA_FAC6</th>\n",
       "      <th>TANGARA_06BE</th>\n",
       "    </tr>\n",
       "  </thead>\n",
       "  <tbody>\n",
       "    <tr>\n",
       "      <th>0</th>\n",
       "      <td>2022-09-04T00:00:00-05:00</td>\n",
       "      <td>5</td>\n",
       "      <td>&lt;NA&gt;</td>\n",
       "      <td>4</td>\n",
       "      <td>7</td>\n",
       "      <td>&lt;NA&gt;</td>\n",
       "      <td>&lt;NA&gt;</td>\n",
       "      <td>&lt;NA&gt;</td>\n",
       "      <td>0</td>\n",
       "      <td>0</td>\n",
       "      <td>0</td>\n",
       "      <td>4</td>\n",
       "      <td>1</td>\n",
       "      <td>&lt;NA&gt;</td>\n",
       "    </tr>\n",
       "    <tr>\n",
       "      <th>1</th>\n",
       "      <td>2022-09-04T00:00:30-05:00</td>\n",
       "      <td>6</td>\n",
       "      <td>5</td>\n",
       "      <td>4</td>\n",
       "      <td>7</td>\n",
       "      <td>7</td>\n",
       "      <td>7</td>\n",
       "      <td>0</td>\n",
       "      <td>0</td>\n",
       "      <td>0</td>\n",
       "      <td>0</td>\n",
       "      <td>4</td>\n",
       "      <td>1</td>\n",
       "      <td>4</td>\n",
       "    </tr>\n",
       "    <tr>\n",
       "      <th>2</th>\n",
       "      <td>2022-09-04T00:01:00-05:00</td>\n",
       "      <td>5</td>\n",
       "      <td>7</td>\n",
       "      <td>4</td>\n",
       "      <td>7</td>\n",
       "      <td>8</td>\n",
       "      <td>7</td>\n",
       "      <td>0</td>\n",
       "      <td>0</td>\n",
       "      <td>2</td>\n",
       "      <td>0</td>\n",
       "      <td>3</td>\n",
       "      <td>1</td>\n",
       "      <td>6</td>\n",
       "    </tr>\n",
       "    <tr>\n",
       "      <th>3</th>\n",
       "      <td>2022-09-04T00:01:30-05:00</td>\n",
       "      <td>6</td>\n",
       "      <td>7</td>\n",
       "      <td>4</td>\n",
       "      <td>7</td>\n",
       "      <td>8</td>\n",
       "      <td>8</td>\n",
       "      <td>3</td>\n",
       "      <td>0</td>\n",
       "      <td>0</td>\n",
       "      <td>0</td>\n",
       "      <td>3</td>\n",
       "      <td>1</td>\n",
       "      <td>6</td>\n",
       "    </tr>\n",
       "    <tr>\n",
       "      <th>4</th>\n",
       "      <td>2022-09-04T00:02:00-05:00</td>\n",
       "      <td>6</td>\n",
       "      <td>8</td>\n",
       "      <td>4</td>\n",
       "      <td>7</td>\n",
       "      <td>9</td>\n",
       "      <td>8</td>\n",
       "      <td>5</td>\n",
       "      <td>0</td>\n",
       "      <td>2</td>\n",
       "      <td>0</td>\n",
       "      <td>4</td>\n",
       "      <td>1</td>\n",
       "      <td>6</td>\n",
       "    </tr>\n",
       "  </tbody>\n",
       "</table>\n",
       "</div>"
      ],
      "text/plain": [
       "                    DATETIME  TANGARA_2BBA  TANGARA_14D6  TANGARA_1CE2  \\\n",
       "0  2022-09-04T00:00:00-05:00             5          <NA>             4   \n",
       "1  2022-09-04T00:00:30-05:00             6             5             4   \n",
       "2  2022-09-04T00:01:00-05:00             5             7             4   \n",
       "3  2022-09-04T00:01:30-05:00             6             7             4   \n",
       "4  2022-09-04T00:02:00-05:00             6             8             4   \n",
       "\n",
       "   TANGARA_1FCA  TANGARA_2492  TANGARA_2FF6  TANGARA_48C6  TANGARA_4D7A  \\\n",
       "0             7          <NA>          <NA>          <NA>             0   \n",
       "1             7             7             7             0             0   \n",
       "2             7             8             7             0             0   \n",
       "3             7             8             8             3             0   \n",
       "4             7             9             8             5             0   \n",
       "\n",
       "   TANGARA_532E  TANGARA_EA06  TANGARA_F1AE  TANGARA_FAC6  TANGARA_06BE  \n",
       "0             0             0             4             1          <NA>  \n",
       "1             0             0             4             1             4  \n",
       "2             2             0             3             1             6  \n",
       "3             0             0             3             1             6  \n",
       "4             2             0             4             1             6  "
      ]
     },
     "execution_count": 12,
     "metadata": {},
     "output_type": "execute_result"
    }
   ],
   "source": [
    "# Data Frame Sensors\n",
    "df_sensors = get_df_sensors(df_tangaras, start_datetime, end_datetime)\n",
    "df_sensors.head()"
   ]
  },
  {
   "cell_type": "code",
   "execution_count": 13,
   "metadata": {},
   "outputs": [
    {
     "data": {
      "text/plain": [
       "DATETIME        object\n",
       "TANGARA_2BBA     Int64\n",
       "TANGARA_14D6     Int64\n",
       "TANGARA_1CE2     Int64\n",
       "TANGARA_1FCA     Int64\n",
       "TANGARA_2492     Int64\n",
       "TANGARA_2FF6     Int64\n",
       "TANGARA_48C6     Int64\n",
       "TANGARA_4D7A     Int64\n",
       "TANGARA_532E     Int64\n",
       "TANGARA_EA06     Int64\n",
       "TANGARA_F1AE     Int64\n",
       "TANGARA_FAC6     Int64\n",
       "TANGARA_06BE     Int64\n",
       "dtype: object"
      ]
     },
     "execution_count": 13,
     "metadata": {},
     "output_type": "execute_result"
    }
   ],
   "source": [
    "# Check Data Types\n",
    "df_sensors.dtypes"
   ]
  },
  {
   "cell_type": "code",
   "execution_count": 14,
   "metadata": {},
   "outputs": [
    {
     "name": "stdout",
     "output_type": "stream",
     "text": [
      "2022-09-05 13:05:36,106 - kedro.io.data_catalog - INFO - Saving data to `raw_data_sensors_api` (CSVDataSet)...\n"
     ]
    }
   ],
   "source": [
    "# Save df_sensors into Catalog\n",
    "catalog.save('raw_data_sensors_api', df_sensors)"
   ]
  }
 ],
 "metadata": {
  "kernelspec": {
   "display_name": "Kedro (tangara_pipeline)",
   "language": "python",
   "name": "kedro_tangara_pipeline"
  },
  "language_info": {
   "codemirror_mode": {
    "name": "ipython",
    "version": 3
   },
   "file_extension": ".py",
   "mimetype": "text/x-python",
   "name": "python",
   "nbconvert_exporter": "python",
   "pygments_lexer": "ipython3",
   "version": "3.8.10"
  },
  "orig_nbformat": 4
 },
 "nbformat": 4,
 "nbformat_minor": 2
}
