{
 "cells": [
  {
   "cell_type": "code",
   "execution_count": 1,
   "metadata": {},
   "outputs": [
    {
     "name": "stdout",
     "output_type": "stream",
     "text": [
      "importing Jupyter notebook from utils.ipynb\n"
     ]
    }
   ],
   "source": [
    "import os\n",
    "import geohash2\n",
    "import pandas as pd\n",
    "\n",
    "from pandas import DataFrame\n",
    "from io import StringIO\n",
    "from dotenv import load_dotenv\n",
    "\n",
    "# Explicitly providing path to '.env'\n",
    "from pathlib import Path  # Python 3.6+ only\n",
    "# Load .env variables\n",
    "_ = load_dotenv(dotenv_path=f\"{Path().resolve().parents[1]}/standalone/.env\")\n",
    "\n",
    "import import_ipynb\n",
    "from utils import to_timestamp, request_influxdb, query_tangaras, df_to_csv"
   ]
  },
  {
   "cell_type": "markdown",
   "metadata": {},
   "source": [
    "## Tangara Sensors"
   ]
  },
  {
   "cell_type": "code",
   "execution_count": 2,
   "metadata": {},
   "outputs": [
    {
     "name": "stdout",
     "output_type": "stream",
     "text": [
      "Since: 2023-09-26T00:00:00-05:00 -> 1695704400000, Until: 2023-09-26T00:05:00-05:00 -> 1695704700000\n"
     ]
    }
   ],
   "source": [
    "# Start Date Time ISO 8601 Format, TZ='America/Bogota' -05:00\n",
    "START_ISO8601_DATETIME=os.getenv(\"START_ISO8601_DATETIME\", None)\n",
    "start_timestamp = to_timestamp(START_ISO8601_DATETIME)\n",
    "# End Date Time ISO 8601 Format, TZ='America/Bogota' -05:00\n",
    "END_ISO8601_DATETIME=os.getenv(\"END_ISO8601_DATETIME\", None)\n",
    "end_timestamp = to_timestamp(os.getenv(\"END_ISO8601_DATETIME\", None))\n",
    "\n",
    "print(f'Since: {START_ISO8601_DATETIME} -> {start_timestamp}, Until: {END_ISO8601_DATETIME} -> {end_timestamp}')"
   ]
  },
  {
   "cell_type": "code",
   "execution_count": 3,
   "metadata": {},
   "outputs": [
    {
     "name": "stdout",
     "output_type": "stream",
     "text": [
      "SELECT DISTINCT(geo) AS \"geohash\" FROM \"fixed_stations_01\" WHERE (\"geo3\" = 'd29') AND time >= 1695704400000ms AND time <= 1695704700000ms GROUP BY \"name\";\n"
     ]
    }
   ],
   "source": [
    "# Query Tangaras\n",
    "influxdb_sql_query_tangaras = query_tangaras(start_timestamp, end_timestamp)\n",
    "\n",
    "print(influxdb_sql_query_tangaras)"
   ]
  },
  {
   "cell_type": "code",
   "execution_count": 4,
   "metadata": {},
   "outputs": [],
   "source": [
    "def influxdb_tangaras(start_timestamp: int, end_timestamp: int) -> DataFrame:\n",
    "    \"\"\"\n",
    "    Get Data Frame Tangaras Sensors of all Tangara sensors that have reported data over a period of time.\n",
    "\n",
    "    :params:\n",
    "    :start_timestamp: int, timestamp datetime value, ms\n",
    "    :end_timestamp: int, timestamp datetime value, ms\n",
    "\n",
    "    :return: DataFrame, Tangaras Sensors\n",
    "    \"\"\"\n",
    "    # Query Tangaras\n",
    "    influxdb_sql_query_tangaras = query_tangaras(start_timestamp, end_timestamp)\n",
    "    # InfluxDB API REST Request\n",
    "    influxdb_request = request_influxdb(influxdb_sql_query_tangaras)\n",
    "    #print(influxdb_request)\n",
    "    #print(influxdb_request.text)\n",
    "\n",
    "    # Data Frame Tangaras\n",
    "    df_tangaras = pd.read_csv(StringIO(influxdb_request.text), sep=\",\")\n",
    "\n",
    "    # Remove/Add Columns\n",
    "    df_tangaras = df_tangaras[['tags', 'geohash']]\n",
    "    df_tangaras['MAC'] = df_tangaras['tags'].apply(lambda x: x.split('=')[1])\n",
    "    df_tangaras['GEOLOCATION'] = df_tangaras['geohash'].apply(lambda x: \" \".join(str(value) for value in list(geohash2.decode_exactly(x)[0:2])))\n",
    "    df_tangaras['LATITUDE'] = df_tangaras['GEOLOCATION'].apply(lambda x: x.split(' ')[0])\n",
    "    df_tangaras['LONGITUDE'] = df_tangaras['GEOLOCATION'].apply(lambda x: x.split(' ')[1])\n",
    "    df_tangaras['tags'] = df_tangaras['tags'].apply(lambda x: f\"TANGARA_{x[-4:]}\")\n",
    "    df_tangaras.rename(columns={'tags': 'ID', 'geohash': 'GEOHASH'}, inplace=True)\n",
    "    \n",
    "    # Date time when query is executed\n",
    "    #tz = timezone(timedelta(hours=-5))\n",
    "    #df_tangaras['DATETIME'] = datetime.now(tz=tz)\n",
    "\n",
    "    # Set Index\n",
    "    df_tangaras.set_index('ID', inplace=True)\n",
    "    \n",
    "    return df_tangaras"
   ]
  },
  {
   "cell_type": "code",
   "execution_count": 5,
   "metadata": {},
   "outputs": [
    {
     "name": "stdout",
     "output_type": "stream",
     "text": [
      "Period of Time: Since: 2023-09-26T00:00:00-05:00, Until: 2023-09-26T00:05:00-05:00\n",
      "Total Tangara Sensors: 12\n"
     ]
    },
    {
     "data": {
      "text/html": [
       "<div>\n",
       "<style scoped>\n",
       "    .dataframe tbody tr th:only-of-type {\n",
       "        vertical-align: middle;\n",
       "    }\n",
       "\n",
       "    .dataframe tbody tr th {\n",
       "        vertical-align: top;\n",
       "    }\n",
       "\n",
       "    .dataframe thead th {\n",
       "        text-align: right;\n",
       "    }\n",
       "</style>\n",
       "<table border=\"1\" class=\"dataframe\">\n",
       "  <thead>\n",
       "    <tr style=\"text-align: right;\">\n",
       "      <th></th>\n",
       "      <th>GEOHASH</th>\n",
       "      <th>MAC</th>\n",
       "      <th>GEOLOCATION</th>\n",
       "      <th>LATITUDE</th>\n",
       "      <th>LONGITUDE</th>\n",
       "    </tr>\n",
       "    <tr>\n",
       "      <th>ID</th>\n",
       "      <th></th>\n",
       "      <th></th>\n",
       "      <th></th>\n",
       "      <th></th>\n",
       "      <th></th>\n",
       "    </tr>\n",
       "  </thead>\n",
       "  <tbody>\n",
       "    <tr>\n",
       "      <th>TANGARA_25CE</th>\n",
       "      <td>d29e4r0</td>\n",
       "      <td>D29ESP32DE125CE</td>\n",
       "      <td>3.3789825439453125 -76.54106140136719</td>\n",
       "      <td>3.3789825439453125</td>\n",
       "      <td>-76.54106140136719</td>\n",
       "    </tr>\n",
       "    <tr>\n",
       "      <th>TANGARA_260A</th>\n",
       "      <td>d29edyj</td>\n",
       "      <td>D29ESP32DE1260A</td>\n",
       "      <td>3.4613800048828125 -76.51222229003906</td>\n",
       "      <td>3.4613800048828125</td>\n",
       "      <td>-76.51222229003906</td>\n",
       "    </tr>\n",
       "    <tr>\n",
       "      <th>TANGARA_4B1A</th>\n",
       "      <td>d29esj8</td>\n",
       "      <td>D29ESP32DE94B1A</td>\n",
       "      <td>3.4586334228515625 -76.46415710449219</td>\n",
       "      <td>3.4586334228515625</td>\n",
       "      <td>-76.46415710449219</td>\n",
       "    </tr>\n",
       "    <tr>\n",
       "      <th>TANGARA_14D6</th>\n",
       "      <td>d29eg4k</td>\n",
       "      <td>D29ESP32DED14D6</td>\n",
       "      <td>3.4847259521484375 -76.50260925292969</td>\n",
       "      <td>3.4847259521484375</td>\n",
       "      <td>-76.50260925292969</td>\n",
       "    </tr>\n",
       "    <tr>\n",
       "      <th>TANGARA_1EE6</th>\n",
       "      <td>d29edh3</td>\n",
       "      <td>D29ESP32DED1EE6</td>\n",
       "      <td>3.4517669677734375 -76.55067443847656</td>\n",
       "      <td>3.4517669677734375</td>\n",
       "      <td>-76.55067443847656</td>\n",
       "    </tr>\n",
       "  </tbody>\n",
       "</table>\n",
       "</div>"
      ],
      "text/plain": [
       "              GEOHASH              MAC                            GEOLOCATION  \\\n",
       "ID                                                                              \n",
       "TANGARA_25CE  d29e4r0  D29ESP32DE125CE  3.3789825439453125 -76.54106140136719   \n",
       "TANGARA_260A  d29edyj  D29ESP32DE1260A  3.4613800048828125 -76.51222229003906   \n",
       "TANGARA_4B1A  d29esj8  D29ESP32DE94B1A  3.4586334228515625 -76.46415710449219   \n",
       "TANGARA_14D6  d29eg4k  D29ESP32DED14D6  3.4847259521484375 -76.50260925292969   \n",
       "TANGARA_1EE6  d29edh3  D29ESP32DED1EE6  3.4517669677734375 -76.55067443847656   \n",
       "\n",
       "                        LATITUDE           LONGITUDE  \n",
       "ID                                                    \n",
       "TANGARA_25CE  3.3789825439453125  -76.54106140136719  \n",
       "TANGARA_260A  3.4613800048828125  -76.51222229003906  \n",
       "TANGARA_4B1A  3.4586334228515625  -76.46415710449219  \n",
       "TANGARA_14D6  3.4847259521484375  -76.50260925292969  \n",
       "TANGARA_1EE6  3.4517669677734375  -76.55067443847656  "
      ]
     },
     "execution_count": 5,
     "metadata": {},
     "output_type": "execute_result"
    }
   ],
   "source": [
    "# Data Frame Tangaras from InfluxDB\n",
    "df_tangaras = influxdb_tangaras(start_timestamp, end_timestamp)\n",
    "df_tangaras.drop_duplicates(subset=['MAC'], inplace=True)\n",
    "\n",
    "print(f\"Period of Time: Since: {START_ISO8601_DATETIME}, Until: {END_ISO8601_DATETIME}\")\n",
    "print(f\"Total Tangara Sensors: {len(df_tangaras)}\")\n",
    "\n",
    "df_tangaras.head()"
   ]
  },
  {
   "cell_type": "code",
   "execution_count": 6,
   "metadata": {},
   "outputs": [],
   "source": [
    "# Save Tangaras into CSV file\n",
    "df_to_csv(df_tangaras, \"tangaras.csv\")"
   ]
  },
  {
   "cell_type": "code",
   "execution_count": null,
   "metadata": {},
   "outputs": [],
   "source": []
  }
 ],
 "metadata": {
  "kernelspec": {
   "display_name": ".venv",
   "language": "python",
   "name": "python3"
  },
  "language_info": {
   "codemirror_mode": {
    "name": "ipython",
    "version": 3
   },
   "file_extension": ".py",
   "mimetype": "text/x-python",
   "name": "python",
   "nbconvert_exporter": "python",
   "pygments_lexer": "ipython3",
   "version": "3.10.12"
  },
  "orig_nbformat": 4
 },
 "nbformat": 4,
 "nbformat_minor": 2
}
