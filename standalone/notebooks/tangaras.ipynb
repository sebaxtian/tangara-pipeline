{
 "cells": [
  {
   "cell_type": "code",
   "execution_count": 1,
   "metadata": {
    "execution": {
     "iopub.execute_input": "2023-11-20T14:06:29.902472Z",
     "iopub.status.busy": "2023-11-20T14:06:29.902311Z",
     "iopub.status.idle": "2023-11-20T14:06:31.426821Z",
     "shell.execute_reply": "2023-11-20T14:06:31.426165Z"
    }
   },
   "outputs": [
    {
     "name": "stdout",
     "output_type": "stream",
     "text": [
      "PM2.5: 35.9, AQI: 102\n",
      "PM2.5: 35.9, Measure Level: MeasureLevels.UNHEALTHY_FOR_SENSITIVE_GROUPS, Range Values: Min: 35.5, Max: 55.4\n",
      "AQI: 102, Measure Level: MeasureLevels.UNHEALTHY_FOR_SENSITIVE_GROUPS, Range Values: Min: 101, Max: 150\n"
     ]
    }
   ],
   "source": [
    "import os\n",
    "\n",
    "from dotenv import load_dotenv\n",
    "\n",
    "# Explicitly providing path to '.env'\n",
    "from pathlib import Path  # Python 3.6+ only\n",
    "# Load .env variables\n",
    "_ = load_dotenv(dotenv_path=f\"{Path().resolve().parents[1]}/standalone/.env\")\n",
    "\n",
    "# with the new api\n",
    "from importnb import imports\n",
    "with imports(\"ipynb\"):\n",
    "    from utils import to_timestamp, df_tangara_sensors, df_to_csv"
   ]
  },
  {
   "cell_type": "markdown",
   "metadata": {},
   "source": [
    "## Tangara Sensors"
   ]
  },
  {
   "cell_type": "code",
   "execution_count": 2,
   "metadata": {
    "execution": {
     "iopub.execute_input": "2023-11-20T14:06:31.459231Z",
     "iopub.status.busy": "2023-11-20T14:06:31.458929Z",
     "iopub.status.idle": "2023-11-20T14:06:31.462610Z",
     "shell.execute_reply": "2023-11-20T14:06:31.462165Z"
    }
   },
   "outputs": [
    {
     "name": "stdout",
     "output_type": "stream",
     "text": [
      "Since: 2023-11-17T00:00:00-05:00 -> 1700197200000, Until: 2023-11-18T23:59:59-05:00 -> 1700369999000\n"
     ]
    }
   ],
   "source": [
    "# Start Date Time ISO 8601 Format, TZ='America/Bogota' -05:00\n",
    "START_ISO8601_DATETIME=os.getenv(\"START_ISO8601_DATETIME\", None)\n",
    "start_timestamp = to_timestamp(START_ISO8601_DATETIME)\n",
    "# End Date Time ISO 8601 Format, TZ='America/Bogota' -05:00\n",
    "END_ISO8601_DATETIME=os.getenv(\"END_ISO8601_DATETIME\", None)\n",
    "end_timestamp = to_timestamp(os.getenv(\"END_ISO8601_DATETIME\", None))\n",
    "\n",
    "print(f'Since: {START_ISO8601_DATETIME} -> {start_timestamp}, Until: {END_ISO8601_DATETIME} -> {end_timestamp}')"
   ]
  },
  {
   "cell_type": "code",
   "execution_count": 3,
   "metadata": {
    "execution": {
     "iopub.execute_input": "2023-11-20T14:06:31.464452Z",
     "iopub.status.busy": "2023-11-20T14:06:31.464271Z",
     "iopub.status.idle": "2023-11-20T14:06:32.073881Z",
     "shell.execute_reply": "2023-11-20T14:06:32.073379Z"
    }
   },
   "outputs": [
    {
     "name": "stdout",
     "output_type": "stream",
     "text": [
      "Period of Time: Since: 2023-11-17T00:00:00-05:00, Until: 2023-11-18T23:59:59-05:00\n",
      "Total Tangara Sensors: 18\n"
     ]
    },
    {
     "data": {
      "text/html": [
       "<div>\n",
       "<style scoped>\n",
       "    .dataframe tbody tr th:only-of-type {\n",
       "        vertical-align: middle;\n",
       "    }\n",
       "\n",
       "    .dataframe tbody tr th {\n",
       "        vertical-align: top;\n",
       "    }\n",
       "\n",
       "    .dataframe thead th {\n",
       "        text-align: right;\n",
       "    }\n",
       "</style>\n",
       "<table border=\"1\" class=\"dataframe\">\n",
       "  <thead>\n",
       "    <tr style=\"text-align: right;\">\n",
       "      <th></th>\n",
       "      <th>GEOHASH</th>\n",
       "      <th>MAC</th>\n",
       "      <th>GEOLOCATION</th>\n",
       "      <th>LATITUDE</th>\n",
       "      <th>LONGITUDE</th>\n",
       "    </tr>\n",
       "    <tr>\n",
       "      <th>ID</th>\n",
       "      <th></th>\n",
       "      <th></th>\n",
       "      <th></th>\n",
       "      <th></th>\n",
       "      <th></th>\n",
       "    </tr>\n",
       "  </thead>\n",
       "  <tbody>\n",
       "    <tr>\n",
       "      <th>TANGARA_260A</th>\n",
       "      <td>d29edyj</td>\n",
       "      <td>D29ESP32DE1260A</td>\n",
       "      <td>3.4613800048828125 -76.51222229003906</td>\n",
       "      <td>3.4613800048828125</td>\n",
       "      <td>-76.51222229003906</td>\n",
       "    </tr>\n",
       "    <tr>\n",
       "      <th>TANGARA_2BDE</th>\n",
       "      <td>d29dbmw</td>\n",
       "      <td>D29ESP32DE52BDE</td>\n",
       "      <td>3.3267974853515625 -76.62071228027344</td>\n",
       "      <td>3.3267974853515625</td>\n",
       "      <td>-76.62071228027344</td>\n",
       "    </tr>\n",
       "    <tr>\n",
       "      <th>TANGARA_39D6</th>\n",
       "      <td>d29dbmw</td>\n",
       "      <td>D29ESP32DE539D6</td>\n",
       "      <td>3.3267974853515625 -76.62071228027344</td>\n",
       "      <td>3.3267974853515625</td>\n",
       "      <td>-76.62071228027344</td>\n",
       "    </tr>\n",
       "    <tr>\n",
       "      <th>TANGARA_3B7E</th>\n",
       "      <td>d29dbmw</td>\n",
       "      <td>D29ESP32DE53B7E</td>\n",
       "      <td>3.3267974853515625 -76.62071228027344</td>\n",
       "      <td>3.3267974853515625</td>\n",
       "      <td>-76.62071228027344</td>\n",
       "    </tr>\n",
       "    <tr>\n",
       "      <th>TANGARA_3BEA</th>\n",
       "      <td>d29dbmw</td>\n",
       "      <td>D29ESP32DE53BEA</td>\n",
       "      <td>3.3267974853515625 -76.62071228027344</td>\n",
       "      <td>3.3267974853515625</td>\n",
       "      <td>-76.62071228027344</td>\n",
       "    </tr>\n",
       "  </tbody>\n",
       "</table>\n",
       "</div>"
      ],
      "text/plain": [
       "              GEOHASH              MAC                            GEOLOCATION  \\\n",
       "ID                                                                              \n",
       "TANGARA_260A  d29edyj  D29ESP32DE1260A  3.4613800048828125 -76.51222229003906   \n",
       "TANGARA_2BDE  d29dbmw  D29ESP32DE52BDE  3.3267974853515625 -76.62071228027344   \n",
       "TANGARA_39D6  d29dbmw  D29ESP32DE539D6  3.3267974853515625 -76.62071228027344   \n",
       "TANGARA_3B7E  d29dbmw  D29ESP32DE53B7E  3.3267974853515625 -76.62071228027344   \n",
       "TANGARA_3BEA  d29dbmw  D29ESP32DE53BEA  3.3267974853515625 -76.62071228027344   \n",
       "\n",
       "                        LATITUDE           LONGITUDE  \n",
       "ID                                                    \n",
       "TANGARA_260A  3.4613800048828125  -76.51222229003906  \n",
       "TANGARA_2BDE  3.3267974853515625  -76.62071228027344  \n",
       "TANGARA_39D6  3.3267974853515625  -76.62071228027344  \n",
       "TANGARA_3B7E  3.3267974853515625  -76.62071228027344  \n",
       "TANGARA_3BEA  3.3267974853515625  -76.62071228027344  "
      ]
     },
     "execution_count": 3,
     "metadata": {},
     "output_type": "execute_result"
    }
   ],
   "source": [
    "# Data Frame Tangaras from InfluxDB\n",
    "df_tangaras = df_tangara_sensors(start_timestamp, end_timestamp)\n",
    "df_tangaras.drop_duplicates(subset=['MAC'], inplace=True)\n",
    "\n",
    "print(f\"Period of Time: Since: {START_ISO8601_DATETIME}, Until: {END_ISO8601_DATETIME}\")\n",
    "print(f\"Total Tangara Sensors: {len(df_tangaras)}\")\n",
    "\n",
    "df_tangaras.head()"
   ]
  },
  {
   "cell_type": "code",
   "execution_count": 4,
   "metadata": {
    "execution": {
     "iopub.execute_input": "2023-11-20T14:06:32.075798Z",
     "iopub.status.busy": "2023-11-20T14:06:32.075608Z",
     "iopub.status.idle": "2023-11-20T14:06:32.079427Z",
     "shell.execute_reply": "2023-11-20T14:06:32.079100Z"
    }
   },
   "outputs": [],
   "source": [
    "# Save Tangaras into CSV file\n",
    "df_to_csv(df_tangaras, \"tangaras.csv\")"
   ]
  },
  {
   "cell_type": "code",
   "execution_count": null,
   "metadata": {},
   "outputs": [],
   "source": []
  }
 ],
 "metadata": {
  "kernelspec": {
   "display_name": ".venv",
   "language": "python",
   "name": "python3"
  },
  "language_info": {
   "codemirror_mode": {
    "name": "ipython",
    "version": 3
   },
   "file_extension": ".py",
   "mimetype": "text/x-python",
   "name": "python",
   "nbconvert_exporter": "python",
   "pygments_lexer": "ipython3",
   "version": "3.12.0"
  }
 },
 "nbformat": 4,
 "nbformat_minor": 2
}
