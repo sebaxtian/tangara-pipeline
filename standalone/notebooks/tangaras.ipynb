{
 "cells": [
  {
   "cell_type": "code",
   "execution_count": 1,
   "metadata": {
    "execution": {
     "iopub.execute_input": "2023-11-09T02:28:00.642067Z",
     "iopub.status.busy": "2023-11-09T02:28:00.641740Z",
     "iopub.status.idle": "2023-11-09T02:28:03.046399Z",
     "shell.execute_reply": "2023-11-09T02:28:03.045282Z"
    }
   },
   "outputs": [
    {
     "name": "stdout",
     "output_type": "stream",
     "text": [
      "PM2.5: 35.9, AQI: 102\n",
      "PM2.5: 35.9, Measure Level: MeasureLevels.UNHEALTHY_FOR_SENSITIVE_GROUPS, Range Values: Min: 35.5, Max: 55.4\n",
      "AQI: 102, Measure Level: MeasureLevels.UNHEALTHY_FOR_SENSITIVE_GROUPS, Range Values: Min: 101, Max: 150\n"
     ]
    }
   ],
   "source": [
    "import os\n",
    "\n",
    "from dotenv import load_dotenv\n",
    "\n",
    "# Explicitly providing path to '.env'\n",
    "from pathlib import Path  # Python 3.6+ only\n",
    "# Load .env variables\n",
    "_ = load_dotenv(dotenv_path=f\"{Path().resolve().parents[1]}/standalone/.env\")\n",
    "\n",
    "# import import_ipynb\n",
    "# from utils import to_timestamp, df_tangara_sensors, df_to_csv\n",
    "\n",
    "# with the new api\n",
    "from importnb import imports\n",
    "with imports(\"ipynb\"):\n",
    "    from utils import to_timestamp, df_tangara_sensors, df_to_csv"
   ]
  },
  {
   "cell_type": "markdown",
   "metadata": {},
   "source": [
    "## Tangara Sensors"
   ]
  },
  {
   "cell_type": "code",
   "execution_count": 2,
   "metadata": {
    "execution": {
     "iopub.execute_input": "2023-11-09T02:28:03.116940Z",
     "iopub.status.busy": "2023-11-09T02:28:03.116403Z",
     "iopub.status.idle": "2023-11-09T02:28:03.122701Z",
     "shell.execute_reply": "2023-11-09T02:28:03.121908Z"
    }
   },
   "outputs": [
    {
     "name": "stdout",
     "output_type": "stream",
     "text": [
      "Since: 2023-11-05T23:00:00-05:00 -> 1699243200000, Until: 2023-11-06T00:00:00-05:00 -> 1699246800000\n"
     ]
    }
   ],
   "source": [
    "# Start Date Time ISO 8601 Format, TZ='America/Bogota' -05:00\n",
    "START_ISO8601_DATETIME=os.getenv(\"START_ISO8601_DATETIME\", None)\n",
    "start_timestamp = to_timestamp(START_ISO8601_DATETIME)\n",
    "# End Date Time ISO 8601 Format, TZ='America/Bogota' -05:00\n",
    "END_ISO8601_DATETIME=os.getenv(\"END_ISO8601_DATETIME\", None)\n",
    "end_timestamp = to_timestamp(os.getenv(\"END_ISO8601_DATETIME\", None))\n",
    "\n",
    "print(f'Since: {START_ISO8601_DATETIME} -> {start_timestamp}, Until: {END_ISO8601_DATETIME} -> {end_timestamp}')"
   ]
  },
  {
   "cell_type": "code",
   "execution_count": 3,
   "metadata": {
    "execution": {
     "iopub.execute_input": "2023-11-09T02:28:03.126264Z",
     "iopub.status.busy": "2023-11-09T02:28:03.125945Z",
     "iopub.status.idle": "2023-11-09T02:28:03.242064Z",
     "shell.execute_reply": "2023-11-09T02:28:03.241176Z"
    }
   },
   "outputs": [
    {
     "name": "stdout",
     "output_type": "stream",
     "text": [
      "Period of Time: Since: 2023-11-05T23:00:00-05:00, Until: 2023-11-06T00:00:00-05:00\n",
      "Total Tangara Sensors: 9\n"
     ]
    },
    {
     "data": {
      "text/html": [
       "<div>\n",
       "<style scoped>\n",
       "    .dataframe tbody tr th:only-of-type {\n",
       "        vertical-align: middle;\n",
       "    }\n",
       "\n",
       "    .dataframe tbody tr th {\n",
       "        vertical-align: top;\n",
       "    }\n",
       "\n",
       "    .dataframe thead th {\n",
       "        text-align: right;\n",
       "    }\n",
       "</style>\n",
       "<table border=\"1\" class=\"dataframe\">\n",
       "  <thead>\n",
       "    <tr style=\"text-align: right;\">\n",
       "      <th></th>\n",
       "      <th>GEOHASH</th>\n",
       "      <th>MAC</th>\n",
       "      <th>GEOLOCATION</th>\n",
       "      <th>LATITUDE</th>\n",
       "      <th>LONGITUDE</th>\n",
       "    </tr>\n",
       "    <tr>\n",
       "      <th>ID</th>\n",
       "      <th></th>\n",
       "      <th></th>\n",
       "      <th></th>\n",
       "      <th></th>\n",
       "      <th></th>\n",
       "    </tr>\n",
       "  </thead>\n",
       "  <tbody>\n",
       "    <tr>\n",
       "      <th>TANGARA_260A</th>\n",
       "      <td>d29edyj</td>\n",
       "      <td>D29ESP32DE1260A</td>\n",
       "      <td>3.4613800048828125 -76.51222229003906</td>\n",
       "      <td>3.4613800048828125</td>\n",
       "      <td>-76.51222229003906</td>\n",
       "    </tr>\n",
       "    <tr>\n",
       "      <th>TANGARA_4B1A</th>\n",
       "      <td>d29esj8</td>\n",
       "      <td>D29ESP32DE94B1A</td>\n",
       "      <td>3.4586334228515625 -76.46415710449219</td>\n",
       "      <td>3.4586334228515625</td>\n",
       "      <td>-76.46415710449219</td>\n",
       "    </tr>\n",
       "    <tr>\n",
       "      <th>TANGARA_14D6</th>\n",
       "      <td>d29eg4k</td>\n",
       "      <td>D29ESP32DED14D6</td>\n",
       "      <td>3.4847259521484375 -76.50260925292969</td>\n",
       "      <td>3.4847259521484375</td>\n",
       "      <td>-76.50260925292969</td>\n",
       "    </tr>\n",
       "    <tr>\n",
       "      <th>TANGARA_2B42</th>\n",
       "      <td>d29e6pg</td>\n",
       "      <td>D29ESP32DED2B42</td>\n",
       "      <td>3.4270477294921875 -76.54792785644531</td>\n",
       "      <td>3.4270477294921875</td>\n",
       "      <td>-76.54792785644531</td>\n",
       "    </tr>\n",
       "    <tr>\n",
       "      <th>TANGARA_2E9A</th>\n",
       "      <td>d29ed62</td>\n",
       "      <td>D29ESP32DED2E9A</td>\n",
       "      <td>3.4407806396484375 -76.54106140136719</td>\n",
       "      <td>3.4407806396484375</td>\n",
       "      <td>-76.54106140136719</td>\n",
       "    </tr>\n",
       "  </tbody>\n",
       "</table>\n",
       "</div>"
      ],
      "text/plain": [
       "              GEOHASH              MAC                            GEOLOCATION  \\\n",
       "ID                                                                              \n",
       "TANGARA_260A  d29edyj  D29ESP32DE1260A  3.4613800048828125 -76.51222229003906   \n",
       "TANGARA_4B1A  d29esj8  D29ESP32DE94B1A  3.4586334228515625 -76.46415710449219   \n",
       "TANGARA_14D6  d29eg4k  D29ESP32DED14D6  3.4847259521484375 -76.50260925292969   \n",
       "TANGARA_2B42  d29e6pg  D29ESP32DED2B42  3.4270477294921875 -76.54792785644531   \n",
       "TANGARA_2E9A  d29ed62  D29ESP32DED2E9A  3.4407806396484375 -76.54106140136719   \n",
       "\n",
       "                        LATITUDE           LONGITUDE  \n",
       "ID                                                    \n",
       "TANGARA_260A  3.4613800048828125  -76.51222229003906  \n",
       "TANGARA_4B1A  3.4586334228515625  -76.46415710449219  \n",
       "TANGARA_14D6  3.4847259521484375  -76.50260925292969  \n",
       "TANGARA_2B42  3.4270477294921875  -76.54792785644531  \n",
       "TANGARA_2E9A  3.4407806396484375  -76.54106140136719  "
      ]
     },
     "execution_count": 3,
     "metadata": {},
     "output_type": "execute_result"
    }
   ],
   "source": [
    "# Data Frame Tangaras from InfluxDB\n",
    "df_tangaras = df_tangara_sensors(start_timestamp, end_timestamp)\n",
    "df_tangaras.drop_duplicates(subset=['MAC'], inplace=True)\n",
    "\n",
    "print(f\"Period of Time: Since: {START_ISO8601_DATETIME}, Until: {END_ISO8601_DATETIME}\")\n",
    "print(f\"Total Tangara Sensors: {len(df_tangaras)}\")\n",
    "\n",
    "df_tangaras.head()"
   ]
  },
  {
   "cell_type": "code",
   "execution_count": 4,
   "metadata": {
    "execution": {
     "iopub.execute_input": "2023-11-09T02:28:03.245602Z",
     "iopub.status.busy": "2023-11-09T02:28:03.245280Z",
     "iopub.status.idle": "2023-11-09T02:28:03.252433Z",
     "shell.execute_reply": "2023-11-09T02:28:03.251425Z"
    }
   },
   "outputs": [],
   "source": [
    "# Save Tangaras into CSV file\n",
    "df_to_csv(df_tangaras, \"tangaras.csv\")"
   ]
  },
  {
   "cell_type": "code",
   "execution_count": null,
   "metadata": {},
   "outputs": [],
   "source": []
  }
 ],
 "metadata": {
  "kernelspec": {
   "display_name": ".venv",
   "language": "python",
   "name": "python3"
  },
  "language_info": {
   "codemirror_mode": {
    "name": "ipython",
    "version": 3
   },
   "file_extension": ".py",
   "mimetype": "text/x-python",
   "name": "python",
   "nbconvert_exporter": "python",
   "pygments_lexer": "ipython3",
   "version": "3.12.0"
  }
 },
 "nbformat": 4,
 "nbformat_minor": 2
}
