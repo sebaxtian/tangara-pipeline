{
 "cells": [
  {
   "cell_type": "code",
   "execution_count": 1,
   "metadata": {
    "execution": {
     "iopub.execute_input": "2023-11-11T19:52:22.059053Z",
     "iopub.status.busy": "2023-11-11T19:52:22.058719Z",
     "iopub.status.idle": "2023-11-11T19:52:24.522013Z",
     "shell.execute_reply": "2023-11-11T19:52:24.520970Z"
    }
   },
   "outputs": [
    {
     "name": "stdout",
     "output_type": "stream",
     "text": [
      "PM2.5: 35.9, AQI: 102\n",
      "PM2.5: 35.9, Measure Level: MeasureLevels.UNHEALTHY_FOR_SENSITIVE_GROUPS, Range Values: Min: 35.5, Max: 55.4\n",
      "AQI: 102, Measure Level: MeasureLevels.UNHEALTHY_FOR_SENSITIVE_GROUPS, Range Values: Min: 101, Max: 150\n"
     ]
    }
   ],
   "source": [
    "import os\n",
    "import math\n",
    "from dotenv import load_dotenv\n",
    "\n",
    "# Explicitly providing path to '.env'\n",
    "from pathlib import Path  # Python 3.6+ only\n",
    "# Load .env variables\n",
    "_ = load_dotenv(dotenv_path=f\"{Path().resolve().parents[1]}/standalone/.env\")\n",
    "\n",
    "# with the new api\n",
    "from importnb import imports\n",
    "with imports(\"ipynb\"):\n",
    "    from utils import to_timestamp, df_data_sensors, to_be_checked, is_corr_ok, df_to_csv, df_from_csv"
   ]
  },
  {
   "cell_type": "markdown",
   "metadata": {},
   "source": [
    "## Humidity Raw Data"
   ]
  },
  {
   "cell_type": "code",
   "execution_count": 2,
   "metadata": {
    "execution": {
     "iopub.execute_input": "2023-11-11T19:52:24.595118Z",
     "iopub.status.busy": "2023-11-11T19:52:24.594617Z",
     "iopub.status.idle": "2023-11-11T19:52:24.619594Z",
     "shell.execute_reply": "2023-11-11T19:52:24.618478Z"
    }
   },
   "outputs": [
    {
     "name": "stdout",
     "output_type": "stream",
     "text": [
      "Total Tangara Sensors: 10\n"
     ]
    },
    {
     "data": {
      "text/html": [
       "<div>\n",
       "<style scoped>\n",
       "    .dataframe tbody tr th:only-of-type {\n",
       "        vertical-align: middle;\n",
       "    }\n",
       "\n",
       "    .dataframe tbody tr th {\n",
       "        vertical-align: top;\n",
       "    }\n",
       "\n",
       "    .dataframe thead th {\n",
       "        text-align: right;\n",
       "    }\n",
       "</style>\n",
       "<table border=\"1\" class=\"dataframe\">\n",
       "  <thead>\n",
       "    <tr style=\"text-align: right;\">\n",
       "      <th></th>\n",
       "      <th>ID</th>\n",
       "      <th>GEOHASH</th>\n",
       "      <th>MAC</th>\n",
       "      <th>GEOLOCATION</th>\n",
       "      <th>LATITUDE</th>\n",
       "      <th>LONGITUDE</th>\n",
       "    </tr>\n",
       "  </thead>\n",
       "  <tbody>\n",
       "    <tr>\n",
       "      <th>0</th>\n",
       "      <td>TANGARA_260A</td>\n",
       "      <td>d29edyj</td>\n",
       "      <td>D29ESP32DE1260A</td>\n",
       "      <td>3.4613800048828125 -76.51222229003906</td>\n",
       "      <td>3.461380</td>\n",
       "      <td>-76.512222</td>\n",
       "    </tr>\n",
       "    <tr>\n",
       "      <th>1</th>\n",
       "      <td>TANGARA_4B1A</td>\n",
       "      <td>d29esj8</td>\n",
       "      <td>D29ESP32DE94B1A</td>\n",
       "      <td>3.4586334228515625 -76.46415710449219</td>\n",
       "      <td>3.458633</td>\n",
       "      <td>-76.464157</td>\n",
       "    </tr>\n",
       "    <tr>\n",
       "      <th>2</th>\n",
       "      <td>TANGARA_14D6</td>\n",
       "      <td>d29eg4k</td>\n",
       "      <td>D29ESP32DED14D6</td>\n",
       "      <td>3.4847259521484375 -76.50260925292969</td>\n",
       "      <td>3.484726</td>\n",
       "      <td>-76.502609</td>\n",
       "    </tr>\n",
       "    <tr>\n",
       "      <th>3</th>\n",
       "      <td>TANGARA_2B42</td>\n",
       "      <td>d29e6pg</td>\n",
       "      <td>D29ESP32DED2B42</td>\n",
       "      <td>3.4270477294921875 -76.54792785644531</td>\n",
       "      <td>3.427048</td>\n",
       "      <td>-76.547928</td>\n",
       "    </tr>\n",
       "    <tr>\n",
       "      <th>4</th>\n",
       "      <td>TANGARA_2E9A</td>\n",
       "      <td>d29ed62</td>\n",
       "      <td>D29ESP32DED2E9A</td>\n",
       "      <td>3.4407806396484375 -76.54106140136719</td>\n",
       "      <td>3.440781</td>\n",
       "      <td>-76.541061</td>\n",
       "    </tr>\n",
       "  </tbody>\n",
       "</table>\n",
       "</div>"
      ],
      "text/plain": [
       "             ID  GEOHASH              MAC  \\\n",
       "0  TANGARA_260A  d29edyj  D29ESP32DE1260A   \n",
       "1  TANGARA_4B1A  d29esj8  D29ESP32DE94B1A   \n",
       "2  TANGARA_14D6  d29eg4k  D29ESP32DED14D6   \n",
       "3  TANGARA_2B42  d29e6pg  D29ESP32DED2B42   \n",
       "4  TANGARA_2E9A  d29ed62  D29ESP32DED2E9A   \n",
       "\n",
       "                             GEOLOCATION  LATITUDE  LONGITUDE  \n",
       "0  3.4613800048828125 -76.51222229003906  3.461380 -76.512222  \n",
       "1  3.4586334228515625 -76.46415710449219  3.458633 -76.464157  \n",
       "2  3.4847259521484375 -76.50260925292969  3.484726 -76.502609  \n",
       "3  3.4270477294921875 -76.54792785644531  3.427048 -76.547928  \n",
       "4  3.4407806396484375 -76.54106140136719  3.440781 -76.541061  "
      ]
     },
     "execution_count": 2,
     "metadata": {},
     "output_type": "execute_result"
    }
   ],
   "source": [
    "# Load Tangaras\n",
    "df_tangaras = df_from_csv(\"tangaras.csv\", dtindex=False)\n",
    "\n",
    "print(f\"Total Tangara Sensors: {len(df_tangaras)}\")\n",
    "\n",
    "df_tangaras.head()"
   ]
  },
  {
   "cell_type": "code",
   "execution_count": 3,
   "metadata": {
    "execution": {
     "iopub.execute_input": "2023-11-11T19:52:24.623241Z",
     "iopub.status.busy": "2023-11-11T19:52:24.622912Z",
     "iopub.status.idle": "2023-11-11T19:52:24.629900Z",
     "shell.execute_reply": "2023-11-11T19:52:24.628916Z"
    }
   },
   "outputs": [
    {
     "name": "stdout",
     "output_type": "stream",
     "text": [
      "Since: 2023-11-09T00:00:00-05:00 -> 1699506000000, Until: 2023-11-10T23:59:59-05:00 -> 1699678799000\n",
      "Group by Time: 30s\n"
     ]
    }
   ],
   "source": [
    "# Start Date Time ISO 8601 Format, TZ='America/Bogota' -05:00\n",
    "START_ISO8601_DATETIME = os.getenv(\"START_ISO8601_DATETIME\", None)\n",
    "start_timestamp = to_timestamp(START_ISO8601_DATETIME)\n",
    "# End Date Time ISO 8601 Format, TZ='America/Bogota' -05:00\n",
    "END_ISO8601_DATETIME = os.getenv(\"END_ISO8601_DATETIME\", None)\n",
    "end_timestamp = to_timestamp(os.getenv(\"END_ISO8601_DATETIME\", None))\n",
    "\n",
    "# GROUP BY TIME\n",
    "GROUP_BY_TIME = os.getenv(\"GROUP_BY_TIME\", None)\n",
    "\n",
    "print(f'Since: {START_ISO8601_DATETIME} -> {start_timestamp}, Until: {END_ISO8601_DATETIME} -> {end_timestamp}')\n",
    "print(f\"Group by Time: {GROUP_BY_TIME}\")"
   ]
  },
  {
   "cell_type": "code",
   "execution_count": 4,
   "metadata": {
    "execution": {
     "iopub.execute_input": "2023-11-11T19:52:24.633518Z",
     "iopub.status.busy": "2023-11-11T19:52:24.633196Z",
     "iopub.status.idle": "2023-11-11T19:52:26.028818Z",
     "shell.execute_reply": "2023-11-11T19:52:26.027739Z"
    }
   },
   "outputs": [
    {
     "data": {
      "text/html": [
       "<div>\n",
       "<style scoped>\n",
       "    .dataframe tbody tr th:only-of-type {\n",
       "        vertical-align: middle;\n",
       "    }\n",
       "\n",
       "    .dataframe tbody tr th {\n",
       "        vertical-align: top;\n",
       "    }\n",
       "\n",
       "    .dataframe thead th {\n",
       "        text-align: right;\n",
       "    }\n",
       "</style>\n",
       "<table border=\"1\" class=\"dataframe\">\n",
       "  <thead>\n",
       "    <tr style=\"text-align: right;\">\n",
       "      <th></th>\n",
       "      <th>TANGARA_260A</th>\n",
       "      <th>TANGARA_4B1A</th>\n",
       "      <th>TANGARA_14D6</th>\n",
       "      <th>TANGARA_2B42</th>\n",
       "      <th>TANGARA_2E9A</th>\n",
       "      <th>TANGARA_2FF6</th>\n",
       "      <th>TANGARA_307A</th>\n",
       "      <th>TANGARA_48C6</th>\n",
       "      <th>TANGARA_F1AE</th>\n",
       "      <th>TANGARA_06BE</th>\n",
       "    </tr>\n",
       "    <tr>\n",
       "      <th>DATETIME</th>\n",
       "      <th></th>\n",
       "      <th></th>\n",
       "      <th></th>\n",
       "      <th></th>\n",
       "      <th></th>\n",
       "      <th></th>\n",
       "      <th></th>\n",
       "      <th></th>\n",
       "      <th></th>\n",
       "      <th></th>\n",
       "    </tr>\n",
       "  </thead>\n",
       "  <tbody>\n",
       "    <tr>\n",
       "      <th>2023-11-09 00:00:00-05:00</th>\n",
       "      <td>NaN</td>\n",
       "      <td>NaN</td>\n",
       "      <td>NaN</td>\n",
       "      <td>66.29</td>\n",
       "      <td>NaN</td>\n",
       "      <td>NaN</td>\n",
       "      <td>NaN</td>\n",
       "      <td>NaN</td>\n",
       "      <td>61.17</td>\n",
       "      <td>NaN</td>\n",
       "    </tr>\n",
       "    <tr>\n",
       "      <th>2023-11-09 00:00:30-05:00</th>\n",
       "      <td>60.77</td>\n",
       "      <td>73.14</td>\n",
       "      <td>NaN</td>\n",
       "      <td>66.32</td>\n",
       "      <td>61.98</td>\n",
       "      <td>72.15</td>\n",
       "      <td>NaN</td>\n",
       "      <td>99.9</td>\n",
       "      <td>61.28</td>\n",
       "      <td>66.38</td>\n",
       "    </tr>\n",
       "    <tr>\n",
       "      <th>2023-11-09 00:01:00-05:00</th>\n",
       "      <td>60.80</td>\n",
       "      <td>73.19</td>\n",
       "      <td>64.79</td>\n",
       "      <td>66.25</td>\n",
       "      <td>62.01</td>\n",
       "      <td>72.31</td>\n",
       "      <td>NaN</td>\n",
       "      <td>99.9</td>\n",
       "      <td>61.54</td>\n",
       "      <td>66.25</td>\n",
       "    </tr>\n",
       "    <tr>\n",
       "      <th>2023-11-09 00:01:30-05:00</th>\n",
       "      <td>60.76</td>\n",
       "      <td>73.28</td>\n",
       "      <td>64.86</td>\n",
       "      <td>66.43</td>\n",
       "      <td>61.92</td>\n",
       "      <td>72.39</td>\n",
       "      <td>NaN</td>\n",
       "      <td>99.9</td>\n",
       "      <td>61.76</td>\n",
       "      <td>66.31</td>\n",
       "    </tr>\n",
       "    <tr>\n",
       "      <th>2023-11-09 00:02:00-05:00</th>\n",
       "      <td>60.75</td>\n",
       "      <td>73.37</td>\n",
       "      <td>64.83</td>\n",
       "      <td>66.50</td>\n",
       "      <td>62.05</td>\n",
       "      <td>72.45</td>\n",
       "      <td>NaN</td>\n",
       "      <td>99.9</td>\n",
       "      <td>61.89</td>\n",
       "      <td>66.25</td>\n",
       "    </tr>\n",
       "  </tbody>\n",
       "</table>\n",
       "</div>"
      ],
      "text/plain": [
       "                           TANGARA_260A  TANGARA_4B1A  TANGARA_14D6  \\\n",
       "DATETIME                                                              \n",
       "2023-11-09 00:00:00-05:00           NaN           NaN           NaN   \n",
       "2023-11-09 00:00:30-05:00         60.77         73.14           NaN   \n",
       "2023-11-09 00:01:00-05:00         60.80         73.19         64.79   \n",
       "2023-11-09 00:01:30-05:00         60.76         73.28         64.86   \n",
       "2023-11-09 00:02:00-05:00         60.75         73.37         64.83   \n",
       "\n",
       "                           TANGARA_2B42  TANGARA_2E9A  TANGARA_2FF6  \\\n",
       "DATETIME                                                              \n",
       "2023-11-09 00:00:00-05:00         66.29           NaN           NaN   \n",
       "2023-11-09 00:00:30-05:00         66.32         61.98         72.15   \n",
       "2023-11-09 00:01:00-05:00         66.25         62.01         72.31   \n",
       "2023-11-09 00:01:30-05:00         66.43         61.92         72.39   \n",
       "2023-11-09 00:02:00-05:00         66.50         62.05         72.45   \n",
       "\n",
       "                           TANGARA_307A  TANGARA_48C6  TANGARA_F1AE  \\\n",
       "DATETIME                                                              \n",
       "2023-11-09 00:00:00-05:00           NaN           NaN         61.17   \n",
       "2023-11-09 00:00:30-05:00           NaN          99.9         61.28   \n",
       "2023-11-09 00:01:00-05:00           NaN          99.9         61.54   \n",
       "2023-11-09 00:01:30-05:00           NaN          99.9         61.76   \n",
       "2023-11-09 00:02:00-05:00           NaN          99.9         61.89   \n",
       "\n",
       "                           TANGARA_06BE  \n",
       "DATETIME                                 \n",
       "2023-11-09 00:00:00-05:00           NaN  \n",
       "2023-11-09 00:00:30-05:00         66.38  \n",
       "2023-11-09 00:01:00-05:00         66.25  \n",
       "2023-11-09 00:01:30-05:00         66.31  \n",
       "2023-11-09 00:02:00-05:00         66.25  "
      ]
     },
     "execution_count": 4,
     "metadata": {},
     "output_type": "execute_result"
    }
   ],
   "source": [
    "# Humidity Data Frame Sensors\n",
    "df_hum_raw = df_data_sensors(df_tangaras, start_timestamp, end_timestamp, 'hum', GROUP_BY_TIME)\n",
    "df_hum_raw.head()\n",
    "#df_hum_raw.shape"
   ]
  },
  {
   "cell_type": "markdown",
   "metadata": {},
   "source": [
    "## Descriptive Statistics"
   ]
  },
  {
   "cell_type": "code",
   "execution_count": 5,
   "metadata": {
    "execution": {
     "iopub.execute_input": "2023-11-11T19:52:26.032695Z",
     "iopub.status.busy": "2023-11-11T19:52:26.032361Z",
     "iopub.status.idle": "2023-11-11T19:52:26.076348Z",
     "shell.execute_reply": "2023-11-11T19:52:26.075425Z"
    }
   },
   "outputs": [
    {
     "data": {
      "text/html": [
       "<div>\n",
       "<style scoped>\n",
       "    .dataframe tbody tr th:only-of-type {\n",
       "        vertical-align: middle;\n",
       "    }\n",
       "\n",
       "    .dataframe tbody tr th {\n",
       "        vertical-align: top;\n",
       "    }\n",
       "\n",
       "    .dataframe thead th {\n",
       "        text-align: right;\n",
       "    }\n",
       "</style>\n",
       "<table border=\"1\" class=\"dataframe\">\n",
       "  <thead>\n",
       "    <tr style=\"text-align: right;\">\n",
       "      <th></th>\n",
       "      <th>TANGARA_260A</th>\n",
       "      <th>TANGARA_4B1A</th>\n",
       "      <th>TANGARA_14D6</th>\n",
       "      <th>TANGARA_2B42</th>\n",
       "      <th>TANGARA_2E9A</th>\n",
       "      <th>TANGARA_2FF6</th>\n",
       "      <th>TANGARA_307A</th>\n",
       "      <th>TANGARA_48C6</th>\n",
       "      <th>TANGARA_F1AE</th>\n",
       "      <th>TANGARA_06BE</th>\n",
       "    </tr>\n",
       "  </thead>\n",
       "  <tbody>\n",
       "    <tr>\n",
       "      <th>count</th>\n",
       "      <td>5609.000000</td>\n",
       "      <td>5639.000000</td>\n",
       "      <td>3836.000000</td>\n",
       "      <td>4181.000000</td>\n",
       "      <td>5666.000000</td>\n",
       "      <td>5683.000000</td>\n",
       "      <td>3226.000000</td>\n",
       "      <td>5506.000000</td>\n",
       "      <td>5723.000000</td>\n",
       "      <td>5522.000000</td>\n",
       "    </tr>\n",
       "    <tr>\n",
       "      <th>mean</th>\n",
       "      <td>57.834031</td>\n",
       "      <td>64.434166</td>\n",
       "      <td>62.803498</td>\n",
       "      <td>62.569493</td>\n",
       "      <td>58.704848</td>\n",
       "      <td>65.334487</td>\n",
       "      <td>58.702653</td>\n",
       "      <td>99.853760</td>\n",
       "      <td>55.714396</td>\n",
       "      <td>59.477993</td>\n",
       "    </tr>\n",
       "    <tr>\n",
       "      <th>std</th>\n",
       "      <td>7.979524</td>\n",
       "      <td>9.948658</td>\n",
       "      <td>9.197505</td>\n",
       "      <td>5.067594</td>\n",
       "      <td>6.002115</td>\n",
       "      <td>9.457788</td>\n",
       "      <td>11.168778</td>\n",
       "      <td>0.270018</td>\n",
       "      <td>7.010113</td>\n",
       "      <td>8.206347</td>\n",
       "    </tr>\n",
       "    <tr>\n",
       "      <th>min</th>\n",
       "      <td>44.110000</td>\n",
       "      <td>46.770000</td>\n",
       "      <td>45.330000</td>\n",
       "      <td>51.720000</td>\n",
       "      <td>44.550000</td>\n",
       "      <td>47.870000</td>\n",
       "      <td>35.050000</td>\n",
       "      <td>97.600000</td>\n",
       "      <td>44.200000</td>\n",
       "      <td>44.940000</td>\n",
       "    </tr>\n",
       "    <tr>\n",
       "      <th>25%</th>\n",
       "      <td>50.670000</td>\n",
       "      <td>54.740000</td>\n",
       "      <td>53.697500</td>\n",
       "      <td>58.250000</td>\n",
       "      <td>54.592500</td>\n",
       "      <td>56.510000</td>\n",
       "      <td>49.610000</td>\n",
       "      <td>99.900000</td>\n",
       "      <td>48.995000</td>\n",
       "      <td>51.460000</td>\n",
       "    </tr>\n",
       "    <tr>\n",
       "      <th>50%</th>\n",
       "      <td>57.810000</td>\n",
       "      <td>67.020000</td>\n",
       "      <td>66.320000</td>\n",
       "      <td>63.150000</td>\n",
       "      <td>60.480000</td>\n",
       "      <td>67.460000</td>\n",
       "      <td>63.540000</td>\n",
       "      <td>99.900000</td>\n",
       "      <td>56.510000</td>\n",
       "      <td>61.365000</td>\n",
       "    </tr>\n",
       "    <tr>\n",
       "      <th>75%</th>\n",
       "      <td>65.430000</td>\n",
       "      <td>74.545000</td>\n",
       "      <td>70.670000</td>\n",
       "      <td>66.370000</td>\n",
       "      <td>63.540000</td>\n",
       "      <td>74.645000</td>\n",
       "      <td>68.137500</td>\n",
       "      <td>99.900000</td>\n",
       "      <td>63.080000</td>\n",
       "      <td>67.210000</td>\n",
       "    </tr>\n",
       "    <tr>\n",
       "      <th>max</th>\n",
       "      <td>73.400000</td>\n",
       "      <td>78.810000</td>\n",
       "      <td>73.050000</td>\n",
       "      <td>71.180000</td>\n",
       "      <td>69.200000</td>\n",
       "      <td>80.290000</td>\n",
       "      <td>73.840000</td>\n",
       "      <td>99.900000</td>\n",
       "      <td>67.070000</td>\n",
       "      <td>72.980000</td>\n",
       "    </tr>\n",
       "  </tbody>\n",
       "</table>\n",
       "</div>"
      ],
      "text/plain": [
       "       TANGARA_260A  TANGARA_4B1A  TANGARA_14D6  TANGARA_2B42  TANGARA_2E9A  \\\n",
       "count   5609.000000   5639.000000   3836.000000   4181.000000   5666.000000   \n",
       "mean      57.834031     64.434166     62.803498     62.569493     58.704848   \n",
       "std        7.979524      9.948658      9.197505      5.067594      6.002115   \n",
       "min       44.110000     46.770000     45.330000     51.720000     44.550000   \n",
       "25%       50.670000     54.740000     53.697500     58.250000     54.592500   \n",
       "50%       57.810000     67.020000     66.320000     63.150000     60.480000   \n",
       "75%       65.430000     74.545000     70.670000     66.370000     63.540000   \n",
       "max       73.400000     78.810000     73.050000     71.180000     69.200000   \n",
       "\n",
       "       TANGARA_2FF6  TANGARA_307A  TANGARA_48C6  TANGARA_F1AE  TANGARA_06BE  \n",
       "count   5683.000000   3226.000000   5506.000000   5723.000000   5522.000000  \n",
       "mean      65.334487     58.702653     99.853760     55.714396     59.477993  \n",
       "std        9.457788     11.168778      0.270018      7.010113      8.206347  \n",
       "min       47.870000     35.050000     97.600000     44.200000     44.940000  \n",
       "25%       56.510000     49.610000     99.900000     48.995000     51.460000  \n",
       "50%       67.460000     63.540000     99.900000     56.510000     61.365000  \n",
       "75%       74.645000     68.137500     99.900000     63.080000     67.210000  \n",
       "max       80.290000     73.840000     99.900000     67.070000     72.980000  "
      ]
     },
     "execution_count": 5,
     "metadata": {},
     "output_type": "execute_result"
    }
   ],
   "source": [
    "# Describe Data\n",
    "df_hum_raw.describe()"
   ]
  },
  {
   "cell_type": "markdown",
   "metadata": {},
   "source": [
    "## Missing Data"
   ]
  },
  {
   "cell_type": "code",
   "execution_count": 6,
   "metadata": {
    "execution": {
     "iopub.execute_input": "2023-11-11T19:52:26.080212Z",
     "iopub.status.busy": "2023-11-11T19:52:26.079868Z",
     "iopub.status.idle": "2023-11-11T19:52:26.108168Z",
     "shell.execute_reply": "2023-11-11T19:52:26.107240Z"
    }
   },
   "outputs": [
    {
     "name": "stdout",
     "output_type": "stream",
     "text": [
      "Threshold: 90%\n",
      "Tangara Sensor: TANGARA_14D6, Data: 67%, Missing: 33%, To be checked\n",
      "Tangara Sensor: TANGARA_2B42, Data: 73%, Missing: 27%, To be checked\n",
      "Tangara Sensor: TANGARA_307A, Data: 56%, Missing: 44%, To be checked\n"
     ]
    }
   ],
   "source": [
    "import warnings\n",
    "warnings.filterwarnings('ignore')\n",
    "\n",
    "# Missing Data Threshold\n",
    "threshold = 90\n",
    "print(f'Threshold: {threshold}%')\n",
    "\n",
    "# For each Tangara sensor\n",
    "for id_tangara_sensor in df_hum_raw.columns:\n",
    "    df_hum_sensor = df_hum_raw[[id_tangara_sensor]]\n",
    "    # To be checked\n",
    "    is_ok, data_percent, missing_data_percent = to_be_checked(df_hum_sensor, threshold)\n",
    "    if not is_ok:\n",
    "        print(f\"Tangara Sensor: {id_tangara_sensor}, Data: {data_percent}%, Missing: {missing_data_percent}%, To be checked\")"
   ]
  },
  {
   "cell_type": "markdown",
   "metadata": {},
   "source": [
    "## Data Correlation"
   ]
  },
  {
   "cell_type": "code",
   "execution_count": 7,
   "metadata": {
    "execution": {
     "iopub.execute_input": "2023-11-11T19:52:26.111886Z",
     "iopub.status.busy": "2023-11-11T19:52:26.111562Z",
     "iopub.status.idle": "2023-11-11T19:52:26.119312Z",
     "shell.execute_reply": "2023-11-11T19:52:26.118537Z"
    }
   },
   "outputs": [
    {
     "name": "stdout",
     "output_type": "stream",
     "text": [
      "Threshold: 0.9%\n",
      "Reference Tangara Sensor: TANGARA_06BE, Target Tangara Sensor: TANGARA_2FF6, Correlation: 0.0, To be checked\n"
     ]
    }
   ],
   "source": [
    "# Data Correlation Threshold\n",
    "threshold = 0.9\n",
    "print(f'Threshold: {threshold}%')\n",
    "\n",
    "ID_REFE_TANGARA_SENSOR='TANGARA_06BE'\n",
    "ID_TARG_TANGARA_SENSOR='TANGARA_2FF6'\n",
    "# Reference Tangara Sensor\n",
    "df_reference_sensor = df_hum_raw[ID_REFE_TANGARA_SENSOR]\n",
    "# Target Tangara Sensor\n",
    "df_target_sensor = df_hum_raw[ID_TARG_TANGARA_SENSOR]\n",
    "\n",
    "# To be checked\n",
    "if not math.isnan(df_reference_sensor.std()):\n",
    "    is_ok, corr = is_corr_ok(df_reference_sensor, df_target_sensor, threshold)\n",
    "    if not is_ok:\n",
    "        print(f\"Reference Tangara Sensor: {ID_REFE_TANGARA_SENSOR}, Target Tangara Sensor: {ID_TARG_TANGARA_SENSOR}, Correlation: {corr}, To be checked\")\n",
    "\n",
    "# For each Tangara sensor\n",
    "# for id_tangara_sensor in df_hum_raw.columns:\n",
    "#     # Target Tangara Sensor\n",
    "#     df_target_sensor = df_hum_raw[id_tangara_sensor]\n",
    "#     # To be checked\n",
    "#     is_ok, corr = is_corr_ok(df_reference_sensor, df_target_sensor, threshold)\n",
    "#     if not is_ok:\n",
    "#         print(f\"Reference Tangara Sensor: {ID_REFE_TANGARA_SENSOR}, Target Tangara Sensor: {id_tangara_sensor}, Correlation: {corr}, To be checked\")\n"
   ]
  },
  {
   "cell_type": "code",
   "execution_count": 8,
   "metadata": {
    "execution": {
     "iopub.execute_input": "2023-11-11T19:52:26.122779Z",
     "iopub.status.busy": "2023-11-11T19:52:26.122457Z",
     "iopub.status.idle": "2023-11-11T19:52:26.259487Z",
     "shell.execute_reply": "2023-11-11T19:52:26.258579Z"
    }
   },
   "outputs": [],
   "source": [
    "# Save Humidity Data Frame Sensors into CSV file\n",
    "df_to_csv(df_hum_raw, \"hum_raw.csv\")"
   ]
  },
  {
   "cell_type": "code",
   "execution_count": null,
   "metadata": {},
   "outputs": [],
   "source": []
  }
 ],
 "metadata": {
  "kernelspec": {
   "display_name": ".venv",
   "language": "python",
   "name": "python3"
  },
  "language_info": {
   "codemirror_mode": {
    "name": "ipython",
    "version": 3
   },
   "file_extension": ".py",
   "mimetype": "text/x-python",
   "name": "python",
   "nbconvert_exporter": "python",
   "pygments_lexer": "ipython3",
   "version": "3.12.0"
  }
 },
 "nbformat": 4,
 "nbformat_minor": 2
}
