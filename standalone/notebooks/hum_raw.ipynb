{
 "cells": [
  {
   "cell_type": "code",
   "execution_count": 1,
   "metadata": {
    "execution": {
     "iopub.execute_input": "2023-11-08T22:41:12.548635Z",
     "iopub.status.busy": "2023-11-08T22:41:12.548079Z",
     "iopub.status.idle": "2023-11-08T22:41:18.182745Z",
     "shell.execute_reply": "2023-11-08T22:41:18.179786Z"
    }
   },
   "outputs": [
    {
     "name": "stdout",
     "output_type": "stream",
     "text": [
      "PM2.5: 35.9, AQI: 102\n",
      "PM2.5: 35.9, Measure Level: MeasureLevels.UNHEALTHY_FOR_SENSITIVE_GROUPS, Range Values: Min: 35.5, Max: 55.4\n",
      "AQI: 102, Measure Level: MeasureLevels.UNHEALTHY_FOR_SENSITIVE_GROUPS, Range Values: Min: 101, Max: 150\n"
     ]
    }
   ],
   "source": [
    "import os\n",
    "import math\n",
    "from dotenv import load_dotenv\n",
    "\n",
    "# Explicitly providing path to '.env'\n",
    "from pathlib import Path  # Python 3.6+ only\n",
    "# Load .env variables\n",
    "_ = load_dotenv(dotenv_path=f\"{Path().resolve().parents[1]}/standalone/.env\")\n",
    "\n",
    "# import import_ipynb\n",
    "# from utils import to_timestamp, df_data_sensors, to_be_checked, is_corr_ok, df_to_csv, df_from_csv\n",
    "\n",
    "# with the new api\n",
    "from importnb import imports\n",
    "with imports(\"ipynb\"):\n",
    "    from utils import to_timestamp, df_data_sensors, to_be_checked, is_corr_ok, df_to_csv, df_from_csv"
   ]
  },
  {
   "cell_type": "markdown",
   "metadata": {},
   "source": [
    "## Humidity Raw Data"
   ]
  },
  {
   "cell_type": "code",
   "execution_count": 2,
   "metadata": {
    "execution": {
     "iopub.execute_input": "2023-11-08T22:41:18.364508Z",
     "iopub.status.busy": "2023-11-08T22:41:18.363325Z",
     "iopub.status.idle": "2023-11-08T22:41:18.432087Z",
     "shell.execute_reply": "2023-11-08T22:41:18.429650Z"
    }
   },
   "outputs": [
    {
     "name": "stdout",
     "output_type": "stream",
     "text": [
      "Total Tangara Sensors: 8\n"
     ]
    },
    {
     "data": {
      "text/html": [
       "<div>\n",
       "<style scoped>\n",
       "    .dataframe tbody tr th:only-of-type {\n",
       "        vertical-align: middle;\n",
       "    }\n",
       "\n",
       "    .dataframe tbody tr th {\n",
       "        vertical-align: top;\n",
       "    }\n",
       "\n",
       "    .dataframe thead th {\n",
       "        text-align: right;\n",
       "    }\n",
       "</style>\n",
       "<table border=\"1\" class=\"dataframe\">\n",
       "  <thead>\n",
       "    <tr style=\"text-align: right;\">\n",
       "      <th></th>\n",
       "      <th>ID</th>\n",
       "      <th>GEOHASH</th>\n",
       "      <th>MAC</th>\n",
       "      <th>GEOLOCATION</th>\n",
       "      <th>LATITUDE</th>\n",
       "      <th>LONGITUDE</th>\n",
       "    </tr>\n",
       "  </thead>\n",
       "  <tbody>\n",
       "    <tr>\n",
       "      <th>0</th>\n",
       "      <td>TANGARA_260A</td>\n",
       "      <td>d29edyj</td>\n",
       "      <td>D29ESP32DE1260A</td>\n",
       "      <td>3.4613800048828125 -76.51222229003906</td>\n",
       "      <td>3.461380</td>\n",
       "      <td>-76.512222</td>\n",
       "    </tr>\n",
       "    <tr>\n",
       "      <th>1</th>\n",
       "      <td>TANGARA_14D6</td>\n",
       "      <td>d29eg4k</td>\n",
       "      <td>D29ESP32DED14D6</td>\n",
       "      <td>3.4847259521484375 -76.50260925292969</td>\n",
       "      <td>3.484726</td>\n",
       "      <td>-76.502609</td>\n",
       "    </tr>\n",
       "    <tr>\n",
       "      <th>2</th>\n",
       "      <td>TANGARA_2B42</td>\n",
       "      <td>d29e6pg</td>\n",
       "      <td>D29ESP32DED2B42</td>\n",
       "      <td>3.4270477294921875 -76.54792785644531</td>\n",
       "      <td>3.427048</td>\n",
       "      <td>-76.547928</td>\n",
       "    </tr>\n",
       "    <tr>\n",
       "      <th>3</th>\n",
       "      <td>TANGARA_2E9A</td>\n",
       "      <td>d29ed62</td>\n",
       "      <td>D29ESP32DED2E9A</td>\n",
       "      <td>3.4407806396484375 -76.54106140136719</td>\n",
       "      <td>3.440781</td>\n",
       "      <td>-76.541061</td>\n",
       "    </tr>\n",
       "    <tr>\n",
       "      <th>4</th>\n",
       "      <td>TANGARA_2FF6</td>\n",
       "      <td>d29e66v</td>\n",
       "      <td>D29ESP32DED2FF6</td>\n",
       "      <td>3.3995819091796875 -76.53419494628906</td>\n",
       "      <td>3.399582</td>\n",
       "      <td>-76.534195</td>\n",
       "    </tr>\n",
       "  </tbody>\n",
       "</table>\n",
       "</div>"
      ],
      "text/plain": [
       "             ID  GEOHASH              MAC  \\\n",
       "0  TANGARA_260A  d29edyj  D29ESP32DE1260A   \n",
       "1  TANGARA_14D6  d29eg4k  D29ESP32DED14D6   \n",
       "2  TANGARA_2B42  d29e6pg  D29ESP32DED2B42   \n",
       "3  TANGARA_2E9A  d29ed62  D29ESP32DED2E9A   \n",
       "4  TANGARA_2FF6  d29e66v  D29ESP32DED2FF6   \n",
       "\n",
       "                             GEOLOCATION  LATITUDE  LONGITUDE  \n",
       "0  3.4613800048828125 -76.51222229003906  3.461380 -76.512222  \n",
       "1  3.4847259521484375 -76.50260925292969  3.484726 -76.502609  \n",
       "2  3.4270477294921875 -76.54792785644531  3.427048 -76.547928  \n",
       "3  3.4407806396484375 -76.54106140136719  3.440781 -76.541061  \n",
       "4  3.3995819091796875 -76.53419494628906  3.399582 -76.534195  "
      ]
     },
     "execution_count": 2,
     "metadata": {},
     "output_type": "execute_result"
    }
   ],
   "source": [
    "# Load Tangaras\n",
    "df_tangaras = df_from_csv(\"tangaras.csv\", dtindex=False)\n",
    "\n",
    "print(f\"Total Tangara Sensors: {len(df_tangaras)}\")\n",
    "\n",
    "df_tangaras.head()"
   ]
  },
  {
   "cell_type": "code",
   "execution_count": 3,
   "metadata": {
    "execution": {
     "iopub.execute_input": "2023-11-08T22:41:18.440335Z",
     "iopub.status.busy": "2023-11-08T22:41:18.439675Z",
     "iopub.status.idle": "2023-11-08T22:41:18.458296Z",
     "shell.execute_reply": "2023-11-08T22:41:18.455435Z"
    }
   },
   "outputs": [
    {
     "name": "stdout",
     "output_type": "stream",
     "text": [
      "Since: 2023-11-07T23:00:00-05:00 -> 1699416000000, Until: 2023-11-08T00:00:00-05:00 -> 1699419600000\n",
      "Group by Time: 30s\n"
     ]
    }
   ],
   "source": [
    "# Start Date Time ISO 8601 Format, TZ='America/Bogota' -05:00\n",
    "START_ISO8601_DATETIME = os.getenv(\"START_ISO8601_DATETIME\", None)\n",
    "start_timestamp = to_timestamp(START_ISO8601_DATETIME)\n",
    "# End Date Time ISO 8601 Format, TZ='America/Bogota' -05:00\n",
    "END_ISO8601_DATETIME = os.getenv(\"END_ISO8601_DATETIME\", None)\n",
    "end_timestamp = to_timestamp(os.getenv(\"END_ISO8601_DATETIME\", None))\n",
    "\n",
    "# GROUP BY TIME\n",
    "GROUP_BY_TIME = os.getenv(\"GROUP_BY_TIME\", None)\n",
    "\n",
    "print(f'Since: {START_ISO8601_DATETIME} -> {start_timestamp}, Until: {END_ISO8601_DATETIME} -> {end_timestamp}')\n",
    "print(f\"Group by Time: {GROUP_BY_TIME}\")"
   ]
  },
  {
   "cell_type": "code",
   "execution_count": 4,
   "metadata": {
    "execution": {
     "iopub.execute_input": "2023-11-08T22:41:18.468766Z",
     "iopub.status.busy": "2023-11-08T22:41:18.467866Z",
     "iopub.status.idle": "2023-11-08T22:41:18.949921Z",
     "shell.execute_reply": "2023-11-08T22:41:18.947445Z"
    }
   },
   "outputs": [
    {
     "data": {
      "text/html": [
       "<div>\n",
       "<style scoped>\n",
       "    .dataframe tbody tr th:only-of-type {\n",
       "        vertical-align: middle;\n",
       "    }\n",
       "\n",
       "    .dataframe tbody tr th {\n",
       "        vertical-align: top;\n",
       "    }\n",
       "\n",
       "    .dataframe thead th {\n",
       "        text-align: right;\n",
       "    }\n",
       "</style>\n",
       "<table border=\"1\" class=\"dataframe\">\n",
       "  <thead>\n",
       "    <tr style=\"text-align: right;\">\n",
       "      <th></th>\n",
       "      <th>TANGARA_260A</th>\n",
       "      <th>TANGARA_14D6</th>\n",
       "      <th>TANGARA_2B42</th>\n",
       "      <th>TANGARA_2E9A</th>\n",
       "      <th>TANGARA_2FF6</th>\n",
       "      <th>TANGARA_48C6</th>\n",
       "      <th>TANGARA_F1AE</th>\n",
       "      <th>TANGARA_06BE</th>\n",
       "    </tr>\n",
       "    <tr>\n",
       "      <th>DATETIME</th>\n",
       "      <th></th>\n",
       "      <th></th>\n",
       "      <th></th>\n",
       "      <th></th>\n",
       "      <th></th>\n",
       "      <th></th>\n",
       "      <th></th>\n",
       "      <th></th>\n",
       "    </tr>\n",
       "  </thead>\n",
       "  <tbody>\n",
       "    <tr>\n",
       "      <th>2023-11-07 23:00:00-05:00</th>\n",
       "      <td>61.76</td>\n",
       "      <td>66.56</td>\n",
       "      <td>66.63</td>\n",
       "      <td>62.26</td>\n",
       "      <td>73.32</td>\n",
       "      <td>99.9</td>\n",
       "      <td>62.49</td>\n",
       "      <td>65.64</td>\n",
       "    </tr>\n",
       "    <tr>\n",
       "      <th>2023-11-07 23:00:30-05:00</th>\n",
       "      <td>61.79</td>\n",
       "      <td>66.59</td>\n",
       "      <td>NaN</td>\n",
       "      <td>61.88</td>\n",
       "      <td>73.30</td>\n",
       "      <td>99.9</td>\n",
       "      <td>62.41</td>\n",
       "      <td>65.69</td>\n",
       "    </tr>\n",
       "    <tr>\n",
       "      <th>2023-11-07 23:01:00-05:00</th>\n",
       "      <td>61.81</td>\n",
       "      <td>66.69</td>\n",
       "      <td>66.63</td>\n",
       "      <td>61.90</td>\n",
       "      <td>73.35</td>\n",
       "      <td>99.9</td>\n",
       "      <td>62.44</td>\n",
       "      <td>65.66</td>\n",
       "    </tr>\n",
       "    <tr>\n",
       "      <th>2023-11-07 23:01:30-05:00</th>\n",
       "      <td>61.76</td>\n",
       "      <td>66.60</td>\n",
       "      <td>66.79</td>\n",
       "      <td>62.44</td>\n",
       "      <td>73.30</td>\n",
       "      <td>99.9</td>\n",
       "      <td>62.39</td>\n",
       "      <td>65.72</td>\n",
       "    </tr>\n",
       "    <tr>\n",
       "      <th>2023-11-07 23:02:00-05:00</th>\n",
       "      <td>61.74</td>\n",
       "      <td>66.74</td>\n",
       "      <td>NaN</td>\n",
       "      <td>61.92</td>\n",
       "      <td>73.42</td>\n",
       "      <td>99.9</td>\n",
       "      <td>62.38</td>\n",
       "      <td>65.81</td>\n",
       "    </tr>\n",
       "  </tbody>\n",
       "</table>\n",
       "</div>"
      ],
      "text/plain": [
       "                           TANGARA_260A  TANGARA_14D6  TANGARA_2B42  \\\n",
       "DATETIME                                                              \n",
       "2023-11-07 23:00:00-05:00         61.76         66.56         66.63   \n",
       "2023-11-07 23:00:30-05:00         61.79         66.59           NaN   \n",
       "2023-11-07 23:01:00-05:00         61.81         66.69         66.63   \n",
       "2023-11-07 23:01:30-05:00         61.76         66.60         66.79   \n",
       "2023-11-07 23:02:00-05:00         61.74         66.74           NaN   \n",
       "\n",
       "                           TANGARA_2E9A  TANGARA_2FF6  TANGARA_48C6  \\\n",
       "DATETIME                                                              \n",
       "2023-11-07 23:00:00-05:00         62.26         73.32          99.9   \n",
       "2023-11-07 23:00:30-05:00         61.88         73.30          99.9   \n",
       "2023-11-07 23:01:00-05:00         61.90         73.35          99.9   \n",
       "2023-11-07 23:01:30-05:00         62.44         73.30          99.9   \n",
       "2023-11-07 23:02:00-05:00         61.92         73.42          99.9   \n",
       "\n",
       "                           TANGARA_F1AE  TANGARA_06BE  \n",
       "DATETIME                                               \n",
       "2023-11-07 23:00:00-05:00         62.49         65.64  \n",
       "2023-11-07 23:00:30-05:00         62.41         65.69  \n",
       "2023-11-07 23:01:00-05:00         62.44         65.66  \n",
       "2023-11-07 23:01:30-05:00         62.39         65.72  \n",
       "2023-11-07 23:02:00-05:00         62.38         65.81  "
      ]
     },
     "execution_count": 4,
     "metadata": {},
     "output_type": "execute_result"
    }
   ],
   "source": [
    "# Humidity Data Frame Sensors\n",
    "df_hum_raw = df_data_sensors(df_tangaras, start_timestamp, end_timestamp, 'hum', GROUP_BY_TIME)\n",
    "df_hum_raw.head()\n",
    "#df_hum_raw.shape"
   ]
  },
  {
   "cell_type": "markdown",
   "metadata": {},
   "source": [
    "## Descriptive Statistics"
   ]
  },
  {
   "cell_type": "code",
   "execution_count": 5,
   "metadata": {
    "execution": {
     "iopub.execute_input": "2023-11-08T22:41:18.959119Z",
     "iopub.status.busy": "2023-11-08T22:41:18.957932Z",
     "iopub.status.idle": "2023-11-08T22:41:19.039213Z",
     "shell.execute_reply": "2023-11-08T22:41:19.036996Z"
    }
   },
   "outputs": [
    {
     "data": {
      "text/html": [
       "<div>\n",
       "<style scoped>\n",
       "    .dataframe tbody tr th:only-of-type {\n",
       "        vertical-align: middle;\n",
       "    }\n",
       "\n",
       "    .dataframe tbody tr th {\n",
       "        vertical-align: top;\n",
       "    }\n",
       "\n",
       "    .dataframe thead th {\n",
       "        text-align: right;\n",
       "    }\n",
       "</style>\n",
       "<table border=\"1\" class=\"dataframe\">\n",
       "  <thead>\n",
       "    <tr style=\"text-align: right;\">\n",
       "      <th></th>\n",
       "      <th>TANGARA_260A</th>\n",
       "      <th>TANGARA_14D6</th>\n",
       "      <th>TANGARA_2B42</th>\n",
       "      <th>TANGARA_2E9A</th>\n",
       "      <th>TANGARA_2FF6</th>\n",
       "      <th>TANGARA_48C6</th>\n",
       "      <th>TANGARA_F1AE</th>\n",
       "      <th>TANGARA_06BE</th>\n",
       "    </tr>\n",
       "  </thead>\n",
       "  <tbody>\n",
       "    <tr>\n",
       "      <th>count</th>\n",
       "      <td>115.000000</td>\n",
       "      <td>115.000000</td>\n",
       "      <td>78.000000</td>\n",
       "      <td>114.000000</td>\n",
       "      <td>111.000000</td>\n",
       "      <td>1.110000e+02</td>\n",
       "      <td>115.000000</td>\n",
       "      <td>115.000000</td>\n",
       "    </tr>\n",
       "    <tr>\n",
       "      <th>mean</th>\n",
       "      <td>62.666087</td>\n",
       "      <td>67.865652</td>\n",
       "      <td>67.333462</td>\n",
       "      <td>62.078158</td>\n",
       "      <td>74.108108</td>\n",
       "      <td>9.990000e+01</td>\n",
       "      <td>63.370000</td>\n",
       "      <td>65.764174</td>\n",
       "    </tr>\n",
       "    <tr>\n",
       "      <th>std</th>\n",
       "      <td>0.684373</td>\n",
       "      <td>0.642721</td>\n",
       "      <td>0.647179</td>\n",
       "      <td>0.322903</td>\n",
       "      <td>0.371727</td>\n",
       "      <td>2.855061e-14</td>\n",
       "      <td>0.428326</td>\n",
       "      <td>0.503782</td>\n",
       "    </tr>\n",
       "    <tr>\n",
       "      <th>min</th>\n",
       "      <td>61.740000</td>\n",
       "      <td>66.560000</td>\n",
       "      <td>66.580000</td>\n",
       "      <td>61.430000</td>\n",
       "      <td>73.300000</td>\n",
       "      <td>9.990000e+01</td>\n",
       "      <td>62.360000</td>\n",
       "      <td>65.070000</td>\n",
       "    </tr>\n",
       "    <tr>\n",
       "      <th>25%</th>\n",
       "      <td>62.030000</td>\n",
       "      <td>67.290000</td>\n",
       "      <td>66.802500</td>\n",
       "      <td>61.840000</td>\n",
       "      <td>73.855000</td>\n",
       "      <td>9.990000e+01</td>\n",
       "      <td>63.110000</td>\n",
       "      <td>65.450000</td>\n",
       "    </tr>\n",
       "    <tr>\n",
       "      <th>50%</th>\n",
       "      <td>62.610000</td>\n",
       "      <td>68.070000</td>\n",
       "      <td>67.060000</td>\n",
       "      <td>62.100000</td>\n",
       "      <td>74.250000</td>\n",
       "      <td>9.990000e+01</td>\n",
       "      <td>63.560000</td>\n",
       "      <td>65.630000</td>\n",
       "    </tr>\n",
       "    <tr>\n",
       "      <th>75%</th>\n",
       "      <td>63.215000</td>\n",
       "      <td>68.420000</td>\n",
       "      <td>67.847500</td>\n",
       "      <td>62.347500</td>\n",
       "      <td>74.395000</td>\n",
       "      <td>9.990000e+01</td>\n",
       "      <td>63.640000</td>\n",
       "      <td>65.855000</td>\n",
       "    </tr>\n",
       "    <tr>\n",
       "      <th>max</th>\n",
       "      <td>63.960000</td>\n",
       "      <td>68.670000</td>\n",
       "      <td>68.560000</td>\n",
       "      <td>62.730000</td>\n",
       "      <td>74.680000</td>\n",
       "      <td>9.990000e+01</td>\n",
       "      <td>63.820000</td>\n",
       "      <td>67.070000</td>\n",
       "    </tr>\n",
       "  </tbody>\n",
       "</table>\n",
       "</div>"
      ],
      "text/plain": [
       "       TANGARA_260A  TANGARA_14D6  TANGARA_2B42  TANGARA_2E9A  TANGARA_2FF6  \\\n",
       "count    115.000000    115.000000     78.000000    114.000000    111.000000   \n",
       "mean      62.666087     67.865652     67.333462     62.078158     74.108108   \n",
       "std        0.684373      0.642721      0.647179      0.322903      0.371727   \n",
       "min       61.740000     66.560000     66.580000     61.430000     73.300000   \n",
       "25%       62.030000     67.290000     66.802500     61.840000     73.855000   \n",
       "50%       62.610000     68.070000     67.060000     62.100000     74.250000   \n",
       "75%       63.215000     68.420000     67.847500     62.347500     74.395000   \n",
       "max       63.960000     68.670000     68.560000     62.730000     74.680000   \n",
       "\n",
       "       TANGARA_48C6  TANGARA_F1AE  TANGARA_06BE  \n",
       "count  1.110000e+02    115.000000    115.000000  \n",
       "mean   9.990000e+01     63.370000     65.764174  \n",
       "std    2.855061e-14      0.428326      0.503782  \n",
       "min    9.990000e+01     62.360000     65.070000  \n",
       "25%    9.990000e+01     63.110000     65.450000  \n",
       "50%    9.990000e+01     63.560000     65.630000  \n",
       "75%    9.990000e+01     63.640000     65.855000  \n",
       "max    9.990000e+01     63.820000     67.070000  "
      ]
     },
     "execution_count": 5,
     "metadata": {},
     "output_type": "execute_result"
    }
   ],
   "source": [
    "# Describe Data\n",
    "df_hum_raw.describe()"
   ]
  },
  {
   "cell_type": "markdown",
   "metadata": {},
   "source": [
    "## Missing Data"
   ]
  },
  {
   "cell_type": "code",
   "execution_count": 6,
   "metadata": {
    "execution": {
     "iopub.execute_input": "2023-11-08T22:41:19.048163Z",
     "iopub.status.busy": "2023-11-08T22:41:19.047420Z",
     "iopub.status.idle": "2023-11-08T22:41:19.101043Z",
     "shell.execute_reply": "2023-11-08T22:41:19.098744Z"
    }
   },
   "outputs": [
    {
     "name": "stdout",
     "output_type": "stream",
     "text": [
      "Threshold: 90%\n",
      "Tangara Sensor: TANGARA_2B42, Data: 66%, Missing: 34%, To be checked\n"
     ]
    },
    {
     "name": "stderr",
     "output_type": "stream",
     "text": [
      "/home/sebaxtian/Workspaces/Tangara/tangara-pipeline/standalone/notebooks/utils.ipynb:197: FutureWarning: Series.__getitem__ treating keys as positions is deprecated. In a future version, integer keys will always be treated as labels (consistent with DataFrame behavior). To access a value by position, use `ser.iloc[pos]`\n",
      "  missing_data_percent = round(df_sensor.isna().sum()[0] * 100 / total)\n",
      "/home/sebaxtian/Workspaces/Tangara/tangara-pipeline/standalone/notebooks/utils.ipynb:198: FutureWarning: Series.__getitem__ treating keys as positions is deprecated. In a future version, integer keys will always be treated as labels (consistent with DataFrame behavior). To access a value by position, use `ser.iloc[pos]`\n",
      "  data_percent = round(df_sensor.count()[0] * 100 / total)\n",
      "/home/sebaxtian/Workspaces/Tangara/tangara-pipeline/standalone/notebooks/utils.ipynb:197: FutureWarning: Series.__getitem__ treating keys as positions is deprecated. In a future version, integer keys will always be treated as labels (consistent with DataFrame behavior). To access a value by position, use `ser.iloc[pos]`\n",
      "  missing_data_percent = round(df_sensor.isna().sum()[0] * 100 / total)\n",
      "/home/sebaxtian/Workspaces/Tangara/tangara-pipeline/standalone/notebooks/utils.ipynb:198: FutureWarning: Series.__getitem__ treating keys as positions is deprecated. In a future version, integer keys will always be treated as labels (consistent with DataFrame behavior). To access a value by position, use `ser.iloc[pos]`\n",
      "  data_percent = round(df_sensor.count()[0] * 100 / total)\n",
      "/home/sebaxtian/Workspaces/Tangara/tangara-pipeline/standalone/notebooks/utils.ipynb:197: FutureWarning: Series.__getitem__ treating keys as positions is deprecated. In a future version, integer keys will always be treated as labels (consistent with DataFrame behavior). To access a value by position, use `ser.iloc[pos]`\n",
      "  missing_data_percent = round(df_sensor.isna().sum()[0] * 100 / total)\n",
      "/home/sebaxtian/Workspaces/Tangara/tangara-pipeline/standalone/notebooks/utils.ipynb:198: FutureWarning: Series.__getitem__ treating keys as positions is deprecated. In a future version, integer keys will always be treated as labels (consistent with DataFrame behavior). To access a value by position, use `ser.iloc[pos]`\n",
      "  data_percent = round(df_sensor.count()[0] * 100 / total)\n",
      "/home/sebaxtian/Workspaces/Tangara/tangara-pipeline/standalone/notebooks/utils.ipynb:197: FutureWarning: Series.__getitem__ treating keys as positions is deprecated. In a future version, integer keys will always be treated as labels (consistent with DataFrame behavior). To access a value by position, use `ser.iloc[pos]`\n",
      "  missing_data_percent = round(df_sensor.isna().sum()[0] * 100 / total)\n",
      "/home/sebaxtian/Workspaces/Tangara/tangara-pipeline/standalone/notebooks/utils.ipynb:198: FutureWarning: Series.__getitem__ treating keys as positions is deprecated. In a future version, integer keys will always be treated as labels (consistent with DataFrame behavior). To access a value by position, use `ser.iloc[pos]`\n",
      "  data_percent = round(df_sensor.count()[0] * 100 / total)\n",
      "/home/sebaxtian/Workspaces/Tangara/tangara-pipeline/standalone/notebooks/utils.ipynb:197: FutureWarning: Series.__getitem__ treating keys as positions is deprecated. In a future version, integer keys will always be treated as labels (consistent with DataFrame behavior). To access a value by position, use `ser.iloc[pos]`\n",
      "  missing_data_percent = round(df_sensor.isna().sum()[0] * 100 / total)\n",
      "/home/sebaxtian/Workspaces/Tangara/tangara-pipeline/standalone/notebooks/utils.ipynb:198: FutureWarning: Series.__getitem__ treating keys as positions is deprecated. In a future version, integer keys will always be treated as labels (consistent with DataFrame behavior). To access a value by position, use `ser.iloc[pos]`\n",
      "  data_percent = round(df_sensor.count()[0] * 100 / total)\n",
      "/home/sebaxtian/Workspaces/Tangara/tangara-pipeline/standalone/notebooks/utils.ipynb:197: FutureWarning: Series.__getitem__ treating keys as positions is deprecated. In a future version, integer keys will always be treated as labels (consistent with DataFrame behavior). To access a value by position, use `ser.iloc[pos]`\n",
      "  missing_data_percent = round(df_sensor.isna().sum()[0] * 100 / total)\n",
      "/home/sebaxtian/Workspaces/Tangara/tangara-pipeline/standalone/notebooks/utils.ipynb:198: FutureWarning: Series.__getitem__ treating keys as positions is deprecated. In a future version, integer keys will always be treated as labels (consistent with DataFrame behavior). To access a value by position, use `ser.iloc[pos]`\n",
      "  data_percent = round(df_sensor.count()[0] * 100 / total)\n",
      "/home/sebaxtian/Workspaces/Tangara/tangara-pipeline/standalone/notebooks/utils.ipynb:197: FutureWarning: Series.__getitem__ treating keys as positions is deprecated. In a future version, integer keys will always be treated as labels (consistent with DataFrame behavior). To access a value by position, use `ser.iloc[pos]`\n",
      "  missing_data_percent = round(df_sensor.isna().sum()[0] * 100 / total)\n",
      "/home/sebaxtian/Workspaces/Tangara/tangara-pipeline/standalone/notebooks/utils.ipynb:198: FutureWarning: Series.__getitem__ treating keys as positions is deprecated. In a future version, integer keys will always be treated as labels (consistent with DataFrame behavior). To access a value by position, use `ser.iloc[pos]`\n",
      "  data_percent = round(df_sensor.count()[0] * 100 / total)\n",
      "/home/sebaxtian/Workspaces/Tangara/tangara-pipeline/standalone/notebooks/utils.ipynb:197: FutureWarning: Series.__getitem__ treating keys as positions is deprecated. In a future version, integer keys will always be treated as labels (consistent with DataFrame behavior). To access a value by position, use `ser.iloc[pos]`\n",
      "  missing_data_percent = round(df_sensor.isna().sum()[0] * 100 / total)\n",
      "/home/sebaxtian/Workspaces/Tangara/tangara-pipeline/standalone/notebooks/utils.ipynb:198: FutureWarning: Series.__getitem__ treating keys as positions is deprecated. In a future version, integer keys will always be treated as labels (consistent with DataFrame behavior). To access a value by position, use `ser.iloc[pos]`\n",
      "  data_percent = round(df_sensor.count()[0] * 100 / total)\n"
     ]
    }
   ],
   "source": [
    "# Missing Data Threshold\n",
    "threshold = 90\n",
    "print(f'Threshold: {threshold}%')\n",
    "\n",
    "# For each Tangara sensor\n",
    "for id_tangara_sensor in df_hum_raw.columns:\n",
    "    df_hum_sensor = df_hum_raw[[id_tangara_sensor]]\n",
    "    # To be checked\n",
    "    is_ok, data_percent, missing_data_percent = to_be_checked(df_hum_sensor, threshold)\n",
    "    if not is_ok:\n",
    "        print(f\"Tangara Sensor: {id_tangara_sensor}, Data: {data_percent}%, Missing: {missing_data_percent}%, To be checked\")"
   ]
  },
  {
   "cell_type": "markdown",
   "metadata": {},
   "source": [
    "## Data Correlation"
   ]
  },
  {
   "cell_type": "code",
   "execution_count": 7,
   "metadata": {
    "execution": {
     "iopub.execute_input": "2023-11-08T22:41:19.110147Z",
     "iopub.status.busy": "2023-11-08T22:41:19.109332Z",
     "iopub.status.idle": "2023-11-08T22:41:19.125948Z",
     "shell.execute_reply": "2023-11-08T22:41:19.123757Z"
    }
   },
   "outputs": [
    {
     "name": "stdout",
     "output_type": "stream",
     "text": [
      "Threshold: 0.9%\n",
      "Reference Tangara Sensor: TANGARA_06BE, Target Tangara Sensor: TANGARA_2FF6, Correlation: 0.0, To be checked\n"
     ]
    }
   ],
   "source": [
    "# Data Correlation Threshold\n",
    "threshold = 0.9\n",
    "print(f'Threshold: {threshold}%')\n",
    "\n",
    "ID_REFE_TANGARA_SENSOR='TANGARA_06BE'\n",
    "ID_TARG_TANGARA_SENSOR='TANGARA_2FF6'\n",
    "# Reference Tangara Sensor\n",
    "df_reference_sensor = df_hum_raw[ID_REFE_TANGARA_SENSOR]\n",
    "# Target Tangara Sensor\n",
    "df_target_sensor = df_hum_raw[ID_TARG_TANGARA_SENSOR]\n",
    "\n",
    "# To be checked\n",
    "if not math.isnan(df_reference_sensor.std()):\n",
    "    is_ok, corr = is_corr_ok(df_reference_sensor, df_target_sensor, threshold)\n",
    "    if not is_ok:\n",
    "        print(f\"Reference Tangara Sensor: {ID_REFE_TANGARA_SENSOR}, Target Tangara Sensor: {ID_TARG_TANGARA_SENSOR}, Correlation: {corr}, To be checked\")\n",
    "\n",
    "# For each Tangara sensor\n",
    "# for id_tangara_sensor in df_hum_raw.columns:\n",
    "#     # Target Tangara Sensor\n",
    "#     df_target_sensor = df_hum_raw[id_tangara_sensor]\n",
    "#     # To be checked\n",
    "#     is_ok, corr = is_corr_ok(df_reference_sensor, df_target_sensor, threshold)\n",
    "#     if not is_ok:\n",
    "#         print(f\"Reference Tangara Sensor: {ID_REFE_TANGARA_SENSOR}, Target Tangara Sensor: {id_tangara_sensor}, Correlation: {corr}, To be checked\")\n"
   ]
  },
  {
   "cell_type": "code",
   "execution_count": 8,
   "metadata": {
    "execution": {
     "iopub.execute_input": "2023-11-08T22:41:19.134601Z",
     "iopub.status.busy": "2023-11-08T22:41:19.133926Z",
     "iopub.status.idle": "2023-11-08T22:41:19.154569Z",
     "shell.execute_reply": "2023-11-08T22:41:19.152133Z"
    }
   },
   "outputs": [],
   "source": [
    "# Save Humidity Data Frame Sensors into CSV file\n",
    "df_to_csv(df_hum_raw, \"hum_raw.csv\")"
   ]
  },
  {
   "cell_type": "code",
   "execution_count": null,
   "metadata": {},
   "outputs": [],
   "source": []
  }
 ],
 "metadata": {
  "kernelspec": {
   "display_name": ".venv",
   "language": "python",
   "name": "python3"
  },
  "language_info": {
   "codemirror_mode": {
    "name": "ipython",
    "version": 3
   },
   "file_extension": ".py",
   "mimetype": "text/x-python",
   "name": "python",
   "nbconvert_exporter": "python",
   "pygments_lexer": "ipython3",
   "version": "3.12.0"
  }
 },
 "nbformat": 4,
 "nbformat_minor": 2
}
