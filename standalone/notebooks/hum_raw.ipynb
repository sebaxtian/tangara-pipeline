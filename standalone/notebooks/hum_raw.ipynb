{
 "cells": [
  {
   "cell_type": "code",
   "execution_count": 1,
   "metadata": {
    "execution": {
     "iopub.execute_input": "2023-11-09T02:13:24.935778Z",
     "iopub.status.busy": "2023-11-09T02:13:24.935441Z",
     "iopub.status.idle": "2023-11-09T02:13:27.338218Z",
     "shell.execute_reply": "2023-11-09T02:13:27.337098Z"
    }
   },
   "outputs": [
    {
     "name": "stdout",
     "output_type": "stream",
     "text": [
      "PM2.5: 35.9, AQI: 102\n",
      "PM2.5: 35.9, Measure Level: MeasureLevels.UNHEALTHY_FOR_SENSITIVE_GROUPS, Range Values: Min: 35.5, Max: 55.4\n",
      "AQI: 102, Measure Level: MeasureLevels.UNHEALTHY_FOR_SENSITIVE_GROUPS, Range Values: Min: 101, Max: 150\n"
     ]
    }
   ],
   "source": [
    "import os\n",
    "import math\n",
    "from dotenv import load_dotenv\n",
    "\n",
    "# Explicitly providing path to '.env'\n",
    "from pathlib import Path  # Python 3.6+ only\n",
    "# Load .env variables\n",
    "_ = load_dotenv(dotenv_path=f\"{Path().resolve().parents[1]}/standalone/.env\")\n",
    "\n",
    "# import import_ipynb\n",
    "# from utils import to_timestamp, df_data_sensors, to_be_checked, is_corr_ok, df_to_csv, df_from_csv\n",
    "\n",
    "# with the new api\n",
    "from importnb import imports\n",
    "with imports(\"ipynb\"):\n",
    "    from utils import to_timestamp, df_data_sensors, to_be_checked, is_corr_ok, df_to_csv, df_from_csv"
   ]
  },
  {
   "cell_type": "markdown",
   "metadata": {},
   "source": [
    "## Humidity Raw Data"
   ]
  },
  {
   "cell_type": "code",
   "execution_count": 2,
   "metadata": {
    "execution": {
     "iopub.execute_input": "2023-11-09T02:13:27.410234Z",
     "iopub.status.busy": "2023-11-09T02:13:27.409728Z",
     "iopub.status.idle": "2023-11-09T02:13:27.434137Z",
     "shell.execute_reply": "2023-11-09T02:13:27.433181Z"
    }
   },
   "outputs": [
    {
     "name": "stdout",
     "output_type": "stream",
     "text": [
      "Total Tangara Sensors: 9\n"
     ]
    },
    {
     "data": {
      "text/html": [
       "<div>\n",
       "<style scoped>\n",
       "    .dataframe tbody tr th:only-of-type {\n",
       "        vertical-align: middle;\n",
       "    }\n",
       "\n",
       "    .dataframe tbody tr th {\n",
       "        vertical-align: top;\n",
       "    }\n",
       "\n",
       "    .dataframe thead th {\n",
       "        text-align: right;\n",
       "    }\n",
       "</style>\n",
       "<table border=\"1\" class=\"dataframe\">\n",
       "  <thead>\n",
       "    <tr style=\"text-align: right;\">\n",
       "      <th></th>\n",
       "      <th>ID</th>\n",
       "      <th>GEOHASH</th>\n",
       "      <th>MAC</th>\n",
       "      <th>GEOLOCATION</th>\n",
       "      <th>LATITUDE</th>\n",
       "      <th>LONGITUDE</th>\n",
       "    </tr>\n",
       "  </thead>\n",
       "  <tbody>\n",
       "    <tr>\n",
       "      <th>0</th>\n",
       "      <td>TANGARA_260A</td>\n",
       "      <td>d29edyj</td>\n",
       "      <td>D29ESP32DE1260A</td>\n",
       "      <td>3.4613800048828125 -76.51222229003906</td>\n",
       "      <td>3.461380</td>\n",
       "      <td>-76.512222</td>\n",
       "    </tr>\n",
       "    <tr>\n",
       "      <th>1</th>\n",
       "      <td>TANGARA_4B1A</td>\n",
       "      <td>d29esj8</td>\n",
       "      <td>D29ESP32DE94B1A</td>\n",
       "      <td>3.4586334228515625 -76.46415710449219</td>\n",
       "      <td>3.458633</td>\n",
       "      <td>-76.464157</td>\n",
       "    </tr>\n",
       "    <tr>\n",
       "      <th>2</th>\n",
       "      <td>TANGARA_14D6</td>\n",
       "      <td>d29eg4k</td>\n",
       "      <td>D29ESP32DED14D6</td>\n",
       "      <td>3.4847259521484375 -76.50260925292969</td>\n",
       "      <td>3.484726</td>\n",
       "      <td>-76.502609</td>\n",
       "    </tr>\n",
       "    <tr>\n",
       "      <th>3</th>\n",
       "      <td>TANGARA_2B42</td>\n",
       "      <td>d29e6pg</td>\n",
       "      <td>D29ESP32DED2B42</td>\n",
       "      <td>3.4270477294921875 -76.54792785644531</td>\n",
       "      <td>3.427048</td>\n",
       "      <td>-76.547928</td>\n",
       "    </tr>\n",
       "    <tr>\n",
       "      <th>4</th>\n",
       "      <td>TANGARA_2E9A</td>\n",
       "      <td>d29ed62</td>\n",
       "      <td>D29ESP32DED2E9A</td>\n",
       "      <td>3.4407806396484375 -76.54106140136719</td>\n",
       "      <td>3.440781</td>\n",
       "      <td>-76.541061</td>\n",
       "    </tr>\n",
       "  </tbody>\n",
       "</table>\n",
       "</div>"
      ],
      "text/plain": [
       "             ID  GEOHASH              MAC  \\\n",
       "0  TANGARA_260A  d29edyj  D29ESP32DE1260A   \n",
       "1  TANGARA_4B1A  d29esj8  D29ESP32DE94B1A   \n",
       "2  TANGARA_14D6  d29eg4k  D29ESP32DED14D6   \n",
       "3  TANGARA_2B42  d29e6pg  D29ESP32DED2B42   \n",
       "4  TANGARA_2E9A  d29ed62  D29ESP32DED2E9A   \n",
       "\n",
       "                             GEOLOCATION  LATITUDE  LONGITUDE  \n",
       "0  3.4613800048828125 -76.51222229003906  3.461380 -76.512222  \n",
       "1  3.4586334228515625 -76.46415710449219  3.458633 -76.464157  \n",
       "2  3.4847259521484375 -76.50260925292969  3.484726 -76.502609  \n",
       "3  3.4270477294921875 -76.54792785644531  3.427048 -76.547928  \n",
       "4  3.4407806396484375 -76.54106140136719  3.440781 -76.541061  "
      ]
     },
     "execution_count": 2,
     "metadata": {},
     "output_type": "execute_result"
    }
   ],
   "source": [
    "# Load Tangaras\n",
    "df_tangaras = df_from_csv(\"tangaras.csv\", dtindex=False)\n",
    "\n",
    "print(f\"Total Tangara Sensors: {len(df_tangaras)}\")\n",
    "\n",
    "df_tangaras.head()"
   ]
  },
  {
   "cell_type": "code",
   "execution_count": 3,
   "metadata": {
    "execution": {
     "iopub.execute_input": "2023-11-09T02:13:27.437782Z",
     "iopub.status.busy": "2023-11-09T02:13:27.437460Z",
     "iopub.status.idle": "2023-11-09T02:13:27.444136Z",
     "shell.execute_reply": "2023-11-09T02:13:27.443278Z"
    }
   },
   "outputs": [
    {
     "name": "stdout",
     "output_type": "stream",
     "text": [
      "Since: 2023-11-04T23:00:00-05:00 -> 1699156800000, Until: 2023-11-05T00:00:00-05:00 -> 1699160400000\n",
      "Group by Time: 30s\n"
     ]
    }
   ],
   "source": [
    "# Start Date Time ISO 8601 Format, TZ='America/Bogota' -05:00\n",
    "START_ISO8601_DATETIME = os.getenv(\"START_ISO8601_DATETIME\", None)\n",
    "start_timestamp = to_timestamp(START_ISO8601_DATETIME)\n",
    "# End Date Time ISO 8601 Format, TZ='America/Bogota' -05:00\n",
    "END_ISO8601_DATETIME = os.getenv(\"END_ISO8601_DATETIME\", None)\n",
    "end_timestamp = to_timestamp(os.getenv(\"END_ISO8601_DATETIME\", None))\n",
    "\n",
    "# GROUP BY TIME\n",
    "GROUP_BY_TIME = os.getenv(\"GROUP_BY_TIME\", None)\n",
    "\n",
    "print(f'Since: {START_ISO8601_DATETIME} -> {start_timestamp}, Until: {END_ISO8601_DATETIME} -> {end_timestamp}')\n",
    "print(f\"Group by Time: {GROUP_BY_TIME}\")"
   ]
  },
  {
   "cell_type": "code",
   "execution_count": 4,
   "metadata": {
    "execution": {
     "iopub.execute_input": "2023-11-09T02:13:27.447747Z",
     "iopub.status.busy": "2023-11-09T02:13:27.447390Z",
     "iopub.status.idle": "2023-11-09T02:13:27.672555Z",
     "shell.execute_reply": "2023-11-09T02:13:27.671478Z"
    }
   },
   "outputs": [
    {
     "data": {
      "text/html": [
       "<div>\n",
       "<style scoped>\n",
       "    .dataframe tbody tr th:only-of-type {\n",
       "        vertical-align: middle;\n",
       "    }\n",
       "\n",
       "    .dataframe tbody tr th {\n",
       "        vertical-align: top;\n",
       "    }\n",
       "\n",
       "    .dataframe thead th {\n",
       "        text-align: right;\n",
       "    }\n",
       "</style>\n",
       "<table border=\"1\" class=\"dataframe\">\n",
       "  <thead>\n",
       "    <tr style=\"text-align: right;\">\n",
       "      <th></th>\n",
       "      <th>TANGARA_260A</th>\n",
       "      <th>TANGARA_4B1A</th>\n",
       "      <th>TANGARA_14D6</th>\n",
       "      <th>TANGARA_2B42</th>\n",
       "      <th>TANGARA_2E9A</th>\n",
       "      <th>TANGARA_2FF6</th>\n",
       "      <th>TANGARA_48C6</th>\n",
       "      <th>TANGARA_F1AE</th>\n",
       "      <th>TANGARA_06BE</th>\n",
       "    </tr>\n",
       "    <tr>\n",
       "      <th>DATETIME</th>\n",
       "      <th></th>\n",
       "      <th></th>\n",
       "      <th></th>\n",
       "      <th></th>\n",
       "      <th></th>\n",
       "      <th></th>\n",
       "      <th></th>\n",
       "      <th></th>\n",
       "      <th></th>\n",
       "    </tr>\n",
       "  </thead>\n",
       "  <tbody>\n",
       "    <tr>\n",
       "      <th>2023-11-04 23:00:00-05:00</th>\n",
       "      <td>63.31</td>\n",
       "      <td>69.55</td>\n",
       "      <td>63.56</td>\n",
       "      <td>63.45</td>\n",
       "      <td>61.97</td>\n",
       "      <td>75.57</td>\n",
       "      <td>99.9</td>\n",
       "      <td>60.49</td>\n",
       "      <td>67.09</td>\n",
       "    </tr>\n",
       "    <tr>\n",
       "      <th>2023-11-04 23:00:30-05:00</th>\n",
       "      <td>63.37</td>\n",
       "      <td>69.56</td>\n",
       "      <td>63.56</td>\n",
       "      <td>62.93</td>\n",
       "      <td>61.89</td>\n",
       "      <td>75.59</td>\n",
       "      <td>99.9</td>\n",
       "      <td>60.58</td>\n",
       "      <td>67.13</td>\n",
       "    </tr>\n",
       "    <tr>\n",
       "      <th>2023-11-04 23:01:00-05:00</th>\n",
       "      <td>63.49</td>\n",
       "      <td>69.68</td>\n",
       "      <td>63.68</td>\n",
       "      <td>63.01</td>\n",
       "      <td>61.86</td>\n",
       "      <td>75.71</td>\n",
       "      <td>99.9</td>\n",
       "      <td>60.67</td>\n",
       "      <td>66.83</td>\n",
       "    </tr>\n",
       "    <tr>\n",
       "      <th>2023-11-04 23:01:30-05:00</th>\n",
       "      <td>63.57</td>\n",
       "      <td>69.72</td>\n",
       "      <td>63.68</td>\n",
       "      <td>64.01</td>\n",
       "      <td>61.95</td>\n",
       "      <td>75.79</td>\n",
       "      <td>99.9</td>\n",
       "      <td>60.69</td>\n",
       "      <td>66.92</td>\n",
       "    </tr>\n",
       "    <tr>\n",
       "      <th>2023-11-04 23:02:00-05:00</th>\n",
       "      <td>63.70</td>\n",
       "      <td>69.75</td>\n",
       "      <td>63.57</td>\n",
       "      <td>63.34</td>\n",
       "      <td>61.98</td>\n",
       "      <td>75.85</td>\n",
       "      <td>99.9</td>\n",
       "      <td>60.72</td>\n",
       "      <td>67.14</td>\n",
       "    </tr>\n",
       "  </tbody>\n",
       "</table>\n",
       "</div>"
      ],
      "text/plain": [
       "                           TANGARA_260A  TANGARA_4B1A  TANGARA_14D6  \\\n",
       "DATETIME                                                              \n",
       "2023-11-04 23:00:00-05:00         63.31         69.55         63.56   \n",
       "2023-11-04 23:00:30-05:00         63.37         69.56         63.56   \n",
       "2023-11-04 23:01:00-05:00         63.49         69.68         63.68   \n",
       "2023-11-04 23:01:30-05:00         63.57         69.72         63.68   \n",
       "2023-11-04 23:02:00-05:00         63.70         69.75         63.57   \n",
       "\n",
       "                           TANGARA_2B42  TANGARA_2E9A  TANGARA_2FF6  \\\n",
       "DATETIME                                                              \n",
       "2023-11-04 23:00:00-05:00         63.45         61.97         75.57   \n",
       "2023-11-04 23:00:30-05:00         62.93         61.89         75.59   \n",
       "2023-11-04 23:01:00-05:00         63.01         61.86         75.71   \n",
       "2023-11-04 23:01:30-05:00         64.01         61.95         75.79   \n",
       "2023-11-04 23:02:00-05:00         63.34         61.98         75.85   \n",
       "\n",
       "                           TANGARA_48C6  TANGARA_F1AE  TANGARA_06BE  \n",
       "DATETIME                                                             \n",
       "2023-11-04 23:00:00-05:00          99.9         60.49         67.09  \n",
       "2023-11-04 23:00:30-05:00          99.9         60.58         67.13  \n",
       "2023-11-04 23:01:00-05:00          99.9         60.67         66.83  \n",
       "2023-11-04 23:01:30-05:00          99.9         60.69         66.92  \n",
       "2023-11-04 23:02:00-05:00          99.9         60.72         67.14  "
      ]
     },
     "execution_count": 4,
     "metadata": {},
     "output_type": "execute_result"
    }
   ],
   "source": [
    "# Humidity Data Frame Sensors\n",
    "df_hum_raw = df_data_sensors(df_tangaras, start_timestamp, end_timestamp, 'hum', GROUP_BY_TIME)\n",
    "df_hum_raw.head()\n",
    "#df_hum_raw.shape"
   ]
  },
  {
   "cell_type": "markdown",
   "metadata": {},
   "source": [
    "## Descriptive Statistics"
   ]
  },
  {
   "cell_type": "code",
   "execution_count": 5,
   "metadata": {
    "execution": {
     "iopub.execute_input": "2023-11-09T02:13:27.676552Z",
     "iopub.status.busy": "2023-11-09T02:13:27.676219Z",
     "iopub.status.idle": "2023-11-09T02:13:27.714510Z",
     "shell.execute_reply": "2023-11-09T02:13:27.713540Z"
    }
   },
   "outputs": [
    {
     "data": {
      "text/html": [
       "<div>\n",
       "<style scoped>\n",
       "    .dataframe tbody tr th:only-of-type {\n",
       "        vertical-align: middle;\n",
       "    }\n",
       "\n",
       "    .dataframe tbody tr th {\n",
       "        vertical-align: top;\n",
       "    }\n",
       "\n",
       "    .dataframe thead th {\n",
       "        text-align: right;\n",
       "    }\n",
       "</style>\n",
       "<table border=\"1\" class=\"dataframe\">\n",
       "  <thead>\n",
       "    <tr style=\"text-align: right;\">\n",
       "      <th></th>\n",
       "      <th>TANGARA_260A</th>\n",
       "      <th>TANGARA_4B1A</th>\n",
       "      <th>TANGARA_14D6</th>\n",
       "      <th>TANGARA_2B42</th>\n",
       "      <th>TANGARA_2E9A</th>\n",
       "      <th>TANGARA_2FF6</th>\n",
       "      <th>TANGARA_48C6</th>\n",
       "      <th>TANGARA_F1AE</th>\n",
       "      <th>TANGARA_06BE</th>\n",
       "    </tr>\n",
       "  </thead>\n",
       "  <tbody>\n",
       "    <tr>\n",
       "      <th>count</th>\n",
       "      <td>118.000000</td>\n",
       "      <td>116.000000</td>\n",
       "      <td>118.000000</td>\n",
       "      <td>118.000000</td>\n",
       "      <td>115.000000</td>\n",
       "      <td>118.000000</td>\n",
       "      <td>1.130000e+02</td>\n",
       "      <td>118.000000</td>\n",
       "      <td>118.00000</td>\n",
       "    </tr>\n",
       "    <tr>\n",
       "      <th>mean</th>\n",
       "      <td>63.632627</td>\n",
       "      <td>70.307845</td>\n",
       "      <td>65.799831</td>\n",
       "      <td>66.777288</td>\n",
       "      <td>62.193652</td>\n",
       "      <td>76.179407</td>\n",
       "      <td>9.990000e+01</td>\n",
       "      <td>61.886271</td>\n",
       "      <td>67.51661</td>\n",
       "    </tr>\n",
       "    <tr>\n",
       "      <th>std</th>\n",
       "      <td>0.400718</td>\n",
       "      <td>0.319747</td>\n",
       "      <td>1.079866</td>\n",
       "      <td>1.612265</td>\n",
       "      <td>0.363384</td>\n",
       "      <td>0.214114</td>\n",
       "      <td>1.427416e-14</td>\n",
       "      <td>0.611053</td>\n",
       "      <td>0.59803</td>\n",
       "    </tr>\n",
       "    <tr>\n",
       "      <th>min</th>\n",
       "      <td>63.110000</td>\n",
       "      <td>69.550000</td>\n",
       "      <td>63.560000</td>\n",
       "      <td>62.930000</td>\n",
       "      <td>61.610000</td>\n",
       "      <td>75.570000</td>\n",
       "      <td>9.990000e+01</td>\n",
       "      <td>60.490000</td>\n",
       "      <td>66.39000</td>\n",
       "    </tr>\n",
       "    <tr>\n",
       "      <th>25%</th>\n",
       "      <td>63.292500</td>\n",
       "      <td>70.097500</td>\n",
       "      <td>65.025000</td>\n",
       "      <td>66.442500</td>\n",
       "      <td>61.975000</td>\n",
       "      <td>76.020000</td>\n",
       "      <td>9.990000e+01</td>\n",
       "      <td>61.675000</td>\n",
       "      <td>67.13250</td>\n",
       "    </tr>\n",
       "    <tr>\n",
       "      <th>50%</th>\n",
       "      <td>63.500000</td>\n",
       "      <td>70.330000</td>\n",
       "      <td>65.815000</td>\n",
       "      <td>66.965000</td>\n",
       "      <td>62.070000</td>\n",
       "      <td>76.215000</td>\n",
       "      <td>9.990000e+01</td>\n",
       "      <td>61.940000</td>\n",
       "      <td>67.36000</td>\n",
       "    </tr>\n",
       "    <tr>\n",
       "      <th>75%</th>\n",
       "      <td>63.980000</td>\n",
       "      <td>70.500000</td>\n",
       "      <td>66.810000</td>\n",
       "      <td>68.047500</td>\n",
       "      <td>62.310000</td>\n",
       "      <td>76.337500</td>\n",
       "      <td>9.990000e+01</td>\n",
       "      <td>62.230000</td>\n",
       "      <td>67.84000</td>\n",
       "    </tr>\n",
       "    <tr>\n",
       "      <th>max</th>\n",
       "      <td>64.450000</td>\n",
       "      <td>70.940000</td>\n",
       "      <td>67.230000</td>\n",
       "      <td>68.690000</td>\n",
       "      <td>63.470000</td>\n",
       "      <td>76.600000</td>\n",
       "      <td>9.990000e+01</td>\n",
       "      <td>63.020000</td>\n",
       "      <td>69.11000</td>\n",
       "    </tr>\n",
       "  </tbody>\n",
       "</table>\n",
       "</div>"
      ],
      "text/plain": [
       "       TANGARA_260A  TANGARA_4B1A  TANGARA_14D6  TANGARA_2B42  TANGARA_2E9A  \\\n",
       "count    118.000000    116.000000    118.000000    118.000000    115.000000   \n",
       "mean      63.632627     70.307845     65.799831     66.777288     62.193652   \n",
       "std        0.400718      0.319747      1.079866      1.612265      0.363384   \n",
       "min       63.110000     69.550000     63.560000     62.930000     61.610000   \n",
       "25%       63.292500     70.097500     65.025000     66.442500     61.975000   \n",
       "50%       63.500000     70.330000     65.815000     66.965000     62.070000   \n",
       "75%       63.980000     70.500000     66.810000     68.047500     62.310000   \n",
       "max       64.450000     70.940000     67.230000     68.690000     63.470000   \n",
       "\n",
       "       TANGARA_2FF6  TANGARA_48C6  TANGARA_F1AE  TANGARA_06BE  \n",
       "count    118.000000  1.130000e+02    118.000000     118.00000  \n",
       "mean      76.179407  9.990000e+01     61.886271      67.51661  \n",
       "std        0.214114  1.427416e-14      0.611053       0.59803  \n",
       "min       75.570000  9.990000e+01     60.490000      66.39000  \n",
       "25%       76.020000  9.990000e+01     61.675000      67.13250  \n",
       "50%       76.215000  9.990000e+01     61.940000      67.36000  \n",
       "75%       76.337500  9.990000e+01     62.230000      67.84000  \n",
       "max       76.600000  9.990000e+01     63.020000      69.11000  "
      ]
     },
     "execution_count": 5,
     "metadata": {},
     "output_type": "execute_result"
    }
   ],
   "source": [
    "# Describe Data\n",
    "df_hum_raw.describe()"
   ]
  },
  {
   "cell_type": "markdown",
   "metadata": {},
   "source": [
    "## Missing Data"
   ]
  },
  {
   "cell_type": "code",
   "execution_count": 6,
   "metadata": {
    "execution": {
     "iopub.execute_input": "2023-11-09T02:13:27.718225Z",
     "iopub.status.busy": "2023-11-09T02:13:27.717896Z",
     "iopub.status.idle": "2023-11-09T02:13:27.741303Z",
     "shell.execute_reply": "2023-11-09T02:13:27.740339Z"
    }
   },
   "outputs": [
    {
     "name": "stdout",
     "output_type": "stream",
     "text": [
      "Threshold: 90%\n"
     ]
    },
    {
     "name": "stderr",
     "output_type": "stream",
     "text": [
      "/home/sebaxtian/Workspaces/Tangara/tangara-pipeline/standalone/notebooks/utils.ipynb:197: FutureWarning: Series.__getitem__ treating keys as positions is deprecated. In a future version, integer keys will always be treated as labels (consistent with DataFrame behavior). To access a value by position, use `ser.iloc[pos]`\n",
      "  missing_data_percent = round(df_sensor.isna().sum()[0] * 100 / total)\n",
      "/home/sebaxtian/Workspaces/Tangara/tangara-pipeline/standalone/notebooks/utils.ipynb:198: FutureWarning: Series.__getitem__ treating keys as positions is deprecated. In a future version, integer keys will always be treated as labels (consistent with DataFrame behavior). To access a value by position, use `ser.iloc[pos]`\n",
      "  data_percent = round(df_sensor.count()[0] * 100 / total)\n",
      "/home/sebaxtian/Workspaces/Tangara/tangara-pipeline/standalone/notebooks/utils.ipynb:197: FutureWarning: Series.__getitem__ treating keys as positions is deprecated. In a future version, integer keys will always be treated as labels (consistent with DataFrame behavior). To access a value by position, use `ser.iloc[pos]`\n",
      "  missing_data_percent = round(df_sensor.isna().sum()[0] * 100 / total)\n",
      "/home/sebaxtian/Workspaces/Tangara/tangara-pipeline/standalone/notebooks/utils.ipynb:198: FutureWarning: Series.__getitem__ treating keys as positions is deprecated. In a future version, integer keys will always be treated as labels (consistent with DataFrame behavior). To access a value by position, use `ser.iloc[pos]`\n",
      "  data_percent = round(df_sensor.count()[0] * 100 / total)\n",
      "/home/sebaxtian/Workspaces/Tangara/tangara-pipeline/standalone/notebooks/utils.ipynb:197: FutureWarning: Series.__getitem__ treating keys as positions is deprecated. In a future version, integer keys will always be treated as labels (consistent with DataFrame behavior). To access a value by position, use `ser.iloc[pos]`\n",
      "  missing_data_percent = round(df_sensor.isna().sum()[0] * 100 / total)\n",
      "/home/sebaxtian/Workspaces/Tangara/tangara-pipeline/standalone/notebooks/utils.ipynb:198: FutureWarning: Series.__getitem__ treating keys as positions is deprecated. In a future version, integer keys will always be treated as labels (consistent with DataFrame behavior). To access a value by position, use `ser.iloc[pos]`\n",
      "  data_percent = round(df_sensor.count()[0] * 100 / total)\n",
      "/home/sebaxtian/Workspaces/Tangara/tangara-pipeline/standalone/notebooks/utils.ipynb:197: FutureWarning: Series.__getitem__ treating keys as positions is deprecated. In a future version, integer keys will always be treated as labels (consistent with DataFrame behavior). To access a value by position, use `ser.iloc[pos]`\n",
      "  missing_data_percent = round(df_sensor.isna().sum()[0] * 100 / total)\n",
      "/home/sebaxtian/Workspaces/Tangara/tangara-pipeline/standalone/notebooks/utils.ipynb:198: FutureWarning: Series.__getitem__ treating keys as positions is deprecated. In a future version, integer keys will always be treated as labels (consistent with DataFrame behavior). To access a value by position, use `ser.iloc[pos]`\n",
      "  data_percent = round(df_sensor.count()[0] * 100 / total)\n",
      "/home/sebaxtian/Workspaces/Tangara/tangara-pipeline/standalone/notebooks/utils.ipynb:197: FutureWarning: Series.__getitem__ treating keys as positions is deprecated. In a future version, integer keys will always be treated as labels (consistent with DataFrame behavior). To access a value by position, use `ser.iloc[pos]`\n",
      "  missing_data_percent = round(df_sensor.isna().sum()[0] * 100 / total)\n",
      "/home/sebaxtian/Workspaces/Tangara/tangara-pipeline/standalone/notebooks/utils.ipynb:198: FutureWarning: Series.__getitem__ treating keys as positions is deprecated. In a future version, integer keys will always be treated as labels (consistent with DataFrame behavior). To access a value by position, use `ser.iloc[pos]`\n",
      "  data_percent = round(df_sensor.count()[0] * 100 / total)\n",
      "/home/sebaxtian/Workspaces/Tangara/tangara-pipeline/standalone/notebooks/utils.ipynb:197: FutureWarning: Series.__getitem__ treating keys as positions is deprecated. In a future version, integer keys will always be treated as labels (consistent with DataFrame behavior). To access a value by position, use `ser.iloc[pos]`\n",
      "  missing_data_percent = round(df_sensor.isna().sum()[0] * 100 / total)\n",
      "/home/sebaxtian/Workspaces/Tangara/tangara-pipeline/standalone/notebooks/utils.ipynb:198: FutureWarning: Series.__getitem__ treating keys as positions is deprecated. In a future version, integer keys will always be treated as labels (consistent with DataFrame behavior). To access a value by position, use `ser.iloc[pos]`\n",
      "  data_percent = round(df_sensor.count()[0] * 100 / total)\n",
      "/home/sebaxtian/Workspaces/Tangara/tangara-pipeline/standalone/notebooks/utils.ipynb:197: FutureWarning: Series.__getitem__ treating keys as positions is deprecated. In a future version, integer keys will always be treated as labels (consistent with DataFrame behavior). To access a value by position, use `ser.iloc[pos]`\n",
      "  missing_data_percent = round(df_sensor.isna().sum()[0] * 100 / total)\n",
      "/home/sebaxtian/Workspaces/Tangara/tangara-pipeline/standalone/notebooks/utils.ipynb:198: FutureWarning: Series.__getitem__ treating keys as positions is deprecated. In a future version, integer keys will always be treated as labels (consistent with DataFrame behavior). To access a value by position, use `ser.iloc[pos]`\n",
      "  data_percent = round(df_sensor.count()[0] * 100 / total)\n",
      "/home/sebaxtian/Workspaces/Tangara/tangara-pipeline/standalone/notebooks/utils.ipynb:197: FutureWarning: Series.__getitem__ treating keys as positions is deprecated. In a future version, integer keys will always be treated as labels (consistent with DataFrame behavior). To access a value by position, use `ser.iloc[pos]`\n",
      "  missing_data_percent = round(df_sensor.isna().sum()[0] * 100 / total)\n",
      "/home/sebaxtian/Workspaces/Tangara/tangara-pipeline/standalone/notebooks/utils.ipynb:198: FutureWarning: Series.__getitem__ treating keys as positions is deprecated. In a future version, integer keys will always be treated as labels (consistent with DataFrame behavior). To access a value by position, use `ser.iloc[pos]`\n",
      "  data_percent = round(df_sensor.count()[0] * 100 / total)\n",
      "/home/sebaxtian/Workspaces/Tangara/tangara-pipeline/standalone/notebooks/utils.ipynb:197: FutureWarning: Series.__getitem__ treating keys as positions is deprecated. In a future version, integer keys will always be treated as labels (consistent with DataFrame behavior). To access a value by position, use `ser.iloc[pos]`\n",
      "  missing_data_percent = round(df_sensor.isna().sum()[0] * 100 / total)\n",
      "/home/sebaxtian/Workspaces/Tangara/tangara-pipeline/standalone/notebooks/utils.ipynb:198: FutureWarning: Series.__getitem__ treating keys as positions is deprecated. In a future version, integer keys will always be treated as labels (consistent with DataFrame behavior). To access a value by position, use `ser.iloc[pos]`\n",
      "  data_percent = round(df_sensor.count()[0] * 100 / total)\n"
     ]
    }
   ],
   "source": [
    "# Missing Data Threshold\n",
    "threshold = 90\n",
    "print(f'Threshold: {threshold}%')\n",
    "\n",
    "# For each Tangara sensor\n",
    "for id_tangara_sensor in df_hum_raw.columns:\n",
    "    df_hum_sensor = df_hum_raw[[id_tangara_sensor]]\n",
    "    # To be checked\n",
    "    is_ok, data_percent, missing_data_percent = to_be_checked(df_hum_sensor, threshold)\n",
    "    if not is_ok:\n",
    "        print(f\"Tangara Sensor: {id_tangara_sensor}, Data: {data_percent}%, Missing: {missing_data_percent}%, To be checked\")"
   ]
  },
  {
   "cell_type": "markdown",
   "metadata": {},
   "source": [
    "## Data Correlation"
   ]
  },
  {
   "cell_type": "code",
   "execution_count": 7,
   "metadata": {
    "execution": {
     "iopub.execute_input": "2023-11-09T02:13:27.748246Z",
     "iopub.status.busy": "2023-11-09T02:13:27.747918Z",
     "iopub.status.idle": "2023-11-09T02:13:27.757880Z",
     "shell.execute_reply": "2023-11-09T02:13:27.757119Z"
    }
   },
   "outputs": [
    {
     "name": "stdout",
     "output_type": "stream",
     "text": [
      "Threshold: 0.9%\n",
      "Reference Tangara Sensor: TANGARA_06BE, Target Tangara Sensor: TANGARA_2FF6, Correlation: 0.35, To be checked\n"
     ]
    }
   ],
   "source": [
    "# Data Correlation Threshold\n",
    "threshold = 0.9\n",
    "print(f'Threshold: {threshold}%')\n",
    "\n",
    "ID_REFE_TANGARA_SENSOR='TANGARA_06BE'\n",
    "ID_TARG_TANGARA_SENSOR='TANGARA_2FF6'\n",
    "# Reference Tangara Sensor\n",
    "df_reference_sensor = df_hum_raw[ID_REFE_TANGARA_SENSOR]\n",
    "# Target Tangara Sensor\n",
    "df_target_sensor = df_hum_raw[ID_TARG_TANGARA_SENSOR]\n",
    "\n",
    "# To be checked\n",
    "if not math.isnan(df_reference_sensor.std()):\n",
    "    is_ok, corr = is_corr_ok(df_reference_sensor, df_target_sensor, threshold)\n",
    "    if not is_ok:\n",
    "        print(f\"Reference Tangara Sensor: {ID_REFE_TANGARA_SENSOR}, Target Tangara Sensor: {ID_TARG_TANGARA_SENSOR}, Correlation: {corr}, To be checked\")\n",
    "\n",
    "# For each Tangara sensor\n",
    "# for id_tangara_sensor in df_hum_raw.columns:\n",
    "#     # Target Tangara Sensor\n",
    "#     df_target_sensor = df_hum_raw[id_tangara_sensor]\n",
    "#     # To be checked\n",
    "#     is_ok, corr = is_corr_ok(df_reference_sensor, df_target_sensor, threshold)\n",
    "#     if not is_ok:\n",
    "#         print(f\"Reference Tangara Sensor: {ID_REFE_TANGARA_SENSOR}, Target Tangara Sensor: {id_tangara_sensor}, Correlation: {corr}, To be checked\")\n"
   ]
  },
  {
   "cell_type": "code",
   "execution_count": 8,
   "metadata": {
    "execution": {
     "iopub.execute_input": "2023-11-09T02:13:27.761445Z",
     "iopub.status.busy": "2023-11-09T02:13:27.761120Z",
     "iopub.status.idle": "2023-11-09T02:13:27.771153Z",
     "shell.execute_reply": "2023-11-09T02:13:27.770110Z"
    }
   },
   "outputs": [],
   "source": [
    "# Save Humidity Data Frame Sensors into CSV file\n",
    "df_to_csv(df_hum_raw, \"hum_raw.csv\")"
   ]
  },
  {
   "cell_type": "code",
   "execution_count": null,
   "metadata": {},
   "outputs": [],
   "source": []
  }
 ],
 "metadata": {
  "kernelspec": {
   "display_name": ".venv",
   "language": "python",
   "name": "python3"
  },
  "language_info": {
   "codemirror_mode": {
    "name": "ipython",
    "version": 3
   },
   "file_extension": ".py",
   "mimetype": "text/x-python",
   "name": "python",
   "nbconvert_exporter": "python",
   "pygments_lexer": "ipython3",
   "version": "3.12.0"
  }
 },
 "nbformat": 4,
 "nbformat_minor": 2
}
