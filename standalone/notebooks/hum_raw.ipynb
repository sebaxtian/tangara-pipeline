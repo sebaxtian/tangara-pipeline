{
 "cells": [
  {
   "cell_type": "code",
   "execution_count": 1,
   "metadata": {
    "execution": {
     "iopub.execute_input": "2023-11-09T15:18:29.725744Z",
     "iopub.status.busy": "2023-11-09T15:18:29.725415Z",
     "iopub.status.idle": "2023-11-09T15:18:32.173089Z",
     "shell.execute_reply": "2023-11-09T15:18:32.172015Z"
    }
   },
   "outputs": [
    {
     "name": "stdout",
     "output_type": "stream",
     "text": [
      "PM2.5: 35.9, AQI: 102\n",
      "PM2.5: 35.9, Measure Level: MeasureLevels.UNHEALTHY_FOR_SENSITIVE_GROUPS, Range Values: Min: 35.5, Max: 55.4\n",
      "AQI: 102, Measure Level: MeasureLevels.UNHEALTHY_FOR_SENSITIVE_GROUPS, Range Values: Min: 101, Max: 150\n"
     ]
    }
   ],
   "source": [
    "import os\n",
    "import math\n",
    "from dotenv import load_dotenv\n",
    "\n",
    "# Explicitly providing path to '.env'\n",
    "from pathlib import Path  # Python 3.6+ only\n",
    "# Load .env variables\n",
    "_ = load_dotenv(dotenv_path=f\"{Path().resolve().parents[1]}/standalone/.env\")\n",
    "\n",
    "# import import_ipynb\n",
    "# from utils import to_timestamp, df_data_sensors, to_be_checked, is_corr_ok, df_to_csv, df_from_csv\n",
    "\n",
    "# with the new api\n",
    "from importnb import imports\n",
    "with imports(\"ipynb\"):\n",
    "    from utils import to_timestamp, df_data_sensors, to_be_checked, is_corr_ok, df_to_csv, df_from_csv"
   ]
  },
  {
   "cell_type": "markdown",
   "metadata": {},
   "source": [
    "## Humidity Raw Data"
   ]
  },
  {
   "cell_type": "code",
   "execution_count": 2,
   "metadata": {
    "execution": {
     "iopub.execute_input": "2023-11-09T15:18:32.245366Z",
     "iopub.status.busy": "2023-11-09T15:18:32.244835Z",
     "iopub.status.idle": "2023-11-09T15:18:32.269745Z",
     "shell.execute_reply": "2023-11-09T15:18:32.268707Z"
    }
   },
   "outputs": [
    {
     "name": "stdout",
     "output_type": "stream",
     "text": [
      "Total Tangara Sensors: 9\n"
     ]
    },
    {
     "data": {
      "text/html": [
       "<div>\n",
       "<style scoped>\n",
       "    .dataframe tbody tr th:only-of-type {\n",
       "        vertical-align: middle;\n",
       "    }\n",
       "\n",
       "    .dataframe tbody tr th {\n",
       "        vertical-align: top;\n",
       "    }\n",
       "\n",
       "    .dataframe thead th {\n",
       "        text-align: right;\n",
       "    }\n",
       "</style>\n",
       "<table border=\"1\" class=\"dataframe\">\n",
       "  <thead>\n",
       "    <tr style=\"text-align: right;\">\n",
       "      <th></th>\n",
       "      <th>ID</th>\n",
       "      <th>GEOHASH</th>\n",
       "      <th>MAC</th>\n",
       "      <th>GEOLOCATION</th>\n",
       "      <th>LATITUDE</th>\n",
       "      <th>LONGITUDE</th>\n",
       "    </tr>\n",
       "  </thead>\n",
       "  <tbody>\n",
       "    <tr>\n",
       "      <th>0</th>\n",
       "      <td>TANGARA_260A</td>\n",
       "      <td>d29edyj</td>\n",
       "      <td>D29ESP32DE1260A</td>\n",
       "      <td>3.4613800048828125 -76.51222229003906</td>\n",
       "      <td>3.461380</td>\n",
       "      <td>-76.512222</td>\n",
       "    </tr>\n",
       "    <tr>\n",
       "      <th>1</th>\n",
       "      <td>TANGARA_4B1A</td>\n",
       "      <td>d29esj8</td>\n",
       "      <td>D29ESP32DE94B1A</td>\n",
       "      <td>3.4586334228515625 -76.46415710449219</td>\n",
       "      <td>3.458633</td>\n",
       "      <td>-76.464157</td>\n",
       "    </tr>\n",
       "    <tr>\n",
       "      <th>2</th>\n",
       "      <td>TANGARA_14D6</td>\n",
       "      <td>d29eg4k</td>\n",
       "      <td>D29ESP32DED14D6</td>\n",
       "      <td>3.4847259521484375 -76.50260925292969</td>\n",
       "      <td>3.484726</td>\n",
       "      <td>-76.502609</td>\n",
       "    </tr>\n",
       "    <tr>\n",
       "      <th>3</th>\n",
       "      <td>TANGARA_2B42</td>\n",
       "      <td>d29e6pg</td>\n",
       "      <td>D29ESP32DED2B42</td>\n",
       "      <td>3.4270477294921875 -76.54792785644531</td>\n",
       "      <td>3.427048</td>\n",
       "      <td>-76.547928</td>\n",
       "    </tr>\n",
       "    <tr>\n",
       "      <th>4</th>\n",
       "      <td>TANGARA_2E9A</td>\n",
       "      <td>d29ed62</td>\n",
       "      <td>D29ESP32DED2E9A</td>\n",
       "      <td>3.4407806396484375 -76.54106140136719</td>\n",
       "      <td>3.440781</td>\n",
       "      <td>-76.541061</td>\n",
       "    </tr>\n",
       "  </tbody>\n",
       "</table>\n",
       "</div>"
      ],
      "text/plain": [
       "             ID  GEOHASH              MAC  \\\n",
       "0  TANGARA_260A  d29edyj  D29ESP32DE1260A   \n",
       "1  TANGARA_4B1A  d29esj8  D29ESP32DE94B1A   \n",
       "2  TANGARA_14D6  d29eg4k  D29ESP32DED14D6   \n",
       "3  TANGARA_2B42  d29e6pg  D29ESP32DED2B42   \n",
       "4  TANGARA_2E9A  d29ed62  D29ESP32DED2E9A   \n",
       "\n",
       "                             GEOLOCATION  LATITUDE  LONGITUDE  \n",
       "0  3.4613800048828125 -76.51222229003906  3.461380 -76.512222  \n",
       "1  3.4586334228515625 -76.46415710449219  3.458633 -76.464157  \n",
       "2  3.4847259521484375 -76.50260925292969  3.484726 -76.502609  \n",
       "3  3.4270477294921875 -76.54792785644531  3.427048 -76.547928  \n",
       "4  3.4407806396484375 -76.54106140136719  3.440781 -76.541061  "
      ]
     },
     "execution_count": 2,
     "metadata": {},
     "output_type": "execute_result"
    }
   ],
   "source": [
    "# Load Tangaras\n",
    "df_tangaras = df_from_csv(\"tangaras.csv\", dtindex=False)\n",
    "\n",
    "print(f\"Total Tangara Sensors: {len(df_tangaras)}\")\n",
    "\n",
    "df_tangaras.head()"
   ]
  },
  {
   "cell_type": "code",
   "execution_count": 3,
   "metadata": {
    "execution": {
     "iopub.execute_input": "2023-11-09T15:18:32.273542Z",
     "iopub.status.busy": "2023-11-09T15:18:32.273214Z",
     "iopub.status.idle": "2023-11-09T15:18:32.280258Z",
     "shell.execute_reply": "2023-11-09T15:18:32.279267Z"
    }
   },
   "outputs": [
    {
     "name": "stdout",
     "output_type": "stream",
     "text": [
      "Since: 2023-11-09T10:13:09-05:00 -> 1699542789000, Until: 2023-11-09T10:18:09-05:00 -> 1699543089000\n",
      "Group by Time: 30s\n"
     ]
    }
   ],
   "source": [
    "# Start Date Time ISO 8601 Format, TZ='America/Bogota' -05:00\n",
    "START_ISO8601_DATETIME = os.getenv(\"START_ISO8601_DATETIME\", None)\n",
    "start_timestamp = to_timestamp(START_ISO8601_DATETIME)\n",
    "# End Date Time ISO 8601 Format, TZ='America/Bogota' -05:00\n",
    "END_ISO8601_DATETIME = os.getenv(\"END_ISO8601_DATETIME\", None)\n",
    "end_timestamp = to_timestamp(os.getenv(\"END_ISO8601_DATETIME\", None))\n",
    "\n",
    "# GROUP BY TIME\n",
    "GROUP_BY_TIME = os.getenv(\"GROUP_BY_TIME\", None)\n",
    "\n",
    "print(f'Since: {START_ISO8601_DATETIME} -> {start_timestamp}, Until: {END_ISO8601_DATETIME} -> {end_timestamp}')\n",
    "print(f\"Group by Time: {GROUP_BY_TIME}\")"
   ]
  },
  {
   "cell_type": "code",
   "execution_count": 4,
   "metadata": {
    "execution": {
     "iopub.execute_input": "2023-11-09T15:18:32.283973Z",
     "iopub.status.busy": "2023-11-09T15:18:32.283649Z",
     "iopub.status.idle": "2023-11-09T15:18:32.502997Z",
     "shell.execute_reply": "2023-11-09T15:18:32.501850Z"
    }
   },
   "outputs": [
    {
     "data": {
      "text/html": [
       "<div>\n",
       "<style scoped>\n",
       "    .dataframe tbody tr th:only-of-type {\n",
       "        vertical-align: middle;\n",
       "    }\n",
       "\n",
       "    .dataframe tbody tr th {\n",
       "        vertical-align: top;\n",
       "    }\n",
       "\n",
       "    .dataframe thead th {\n",
       "        text-align: right;\n",
       "    }\n",
       "</style>\n",
       "<table border=\"1\" class=\"dataframe\">\n",
       "  <thead>\n",
       "    <tr style=\"text-align: right;\">\n",
       "      <th></th>\n",
       "      <th>TANGARA_260A</th>\n",
       "      <th>TANGARA_4B1A</th>\n",
       "      <th>TANGARA_14D6</th>\n",
       "      <th>TANGARA_2B42</th>\n",
       "      <th>TANGARA_2E9A</th>\n",
       "      <th>TANGARA_2FF6</th>\n",
       "      <th>TANGARA_48C6</th>\n",
       "      <th>TANGARA_F1AE</th>\n",
       "      <th>TANGARA_06BE</th>\n",
       "    </tr>\n",
       "    <tr>\n",
       "      <th>DATETIME</th>\n",
       "      <th></th>\n",
       "      <th></th>\n",
       "      <th></th>\n",
       "      <th></th>\n",
       "      <th></th>\n",
       "      <th></th>\n",
       "      <th></th>\n",
       "      <th></th>\n",
       "      <th></th>\n",
       "    </tr>\n",
       "  </thead>\n",
       "  <tbody>\n",
       "    <tr>\n",
       "      <th>2023-11-09 10:13:00-05:00</th>\n",
       "      <td>58.52</td>\n",
       "      <td>NaN</td>\n",
       "      <td>59.69</td>\n",
       "      <td>64.63</td>\n",
       "      <td>56.33</td>\n",
       "      <td>NaN</td>\n",
       "      <td>99.9</td>\n",
       "      <td>NaN</td>\n",
       "      <td>NaN</td>\n",
       "    </tr>\n",
       "    <tr>\n",
       "      <th>2023-11-09 10:13:30-05:00</th>\n",
       "      <td>58.67</td>\n",
       "      <td>59.94</td>\n",
       "      <td>59.38</td>\n",
       "      <td>64.45</td>\n",
       "      <td>55.57</td>\n",
       "      <td>58.90</td>\n",
       "      <td>99.9</td>\n",
       "      <td>56.11</td>\n",
       "      <td>56.98</td>\n",
       "    </tr>\n",
       "    <tr>\n",
       "      <th>2023-11-09 10:14:00-05:00</th>\n",
       "      <td>58.54</td>\n",
       "      <td>59.68</td>\n",
       "      <td>59.35</td>\n",
       "      <td>64.38</td>\n",
       "      <td>55.34</td>\n",
       "      <td>58.63</td>\n",
       "      <td>99.9</td>\n",
       "      <td>55.86</td>\n",
       "      <td>56.66</td>\n",
       "    </tr>\n",
       "    <tr>\n",
       "      <th>2023-11-09 10:14:30-05:00</th>\n",
       "      <td>58.30</td>\n",
       "      <td>59.73</td>\n",
       "      <td>59.11</td>\n",
       "      <td>64.27</td>\n",
       "      <td>55.34</td>\n",
       "      <td>59.08</td>\n",
       "      <td>99.9</td>\n",
       "      <td>55.90</td>\n",
       "      <td>56.21</td>\n",
       "    </tr>\n",
       "    <tr>\n",
       "      <th>2023-11-09 10:15:00-05:00</th>\n",
       "      <td>58.26</td>\n",
       "      <td>59.62</td>\n",
       "      <td>59.10</td>\n",
       "      <td>64.08</td>\n",
       "      <td>56.01</td>\n",
       "      <td>59.03</td>\n",
       "      <td>99.9</td>\n",
       "      <td>56.03</td>\n",
       "      <td>56.63</td>\n",
       "    </tr>\n",
       "  </tbody>\n",
       "</table>\n",
       "</div>"
      ],
      "text/plain": [
       "                           TANGARA_260A  TANGARA_4B1A  TANGARA_14D6  \\\n",
       "DATETIME                                                              \n",
       "2023-11-09 10:13:00-05:00         58.52           NaN         59.69   \n",
       "2023-11-09 10:13:30-05:00         58.67         59.94         59.38   \n",
       "2023-11-09 10:14:00-05:00         58.54         59.68         59.35   \n",
       "2023-11-09 10:14:30-05:00         58.30         59.73         59.11   \n",
       "2023-11-09 10:15:00-05:00         58.26         59.62         59.10   \n",
       "\n",
       "                           TANGARA_2B42  TANGARA_2E9A  TANGARA_2FF6  \\\n",
       "DATETIME                                                              \n",
       "2023-11-09 10:13:00-05:00         64.63         56.33           NaN   \n",
       "2023-11-09 10:13:30-05:00         64.45         55.57         58.90   \n",
       "2023-11-09 10:14:00-05:00         64.38         55.34         58.63   \n",
       "2023-11-09 10:14:30-05:00         64.27         55.34         59.08   \n",
       "2023-11-09 10:15:00-05:00         64.08         56.01         59.03   \n",
       "\n",
       "                           TANGARA_48C6  TANGARA_F1AE  TANGARA_06BE  \n",
       "DATETIME                                                             \n",
       "2023-11-09 10:13:00-05:00          99.9           NaN           NaN  \n",
       "2023-11-09 10:13:30-05:00          99.9         56.11         56.98  \n",
       "2023-11-09 10:14:00-05:00          99.9         55.86         56.66  \n",
       "2023-11-09 10:14:30-05:00          99.9         55.90         56.21  \n",
       "2023-11-09 10:15:00-05:00          99.9         56.03         56.63  "
      ]
     },
     "execution_count": 4,
     "metadata": {},
     "output_type": "execute_result"
    }
   ],
   "source": [
    "# Humidity Data Frame Sensors\n",
    "df_hum_raw = df_data_sensors(df_tangaras, start_timestamp, end_timestamp, 'hum', GROUP_BY_TIME)\n",
    "df_hum_raw.head()\n",
    "#df_hum_raw.shape"
   ]
  },
  {
   "cell_type": "markdown",
   "metadata": {},
   "source": [
    "## Descriptive Statistics"
   ]
  },
  {
   "cell_type": "code",
   "execution_count": 5,
   "metadata": {
    "execution": {
     "iopub.execute_input": "2023-11-09T15:18:32.506816Z",
     "iopub.status.busy": "2023-11-09T15:18:32.506472Z",
     "iopub.status.idle": "2023-11-09T15:18:32.547163Z",
     "shell.execute_reply": "2023-11-09T15:18:32.546216Z"
    }
   },
   "outputs": [
    {
     "data": {
      "text/html": [
       "<div>\n",
       "<style scoped>\n",
       "    .dataframe tbody tr th:only-of-type {\n",
       "        vertical-align: middle;\n",
       "    }\n",
       "\n",
       "    .dataframe tbody tr th {\n",
       "        vertical-align: top;\n",
       "    }\n",
       "\n",
       "    .dataframe thead th {\n",
       "        text-align: right;\n",
       "    }\n",
       "</style>\n",
       "<table border=\"1\" class=\"dataframe\">\n",
       "  <thead>\n",
       "    <tr style=\"text-align: right;\">\n",
       "      <th></th>\n",
       "      <th>TANGARA_260A</th>\n",
       "      <th>TANGARA_4B1A</th>\n",
       "      <th>TANGARA_14D6</th>\n",
       "      <th>TANGARA_2B42</th>\n",
       "      <th>TANGARA_2E9A</th>\n",
       "      <th>TANGARA_2FF6</th>\n",
       "      <th>TANGARA_48C6</th>\n",
       "      <th>TANGARA_F1AE</th>\n",
       "      <th>TANGARA_06BE</th>\n",
       "    </tr>\n",
       "  </thead>\n",
       "  <tbody>\n",
       "    <tr>\n",
       "      <th>count</th>\n",
       "      <td>10.000000</td>\n",
       "      <td>9.000000</td>\n",
       "      <td>10.00000</td>\n",
       "      <td>10.000000</td>\n",
       "      <td>10.000000</td>\n",
       "      <td>9.000000</td>\n",
       "      <td>10.0</td>\n",
       "      <td>9.000000</td>\n",
       "      <td>9.000000</td>\n",
       "    </tr>\n",
       "    <tr>\n",
       "      <th>mean</th>\n",
       "      <td>58.204000</td>\n",
       "      <td>59.757778</td>\n",
       "      <td>59.19900</td>\n",
       "      <td>64.247000</td>\n",
       "      <td>55.721000</td>\n",
       "      <td>58.944444</td>\n",
       "      <td>99.9</td>\n",
       "      <td>55.886667</td>\n",
       "      <td>56.364444</td>\n",
       "    </tr>\n",
       "    <tr>\n",
       "      <th>std</th>\n",
       "      <td>0.308732</td>\n",
       "      <td>0.106510</td>\n",
       "      <td>0.22752</td>\n",
       "      <td>0.206347</td>\n",
       "      <td>0.330234</td>\n",
       "      <td>0.201935</td>\n",
       "      <td>0.0</td>\n",
       "      <td>0.176847</td>\n",
       "      <td>0.421192</td>\n",
       "    </tr>\n",
       "    <tr>\n",
       "      <th>min</th>\n",
       "      <td>57.730000</td>\n",
       "      <td>59.620000</td>\n",
       "      <td>58.89000</td>\n",
       "      <td>63.880000</td>\n",
       "      <td>55.340000</td>\n",
       "      <td>58.630000</td>\n",
       "      <td>99.9</td>\n",
       "      <td>55.630000</td>\n",
       "      <td>55.700000</td>\n",
       "    </tr>\n",
       "    <tr>\n",
       "      <th>25%</th>\n",
       "      <td>57.962500</td>\n",
       "      <td>59.680000</td>\n",
       "      <td>59.10000</td>\n",
       "      <td>64.162500</td>\n",
       "      <td>55.480000</td>\n",
       "      <td>58.880000</td>\n",
       "      <td>99.9</td>\n",
       "      <td>55.770000</td>\n",
       "      <td>56.130000</td>\n",
       "    </tr>\n",
       "    <tr>\n",
       "      <th>50%</th>\n",
       "      <td>58.180000</td>\n",
       "      <td>59.730000</td>\n",
       "      <td>59.11000</td>\n",
       "      <td>64.225000</td>\n",
       "      <td>55.625000</td>\n",
       "      <td>58.980000</td>\n",
       "      <td>99.9</td>\n",
       "      <td>55.860000</td>\n",
       "      <td>56.270000</td>\n",
       "    </tr>\n",
       "    <tr>\n",
       "      <th>75%</th>\n",
       "      <td>58.465000</td>\n",
       "      <td>59.850000</td>\n",
       "      <td>59.32500</td>\n",
       "      <td>64.352500</td>\n",
       "      <td>55.975000</td>\n",
       "      <td>59.080000</td>\n",
       "      <td>99.9</td>\n",
       "      <td>56.030000</td>\n",
       "      <td>56.660000</td>\n",
       "    </tr>\n",
       "    <tr>\n",
       "      <th>max</th>\n",
       "      <td>58.670000</td>\n",
       "      <td>59.940000</td>\n",
       "      <td>59.69000</td>\n",
       "      <td>64.630000</td>\n",
       "      <td>56.330000</td>\n",
       "      <td>59.200000</td>\n",
       "      <td>99.9</td>\n",
       "      <td>56.150000</td>\n",
       "      <td>56.980000</td>\n",
       "    </tr>\n",
       "  </tbody>\n",
       "</table>\n",
       "</div>"
      ],
      "text/plain": [
       "       TANGARA_260A  TANGARA_4B1A  TANGARA_14D6  TANGARA_2B42  TANGARA_2E9A  \\\n",
       "count     10.000000      9.000000      10.00000     10.000000     10.000000   \n",
       "mean      58.204000     59.757778      59.19900     64.247000     55.721000   \n",
       "std        0.308732      0.106510       0.22752      0.206347      0.330234   \n",
       "min       57.730000     59.620000      58.89000     63.880000     55.340000   \n",
       "25%       57.962500     59.680000      59.10000     64.162500     55.480000   \n",
       "50%       58.180000     59.730000      59.11000     64.225000     55.625000   \n",
       "75%       58.465000     59.850000      59.32500     64.352500     55.975000   \n",
       "max       58.670000     59.940000      59.69000     64.630000     56.330000   \n",
       "\n",
       "       TANGARA_2FF6  TANGARA_48C6  TANGARA_F1AE  TANGARA_06BE  \n",
       "count      9.000000          10.0      9.000000      9.000000  \n",
       "mean      58.944444          99.9     55.886667     56.364444  \n",
       "std        0.201935           0.0      0.176847      0.421192  \n",
       "min       58.630000          99.9     55.630000     55.700000  \n",
       "25%       58.880000          99.9     55.770000     56.130000  \n",
       "50%       58.980000          99.9     55.860000     56.270000  \n",
       "75%       59.080000          99.9     56.030000     56.660000  \n",
       "max       59.200000          99.9     56.150000     56.980000  "
      ]
     },
     "execution_count": 5,
     "metadata": {},
     "output_type": "execute_result"
    }
   ],
   "source": [
    "# Describe Data\n",
    "df_hum_raw.describe()"
   ]
  },
  {
   "cell_type": "markdown",
   "metadata": {},
   "source": [
    "## Missing Data"
   ]
  },
  {
   "cell_type": "code",
   "execution_count": 6,
   "metadata": {
    "execution": {
     "iopub.execute_input": "2023-11-09T15:18:32.551022Z",
     "iopub.status.busy": "2023-11-09T15:18:32.550689Z",
     "iopub.status.idle": "2023-11-09T15:18:32.574314Z",
     "shell.execute_reply": "2023-11-09T15:18:32.573332Z"
    }
   },
   "outputs": [
    {
     "name": "stdout",
     "output_type": "stream",
     "text": [
      "Threshold: 90%\n"
     ]
    },
    {
     "name": "stderr",
     "output_type": "stream",
     "text": [
      "/home/sebaxtian/Workspaces/Tangara/tangara-pipeline/standalone/notebooks/utils.ipynb:197: FutureWarning: Series.__getitem__ treating keys as positions is deprecated. In a future version, integer keys will always be treated as labels (consistent with DataFrame behavior). To access a value by position, use `ser.iloc[pos]`\n",
      "  missing_data_percent = round(df_sensor.isna().sum()[0] * 100 / total)\n",
      "/home/sebaxtian/Workspaces/Tangara/tangara-pipeline/standalone/notebooks/utils.ipynb:198: FutureWarning: Series.__getitem__ treating keys as positions is deprecated. In a future version, integer keys will always be treated as labels (consistent with DataFrame behavior). To access a value by position, use `ser.iloc[pos]`\n",
      "  data_percent = round(df_sensor.count()[0] * 100 / total)\n",
      "/home/sebaxtian/Workspaces/Tangara/tangara-pipeline/standalone/notebooks/utils.ipynb:197: FutureWarning: Series.__getitem__ treating keys as positions is deprecated. In a future version, integer keys will always be treated as labels (consistent with DataFrame behavior). To access a value by position, use `ser.iloc[pos]`\n",
      "  missing_data_percent = round(df_sensor.isna().sum()[0] * 100 / total)\n",
      "/home/sebaxtian/Workspaces/Tangara/tangara-pipeline/standalone/notebooks/utils.ipynb:198: FutureWarning: Series.__getitem__ treating keys as positions is deprecated. In a future version, integer keys will always be treated as labels (consistent with DataFrame behavior). To access a value by position, use `ser.iloc[pos]`\n",
      "  data_percent = round(df_sensor.count()[0] * 100 / total)\n",
      "/home/sebaxtian/Workspaces/Tangara/tangara-pipeline/standalone/notebooks/utils.ipynb:197: FutureWarning: Series.__getitem__ treating keys as positions is deprecated. In a future version, integer keys will always be treated as labels (consistent with DataFrame behavior). To access a value by position, use `ser.iloc[pos]`\n",
      "  missing_data_percent = round(df_sensor.isna().sum()[0] * 100 / total)\n",
      "/home/sebaxtian/Workspaces/Tangara/tangara-pipeline/standalone/notebooks/utils.ipynb:198: FutureWarning: Series.__getitem__ treating keys as positions is deprecated. In a future version, integer keys will always be treated as labels (consistent with DataFrame behavior). To access a value by position, use `ser.iloc[pos]`\n",
      "  data_percent = round(df_sensor.count()[0] * 100 / total)\n",
      "/home/sebaxtian/Workspaces/Tangara/tangara-pipeline/standalone/notebooks/utils.ipynb:197: FutureWarning: Series.__getitem__ treating keys as positions is deprecated. In a future version, integer keys will always be treated as labels (consistent with DataFrame behavior). To access a value by position, use `ser.iloc[pos]`\n",
      "  missing_data_percent = round(df_sensor.isna().sum()[0] * 100 / total)\n",
      "/home/sebaxtian/Workspaces/Tangara/tangara-pipeline/standalone/notebooks/utils.ipynb:198: FutureWarning: Series.__getitem__ treating keys as positions is deprecated. In a future version, integer keys will always be treated as labels (consistent with DataFrame behavior). To access a value by position, use `ser.iloc[pos]`\n",
      "  data_percent = round(df_sensor.count()[0] * 100 / total)\n",
      "/home/sebaxtian/Workspaces/Tangara/tangara-pipeline/standalone/notebooks/utils.ipynb:197: FutureWarning: Series.__getitem__ treating keys as positions is deprecated. In a future version, integer keys will always be treated as labels (consistent with DataFrame behavior). To access a value by position, use `ser.iloc[pos]`\n",
      "  missing_data_percent = round(df_sensor.isna().sum()[0] * 100 / total)\n",
      "/home/sebaxtian/Workspaces/Tangara/tangara-pipeline/standalone/notebooks/utils.ipynb:198: FutureWarning: Series.__getitem__ treating keys as positions is deprecated. In a future version, integer keys will always be treated as labels (consistent with DataFrame behavior). To access a value by position, use `ser.iloc[pos]`\n",
      "  data_percent = round(df_sensor.count()[0] * 100 / total)\n",
      "/home/sebaxtian/Workspaces/Tangara/tangara-pipeline/standalone/notebooks/utils.ipynb:197: FutureWarning: Series.__getitem__ treating keys as positions is deprecated. In a future version, integer keys will always be treated as labels (consistent with DataFrame behavior). To access a value by position, use `ser.iloc[pos]`\n",
      "  missing_data_percent = round(df_sensor.isna().sum()[0] * 100 / total)\n",
      "/home/sebaxtian/Workspaces/Tangara/tangara-pipeline/standalone/notebooks/utils.ipynb:198: FutureWarning: Series.__getitem__ treating keys as positions is deprecated. In a future version, integer keys will always be treated as labels (consistent with DataFrame behavior). To access a value by position, use `ser.iloc[pos]`\n",
      "  data_percent = round(df_sensor.count()[0] * 100 / total)\n",
      "/home/sebaxtian/Workspaces/Tangara/tangara-pipeline/standalone/notebooks/utils.ipynb:197: FutureWarning: Series.__getitem__ treating keys as positions is deprecated. In a future version, integer keys will always be treated as labels (consistent with DataFrame behavior). To access a value by position, use `ser.iloc[pos]`\n",
      "  missing_data_percent = round(df_sensor.isna().sum()[0] * 100 / total)\n",
      "/home/sebaxtian/Workspaces/Tangara/tangara-pipeline/standalone/notebooks/utils.ipynb:198: FutureWarning: Series.__getitem__ treating keys as positions is deprecated. In a future version, integer keys will always be treated as labels (consistent with DataFrame behavior). To access a value by position, use `ser.iloc[pos]`\n",
      "  data_percent = round(df_sensor.count()[0] * 100 / total)\n",
      "/home/sebaxtian/Workspaces/Tangara/tangara-pipeline/standalone/notebooks/utils.ipynb:197: FutureWarning: Series.__getitem__ treating keys as positions is deprecated. In a future version, integer keys will always be treated as labels (consistent with DataFrame behavior). To access a value by position, use `ser.iloc[pos]`\n",
      "  missing_data_percent = round(df_sensor.isna().sum()[0] * 100 / total)\n",
      "/home/sebaxtian/Workspaces/Tangara/tangara-pipeline/standalone/notebooks/utils.ipynb:198: FutureWarning: Series.__getitem__ treating keys as positions is deprecated. In a future version, integer keys will always be treated as labels (consistent with DataFrame behavior). To access a value by position, use `ser.iloc[pos]`\n",
      "  data_percent = round(df_sensor.count()[0] * 100 / total)\n",
      "/home/sebaxtian/Workspaces/Tangara/tangara-pipeline/standalone/notebooks/utils.ipynb:197: FutureWarning: Series.__getitem__ treating keys as positions is deprecated. In a future version, integer keys will always be treated as labels (consistent with DataFrame behavior). To access a value by position, use `ser.iloc[pos]`\n",
      "  missing_data_percent = round(df_sensor.isna().sum()[0] * 100 / total)\n",
      "/home/sebaxtian/Workspaces/Tangara/tangara-pipeline/standalone/notebooks/utils.ipynb:198: FutureWarning: Series.__getitem__ treating keys as positions is deprecated. In a future version, integer keys will always be treated as labels (consistent with DataFrame behavior). To access a value by position, use `ser.iloc[pos]`\n",
      "  data_percent = round(df_sensor.count()[0] * 100 / total)\n"
     ]
    }
   ],
   "source": [
    "# Missing Data Threshold\n",
    "threshold = 90\n",
    "print(f'Threshold: {threshold}%')\n",
    "\n",
    "# For each Tangara sensor\n",
    "for id_tangara_sensor in df_hum_raw.columns:\n",
    "    df_hum_sensor = df_hum_raw[[id_tangara_sensor]]\n",
    "    # To be checked\n",
    "    is_ok, data_percent, missing_data_percent = to_be_checked(df_hum_sensor, threshold)\n",
    "    if not is_ok:\n",
    "        print(f\"Tangara Sensor: {id_tangara_sensor}, Data: {data_percent}%, Missing: {missing_data_percent}%, To be checked\")"
   ]
  },
  {
   "cell_type": "markdown",
   "metadata": {},
   "source": [
    "## Data Correlation"
   ]
  },
  {
   "cell_type": "code",
   "execution_count": 7,
   "metadata": {
    "execution": {
     "iopub.execute_input": "2023-11-09T15:18:32.578625Z",
     "iopub.status.busy": "2023-11-09T15:18:32.578278Z",
     "iopub.status.idle": "2023-11-09T15:18:32.586035Z",
     "shell.execute_reply": "2023-11-09T15:18:32.585305Z"
    }
   },
   "outputs": [
    {
     "name": "stdout",
     "output_type": "stream",
     "text": [
      "Threshold: 0.9%\n",
      "Reference Tangara Sensor: TANGARA_06BE, Target Tangara Sensor: TANGARA_2FF6, Correlation: 0.0, To be checked\n"
     ]
    }
   ],
   "source": [
    "# Data Correlation Threshold\n",
    "threshold = 0.9\n",
    "print(f'Threshold: {threshold}%')\n",
    "\n",
    "ID_REFE_TANGARA_SENSOR='TANGARA_06BE'\n",
    "ID_TARG_TANGARA_SENSOR='TANGARA_2FF6'\n",
    "# Reference Tangara Sensor\n",
    "df_reference_sensor = df_hum_raw[ID_REFE_TANGARA_SENSOR]\n",
    "# Target Tangara Sensor\n",
    "df_target_sensor = df_hum_raw[ID_TARG_TANGARA_SENSOR]\n",
    "\n",
    "# To be checked\n",
    "if not math.isnan(df_reference_sensor.std()):\n",
    "    is_ok, corr = is_corr_ok(df_reference_sensor, df_target_sensor, threshold)\n",
    "    if not is_ok:\n",
    "        print(f\"Reference Tangara Sensor: {ID_REFE_TANGARA_SENSOR}, Target Tangara Sensor: {ID_TARG_TANGARA_SENSOR}, Correlation: {corr}, To be checked\")\n",
    "\n",
    "# For each Tangara sensor\n",
    "# for id_tangara_sensor in df_hum_raw.columns:\n",
    "#     # Target Tangara Sensor\n",
    "#     df_target_sensor = df_hum_raw[id_tangara_sensor]\n",
    "#     # To be checked\n",
    "#     is_ok, corr = is_corr_ok(df_reference_sensor, df_target_sensor, threshold)\n",
    "#     if not is_ok:\n",
    "#         print(f\"Reference Tangara Sensor: {ID_REFE_TANGARA_SENSOR}, Target Tangara Sensor: {id_tangara_sensor}, Correlation: {corr}, To be checked\")\n"
   ]
  },
  {
   "cell_type": "code",
   "execution_count": 8,
   "metadata": {
    "execution": {
     "iopub.execute_input": "2023-11-09T15:18:32.589693Z",
     "iopub.status.busy": "2023-11-09T15:18:32.589379Z",
     "iopub.status.idle": "2023-11-09T15:18:32.596374Z",
     "shell.execute_reply": "2023-11-09T15:18:32.595390Z"
    }
   },
   "outputs": [],
   "source": [
    "# Save Humidity Data Frame Sensors into CSV file\n",
    "df_to_csv(df_hum_raw, \"hum_raw.csv\")"
   ]
  },
  {
   "cell_type": "code",
   "execution_count": null,
   "metadata": {},
   "outputs": [],
   "source": []
  }
 ],
 "metadata": {
  "kernelspec": {
   "display_name": ".venv",
   "language": "python",
   "name": "python3"
  },
  "language_info": {
   "codemirror_mode": {
    "name": "ipython",
    "version": 3
   },
   "file_extension": ".py",
   "mimetype": "text/x-python",
   "name": "python",
   "nbconvert_exporter": "python",
   "pygments_lexer": "ipython3",
   "version": "3.12.0"
  }
 },
 "nbformat": 4,
 "nbformat_minor": 2
}
