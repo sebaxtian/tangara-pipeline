{
 "cells": [
  {
   "cell_type": "code",
   "execution_count": 1,
   "metadata": {
    "execution": {
     "iopub.execute_input": "2023-11-14T18:36:12.670851Z",
     "iopub.status.busy": "2023-11-14T18:36:12.670363Z",
     "iopub.status.idle": "2023-11-14T18:36:15.080476Z",
     "shell.execute_reply": "2023-11-14T18:36:15.079160Z"
    }
   },
   "outputs": [
    {
     "name": "stdout",
     "output_type": "stream",
     "text": [
      "PM2.5: 35.9, AQI: 102\n",
      "PM2.5: 35.9, Measure Level: MeasureLevels.UNHEALTHY_FOR_SENSITIVE_GROUPS, Range Values: Min: 35.5, Max: 55.4\n",
      "AQI: 102, Measure Level: MeasureLevels.UNHEALTHY_FOR_SENSITIVE_GROUPS, Range Values: Min: 101, Max: 150\n"
     ]
    }
   ],
   "source": [
    "import os\n",
    "import math\n",
    "from dotenv import load_dotenv\n",
    "\n",
    "# Explicitly providing path to '.env'\n",
    "from pathlib import Path  # Python 3.6+ only\n",
    "# Load .env variables\n",
    "_ = load_dotenv(dotenv_path=f\"{Path().resolve().parents[1]}/standalone/.env\")\n",
    "\n",
    "# with the new api\n",
    "from importnb import imports\n",
    "with imports(\"ipynb\"):\n",
    "    from utils import to_timestamp, df_data_sensors, to_be_checked, is_corr_ok, df_to_csv, df_from_csv"
   ]
  },
  {
   "cell_type": "markdown",
   "metadata": {},
   "source": [
    "## Humidity Raw Data"
   ]
  },
  {
   "cell_type": "code",
   "execution_count": 2,
   "metadata": {
    "execution": {
     "iopub.execute_input": "2023-11-14T18:36:15.155493Z",
     "iopub.status.busy": "2023-11-14T18:36:15.154771Z",
     "iopub.status.idle": "2023-11-14T18:36:15.179454Z",
     "shell.execute_reply": "2023-11-14T18:36:15.178499Z"
    }
   },
   "outputs": [
    {
     "name": "stdout",
     "output_type": "stream",
     "text": [
      "Total Tangara Sensors: 10\n"
     ]
    },
    {
     "data": {
      "text/html": [
       "<div>\n",
       "<style scoped>\n",
       "    .dataframe tbody tr th:only-of-type {\n",
       "        vertical-align: middle;\n",
       "    }\n",
       "\n",
       "    .dataframe tbody tr th {\n",
       "        vertical-align: top;\n",
       "    }\n",
       "\n",
       "    .dataframe thead th {\n",
       "        text-align: right;\n",
       "    }\n",
       "</style>\n",
       "<table border=\"1\" class=\"dataframe\">\n",
       "  <thead>\n",
       "    <tr style=\"text-align: right;\">\n",
       "      <th></th>\n",
       "      <th>ID</th>\n",
       "      <th>GEOHASH</th>\n",
       "      <th>MAC</th>\n",
       "      <th>GEOLOCATION</th>\n",
       "      <th>LATITUDE</th>\n",
       "      <th>LONGITUDE</th>\n",
       "    </tr>\n",
       "  </thead>\n",
       "  <tbody>\n",
       "    <tr>\n",
       "      <th>0</th>\n",
       "      <td>TANGARA_260A</td>\n",
       "      <td>d29edyj</td>\n",
       "      <td>D29ESP32DE1260A</td>\n",
       "      <td>3.4613800048828125 -76.51222229003906</td>\n",
       "      <td>3.461380</td>\n",
       "      <td>-76.512222</td>\n",
       "    </tr>\n",
       "    <tr>\n",
       "      <th>1</th>\n",
       "      <td>TANGARA_4B1A</td>\n",
       "      <td>d29esj8</td>\n",
       "      <td>D29ESP32DE94B1A</td>\n",
       "      <td>3.4586334228515625 -76.46415710449219</td>\n",
       "      <td>3.458633</td>\n",
       "      <td>-76.464157</td>\n",
       "    </tr>\n",
       "    <tr>\n",
       "      <th>2</th>\n",
       "      <td>TANGARA_14D6</td>\n",
       "      <td>d29eg4k</td>\n",
       "      <td>D29ESP32DED14D6</td>\n",
       "      <td>3.4847259521484375 -76.50260925292969</td>\n",
       "      <td>3.484726</td>\n",
       "      <td>-76.502609</td>\n",
       "    </tr>\n",
       "    <tr>\n",
       "      <th>3</th>\n",
       "      <td>TANGARA_2B42</td>\n",
       "      <td>d29e6pg</td>\n",
       "      <td>D29ESP32DED2B42</td>\n",
       "      <td>3.4270477294921875 -76.54792785644531</td>\n",
       "      <td>3.427048</td>\n",
       "      <td>-76.547928</td>\n",
       "    </tr>\n",
       "    <tr>\n",
       "      <th>4</th>\n",
       "      <td>TANGARA_2E9A</td>\n",
       "      <td>d29ed62</td>\n",
       "      <td>D29ESP32DED2E9A</td>\n",
       "      <td>3.4407806396484375 -76.54106140136719</td>\n",
       "      <td>3.440781</td>\n",
       "      <td>-76.541061</td>\n",
       "    </tr>\n",
       "  </tbody>\n",
       "</table>\n",
       "</div>"
      ],
      "text/plain": [
       "             ID  GEOHASH              MAC  \\\n",
       "0  TANGARA_260A  d29edyj  D29ESP32DE1260A   \n",
       "1  TANGARA_4B1A  d29esj8  D29ESP32DE94B1A   \n",
       "2  TANGARA_14D6  d29eg4k  D29ESP32DED14D6   \n",
       "3  TANGARA_2B42  d29e6pg  D29ESP32DED2B42   \n",
       "4  TANGARA_2E9A  d29ed62  D29ESP32DED2E9A   \n",
       "\n",
       "                             GEOLOCATION  LATITUDE  LONGITUDE  \n",
       "0  3.4613800048828125 -76.51222229003906  3.461380 -76.512222  \n",
       "1  3.4586334228515625 -76.46415710449219  3.458633 -76.464157  \n",
       "2  3.4847259521484375 -76.50260925292969  3.484726 -76.502609  \n",
       "3  3.4270477294921875 -76.54792785644531  3.427048 -76.547928  \n",
       "4  3.4407806396484375 -76.54106140136719  3.440781 -76.541061  "
      ]
     },
     "execution_count": 2,
     "metadata": {},
     "output_type": "execute_result"
    }
   ],
   "source": [
    "# Load Tangaras\n",
    "df_tangaras = df_from_csv(\"tangaras.csv\", dtindex=False)\n",
    "\n",
    "print(f\"Total Tangara Sensors: {len(df_tangaras)}\")\n",
    "\n",
    "df_tangaras.head()"
   ]
  },
  {
   "cell_type": "code",
   "execution_count": 3,
   "metadata": {
    "execution": {
     "iopub.execute_input": "2023-11-14T18:36:15.183615Z",
     "iopub.status.busy": "2023-11-14T18:36:15.182962Z",
     "iopub.status.idle": "2023-11-14T18:36:15.189587Z",
     "shell.execute_reply": "2023-11-14T18:36:15.188602Z"
    }
   },
   "outputs": [
    {
     "name": "stdout",
     "output_type": "stream",
     "text": [
      "Since: 2023-11-10T00:00:00-05:00 -> 1699592400000, Until: 2023-11-11T23:59:59-05:00 -> 1699765199000\n",
      "Group by Time: 30s\n"
     ]
    }
   ],
   "source": [
    "# Start Date Time ISO 8601 Format, TZ='America/Bogota' -05:00\n",
    "START_ISO8601_DATETIME = os.getenv(\"START_ISO8601_DATETIME\", None)\n",
    "start_timestamp = to_timestamp(START_ISO8601_DATETIME)\n",
    "# End Date Time ISO 8601 Format, TZ='America/Bogota' -05:00\n",
    "END_ISO8601_DATETIME = os.getenv(\"END_ISO8601_DATETIME\", None)\n",
    "end_timestamp = to_timestamp(os.getenv(\"END_ISO8601_DATETIME\", None))\n",
    "\n",
    "# GROUP BY TIME\n",
    "GROUP_BY_TIME = os.getenv(\"GROUP_BY_TIME\", None)\n",
    "\n",
    "print(f'Since: {START_ISO8601_DATETIME} -> {start_timestamp}, Until: {END_ISO8601_DATETIME} -> {end_timestamp}')\n",
    "print(f\"Group by Time: {GROUP_BY_TIME}\")"
   ]
  },
  {
   "cell_type": "code",
   "execution_count": 4,
   "metadata": {
    "execution": {
     "iopub.execute_input": "2023-11-14T18:36:15.193409Z",
     "iopub.status.busy": "2023-11-14T18:36:15.192988Z",
     "iopub.status.idle": "2023-11-14T18:36:16.649640Z",
     "shell.execute_reply": "2023-11-14T18:36:16.648554Z"
    }
   },
   "outputs": [
    {
     "data": {
      "text/html": [
       "<div>\n",
       "<style scoped>\n",
       "    .dataframe tbody tr th:only-of-type {\n",
       "        vertical-align: middle;\n",
       "    }\n",
       "\n",
       "    .dataframe tbody tr th {\n",
       "        vertical-align: top;\n",
       "    }\n",
       "\n",
       "    .dataframe thead th {\n",
       "        text-align: right;\n",
       "    }\n",
       "</style>\n",
       "<table border=\"1\" class=\"dataframe\">\n",
       "  <thead>\n",
       "    <tr style=\"text-align: right;\">\n",
       "      <th></th>\n",
       "      <th>TANGARA_260A</th>\n",
       "      <th>TANGARA_4B1A</th>\n",
       "      <th>TANGARA_14D6</th>\n",
       "      <th>TANGARA_2B42</th>\n",
       "      <th>TANGARA_2E9A</th>\n",
       "      <th>TANGARA_2FF6</th>\n",
       "      <th>TANGARA_307A</th>\n",
       "      <th>TANGARA_48C6</th>\n",
       "      <th>TANGARA_F1AE</th>\n",
       "      <th>TANGARA_06BE</th>\n",
       "    </tr>\n",
       "    <tr>\n",
       "      <th>DATETIME</th>\n",
       "      <th></th>\n",
       "      <th></th>\n",
       "      <th></th>\n",
       "      <th></th>\n",
       "      <th></th>\n",
       "      <th></th>\n",
       "      <th></th>\n",
       "      <th></th>\n",
       "      <th></th>\n",
       "      <th></th>\n",
       "    </tr>\n",
       "  </thead>\n",
       "  <tbody>\n",
       "    <tr>\n",
       "      <th>2023-11-10 00:00:00-05:00</th>\n",
       "      <td>NaN</td>\n",
       "      <td>NaN</td>\n",
       "      <td>NaN</td>\n",
       "      <td>NaN</td>\n",
       "      <td>NaN</td>\n",
       "      <td>NaN</td>\n",
       "      <td>NaN</td>\n",
       "      <td>NaN</td>\n",
       "      <td>61.12</td>\n",
       "      <td>NaN</td>\n",
       "    </tr>\n",
       "    <tr>\n",
       "      <th>2023-11-10 00:00:30-05:00</th>\n",
       "      <td>63.50</td>\n",
       "      <td>73.69</td>\n",
       "      <td>66.31</td>\n",
       "      <td>NaN</td>\n",
       "      <td>62.19</td>\n",
       "      <td>68.80</td>\n",
       "      <td>63.97</td>\n",
       "      <td>99.9</td>\n",
       "      <td>61.58</td>\n",
       "      <td>63.78</td>\n",
       "    </tr>\n",
       "    <tr>\n",
       "      <th>2023-11-10 00:01:00-05:00</th>\n",
       "      <td>63.45</td>\n",
       "      <td>73.68</td>\n",
       "      <td>66.56</td>\n",
       "      <td>NaN</td>\n",
       "      <td>62.24</td>\n",
       "      <td>69.40</td>\n",
       "      <td>64.14</td>\n",
       "      <td>99.9</td>\n",
       "      <td>61.92</td>\n",
       "      <td>63.91</td>\n",
       "    </tr>\n",
       "    <tr>\n",
       "      <th>2023-11-10 00:01:30-05:00</th>\n",
       "      <td>63.50</td>\n",
       "      <td>73.68</td>\n",
       "      <td>66.60</td>\n",
       "      <td>NaN</td>\n",
       "      <td>62.38</td>\n",
       "      <td>69.04</td>\n",
       "      <td>64.30</td>\n",
       "      <td>99.9</td>\n",
       "      <td>62.19</td>\n",
       "      <td>63.98</td>\n",
       "    </tr>\n",
       "    <tr>\n",
       "      <th>2023-11-10 00:02:00-05:00</th>\n",
       "      <td>63.57</td>\n",
       "      <td>73.73</td>\n",
       "      <td>66.67</td>\n",
       "      <td>NaN</td>\n",
       "      <td>62.39</td>\n",
       "      <td>69.38</td>\n",
       "      <td>64.49</td>\n",
       "      <td>99.9</td>\n",
       "      <td>62.08</td>\n",
       "      <td>63.72</td>\n",
       "    </tr>\n",
       "  </tbody>\n",
       "</table>\n",
       "</div>"
      ],
      "text/plain": [
       "                           TANGARA_260A  TANGARA_4B1A  TANGARA_14D6  \\\n",
       "DATETIME                                                              \n",
       "2023-11-10 00:00:00-05:00           NaN           NaN           NaN   \n",
       "2023-11-10 00:00:30-05:00         63.50         73.69         66.31   \n",
       "2023-11-10 00:01:00-05:00         63.45         73.68         66.56   \n",
       "2023-11-10 00:01:30-05:00         63.50         73.68         66.60   \n",
       "2023-11-10 00:02:00-05:00         63.57         73.73         66.67   \n",
       "\n",
       "                           TANGARA_2B42  TANGARA_2E9A  TANGARA_2FF6  \\\n",
       "DATETIME                                                              \n",
       "2023-11-10 00:00:00-05:00           NaN           NaN           NaN   \n",
       "2023-11-10 00:00:30-05:00           NaN         62.19         68.80   \n",
       "2023-11-10 00:01:00-05:00           NaN         62.24         69.40   \n",
       "2023-11-10 00:01:30-05:00           NaN         62.38         69.04   \n",
       "2023-11-10 00:02:00-05:00           NaN         62.39         69.38   \n",
       "\n",
       "                           TANGARA_307A  TANGARA_48C6  TANGARA_F1AE  \\\n",
       "DATETIME                                                              \n",
       "2023-11-10 00:00:00-05:00           NaN           NaN         61.12   \n",
       "2023-11-10 00:00:30-05:00         63.97          99.9         61.58   \n",
       "2023-11-10 00:01:00-05:00         64.14          99.9         61.92   \n",
       "2023-11-10 00:01:30-05:00         64.30          99.9         62.19   \n",
       "2023-11-10 00:02:00-05:00         64.49          99.9         62.08   \n",
       "\n",
       "                           TANGARA_06BE  \n",
       "DATETIME                                 \n",
       "2023-11-10 00:00:00-05:00           NaN  \n",
       "2023-11-10 00:00:30-05:00         63.78  \n",
       "2023-11-10 00:01:00-05:00         63.91  \n",
       "2023-11-10 00:01:30-05:00         63.98  \n",
       "2023-11-10 00:02:00-05:00         63.72  "
      ]
     },
     "execution_count": 4,
     "metadata": {},
     "output_type": "execute_result"
    }
   ],
   "source": [
    "# Humidity Data Frame Sensors\n",
    "df_hum_raw = df_data_sensors(df_tangaras, start_timestamp, end_timestamp, 'hum', GROUP_BY_TIME)\n",
    "df_hum_raw.head()\n",
    "#df_hum_raw.shape"
   ]
  },
  {
   "cell_type": "markdown",
   "metadata": {},
   "source": [
    "## Descriptive Statistics"
   ]
  },
  {
   "cell_type": "code",
   "execution_count": 5,
   "metadata": {
    "execution": {
     "iopub.execute_input": "2023-11-14T18:36:16.653456Z",
     "iopub.status.busy": "2023-11-14T18:36:16.653124Z",
     "iopub.status.idle": "2023-11-14T18:36:16.696559Z",
     "shell.execute_reply": "2023-11-14T18:36:16.695598Z"
    }
   },
   "outputs": [
    {
     "data": {
      "text/html": [
       "<div>\n",
       "<style scoped>\n",
       "    .dataframe tbody tr th:only-of-type {\n",
       "        vertical-align: middle;\n",
       "    }\n",
       "\n",
       "    .dataframe tbody tr th {\n",
       "        vertical-align: top;\n",
       "    }\n",
       "\n",
       "    .dataframe thead th {\n",
       "        text-align: right;\n",
       "    }\n",
       "</style>\n",
       "<table border=\"1\" class=\"dataframe\">\n",
       "  <thead>\n",
       "    <tr style=\"text-align: right;\">\n",
       "      <th></th>\n",
       "      <th>TANGARA_260A</th>\n",
       "      <th>TANGARA_4B1A</th>\n",
       "      <th>TANGARA_14D6</th>\n",
       "      <th>TANGARA_2B42</th>\n",
       "      <th>TANGARA_2E9A</th>\n",
       "      <th>TANGARA_2FF6</th>\n",
       "      <th>TANGARA_307A</th>\n",
       "      <th>TANGARA_48C6</th>\n",
       "      <th>TANGARA_F1AE</th>\n",
       "      <th>TANGARA_06BE</th>\n",
       "    </tr>\n",
       "  </thead>\n",
       "  <tbody>\n",
       "    <tr>\n",
       "      <th>count</th>\n",
       "      <td>5615.000000</td>\n",
       "      <td>5663.000000</td>\n",
       "      <td>1039.000000</td>\n",
       "      <td>4226.000000</td>\n",
       "      <td>5679.000000</td>\n",
       "      <td>5692.000000</td>\n",
       "      <td>5599.000000</td>\n",
       "      <td>5511.000000</td>\n",
       "      <td>5734.000000</td>\n",
       "      <td>5388.000000</td>\n",
       "    </tr>\n",
       "    <tr>\n",
       "      <th>mean</th>\n",
       "      <td>58.019508</td>\n",
       "      <td>63.761833</td>\n",
       "      <td>69.506930</td>\n",
       "      <td>63.074813</td>\n",
       "      <td>58.860379</td>\n",
       "      <td>65.786804</td>\n",
       "      <td>58.742279</td>\n",
       "      <td>99.832390</td>\n",
       "      <td>54.913873</td>\n",
       "      <td>59.892754</td>\n",
       "    </tr>\n",
       "    <tr>\n",
       "      <th>std</th>\n",
       "      <td>7.687752</td>\n",
       "      <td>9.508081</td>\n",
       "      <td>2.566091</td>\n",
       "      <td>6.258009</td>\n",
       "      <td>5.930644</td>\n",
       "      <td>10.921623</td>\n",
       "      <td>11.412888</td>\n",
       "      <td>0.305125</td>\n",
       "      <td>6.836618</td>\n",
       "      <td>9.039423</td>\n",
       "    </tr>\n",
       "    <tr>\n",
       "      <th>min</th>\n",
       "      <td>44.110000</td>\n",
       "      <td>46.170000</td>\n",
       "      <td>61.400000</td>\n",
       "      <td>49.190000</td>\n",
       "      <td>44.820000</td>\n",
       "      <td>46.270000</td>\n",
       "      <td>35.050000</td>\n",
       "      <td>97.600000</td>\n",
       "      <td>43.280000</td>\n",
       "      <td>44.710000</td>\n",
       "    </tr>\n",
       "    <tr>\n",
       "      <th>25%</th>\n",
       "      <td>50.860000</td>\n",
       "      <td>54.365000</td>\n",
       "      <td>67.825000</td>\n",
       "      <td>58.000000</td>\n",
       "      <td>53.795000</td>\n",
       "      <td>54.660000</td>\n",
       "      <td>47.770000</td>\n",
       "      <td>99.900000</td>\n",
       "      <td>48.470000</td>\n",
       "      <td>51.480000</td>\n",
       "    </tr>\n",
       "    <tr>\n",
       "      <th>50%</th>\n",
       "      <td>59.610000</td>\n",
       "      <td>65.420000</td>\n",
       "      <td>70.240000</td>\n",
       "      <td>63.770000</td>\n",
       "      <td>60.560000</td>\n",
       "      <td>69.100000</td>\n",
       "      <td>63.430000</td>\n",
       "      <td>99.900000</td>\n",
       "      <td>55.290000</td>\n",
       "      <td>62.300000</td>\n",
       "    </tr>\n",
       "    <tr>\n",
       "      <th>75%</th>\n",
       "      <td>64.850000</td>\n",
       "      <td>73.445000</td>\n",
       "      <td>71.540000</td>\n",
       "      <td>67.940000</td>\n",
       "      <td>63.750000</td>\n",
       "      <td>75.452500</td>\n",
       "      <td>68.955000</td>\n",
       "      <td>99.900000</td>\n",
       "      <td>61.810000</td>\n",
       "      <td>67.940000</td>\n",
       "    </tr>\n",
       "    <tr>\n",
       "      <th>max</th>\n",
       "      <td>73.400000</td>\n",
       "      <td>76.630000</td>\n",
       "      <td>73.050000</td>\n",
       "      <td>79.370000</td>\n",
       "      <td>69.200000</td>\n",
       "      <td>83.010000</td>\n",
       "      <td>73.840000</td>\n",
       "      <td>99.900000</td>\n",
       "      <td>65.830000</td>\n",
       "      <td>81.690000</td>\n",
       "    </tr>\n",
       "  </tbody>\n",
       "</table>\n",
       "</div>"
      ],
      "text/plain": [
       "       TANGARA_260A  TANGARA_4B1A  TANGARA_14D6  TANGARA_2B42  TANGARA_2E9A  \\\n",
       "count   5615.000000   5663.000000   1039.000000   4226.000000   5679.000000   \n",
       "mean      58.019508     63.761833     69.506930     63.074813     58.860379   \n",
       "std        7.687752      9.508081      2.566091      6.258009      5.930644   \n",
       "min       44.110000     46.170000     61.400000     49.190000     44.820000   \n",
       "25%       50.860000     54.365000     67.825000     58.000000     53.795000   \n",
       "50%       59.610000     65.420000     70.240000     63.770000     60.560000   \n",
       "75%       64.850000     73.445000     71.540000     67.940000     63.750000   \n",
       "max       73.400000     76.630000     73.050000     79.370000     69.200000   \n",
       "\n",
       "       TANGARA_2FF6  TANGARA_307A  TANGARA_48C6  TANGARA_F1AE  TANGARA_06BE  \n",
       "count   5692.000000   5599.000000   5511.000000   5734.000000   5388.000000  \n",
       "mean      65.786804     58.742279     99.832390     54.913873     59.892754  \n",
       "std       10.921623     11.412888      0.305125      6.836618      9.039423  \n",
       "min       46.270000     35.050000     97.600000     43.280000     44.710000  \n",
       "25%       54.660000     47.770000     99.900000     48.470000     51.480000  \n",
       "50%       69.100000     63.430000     99.900000     55.290000     62.300000  \n",
       "75%       75.452500     68.955000     99.900000     61.810000     67.940000  \n",
       "max       83.010000     73.840000     99.900000     65.830000     81.690000  "
      ]
     },
     "execution_count": 5,
     "metadata": {},
     "output_type": "execute_result"
    }
   ],
   "source": [
    "# Describe Data\n",
    "df_hum_raw.describe()"
   ]
  },
  {
   "cell_type": "markdown",
   "metadata": {},
   "source": [
    "## Missing Data"
   ]
  },
  {
   "cell_type": "code",
   "execution_count": 6,
   "metadata": {
    "execution": {
     "iopub.execute_input": "2023-11-14T18:36:16.700472Z",
     "iopub.status.busy": "2023-11-14T18:36:16.700152Z",
     "iopub.status.idle": "2023-11-14T18:36:16.726181Z",
     "shell.execute_reply": "2023-11-14T18:36:16.725206Z"
    }
   },
   "outputs": [
    {
     "name": "stdout",
     "output_type": "stream",
     "text": [
      "Threshold: 90%\n",
      "Tangara Sensor: TANGARA_14D6, Data: 18%, Missing: 82%, To be checked\n",
      "Tangara Sensor: TANGARA_2B42, Data: 73%, Missing: 27%, To be checked\n"
     ]
    }
   ],
   "source": [
    "import warnings\n",
    "warnings.filterwarnings('ignore')\n",
    "\n",
    "# Missing Data Threshold\n",
    "threshold = 90\n",
    "print(f'Threshold: {threshold}%')\n",
    "\n",
    "# For each Tangara sensor\n",
    "for id_tangara_sensor in df_hum_raw.columns:\n",
    "    df_hum_sensor = df_hum_raw[[id_tangara_sensor]]\n",
    "    # To be checked\n",
    "    is_ok, data_percent, missing_data_percent = to_be_checked(df_hum_sensor, threshold)\n",
    "    if not is_ok:\n",
    "        print(f\"Tangara Sensor: {id_tangara_sensor}, Data: {data_percent}%, Missing: {missing_data_percent}%, To be checked\")"
   ]
  },
  {
   "cell_type": "markdown",
   "metadata": {},
   "source": [
    "## Data Correlation"
   ]
  },
  {
   "cell_type": "code",
   "execution_count": 7,
   "metadata": {
    "execution": {
     "iopub.execute_input": "2023-11-14T18:36:16.730054Z",
     "iopub.status.busy": "2023-11-14T18:36:16.729730Z",
     "iopub.status.idle": "2023-11-14T18:36:16.737389Z",
     "shell.execute_reply": "2023-11-14T18:36:16.736632Z"
    }
   },
   "outputs": [
    {
     "name": "stdout",
     "output_type": "stream",
     "text": [
      "Threshold: 0.9%\n",
      "Reference Tangara Sensor: TANGARA_06BE, Target Tangara Sensor: TANGARA_2FF6, Correlation: 0.0, To be checked\n"
     ]
    }
   ],
   "source": [
    "# Data Correlation Threshold\n",
    "threshold = 0.9\n",
    "print(f'Threshold: {threshold}%')\n",
    "\n",
    "ID_REFE_TANGARA_SENSOR='TANGARA_06BE'\n",
    "ID_TARG_TANGARA_SENSOR='TANGARA_2FF6'\n",
    "# Reference Tangara Sensor\n",
    "df_reference_sensor = df_hum_raw[ID_REFE_TANGARA_SENSOR]\n",
    "# Target Tangara Sensor\n",
    "df_target_sensor = df_hum_raw[ID_TARG_TANGARA_SENSOR]\n",
    "\n",
    "# To be checked\n",
    "if not math.isnan(df_reference_sensor.std()):\n",
    "    is_ok, corr = is_corr_ok(df_reference_sensor, df_target_sensor, threshold)\n",
    "    if not is_ok:\n",
    "        print(f\"Reference Tangara Sensor: {ID_REFE_TANGARA_SENSOR}, Target Tangara Sensor: {ID_TARG_TANGARA_SENSOR}, Correlation: {corr}, To be checked\")\n",
    "\n",
    "# For each Tangara sensor\n",
    "# for id_tangara_sensor in df_hum_raw.columns:\n",
    "#     # Target Tangara Sensor\n",
    "#     df_target_sensor = df_hum_raw[id_tangara_sensor]\n",
    "#     # To be checked\n",
    "#     is_ok, corr = is_corr_ok(df_reference_sensor, df_target_sensor, threshold)\n",
    "#     if not is_ok:\n",
    "#         print(f\"Reference Tangara Sensor: {ID_REFE_TANGARA_SENSOR}, Target Tangara Sensor: {id_tangara_sensor}, Correlation: {corr}, To be checked\")\n"
   ]
  },
  {
   "cell_type": "code",
   "execution_count": 8,
   "metadata": {
    "execution": {
     "iopub.execute_input": "2023-11-14T18:36:16.740849Z",
     "iopub.status.busy": "2023-11-14T18:36:16.740532Z",
     "iopub.status.idle": "2023-11-14T18:36:16.887002Z",
     "shell.execute_reply": "2023-11-14T18:36:16.885951Z"
    }
   },
   "outputs": [],
   "source": [
    "# Save Humidity Data Frame Sensors into CSV file\n",
    "df_to_csv(df_hum_raw, \"hum_raw.csv\")"
   ]
  },
  {
   "cell_type": "code",
   "execution_count": null,
   "metadata": {},
   "outputs": [],
   "source": []
  }
 ],
 "metadata": {
  "kernelspec": {
   "display_name": ".venv",
   "language": "python",
   "name": "python3"
  },
  "language_info": {
   "codemirror_mode": {
    "name": "ipython",
    "version": 3
   },
   "file_extension": ".py",
   "mimetype": "text/x-python",
   "name": "python",
   "nbconvert_exporter": "python",
   "pygments_lexer": "ipython3",
   "version": "3.12.0"
  }
 },
 "nbformat": 4,
 "nbformat_minor": 2
}
