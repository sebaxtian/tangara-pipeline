{
 "cells": [
  {
   "cell_type": "code",
   "execution_count": 1,
   "metadata": {
    "execution": {
     "iopub.execute_input": "2023-11-07T21:26:20.522434Z",
     "iopub.status.busy": "2023-11-07T21:26:20.521711Z",
     "iopub.status.idle": "2023-11-07T21:26:24.889948Z",
     "shell.execute_reply": "2023-11-07T21:26:24.887900Z"
    }
   },
   "outputs": [
    {
     "name": "stdout",
     "output_type": "stream",
     "text": [
      "PM2.5: 35.9, AQI: 102\n",
      "PM2.5: 35.9, Measure Level: MeasureLevels.UNHEALTHY_FOR_SENSITIVE_GROUPS, Range Values: Min: 35.5, Max: 55.4\n",
      "AQI: 102, Measure Level: MeasureLevels.UNHEALTHY_FOR_SENSITIVE_GROUPS, Range Values: Min: 101, Max: 150\n"
     ]
    }
   ],
   "source": [
    "import os\n",
    "import math\n",
    "from dotenv import load_dotenv\n",
    "\n",
    "# Explicitly providing path to '.env'\n",
    "from pathlib import Path  # Python 3.6+ only\n",
    "# Load .env variables\n",
    "_ = load_dotenv(dotenv_path=f\"{Path().resolve().parents[1]}/standalone/.env\")\n",
    "\n",
    "# import import_ipynb\n",
    "# from utils import to_timestamp, df_data_sensors, to_be_checked, is_corr_ok, df_to_csv, df_from_csv\n",
    "\n",
    "# with the new api\n",
    "from importnb import imports\n",
    "with imports(\"ipynb\"):\n",
    "    from utils import to_timestamp, df_data_sensors, to_be_checked, is_corr_ok, df_to_csv, df_from_csv"
   ]
  },
  {
   "cell_type": "markdown",
   "metadata": {},
   "source": [
    "## Humidity Raw Data"
   ]
  },
  {
   "cell_type": "code",
   "execution_count": 2,
   "metadata": {
    "execution": {
     "iopub.execute_input": "2023-11-07T21:26:25.022570Z",
     "iopub.status.busy": "2023-11-07T21:26:25.021595Z",
     "iopub.status.idle": "2023-11-07T21:26:25.070087Z",
     "shell.execute_reply": "2023-11-07T21:26:25.068171Z"
    }
   },
   "outputs": [
    {
     "name": "stdout",
     "output_type": "stream",
     "text": [
      "Total Tangara Sensors: 9\n"
     ]
    },
    {
     "data": {
      "text/html": [
       "<div>\n",
       "<style scoped>\n",
       "    .dataframe tbody tr th:only-of-type {\n",
       "        vertical-align: middle;\n",
       "    }\n",
       "\n",
       "    .dataframe tbody tr th {\n",
       "        vertical-align: top;\n",
       "    }\n",
       "\n",
       "    .dataframe thead th {\n",
       "        text-align: right;\n",
       "    }\n",
       "</style>\n",
       "<table border=\"1\" class=\"dataframe\">\n",
       "  <thead>\n",
       "    <tr style=\"text-align: right;\">\n",
       "      <th></th>\n",
       "      <th>ID</th>\n",
       "      <th>GEOHASH</th>\n",
       "      <th>MAC</th>\n",
       "      <th>GEOLOCATION</th>\n",
       "      <th>LATITUDE</th>\n",
       "      <th>LONGITUDE</th>\n",
       "    </tr>\n",
       "  </thead>\n",
       "  <tbody>\n",
       "    <tr>\n",
       "      <th>0</th>\n",
       "      <td>TANGARA_260A</td>\n",
       "      <td>d29edyj</td>\n",
       "      <td>D29ESP32DE1260A</td>\n",
       "      <td>3.4613800048828125 -76.51222229003906</td>\n",
       "      <td>3.461380</td>\n",
       "      <td>-76.512222</td>\n",
       "    </tr>\n",
       "    <tr>\n",
       "      <th>1</th>\n",
       "      <td>TANGARA_4B1A</td>\n",
       "      <td>d29esj8</td>\n",
       "      <td>D29ESP32DE94B1A</td>\n",
       "      <td>3.4586334228515625 -76.46415710449219</td>\n",
       "      <td>3.458633</td>\n",
       "      <td>-76.464157</td>\n",
       "    </tr>\n",
       "    <tr>\n",
       "      <th>2</th>\n",
       "      <td>TANGARA_14D6</td>\n",
       "      <td>d29eg4k</td>\n",
       "      <td>D29ESP32DED14D6</td>\n",
       "      <td>3.4847259521484375 -76.50260925292969</td>\n",
       "      <td>3.484726</td>\n",
       "      <td>-76.502609</td>\n",
       "    </tr>\n",
       "    <tr>\n",
       "      <th>3</th>\n",
       "      <td>TANGARA_2B42</td>\n",
       "      <td>d29e6pg</td>\n",
       "      <td>D29ESP32DED2B42</td>\n",
       "      <td>3.4270477294921875 -76.54792785644531</td>\n",
       "      <td>3.427048</td>\n",
       "      <td>-76.547928</td>\n",
       "    </tr>\n",
       "    <tr>\n",
       "      <th>4</th>\n",
       "      <td>TANGARA_2E9A</td>\n",
       "      <td>d29ed62</td>\n",
       "      <td>D29ESP32DED2E9A</td>\n",
       "      <td>3.4407806396484375 -76.54106140136719</td>\n",
       "      <td>3.440781</td>\n",
       "      <td>-76.541061</td>\n",
       "    </tr>\n",
       "  </tbody>\n",
       "</table>\n",
       "</div>"
      ],
      "text/plain": [
       "             ID  GEOHASH              MAC  \\\n",
       "0  TANGARA_260A  d29edyj  D29ESP32DE1260A   \n",
       "1  TANGARA_4B1A  d29esj8  D29ESP32DE94B1A   \n",
       "2  TANGARA_14D6  d29eg4k  D29ESP32DED14D6   \n",
       "3  TANGARA_2B42  d29e6pg  D29ESP32DED2B42   \n",
       "4  TANGARA_2E9A  d29ed62  D29ESP32DED2E9A   \n",
       "\n",
       "                             GEOLOCATION  LATITUDE  LONGITUDE  \n",
       "0  3.4613800048828125 -76.51222229003906  3.461380 -76.512222  \n",
       "1  3.4586334228515625 -76.46415710449219  3.458633 -76.464157  \n",
       "2  3.4847259521484375 -76.50260925292969  3.484726 -76.502609  \n",
       "3  3.4270477294921875 -76.54792785644531  3.427048 -76.547928  \n",
       "4  3.4407806396484375 -76.54106140136719  3.440781 -76.541061  "
      ]
     },
     "execution_count": 2,
     "metadata": {},
     "output_type": "execute_result"
    }
   ],
   "source": [
    "# Load Tangaras\n",
    "df_tangaras = df_from_csv(\"tangaras.csv\", dtindex=False)\n",
    "\n",
    "print(f\"Total Tangara Sensors: {len(df_tangaras)}\")\n",
    "\n",
    "df_tangaras.head()"
   ]
  },
  {
   "cell_type": "code",
   "execution_count": 3,
   "metadata": {
    "execution": {
     "iopub.execute_input": "2023-11-07T21:26:25.077350Z",
     "iopub.status.busy": "2023-11-07T21:26:25.076747Z",
     "iopub.status.idle": "2023-11-07T21:26:25.089178Z",
     "shell.execute_reply": "2023-11-07T21:26:25.087429Z"
    }
   },
   "outputs": [
    {
     "name": "stdout",
     "output_type": "stream",
     "text": [
      "Since: 2023-11-06T00:00:00-05:00 -> 1699246800000, Until: 2023-11-07T00:00:00-05:00 -> 1699333200000\n",
      "Group by Time: 30s\n"
     ]
    }
   ],
   "source": [
    "# Start Date Time ISO 8601 Format, TZ='America/Bogota' -05:00\n",
    "START_ISO8601_DATETIME = os.getenv(\"START_ISO8601_DATETIME\", None)\n",
    "start_timestamp = to_timestamp(START_ISO8601_DATETIME)\n",
    "# End Date Time ISO 8601 Format, TZ='America/Bogota' -05:00\n",
    "END_ISO8601_DATETIME = os.getenv(\"END_ISO8601_DATETIME\", None)\n",
    "end_timestamp = to_timestamp(os.getenv(\"END_ISO8601_DATETIME\", None))\n",
    "\n",
    "# GROUP BY TIME\n",
    "GROUP_BY_TIME = os.getenv(\"GROUP_BY_TIME\", None)\n",
    "\n",
    "print(f'Since: {START_ISO8601_DATETIME} -> {start_timestamp}, Until: {END_ISO8601_DATETIME} -> {end_timestamp}')\n",
    "print(f\"Group by Time: {GROUP_BY_TIME}\")"
   ]
  },
  {
   "cell_type": "code",
   "execution_count": 4,
   "metadata": {
    "execution": {
     "iopub.execute_input": "2023-11-07T21:26:25.095801Z",
     "iopub.status.busy": "2023-11-07T21:26:25.095201Z",
     "iopub.status.idle": "2023-11-07T21:26:26.163109Z",
     "shell.execute_reply": "2023-11-07T21:26:26.161391Z"
    }
   },
   "outputs": [
    {
     "data": {
      "text/html": [
       "<div>\n",
       "<style scoped>\n",
       "    .dataframe tbody tr th:only-of-type {\n",
       "        vertical-align: middle;\n",
       "    }\n",
       "\n",
       "    .dataframe tbody tr th {\n",
       "        vertical-align: top;\n",
       "    }\n",
       "\n",
       "    .dataframe thead th {\n",
       "        text-align: right;\n",
       "    }\n",
       "</style>\n",
       "<table border=\"1\" class=\"dataframe\">\n",
       "  <thead>\n",
       "    <tr style=\"text-align: right;\">\n",
       "      <th></th>\n",
       "      <th>TANGARA_260A</th>\n",
       "      <th>TANGARA_4B1A</th>\n",
       "      <th>TANGARA_14D6</th>\n",
       "      <th>TANGARA_2B42</th>\n",
       "      <th>TANGARA_2E9A</th>\n",
       "      <th>TANGARA_2FF6</th>\n",
       "      <th>TANGARA_48C6</th>\n",
       "      <th>TANGARA_F1AE</th>\n",
       "      <th>TANGARA_06BE</th>\n",
       "    </tr>\n",
       "    <tr>\n",
       "      <th>DATETIME</th>\n",
       "      <th></th>\n",
       "      <th></th>\n",
       "      <th></th>\n",
       "      <th></th>\n",
       "      <th></th>\n",
       "      <th></th>\n",
       "      <th></th>\n",
       "      <th></th>\n",
       "      <th></th>\n",
       "    </tr>\n",
       "  </thead>\n",
       "  <tbody>\n",
       "    <tr>\n",
       "      <th>2023-11-06 00:00:30-05:00</th>\n",
       "      <td>64.43</td>\n",
       "      <td>76.04</td>\n",
       "      <td>68.23</td>\n",
       "      <td>69.85</td>\n",
       "      <td>63.11</td>\n",
       "      <td>77.37</td>\n",
       "      <td>99.9</td>\n",
       "      <td>63.85</td>\n",
       "      <td>68.95</td>\n",
       "    </tr>\n",
       "    <tr>\n",
       "      <th>2023-11-06 00:01:00-05:00</th>\n",
       "      <td>64.43</td>\n",
       "      <td>76.22</td>\n",
       "      <td>68.13</td>\n",
       "      <td>69.87</td>\n",
       "      <td>62.93</td>\n",
       "      <td>77.49</td>\n",
       "      <td>99.9</td>\n",
       "      <td>63.76</td>\n",
       "      <td>68.84</td>\n",
       "    </tr>\n",
       "    <tr>\n",
       "      <th>2023-11-06 00:01:30-05:00</th>\n",
       "      <td>64.44</td>\n",
       "      <td>75.94</td>\n",
       "      <td>68.13</td>\n",
       "      <td>69.82</td>\n",
       "      <td>63.09</td>\n",
       "      <td>77.52</td>\n",
       "      <td>99.9</td>\n",
       "      <td>63.64</td>\n",
       "      <td>68.82</td>\n",
       "    </tr>\n",
       "    <tr>\n",
       "      <th>2023-11-06 00:02:00-05:00</th>\n",
       "      <td>64.46</td>\n",
       "      <td>75.99</td>\n",
       "      <td>68.15</td>\n",
       "      <td>69.88</td>\n",
       "      <td>63.04</td>\n",
       "      <td>77.72</td>\n",
       "      <td>99.9</td>\n",
       "      <td>63.57</td>\n",
       "      <td>68.78</td>\n",
       "    </tr>\n",
       "    <tr>\n",
       "      <th>2023-11-06 00:02:30-05:00</th>\n",
       "      <td>64.57</td>\n",
       "      <td>76.01</td>\n",
       "      <td>68.08</td>\n",
       "      <td>69.90</td>\n",
       "      <td>63.26</td>\n",
       "      <td>77.77</td>\n",
       "      <td>99.9</td>\n",
       "      <td>63.58</td>\n",
       "      <td>68.65</td>\n",
       "    </tr>\n",
       "  </tbody>\n",
       "</table>\n",
       "</div>"
      ],
      "text/plain": [
       "                           TANGARA_260A  TANGARA_4B1A  TANGARA_14D6  \\\n",
       "DATETIME                                                              \n",
       "2023-11-06 00:00:30-05:00         64.43         76.04         68.23   \n",
       "2023-11-06 00:01:00-05:00         64.43         76.22         68.13   \n",
       "2023-11-06 00:01:30-05:00         64.44         75.94         68.13   \n",
       "2023-11-06 00:02:00-05:00         64.46         75.99         68.15   \n",
       "2023-11-06 00:02:30-05:00         64.57         76.01         68.08   \n",
       "\n",
       "                           TANGARA_2B42  TANGARA_2E9A  TANGARA_2FF6  \\\n",
       "DATETIME                                                              \n",
       "2023-11-06 00:00:30-05:00         69.85         63.11         77.37   \n",
       "2023-11-06 00:01:00-05:00         69.87         62.93         77.49   \n",
       "2023-11-06 00:01:30-05:00         69.82         63.09         77.52   \n",
       "2023-11-06 00:02:00-05:00         69.88         63.04         77.72   \n",
       "2023-11-06 00:02:30-05:00         69.90         63.26         77.77   \n",
       "\n",
       "                           TANGARA_48C6  TANGARA_F1AE  TANGARA_06BE  \n",
       "DATETIME                                                             \n",
       "2023-11-06 00:00:30-05:00          99.9         63.85         68.95  \n",
       "2023-11-06 00:01:00-05:00          99.9         63.76         68.84  \n",
       "2023-11-06 00:01:30-05:00          99.9         63.64         68.82  \n",
       "2023-11-06 00:02:00-05:00          99.9         63.57         68.78  \n",
       "2023-11-06 00:02:30-05:00          99.9         63.58         68.65  "
      ]
     },
     "execution_count": 4,
     "metadata": {},
     "output_type": "execute_result"
    }
   ],
   "source": [
    "# Humidity Data Frame Sensors\n",
    "df_hum_raw = df_data_sensors(df_tangaras, start_timestamp, end_timestamp, 'hum', GROUP_BY_TIME)\n",
    "df_hum_raw.head()\n",
    "#df_hum_raw.shape"
   ]
  },
  {
   "cell_type": "markdown",
   "metadata": {},
   "source": [
    "## Descriptive Statistics"
   ]
  },
  {
   "cell_type": "code",
   "execution_count": 5,
   "metadata": {
    "execution": {
     "iopub.execute_input": "2023-11-07T21:26:26.169384Z",
     "iopub.status.busy": "2023-11-07T21:26:26.168838Z",
     "iopub.status.idle": "2023-11-07T21:26:26.236819Z",
     "shell.execute_reply": "2023-11-07T21:26:26.235079Z"
    }
   },
   "outputs": [
    {
     "data": {
      "text/html": [
       "<div>\n",
       "<style scoped>\n",
       "    .dataframe tbody tr th:only-of-type {\n",
       "        vertical-align: middle;\n",
       "    }\n",
       "\n",
       "    .dataframe tbody tr th {\n",
       "        vertical-align: top;\n",
       "    }\n",
       "\n",
       "    .dataframe thead th {\n",
       "        text-align: right;\n",
       "    }\n",
       "</style>\n",
       "<table border=\"1\" class=\"dataframe\">\n",
       "  <thead>\n",
       "    <tr style=\"text-align: right;\">\n",
       "      <th></th>\n",
       "      <th>TANGARA_260A</th>\n",
       "      <th>TANGARA_4B1A</th>\n",
       "      <th>TANGARA_14D6</th>\n",
       "      <th>TANGARA_2B42</th>\n",
       "      <th>TANGARA_2E9A</th>\n",
       "      <th>TANGARA_2FF6</th>\n",
       "      <th>TANGARA_48C6</th>\n",
       "      <th>TANGARA_F1AE</th>\n",
       "      <th>TANGARA_06BE</th>\n",
       "    </tr>\n",
       "  </thead>\n",
       "  <tbody>\n",
       "    <tr>\n",
       "      <th>count</th>\n",
       "      <td>2179.000000</td>\n",
       "      <td>2156.000000</td>\n",
       "      <td>2121.000000</td>\n",
       "      <td>1979.000000</td>\n",
       "      <td>2159.000000</td>\n",
       "      <td>2149.000000</td>\n",
       "      <td>2.058000e+03</td>\n",
       "      <td>2172.000000</td>\n",
       "      <td>2138.000000</td>\n",
       "    </tr>\n",
       "    <tr>\n",
       "      <th>mean</th>\n",
       "      <td>64.990326</td>\n",
       "      <td>71.190014</td>\n",
       "      <td>65.789099</td>\n",
       "      <td>69.101450</td>\n",
       "      <td>61.265544</td>\n",
       "      <td>73.905268</td>\n",
       "      <td>9.990000e+01</td>\n",
       "      <td>61.170331</td>\n",
       "      <td>67.462834</td>\n",
       "    </tr>\n",
       "    <tr>\n",
       "      <th>std</th>\n",
       "      <td>6.063383</td>\n",
       "      <td>7.757645</td>\n",
       "      <td>9.076177</td>\n",
       "      <td>3.590345</td>\n",
       "      <td>4.665519</td>\n",
       "      <td>10.161400</td>\n",
       "      <td>2.842862e-14</td>\n",
       "      <td>6.674137</td>\n",
       "      <td>6.920255</td>\n",
       "    </tr>\n",
       "    <tr>\n",
       "      <th>min</th>\n",
       "      <td>51.770000</td>\n",
       "      <td>54.430000</td>\n",
       "      <td>46.420000</td>\n",
       "      <td>58.760000</td>\n",
       "      <td>48.440000</td>\n",
       "      <td>49.720000</td>\n",
       "      <td>9.990000e+01</td>\n",
       "      <td>47.650000</td>\n",
       "      <td>49.140000</td>\n",
       "    </tr>\n",
       "    <tr>\n",
       "      <th>25%</th>\n",
       "      <td>59.520000</td>\n",
       "      <td>63.930000</td>\n",
       "      <td>56.990000</td>\n",
       "      <td>68.070000</td>\n",
       "      <td>58.050000</td>\n",
       "      <td>67.300000</td>\n",
       "      <td>9.990000e+01</td>\n",
       "      <td>54.527500</td>\n",
       "      <td>63.872500</td>\n",
       "    </tr>\n",
       "    <tr>\n",
       "      <th>50%</th>\n",
       "      <td>66.090000</td>\n",
       "      <td>75.860000</td>\n",
       "      <td>69.260000</td>\n",
       "      <td>70.510000</td>\n",
       "      <td>63.150000</td>\n",
       "      <td>78.860000</td>\n",
       "      <td>9.990000e+01</td>\n",
       "      <td>64.410000</td>\n",
       "      <td>70.765000</td>\n",
       "    </tr>\n",
       "    <tr>\n",
       "      <th>75%</th>\n",
       "      <td>69.580000</td>\n",
       "      <td>76.980000</td>\n",
       "      <td>74.240000</td>\n",
       "      <td>71.425000</td>\n",
       "      <td>65.020000</td>\n",
       "      <td>82.020000</td>\n",
       "      <td>9.990000e+01</td>\n",
       "      <td>66.350000</td>\n",
       "      <td>72.440000</td>\n",
       "    </tr>\n",
       "    <tr>\n",
       "      <th>max</th>\n",
       "      <td>76.650000</td>\n",
       "      <td>78.650000</td>\n",
       "      <td>76.390000</td>\n",
       "      <td>73.500000</td>\n",
       "      <td>67.200000</td>\n",
       "      <td>83.860000</td>\n",
       "      <td>9.990000e+01</td>\n",
       "      <td>69.760000</td>\n",
       "      <td>74.880000</td>\n",
       "    </tr>\n",
       "  </tbody>\n",
       "</table>\n",
       "</div>"
      ],
      "text/plain": [
       "       TANGARA_260A  TANGARA_4B1A  TANGARA_14D6  TANGARA_2B42  TANGARA_2E9A  \\\n",
       "count   2179.000000   2156.000000   2121.000000   1979.000000   2159.000000   \n",
       "mean      64.990326     71.190014     65.789099     69.101450     61.265544   \n",
       "std        6.063383      7.757645      9.076177      3.590345      4.665519   \n",
       "min       51.770000     54.430000     46.420000     58.760000     48.440000   \n",
       "25%       59.520000     63.930000     56.990000     68.070000     58.050000   \n",
       "50%       66.090000     75.860000     69.260000     70.510000     63.150000   \n",
       "75%       69.580000     76.980000     74.240000     71.425000     65.020000   \n",
       "max       76.650000     78.650000     76.390000     73.500000     67.200000   \n",
       "\n",
       "       TANGARA_2FF6  TANGARA_48C6  TANGARA_F1AE  TANGARA_06BE  \n",
       "count   2149.000000  2.058000e+03   2172.000000   2138.000000  \n",
       "mean      73.905268  9.990000e+01     61.170331     67.462834  \n",
       "std       10.161400  2.842862e-14      6.674137      6.920255  \n",
       "min       49.720000  9.990000e+01     47.650000     49.140000  \n",
       "25%       67.300000  9.990000e+01     54.527500     63.872500  \n",
       "50%       78.860000  9.990000e+01     64.410000     70.765000  \n",
       "75%       82.020000  9.990000e+01     66.350000     72.440000  \n",
       "max       83.860000  9.990000e+01     69.760000     74.880000  "
      ]
     },
     "execution_count": 5,
     "metadata": {},
     "output_type": "execute_result"
    }
   ],
   "source": [
    "# Describe Data\n",
    "df_hum_raw.describe()"
   ]
  },
  {
   "cell_type": "markdown",
   "metadata": {},
   "source": [
    "## Missing Data"
   ]
  },
  {
   "cell_type": "code",
   "execution_count": 6,
   "metadata": {
    "execution": {
     "iopub.execute_input": "2023-11-07T21:26:26.242940Z",
     "iopub.status.busy": "2023-11-07T21:26:26.242391Z",
     "iopub.status.idle": "2023-11-07T21:26:26.283366Z",
     "shell.execute_reply": "2023-11-07T21:26:26.282083Z"
    }
   },
   "outputs": [
    {
     "name": "stdout",
     "output_type": "stream",
     "text": [
      "Threshold: 90%\n",
      "Tangara Sensor: TANGARA_260A, Data: 76%, Missing: 24%, To be checked\n",
      "Tangara Sensor: TANGARA_4B1A, Data: 75%, Missing: 25%, To be checked\n",
      "Tangara Sensor: TANGARA_14D6, Data: 74%, Missing: 26%, To be checked\n",
      "Tangara Sensor: TANGARA_2B42, Data: 69%, Missing: 31%, To be checked\n",
      "Tangara Sensor: TANGARA_2E9A, Data: 75%, Missing: 25%, To be checked\n",
      "Tangara Sensor: TANGARA_2FF6, Data: 75%, Missing: 25%, To be checked\n",
      "Tangara Sensor: TANGARA_48C6, Data: 72%, Missing: 28%, To be checked\n",
      "Tangara Sensor: TANGARA_F1AE, Data: 75%, Missing: 25%, To be checked\n",
      "Tangara Sensor: TANGARA_06BE, Data: 74%, Missing: 26%, To be checked\n"
     ]
    },
    {
     "name": "stderr",
     "output_type": "stream",
     "text": [
      "/home/sebaxtian/Workspaces/Tangara/tangara-pipeline/standalone/notebooks/utils.ipynb:197: FutureWarning: Series.__getitem__ treating keys as positions is deprecated. In a future version, integer keys will always be treated as labels (consistent with DataFrame behavior). To access a value by position, use `ser.iloc[pos]`\n",
      "  missing_data_percent = round(df_sensor.isna().sum()[0] * 100 / total)\n",
      "/home/sebaxtian/Workspaces/Tangara/tangara-pipeline/standalone/notebooks/utils.ipynb:198: FutureWarning: Series.__getitem__ treating keys as positions is deprecated. In a future version, integer keys will always be treated as labels (consistent with DataFrame behavior). To access a value by position, use `ser.iloc[pos]`\n",
      "  data_percent = round(df_sensor.count()[0] * 100 / total)\n",
      "/home/sebaxtian/Workspaces/Tangara/tangara-pipeline/standalone/notebooks/utils.ipynb:197: FutureWarning: Series.__getitem__ treating keys as positions is deprecated. In a future version, integer keys will always be treated as labels (consistent with DataFrame behavior). To access a value by position, use `ser.iloc[pos]`\n",
      "  missing_data_percent = round(df_sensor.isna().sum()[0] * 100 / total)\n",
      "/home/sebaxtian/Workspaces/Tangara/tangara-pipeline/standalone/notebooks/utils.ipynb:198: FutureWarning: Series.__getitem__ treating keys as positions is deprecated. In a future version, integer keys will always be treated as labels (consistent with DataFrame behavior). To access a value by position, use `ser.iloc[pos]`\n",
      "  data_percent = round(df_sensor.count()[0] * 100 / total)\n",
      "/home/sebaxtian/Workspaces/Tangara/tangara-pipeline/standalone/notebooks/utils.ipynb:197: FutureWarning: Series.__getitem__ treating keys as positions is deprecated. In a future version, integer keys will always be treated as labels (consistent with DataFrame behavior). To access a value by position, use `ser.iloc[pos]`\n",
      "  missing_data_percent = round(df_sensor.isna().sum()[0] * 100 / total)\n",
      "/home/sebaxtian/Workspaces/Tangara/tangara-pipeline/standalone/notebooks/utils.ipynb:198: FutureWarning: Series.__getitem__ treating keys as positions is deprecated. In a future version, integer keys will always be treated as labels (consistent with DataFrame behavior). To access a value by position, use `ser.iloc[pos]`\n",
      "  data_percent = round(df_sensor.count()[0] * 100 / total)\n",
      "/home/sebaxtian/Workspaces/Tangara/tangara-pipeline/standalone/notebooks/utils.ipynb:197: FutureWarning: Series.__getitem__ treating keys as positions is deprecated. In a future version, integer keys will always be treated as labels (consistent with DataFrame behavior). To access a value by position, use `ser.iloc[pos]`\n",
      "  missing_data_percent = round(df_sensor.isna().sum()[0] * 100 / total)\n",
      "/home/sebaxtian/Workspaces/Tangara/tangara-pipeline/standalone/notebooks/utils.ipynb:198: FutureWarning: Series.__getitem__ treating keys as positions is deprecated. In a future version, integer keys will always be treated as labels (consistent with DataFrame behavior). To access a value by position, use `ser.iloc[pos]`\n",
      "  data_percent = round(df_sensor.count()[0] * 100 / total)\n",
      "/home/sebaxtian/Workspaces/Tangara/tangara-pipeline/standalone/notebooks/utils.ipynb:197: FutureWarning: Series.__getitem__ treating keys as positions is deprecated. In a future version, integer keys will always be treated as labels (consistent with DataFrame behavior). To access a value by position, use `ser.iloc[pos]`\n",
      "  missing_data_percent = round(df_sensor.isna().sum()[0] * 100 / total)\n",
      "/home/sebaxtian/Workspaces/Tangara/tangara-pipeline/standalone/notebooks/utils.ipynb:198: FutureWarning: Series.__getitem__ treating keys as positions is deprecated. In a future version, integer keys will always be treated as labels (consistent with DataFrame behavior). To access a value by position, use `ser.iloc[pos]`\n",
      "  data_percent = round(df_sensor.count()[0] * 100 / total)\n",
      "/home/sebaxtian/Workspaces/Tangara/tangara-pipeline/standalone/notebooks/utils.ipynb:197: FutureWarning: Series.__getitem__ treating keys as positions is deprecated. In a future version, integer keys will always be treated as labels (consistent with DataFrame behavior). To access a value by position, use `ser.iloc[pos]`\n",
      "  missing_data_percent = round(df_sensor.isna().sum()[0] * 100 / total)\n",
      "/home/sebaxtian/Workspaces/Tangara/tangara-pipeline/standalone/notebooks/utils.ipynb:198: FutureWarning: Series.__getitem__ treating keys as positions is deprecated. In a future version, integer keys will always be treated as labels (consistent with DataFrame behavior). To access a value by position, use `ser.iloc[pos]`\n",
      "  data_percent = round(df_sensor.count()[0] * 100 / total)\n",
      "/home/sebaxtian/Workspaces/Tangara/tangara-pipeline/standalone/notebooks/utils.ipynb:197: FutureWarning: Series.__getitem__ treating keys as positions is deprecated. In a future version, integer keys will always be treated as labels (consistent with DataFrame behavior). To access a value by position, use `ser.iloc[pos]`\n",
      "  missing_data_percent = round(df_sensor.isna().sum()[0] * 100 / total)\n",
      "/home/sebaxtian/Workspaces/Tangara/tangara-pipeline/standalone/notebooks/utils.ipynb:198: FutureWarning: Series.__getitem__ treating keys as positions is deprecated. In a future version, integer keys will always be treated as labels (consistent with DataFrame behavior). To access a value by position, use `ser.iloc[pos]`\n",
      "  data_percent = round(df_sensor.count()[0] * 100 / total)\n",
      "/home/sebaxtian/Workspaces/Tangara/tangara-pipeline/standalone/notebooks/utils.ipynb:197: FutureWarning: Series.__getitem__ treating keys as positions is deprecated. In a future version, integer keys will always be treated as labels (consistent with DataFrame behavior). To access a value by position, use `ser.iloc[pos]`\n",
      "  missing_data_percent = round(df_sensor.isna().sum()[0] * 100 / total)\n",
      "/home/sebaxtian/Workspaces/Tangara/tangara-pipeline/standalone/notebooks/utils.ipynb:198: FutureWarning: Series.__getitem__ treating keys as positions is deprecated. In a future version, integer keys will always be treated as labels (consistent with DataFrame behavior). To access a value by position, use `ser.iloc[pos]`\n",
      "  data_percent = round(df_sensor.count()[0] * 100 / total)\n",
      "/home/sebaxtian/Workspaces/Tangara/tangara-pipeline/standalone/notebooks/utils.ipynb:197: FutureWarning: Series.__getitem__ treating keys as positions is deprecated. In a future version, integer keys will always be treated as labels (consistent with DataFrame behavior). To access a value by position, use `ser.iloc[pos]`\n",
      "  missing_data_percent = round(df_sensor.isna().sum()[0] * 100 / total)\n",
      "/home/sebaxtian/Workspaces/Tangara/tangara-pipeline/standalone/notebooks/utils.ipynb:198: FutureWarning: Series.__getitem__ treating keys as positions is deprecated. In a future version, integer keys will always be treated as labels (consistent with DataFrame behavior). To access a value by position, use `ser.iloc[pos]`\n",
      "  data_percent = round(df_sensor.count()[0] * 100 / total)\n"
     ]
    }
   ],
   "source": [
    "# Missing Data Threshold\n",
    "threshold = 90\n",
    "print(f'Threshold: {threshold}%')\n",
    "\n",
    "# For each Tangara sensor\n",
    "for id_tangara_sensor in df_hum_raw.columns:\n",
    "    df_hum_sensor = df_hum_raw[[id_tangara_sensor]]\n",
    "    # To be checked\n",
    "    is_ok, data_percent, missing_data_percent = to_be_checked(df_hum_sensor, threshold)\n",
    "    if not is_ok:\n",
    "        print(f\"Tangara Sensor: {id_tangara_sensor}, Data: {data_percent}%, Missing: {missing_data_percent}%, To be checked\")"
   ]
  },
  {
   "cell_type": "markdown",
   "metadata": {},
   "source": [
    "## Data Correlation"
   ]
  },
  {
   "cell_type": "code",
   "execution_count": 7,
   "metadata": {
    "execution": {
     "iopub.execute_input": "2023-11-07T21:26:26.291056Z",
     "iopub.status.busy": "2023-11-07T21:26:26.290528Z",
     "iopub.status.idle": "2023-11-07T21:26:26.303408Z",
     "shell.execute_reply": "2023-11-07T21:26:26.301647Z"
    }
   },
   "outputs": [
    {
     "name": "stdout",
     "output_type": "stream",
     "text": [
      "Threshold: 0.9%\n",
      "Reference Tangara Sensor: TANGARA_06BE, Target Tangara Sensor: TANGARA_2FF6, Correlation: 0.0, To be checked\n"
     ]
    }
   ],
   "source": [
    "# Data Correlation Threshold\n",
    "threshold = 0.9\n",
    "print(f'Threshold: {threshold}%')\n",
    "\n",
    "ID_REFE_TANGARA_SENSOR='TANGARA_06BE'\n",
    "ID_TARG_TANGARA_SENSOR='TANGARA_2FF6'\n",
    "# Reference Tangara Sensor\n",
    "df_reference_sensor = df_hum_raw[ID_REFE_TANGARA_SENSOR]\n",
    "# Target Tangara Sensor\n",
    "df_target_sensor = df_hum_raw[ID_TARG_TANGARA_SENSOR]\n",
    "\n",
    "# To be checked\n",
    "if not math.isnan(df_reference_sensor.std()):\n",
    "    is_ok, corr = is_corr_ok(df_reference_sensor, df_target_sensor, threshold)\n",
    "    if not is_ok:\n",
    "        print(f\"Reference Tangara Sensor: {ID_REFE_TANGARA_SENSOR}, Target Tangara Sensor: {ID_TARG_TANGARA_SENSOR}, Correlation: {corr}, To be checked\")\n",
    "\n",
    "# For each Tangara sensor\n",
    "# for id_tangara_sensor in df_hum_raw.columns:\n",
    "#     # Target Tangara Sensor\n",
    "#     df_target_sensor = df_hum_raw[id_tangara_sensor]\n",
    "#     # To be checked\n",
    "#     is_ok, corr = is_corr_ok(df_reference_sensor, df_target_sensor, threshold)\n",
    "#     if not is_ok:\n",
    "#         print(f\"Reference Tangara Sensor: {ID_REFE_TANGARA_SENSOR}, Target Tangara Sensor: {id_tangara_sensor}, Correlation: {corr}, To be checked\")\n"
   ]
  },
  {
   "cell_type": "code",
   "execution_count": 8,
   "metadata": {
    "execution": {
     "iopub.execute_input": "2023-11-07T21:26:26.310092Z",
     "iopub.status.busy": "2023-11-07T21:26:26.309500Z",
     "iopub.status.idle": "2023-11-07T21:26:26.429636Z",
     "shell.execute_reply": "2023-11-07T21:26:26.427988Z"
    }
   },
   "outputs": [],
   "source": [
    "# Save Humidity Data Frame Sensors into CSV file\n",
    "df_to_csv(df_hum_raw, \"hum_raw.csv\")"
   ]
  },
  {
   "cell_type": "code",
   "execution_count": null,
   "metadata": {},
   "outputs": [],
   "source": []
  }
 ],
 "metadata": {
  "kernelspec": {
   "display_name": ".venv",
   "language": "python",
   "name": "python3"
  },
  "language_info": {
   "codemirror_mode": {
    "name": "ipython",
    "version": 3
   },
   "file_extension": ".py",
   "mimetype": "text/x-python",
   "name": "python",
   "nbconvert_exporter": "python",
   "pygments_lexer": "ipython3",
   "version": "3.12.0"
  }
 },
 "nbformat": 4,
 "nbformat_minor": 2
}
