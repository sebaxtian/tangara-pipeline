{
 "cells": [
  {
   "cell_type": "code",
   "execution_count": 1,
   "metadata": {
    "execution": {
     "iopub.execute_input": "2023-11-09T01:26:26.282834Z",
     "iopub.status.busy": "2023-11-09T01:26:26.282349Z",
     "iopub.status.idle": "2023-11-09T01:26:28.690572Z",
     "shell.execute_reply": "2023-11-09T01:26:28.689221Z"
    }
   },
   "outputs": [
    {
     "name": "stdout",
     "output_type": "stream",
     "text": [
      "PM2.5: 35.9, AQI: 102\n",
      "PM2.5: 35.9, Measure Level: MeasureLevels.UNHEALTHY_FOR_SENSITIVE_GROUPS, Range Values: Min: 35.5, Max: 55.4\n",
      "AQI: 102, Measure Level: MeasureLevels.UNHEALTHY_FOR_SENSITIVE_GROUPS, Range Values: Min: 101, Max: 150\n"
     ]
    }
   ],
   "source": [
    "import os\n",
    "import math\n",
    "from dotenv import load_dotenv\n",
    "\n",
    "# Explicitly providing path to '.env'\n",
    "from pathlib import Path  # Python 3.6+ only\n",
    "# Load .env variables\n",
    "_ = load_dotenv(dotenv_path=f\"{Path().resolve().parents[1]}/standalone/.env\")\n",
    "\n",
    "# import import_ipynb\n",
    "# from utils import to_timestamp, df_data_sensors, to_be_checked, is_corr_ok, df_to_csv, df_from_csv\n",
    "\n",
    "# with the new api\n",
    "from importnb import imports\n",
    "with imports(\"ipynb\"):\n",
    "    from utils import to_timestamp, df_data_sensors, to_be_checked, is_corr_ok, df_to_csv, df_from_csv"
   ]
  },
  {
   "cell_type": "markdown",
   "metadata": {},
   "source": [
    "## Temperature Raw Data"
   ]
  },
  {
   "cell_type": "code",
   "execution_count": 2,
   "metadata": {
    "execution": {
     "iopub.execute_input": "2023-11-09T01:26:28.773596Z",
     "iopub.status.busy": "2023-11-09T01:26:28.773098Z",
     "iopub.status.idle": "2023-11-09T01:26:28.798954Z",
     "shell.execute_reply": "2023-11-09T01:26:28.797793Z"
    }
   },
   "outputs": [
    {
     "name": "stdout",
     "output_type": "stream",
     "text": [
      "Total Tangara Sensors: 10\n"
     ]
    },
    {
     "data": {
      "text/html": [
       "<div>\n",
       "<style scoped>\n",
       "    .dataframe tbody tr th:only-of-type {\n",
       "        vertical-align: middle;\n",
       "    }\n",
       "\n",
       "    .dataframe tbody tr th {\n",
       "        vertical-align: top;\n",
       "    }\n",
       "\n",
       "    .dataframe thead th {\n",
       "        text-align: right;\n",
       "    }\n",
       "</style>\n",
       "<table border=\"1\" class=\"dataframe\">\n",
       "  <thead>\n",
       "    <tr style=\"text-align: right;\">\n",
       "      <th></th>\n",
       "      <th>ID</th>\n",
       "      <th>GEOHASH</th>\n",
       "      <th>MAC</th>\n",
       "      <th>GEOLOCATION</th>\n",
       "      <th>LATITUDE</th>\n",
       "      <th>LONGITUDE</th>\n",
       "    </tr>\n",
       "  </thead>\n",
       "  <tbody>\n",
       "    <tr>\n",
       "      <th>0</th>\n",
       "      <td>TANGARA_14D6</td>\n",
       "      <td>d29eg4k</td>\n",
       "      <td>D29ESP32DED14D6</td>\n",
       "      <td>3.4847259521484375 -76.50260925292969</td>\n",
       "      <td>3.484726</td>\n",
       "      <td>-76.502609</td>\n",
       "    </tr>\n",
       "    <tr>\n",
       "      <th>1</th>\n",
       "      <td>TANGARA_2B42</td>\n",
       "      <td>d29e6pg</td>\n",
       "      <td>D29ESP32DED2B42</td>\n",
       "      <td>3.4270477294921875 -76.54792785644531</td>\n",
       "      <td>3.427048</td>\n",
       "      <td>-76.547928</td>\n",
       "    </tr>\n",
       "    <tr>\n",
       "      <th>2</th>\n",
       "      <td>TANGARA_2E9A</td>\n",
       "      <td>d29ed62</td>\n",
       "      <td>D29ESP32DED2E9A</td>\n",
       "      <td>3.4407806396484375 -76.54106140136719</td>\n",
       "      <td>3.440781</td>\n",
       "      <td>-76.541061</td>\n",
       "    </tr>\n",
       "    <tr>\n",
       "      <th>3</th>\n",
       "      <td>TANGARA_2FF6</td>\n",
       "      <td>d29e66v</td>\n",
       "      <td>D29ESP32DED2FF6</td>\n",
       "      <td>3.3995819091796875 -76.53419494628906</td>\n",
       "      <td>3.399582</td>\n",
       "      <td>-76.534195</td>\n",
       "    </tr>\n",
       "    <tr>\n",
       "      <th>4</th>\n",
       "      <td>TANGARA_307A</td>\n",
       "      <td>d29e48s</td>\n",
       "      <td>D29ESP32DED307A</td>\n",
       "      <td>3.3432769775390625 -76.52458190917969</td>\n",
       "      <td>3.343277</td>\n",
       "      <td>-76.524582</td>\n",
       "    </tr>\n",
       "  </tbody>\n",
       "</table>\n",
       "</div>"
      ],
      "text/plain": [
       "             ID  GEOHASH              MAC  \\\n",
       "0  TANGARA_14D6  d29eg4k  D29ESP32DED14D6   \n",
       "1  TANGARA_2B42  d29e6pg  D29ESP32DED2B42   \n",
       "2  TANGARA_2E9A  d29ed62  D29ESP32DED2E9A   \n",
       "3  TANGARA_2FF6  d29e66v  D29ESP32DED2FF6   \n",
       "4  TANGARA_307A  d29e48s  D29ESP32DED307A   \n",
       "\n",
       "                             GEOLOCATION  LATITUDE  LONGITUDE  \n",
       "0  3.4847259521484375 -76.50260925292969  3.484726 -76.502609  \n",
       "1  3.4270477294921875 -76.54792785644531  3.427048 -76.547928  \n",
       "2  3.4407806396484375 -76.54106140136719  3.440781 -76.541061  \n",
       "3  3.3995819091796875 -76.53419494628906  3.399582 -76.534195  \n",
       "4  3.3432769775390625 -76.52458190917969  3.343277 -76.524582  "
      ]
     },
     "execution_count": 2,
     "metadata": {},
     "output_type": "execute_result"
    }
   ],
   "source": [
    "# Load Tangaras\n",
    "df_tangaras = df_from_csv(\"tangaras.csv\", dtindex=False)\n",
    "\n",
    "print(f\"Total Tangara Sensors: {len(df_tangaras)}\")\n",
    "\n",
    "df_tangaras.head()"
   ]
  },
  {
   "cell_type": "code",
   "execution_count": 3,
   "metadata": {
    "execution": {
     "iopub.execute_input": "2023-11-09T01:26:28.804029Z",
     "iopub.status.busy": "2023-11-09T01:26:28.803706Z",
     "iopub.status.idle": "2023-11-09T01:26:28.810504Z",
     "shell.execute_reply": "2023-11-09T01:26:28.809558Z"
    }
   },
   "outputs": [
    {
     "name": "stdout",
     "output_type": "stream",
     "text": [
      "Since: 2023-10-31T20:00:00-05:00 -> 1698800400000, Until: 2023-10-31T21:00:00-05:00 -> 1698804000000\n",
      "Group by Time: 30s\n"
     ]
    }
   ],
   "source": [
    "# Start Date Time ISO 8601 Format, TZ='America/Bogota' -05:00\n",
    "START_ISO8601_DATETIME = os.getenv(\"START_ISO8601_DATETIME\", None)\n",
    "start_timestamp = to_timestamp(START_ISO8601_DATETIME)\n",
    "# End Date Time ISO 8601 Format, TZ='America/Bogota' -05:00\n",
    "END_ISO8601_DATETIME = os.getenv(\"END_ISO8601_DATETIME\", None)\n",
    "end_timestamp = to_timestamp(os.getenv(\"END_ISO8601_DATETIME\", None))\n",
    "\n",
    "# GROUP BY TIME\n",
    "GROUP_BY_TIME = os.getenv(\"GROUP_BY_TIME\", None)\n",
    "\n",
    "print(f'Since: {START_ISO8601_DATETIME} -> {start_timestamp}, Until: {END_ISO8601_DATETIME} -> {end_timestamp}')\n",
    "print(f\"Group by Time: {GROUP_BY_TIME}\")"
   ]
  },
  {
   "cell_type": "code",
   "execution_count": 4,
   "metadata": {
    "execution": {
     "iopub.execute_input": "2023-11-09T01:26:28.815943Z",
     "iopub.status.busy": "2023-11-09T01:26:28.815626Z",
     "iopub.status.idle": "2023-11-09T01:26:29.062627Z",
     "shell.execute_reply": "2023-11-09T01:26:29.061454Z"
    }
   },
   "outputs": [
    {
     "data": {
      "text/html": [
       "<div>\n",
       "<style scoped>\n",
       "    .dataframe tbody tr th:only-of-type {\n",
       "        vertical-align: middle;\n",
       "    }\n",
       "\n",
       "    .dataframe tbody tr th {\n",
       "        vertical-align: top;\n",
       "    }\n",
       "\n",
       "    .dataframe thead th {\n",
       "        text-align: right;\n",
       "    }\n",
       "</style>\n",
       "<table border=\"1\" class=\"dataframe\">\n",
       "  <thead>\n",
       "    <tr style=\"text-align: right;\">\n",
       "      <th></th>\n",
       "      <th>TANGARA_14D6</th>\n",
       "      <th>TANGARA_2B42</th>\n",
       "      <th>TANGARA_2E9A</th>\n",
       "      <th>TANGARA_2FF6</th>\n",
       "      <th>TANGARA_307A</th>\n",
       "      <th>TANGARA_1712</th>\n",
       "      <th>TANGARA_48C6</th>\n",
       "      <th>TANGARA_532E</th>\n",
       "      <th>TANGARA_F1AE</th>\n",
       "      <th>TANGARA_06BE</th>\n",
       "    </tr>\n",
       "    <tr>\n",
       "      <th>DATETIME</th>\n",
       "      <th></th>\n",
       "      <th></th>\n",
       "      <th></th>\n",
       "      <th></th>\n",
       "      <th></th>\n",
       "      <th></th>\n",
       "      <th></th>\n",
       "      <th></th>\n",
       "      <th></th>\n",
       "      <th></th>\n",
       "    </tr>\n",
       "  </thead>\n",
       "  <tbody>\n",
       "    <tr>\n",
       "      <th>2023-10-31 20:00:30-05:00</th>\n",
       "      <td>28.10</td>\n",
       "      <td>27.12</td>\n",
       "      <td>29.73</td>\n",
       "      <td>28.30</td>\n",
       "      <td>27.57</td>\n",
       "      <td>26.23</td>\n",
       "      <td>28.5</td>\n",
       "      <td>26.2</td>\n",
       "      <td>29.69</td>\n",
       "      <td>28.64</td>\n",
       "    </tr>\n",
       "    <tr>\n",
       "      <th>2023-10-31 20:01:00-05:00</th>\n",
       "      <td>28.09</td>\n",
       "      <td>27.10</td>\n",
       "      <td>29.70</td>\n",
       "      <td>28.25</td>\n",
       "      <td>27.52</td>\n",
       "      <td>26.26</td>\n",
       "      <td>28.6</td>\n",
       "      <td>26.2</td>\n",
       "      <td>29.70</td>\n",
       "      <td>28.69</td>\n",
       "    </tr>\n",
       "    <tr>\n",
       "      <th>2023-10-31 20:01:30-05:00</th>\n",
       "      <td>28.09</td>\n",
       "      <td>27.12</td>\n",
       "      <td>29.67</td>\n",
       "      <td>28.22</td>\n",
       "      <td>27.52</td>\n",
       "      <td>26.28</td>\n",
       "      <td>28.5</td>\n",
       "      <td>26.1</td>\n",
       "      <td>29.67</td>\n",
       "      <td>28.69</td>\n",
       "    </tr>\n",
       "    <tr>\n",
       "      <th>2023-10-31 20:02:00-05:00</th>\n",
       "      <td>28.09</td>\n",
       "      <td>27.15</td>\n",
       "      <td>29.60</td>\n",
       "      <td>28.25</td>\n",
       "      <td>27.51</td>\n",
       "      <td>26.28</td>\n",
       "      <td>28.5</td>\n",
       "      <td>26.2</td>\n",
       "      <td>29.69</td>\n",
       "      <td>28.71</td>\n",
       "    </tr>\n",
       "    <tr>\n",
       "      <th>2023-10-31 20:02:30-05:00</th>\n",
       "      <td>28.10</td>\n",
       "      <td>27.10</td>\n",
       "      <td>29.62</td>\n",
       "      <td>28.24</td>\n",
       "      <td>27.48</td>\n",
       "      <td>26.29</td>\n",
       "      <td>28.5</td>\n",
       "      <td>26.2</td>\n",
       "      <td>29.70</td>\n",
       "      <td>28.72</td>\n",
       "    </tr>\n",
       "  </tbody>\n",
       "</table>\n",
       "</div>"
      ],
      "text/plain": [
       "                           TANGARA_14D6  TANGARA_2B42  TANGARA_2E9A  \\\n",
       "DATETIME                                                              \n",
       "2023-10-31 20:00:30-05:00         28.10         27.12         29.73   \n",
       "2023-10-31 20:01:00-05:00         28.09         27.10         29.70   \n",
       "2023-10-31 20:01:30-05:00         28.09         27.12         29.67   \n",
       "2023-10-31 20:02:00-05:00         28.09         27.15         29.60   \n",
       "2023-10-31 20:02:30-05:00         28.10         27.10         29.62   \n",
       "\n",
       "                           TANGARA_2FF6  TANGARA_307A  TANGARA_1712  \\\n",
       "DATETIME                                                              \n",
       "2023-10-31 20:00:30-05:00         28.30         27.57         26.23   \n",
       "2023-10-31 20:01:00-05:00         28.25         27.52         26.26   \n",
       "2023-10-31 20:01:30-05:00         28.22         27.52         26.28   \n",
       "2023-10-31 20:02:00-05:00         28.25         27.51         26.28   \n",
       "2023-10-31 20:02:30-05:00         28.24         27.48         26.29   \n",
       "\n",
       "                           TANGARA_48C6  TANGARA_532E  TANGARA_F1AE  \\\n",
       "DATETIME                                                              \n",
       "2023-10-31 20:00:30-05:00          28.5          26.2         29.69   \n",
       "2023-10-31 20:01:00-05:00          28.6          26.2         29.70   \n",
       "2023-10-31 20:01:30-05:00          28.5          26.1         29.67   \n",
       "2023-10-31 20:02:00-05:00          28.5          26.2         29.69   \n",
       "2023-10-31 20:02:30-05:00          28.5          26.2         29.70   \n",
       "\n",
       "                           TANGARA_06BE  \n",
       "DATETIME                                 \n",
       "2023-10-31 20:00:30-05:00         28.64  \n",
       "2023-10-31 20:01:00-05:00         28.69  \n",
       "2023-10-31 20:01:30-05:00         28.69  \n",
       "2023-10-31 20:02:00-05:00         28.71  \n",
       "2023-10-31 20:02:30-05:00         28.72  "
      ]
     },
     "execution_count": 4,
     "metadata": {},
     "output_type": "execute_result"
    }
   ],
   "source": [
    "# Temperature Data Frame Sensors\n",
    "df_temp_raw = df_data_sensors(df_tangaras, start_timestamp, end_timestamp, 'tmp', GROUP_BY_TIME)\n",
    "df_temp_raw.head()\n",
    "#df_temp_raw.shape"
   ]
  },
  {
   "cell_type": "markdown",
   "metadata": {},
   "source": [
    "## Descriptive Statistics"
   ]
  },
  {
   "cell_type": "code",
   "execution_count": 5,
   "metadata": {
    "execution": {
     "iopub.execute_input": "2023-11-09T01:26:29.067825Z",
     "iopub.status.busy": "2023-11-09T01:26:29.067448Z",
     "iopub.status.idle": "2023-11-09T01:26:29.110005Z",
     "shell.execute_reply": "2023-11-09T01:26:29.108840Z"
    }
   },
   "outputs": [
    {
     "data": {
      "text/html": [
       "<div>\n",
       "<style scoped>\n",
       "    .dataframe tbody tr th:only-of-type {\n",
       "        vertical-align: middle;\n",
       "    }\n",
       "\n",
       "    .dataframe tbody tr th {\n",
       "        vertical-align: top;\n",
       "    }\n",
       "\n",
       "    .dataframe thead th {\n",
       "        text-align: right;\n",
       "    }\n",
       "</style>\n",
       "<table border=\"1\" class=\"dataframe\">\n",
       "  <thead>\n",
       "    <tr style=\"text-align: right;\">\n",
       "      <th></th>\n",
       "      <th>TANGARA_14D6</th>\n",
       "      <th>TANGARA_2B42</th>\n",
       "      <th>TANGARA_2E9A</th>\n",
       "      <th>TANGARA_2FF6</th>\n",
       "      <th>TANGARA_307A</th>\n",
       "      <th>TANGARA_1712</th>\n",
       "      <th>TANGARA_48C6</th>\n",
       "      <th>TANGARA_532E</th>\n",
       "      <th>TANGARA_F1AE</th>\n",
       "      <th>TANGARA_06BE</th>\n",
       "    </tr>\n",
       "  </thead>\n",
       "  <tbody>\n",
       "    <tr>\n",
       "      <th>count</th>\n",
       "      <td>117.000000</td>\n",
       "      <td>117.000000</td>\n",
       "      <td>115.000000</td>\n",
       "      <td>117.000000</td>\n",
       "      <td>117.000000</td>\n",
       "      <td>117.000000</td>\n",
       "      <td>113.000000</td>\n",
       "      <td>117.000000</td>\n",
       "      <td>113.00000</td>\n",
       "      <td>57.000000</td>\n",
       "    </tr>\n",
       "    <tr>\n",
       "      <th>mean</th>\n",
       "      <td>27.620855</td>\n",
       "      <td>26.727350</td>\n",
       "      <td>29.514087</td>\n",
       "      <td>27.463590</td>\n",
       "      <td>27.411026</td>\n",
       "      <td>26.369402</td>\n",
       "      <td>28.123009</td>\n",
       "      <td>26.197436</td>\n",
       "      <td>29.53646</td>\n",
       "      <td>28.733860</td>\n",
       "    </tr>\n",
       "    <tr>\n",
       "      <th>std</th>\n",
       "      <td>0.293192</td>\n",
       "      <td>0.217958</td>\n",
       "      <td>0.061728</td>\n",
       "      <td>0.424744</td>\n",
       "      <td>0.052889</td>\n",
       "      <td>0.059615</td>\n",
       "      <td>0.189458</td>\n",
       "      <td>0.078192</td>\n",
       "      <td>0.13013</td>\n",
       "      <td>0.065048</td>\n",
       "    </tr>\n",
       "    <tr>\n",
       "      <th>min</th>\n",
       "      <td>27.180000</td>\n",
       "      <td>26.440000</td>\n",
       "      <td>29.360000</td>\n",
       "      <td>27.070000</td>\n",
       "      <td>27.310000</td>\n",
       "      <td>26.160000</td>\n",
       "      <td>27.800000</td>\n",
       "      <td>26.100000</td>\n",
       "      <td>29.25000</td>\n",
       "      <td>28.580000</td>\n",
       "    </tr>\n",
       "    <tr>\n",
       "      <th>25%</th>\n",
       "      <td>27.320000</td>\n",
       "      <td>26.540000</td>\n",
       "      <td>29.470000</td>\n",
       "      <td>27.120000</td>\n",
       "      <td>27.370000</td>\n",
       "      <td>26.330000</td>\n",
       "      <td>28.000000</td>\n",
       "      <td>26.100000</td>\n",
       "      <td>29.45000</td>\n",
       "      <td>28.690000</td>\n",
       "    </tr>\n",
       "    <tr>\n",
       "      <th>50%</th>\n",
       "      <td>27.620000</td>\n",
       "      <td>26.680000</td>\n",
       "      <td>29.520000</td>\n",
       "      <td>27.310000</td>\n",
       "      <td>27.410000</td>\n",
       "      <td>26.390000</td>\n",
       "      <td>28.000000</td>\n",
       "      <td>26.200000</td>\n",
       "      <td>29.57000</td>\n",
       "      <td>28.740000</td>\n",
       "    </tr>\n",
       "    <tr>\n",
       "      <th>75%</th>\n",
       "      <td>27.860000</td>\n",
       "      <td>26.840000</td>\n",
       "      <td>29.560000</td>\n",
       "      <td>27.700000</td>\n",
       "      <td>27.450000</td>\n",
       "      <td>26.420000</td>\n",
       "      <td>28.300000</td>\n",
       "      <td>26.300000</td>\n",
       "      <td>29.65000</td>\n",
       "      <td>28.790000</td>\n",
       "    </tr>\n",
       "    <tr>\n",
       "      <th>max</th>\n",
       "      <td>28.100000</td>\n",
       "      <td>27.150000</td>\n",
       "      <td>29.730000</td>\n",
       "      <td>28.320000</td>\n",
       "      <td>27.570000</td>\n",
       "      <td>26.430000</td>\n",
       "      <td>28.600000</td>\n",
       "      <td>26.400000</td>\n",
       "      <td>29.70000</td>\n",
       "      <td>28.820000</td>\n",
       "    </tr>\n",
       "  </tbody>\n",
       "</table>\n",
       "</div>"
      ],
      "text/plain": [
       "       TANGARA_14D6  TANGARA_2B42  TANGARA_2E9A  TANGARA_2FF6  TANGARA_307A  \\\n",
       "count    117.000000    117.000000    115.000000    117.000000    117.000000   \n",
       "mean      27.620855     26.727350     29.514087     27.463590     27.411026   \n",
       "std        0.293192      0.217958      0.061728      0.424744      0.052889   \n",
       "min       27.180000     26.440000     29.360000     27.070000     27.310000   \n",
       "25%       27.320000     26.540000     29.470000     27.120000     27.370000   \n",
       "50%       27.620000     26.680000     29.520000     27.310000     27.410000   \n",
       "75%       27.860000     26.840000     29.560000     27.700000     27.450000   \n",
       "max       28.100000     27.150000     29.730000     28.320000     27.570000   \n",
       "\n",
       "       TANGARA_1712  TANGARA_48C6  TANGARA_532E  TANGARA_F1AE  TANGARA_06BE  \n",
       "count    117.000000    113.000000    117.000000     113.00000     57.000000  \n",
       "mean      26.369402     28.123009     26.197436      29.53646     28.733860  \n",
       "std        0.059615      0.189458      0.078192       0.13013      0.065048  \n",
       "min       26.160000     27.800000     26.100000      29.25000     28.580000  \n",
       "25%       26.330000     28.000000     26.100000      29.45000     28.690000  \n",
       "50%       26.390000     28.000000     26.200000      29.57000     28.740000  \n",
       "75%       26.420000     28.300000     26.300000      29.65000     28.790000  \n",
       "max       26.430000     28.600000     26.400000      29.70000     28.820000  "
      ]
     },
     "execution_count": 5,
     "metadata": {},
     "output_type": "execute_result"
    }
   ],
   "source": [
    "# Describe Data\n",
    "df_temp_raw.describe()"
   ]
  },
  {
   "cell_type": "markdown",
   "metadata": {},
   "source": [
    "## Missing Data"
   ]
  },
  {
   "cell_type": "code",
   "execution_count": 6,
   "metadata": {
    "execution": {
     "iopub.execute_input": "2023-11-09T01:26:29.114881Z",
     "iopub.status.busy": "2023-11-09T01:26:29.114553Z",
     "iopub.status.idle": "2023-11-09T01:26:29.140416Z",
     "shell.execute_reply": "2023-11-09T01:26:29.139117Z"
    }
   },
   "outputs": [
    {
     "name": "stdout",
     "output_type": "stream",
     "text": [
      "Threshold: 90%\n",
      "Tangara Sensor: TANGARA_06BE, Data: 48%, Missing: 52%, To be checked\n"
     ]
    },
    {
     "name": "stderr",
     "output_type": "stream",
     "text": [
      "/home/sebaxtian/Workspaces/Tangara/tangara-pipeline/standalone/notebooks/utils.ipynb:197: FutureWarning: Series.__getitem__ treating keys as positions is deprecated. In a future version, integer keys will always be treated as labels (consistent with DataFrame behavior). To access a value by position, use `ser.iloc[pos]`\n",
      "  missing_data_percent = round(df_sensor.isna().sum()[0] * 100 / total)\n",
      "/home/sebaxtian/Workspaces/Tangara/tangara-pipeline/standalone/notebooks/utils.ipynb:198: FutureWarning: Series.__getitem__ treating keys as positions is deprecated. In a future version, integer keys will always be treated as labels (consistent with DataFrame behavior). To access a value by position, use `ser.iloc[pos]`\n",
      "  data_percent = round(df_sensor.count()[0] * 100 / total)\n",
      "/home/sebaxtian/Workspaces/Tangara/tangara-pipeline/standalone/notebooks/utils.ipynb:197: FutureWarning: Series.__getitem__ treating keys as positions is deprecated. In a future version, integer keys will always be treated as labels (consistent with DataFrame behavior). To access a value by position, use `ser.iloc[pos]`\n",
      "  missing_data_percent = round(df_sensor.isna().sum()[0] * 100 / total)\n",
      "/home/sebaxtian/Workspaces/Tangara/tangara-pipeline/standalone/notebooks/utils.ipynb:198: FutureWarning: Series.__getitem__ treating keys as positions is deprecated. In a future version, integer keys will always be treated as labels (consistent with DataFrame behavior). To access a value by position, use `ser.iloc[pos]`\n",
      "  data_percent = round(df_sensor.count()[0] * 100 / total)\n",
      "/home/sebaxtian/Workspaces/Tangara/tangara-pipeline/standalone/notebooks/utils.ipynb:197: FutureWarning: Series.__getitem__ treating keys as positions is deprecated. In a future version, integer keys will always be treated as labels (consistent with DataFrame behavior). To access a value by position, use `ser.iloc[pos]`\n",
      "  missing_data_percent = round(df_sensor.isna().sum()[0] * 100 / total)\n",
      "/home/sebaxtian/Workspaces/Tangara/tangara-pipeline/standalone/notebooks/utils.ipynb:198: FutureWarning: Series.__getitem__ treating keys as positions is deprecated. In a future version, integer keys will always be treated as labels (consistent with DataFrame behavior). To access a value by position, use `ser.iloc[pos]`\n",
      "  data_percent = round(df_sensor.count()[0] * 100 / total)\n",
      "/home/sebaxtian/Workspaces/Tangara/tangara-pipeline/standalone/notebooks/utils.ipynb:197: FutureWarning: Series.__getitem__ treating keys as positions is deprecated. In a future version, integer keys will always be treated as labels (consistent with DataFrame behavior). To access a value by position, use `ser.iloc[pos]`\n",
      "  missing_data_percent = round(df_sensor.isna().sum()[0] * 100 / total)\n",
      "/home/sebaxtian/Workspaces/Tangara/tangara-pipeline/standalone/notebooks/utils.ipynb:198: FutureWarning: Series.__getitem__ treating keys as positions is deprecated. In a future version, integer keys will always be treated as labels (consistent with DataFrame behavior). To access a value by position, use `ser.iloc[pos]`\n",
      "  data_percent = round(df_sensor.count()[0] * 100 / total)\n",
      "/home/sebaxtian/Workspaces/Tangara/tangara-pipeline/standalone/notebooks/utils.ipynb:197: FutureWarning: Series.__getitem__ treating keys as positions is deprecated. In a future version, integer keys will always be treated as labels (consistent with DataFrame behavior). To access a value by position, use `ser.iloc[pos]`\n",
      "  missing_data_percent = round(df_sensor.isna().sum()[0] * 100 / total)\n",
      "/home/sebaxtian/Workspaces/Tangara/tangara-pipeline/standalone/notebooks/utils.ipynb:198: FutureWarning: Series.__getitem__ treating keys as positions is deprecated. In a future version, integer keys will always be treated as labels (consistent with DataFrame behavior). To access a value by position, use `ser.iloc[pos]`\n",
      "  data_percent = round(df_sensor.count()[0] * 100 / total)\n",
      "/home/sebaxtian/Workspaces/Tangara/tangara-pipeline/standalone/notebooks/utils.ipynb:197: FutureWarning: Series.__getitem__ treating keys as positions is deprecated. In a future version, integer keys will always be treated as labels (consistent with DataFrame behavior). To access a value by position, use `ser.iloc[pos]`\n",
      "  missing_data_percent = round(df_sensor.isna().sum()[0] * 100 / total)\n",
      "/home/sebaxtian/Workspaces/Tangara/tangara-pipeline/standalone/notebooks/utils.ipynb:198: FutureWarning: Series.__getitem__ treating keys as positions is deprecated. In a future version, integer keys will always be treated as labels (consistent with DataFrame behavior). To access a value by position, use `ser.iloc[pos]`\n",
      "  data_percent = round(df_sensor.count()[0] * 100 / total)\n",
      "/home/sebaxtian/Workspaces/Tangara/tangara-pipeline/standalone/notebooks/utils.ipynb:197: FutureWarning: Series.__getitem__ treating keys as positions is deprecated. In a future version, integer keys will always be treated as labels (consistent with DataFrame behavior). To access a value by position, use `ser.iloc[pos]`\n",
      "  missing_data_percent = round(df_sensor.isna().sum()[0] * 100 / total)\n",
      "/home/sebaxtian/Workspaces/Tangara/tangara-pipeline/standalone/notebooks/utils.ipynb:198: FutureWarning: Series.__getitem__ treating keys as positions is deprecated. In a future version, integer keys will always be treated as labels (consistent with DataFrame behavior). To access a value by position, use `ser.iloc[pos]`\n",
      "  data_percent = round(df_sensor.count()[0] * 100 / total)\n",
      "/home/sebaxtian/Workspaces/Tangara/tangara-pipeline/standalone/notebooks/utils.ipynb:197: FutureWarning: Series.__getitem__ treating keys as positions is deprecated. In a future version, integer keys will always be treated as labels (consistent with DataFrame behavior). To access a value by position, use `ser.iloc[pos]`\n",
      "  missing_data_percent = round(df_sensor.isna().sum()[0] * 100 / total)\n",
      "/home/sebaxtian/Workspaces/Tangara/tangara-pipeline/standalone/notebooks/utils.ipynb:198: FutureWarning: Series.__getitem__ treating keys as positions is deprecated. In a future version, integer keys will always be treated as labels (consistent with DataFrame behavior). To access a value by position, use `ser.iloc[pos]`\n",
      "  data_percent = round(df_sensor.count()[0] * 100 / total)\n",
      "/home/sebaxtian/Workspaces/Tangara/tangara-pipeline/standalone/notebooks/utils.ipynb:197: FutureWarning: Series.__getitem__ treating keys as positions is deprecated. In a future version, integer keys will always be treated as labels (consistent with DataFrame behavior). To access a value by position, use `ser.iloc[pos]`\n",
      "  missing_data_percent = round(df_sensor.isna().sum()[0] * 100 / total)\n",
      "/home/sebaxtian/Workspaces/Tangara/tangara-pipeline/standalone/notebooks/utils.ipynb:198: FutureWarning: Series.__getitem__ treating keys as positions is deprecated. In a future version, integer keys will always be treated as labels (consistent with DataFrame behavior). To access a value by position, use `ser.iloc[pos]`\n",
      "  data_percent = round(df_sensor.count()[0] * 100 / total)\n",
      "/home/sebaxtian/Workspaces/Tangara/tangara-pipeline/standalone/notebooks/utils.ipynb:197: FutureWarning: Series.__getitem__ treating keys as positions is deprecated. In a future version, integer keys will always be treated as labels (consistent with DataFrame behavior). To access a value by position, use `ser.iloc[pos]`\n",
      "  missing_data_percent = round(df_sensor.isna().sum()[0] * 100 / total)\n",
      "/home/sebaxtian/Workspaces/Tangara/tangara-pipeline/standalone/notebooks/utils.ipynb:198: FutureWarning: Series.__getitem__ treating keys as positions is deprecated. In a future version, integer keys will always be treated as labels (consistent with DataFrame behavior). To access a value by position, use `ser.iloc[pos]`\n",
      "  data_percent = round(df_sensor.count()[0] * 100 / total)\n"
     ]
    }
   ],
   "source": [
    "# Missing Data Threshold\n",
    "threshold = 90\n",
    "print(f'Threshold: {threshold}%')\n",
    "\n",
    "# For each Tangara sensor\n",
    "for id_tangara_sensor in df_temp_raw.columns:\n",
    "    df_temp_sensor = df_temp_raw[[id_tangara_sensor]]\n",
    "    # To be checked\n",
    "    is_ok, data_percent, missing_data_percent = to_be_checked(df_temp_sensor, threshold)\n",
    "    if not is_ok:\n",
    "        print(f\"Tangara Sensor: {id_tangara_sensor}, Data: {data_percent}%, Missing: {missing_data_percent}%, To be checked\")"
   ]
  },
  {
   "cell_type": "markdown",
   "metadata": {},
   "source": [
    "## Data Correlation"
   ]
  },
  {
   "cell_type": "code",
   "execution_count": 7,
   "metadata": {
    "execution": {
     "iopub.execute_input": "2023-11-09T01:26:29.147458Z",
     "iopub.status.busy": "2023-11-09T01:26:29.147109Z",
     "iopub.status.idle": "2023-11-09T01:26:29.155222Z",
     "shell.execute_reply": "2023-11-09T01:26:29.154252Z"
    }
   },
   "outputs": [
    {
     "name": "stdout",
     "output_type": "stream",
     "text": [
      "Threshold: 0.9%\n",
      "Reference Tangara Sensor: TANGARA_06BE, Target Tangara Sensor: TANGARA_2FF6, Correlation: 0.0, To be checked\n"
     ]
    }
   ],
   "source": [
    "# Data Correlation Threshold\n",
    "threshold = 0.9\n",
    "print(f'Threshold: {threshold}%')\n",
    "\n",
    "ID_REFE_TANGARA_SENSOR='TANGARA_06BE'\n",
    "ID_TARG_TANGARA_SENSOR='TANGARA_2FF6'\n",
    "# Reference Tangara Sensor\n",
    "df_reference_sensor = df_temp_raw[ID_REFE_TANGARA_SENSOR]\n",
    "# Target Tangara Sensor\n",
    "df_target_sensor = df_temp_raw[ID_TARG_TANGARA_SENSOR]\n",
    "\n",
    "# To be checked\n",
    "if not math.isnan(df_reference_sensor.std()):\n",
    "    is_ok, corr = is_corr_ok(df_reference_sensor, df_target_sensor, threshold)\n",
    "    if not is_ok:\n",
    "        print(f\"Reference Tangara Sensor: {ID_REFE_TANGARA_SENSOR}, Target Tangara Sensor: {ID_TARG_TANGARA_SENSOR}, Correlation: {corr}, To be checked\")\n",
    "\n",
    "# For each Tangara sensor\n",
    "# for id_tangara_sensor in df_temp_raw.columns:\n",
    "#     # Target Tangara Sensor\n",
    "#     df_target_sensor = df_temp_raw[id_tangara_sensor]\n",
    "#     # To be checked\n",
    "#     is_ok, corr = is_corr_ok(df_reference_sensor, df_target_sensor, threshold)\n",
    "#     if not is_ok:\n",
    "#         print(f\"Reference Tangara Sensor: {ID_REFE_TANGARA_SENSOR}, Target Tangara Sensor: {id_tangara_sensor}, Correlation: {corr}, To be checked\")\n"
   ]
  },
  {
   "cell_type": "code",
   "execution_count": 8,
   "metadata": {
    "execution": {
     "iopub.execute_input": "2023-11-09T01:26:29.160712Z",
     "iopub.status.busy": "2023-11-09T01:26:29.160390Z",
     "iopub.status.idle": "2023-11-09T01:26:29.170977Z",
     "shell.execute_reply": "2023-11-09T01:26:29.169950Z"
    }
   },
   "outputs": [],
   "source": [
    "# Save Temperature Data Frame Sensors into CSV file\n",
    "df_to_csv(df_temp_raw, \"temp_raw.csv\")"
   ]
  },
  {
   "cell_type": "code",
   "execution_count": null,
   "metadata": {},
   "outputs": [],
   "source": []
  }
 ],
 "metadata": {
  "kernelspec": {
   "display_name": ".venv",
   "language": "python",
   "name": "python3"
  },
  "language_info": {
   "codemirror_mode": {
    "name": "ipython",
    "version": 3
   },
   "file_extension": ".py",
   "mimetype": "text/x-python",
   "name": "python",
   "nbconvert_exporter": "python",
   "pygments_lexer": "ipython3",
   "version": "3.12.0"
  }
 },
 "nbformat": 4,
 "nbformat_minor": 2
}
