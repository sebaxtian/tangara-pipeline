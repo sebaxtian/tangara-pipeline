{
 "cells": [
  {
   "cell_type": "code",
   "execution_count": 1,
   "metadata": {
    "execution": {
     "iopub.execute_input": "2023-11-08T22:40:58.526579Z",
     "iopub.status.busy": "2023-11-08T22:40:58.525210Z",
     "iopub.status.idle": "2023-11-08T22:41:04.083191Z",
     "shell.execute_reply": "2023-11-08T22:41:04.080891Z"
    }
   },
   "outputs": [
    {
     "name": "stdout",
     "output_type": "stream",
     "text": [
      "PM2.5: 35.9, AQI: 102\n",
      "PM2.5: 35.9, Measure Level: MeasureLevels.UNHEALTHY_FOR_SENSITIVE_GROUPS, Range Values: Min: 35.5, Max: 55.4\n",
      "AQI: 102, Measure Level: MeasureLevels.UNHEALTHY_FOR_SENSITIVE_GROUPS, Range Values: Min: 101, Max: 150\n"
     ]
    }
   ],
   "source": [
    "import os\n",
    "import math\n",
    "from dotenv import load_dotenv\n",
    "\n",
    "# Explicitly providing path to '.env'\n",
    "from pathlib import Path  # Python 3.6+ only\n",
    "# Load .env variables\n",
    "_ = load_dotenv(dotenv_path=f\"{Path().resolve().parents[1]}/standalone/.env\")\n",
    "\n",
    "# import import_ipynb\n",
    "# from utils import to_timestamp, df_data_sensors, to_be_checked, is_corr_ok, df_to_csv, df_from_csv\n",
    "\n",
    "# with the new api\n",
    "from importnb import imports\n",
    "with imports(\"ipynb\"):\n",
    "    from utils import to_timestamp, df_data_sensors, to_be_checked, is_corr_ok, df_to_csv, df_from_csv"
   ]
  },
  {
   "cell_type": "markdown",
   "metadata": {},
   "source": [
    "## Temperature Raw Data"
   ]
  },
  {
   "cell_type": "code",
   "execution_count": 2,
   "metadata": {
    "execution": {
     "iopub.execute_input": "2023-11-08T22:41:04.245837Z",
     "iopub.status.busy": "2023-11-08T22:41:04.244683Z",
     "iopub.status.idle": "2023-11-08T22:41:04.317184Z",
     "shell.execute_reply": "2023-11-08T22:41:04.314072Z"
    }
   },
   "outputs": [
    {
     "name": "stdout",
     "output_type": "stream",
     "text": [
      "Total Tangara Sensors: 8\n"
     ]
    },
    {
     "data": {
      "text/html": [
       "<div>\n",
       "<style scoped>\n",
       "    .dataframe tbody tr th:only-of-type {\n",
       "        vertical-align: middle;\n",
       "    }\n",
       "\n",
       "    .dataframe tbody tr th {\n",
       "        vertical-align: top;\n",
       "    }\n",
       "\n",
       "    .dataframe thead th {\n",
       "        text-align: right;\n",
       "    }\n",
       "</style>\n",
       "<table border=\"1\" class=\"dataframe\">\n",
       "  <thead>\n",
       "    <tr style=\"text-align: right;\">\n",
       "      <th></th>\n",
       "      <th>ID</th>\n",
       "      <th>GEOHASH</th>\n",
       "      <th>MAC</th>\n",
       "      <th>GEOLOCATION</th>\n",
       "      <th>LATITUDE</th>\n",
       "      <th>LONGITUDE</th>\n",
       "    </tr>\n",
       "  </thead>\n",
       "  <tbody>\n",
       "    <tr>\n",
       "      <th>0</th>\n",
       "      <td>TANGARA_260A</td>\n",
       "      <td>d29edyj</td>\n",
       "      <td>D29ESP32DE1260A</td>\n",
       "      <td>3.4613800048828125 -76.51222229003906</td>\n",
       "      <td>3.461380</td>\n",
       "      <td>-76.512222</td>\n",
       "    </tr>\n",
       "    <tr>\n",
       "      <th>1</th>\n",
       "      <td>TANGARA_14D6</td>\n",
       "      <td>d29eg4k</td>\n",
       "      <td>D29ESP32DED14D6</td>\n",
       "      <td>3.4847259521484375 -76.50260925292969</td>\n",
       "      <td>3.484726</td>\n",
       "      <td>-76.502609</td>\n",
       "    </tr>\n",
       "    <tr>\n",
       "      <th>2</th>\n",
       "      <td>TANGARA_2B42</td>\n",
       "      <td>d29e6pg</td>\n",
       "      <td>D29ESP32DED2B42</td>\n",
       "      <td>3.4270477294921875 -76.54792785644531</td>\n",
       "      <td>3.427048</td>\n",
       "      <td>-76.547928</td>\n",
       "    </tr>\n",
       "    <tr>\n",
       "      <th>3</th>\n",
       "      <td>TANGARA_2E9A</td>\n",
       "      <td>d29ed62</td>\n",
       "      <td>D29ESP32DED2E9A</td>\n",
       "      <td>3.4407806396484375 -76.54106140136719</td>\n",
       "      <td>3.440781</td>\n",
       "      <td>-76.541061</td>\n",
       "    </tr>\n",
       "    <tr>\n",
       "      <th>4</th>\n",
       "      <td>TANGARA_2FF6</td>\n",
       "      <td>d29e66v</td>\n",
       "      <td>D29ESP32DED2FF6</td>\n",
       "      <td>3.3995819091796875 -76.53419494628906</td>\n",
       "      <td>3.399582</td>\n",
       "      <td>-76.534195</td>\n",
       "    </tr>\n",
       "  </tbody>\n",
       "</table>\n",
       "</div>"
      ],
      "text/plain": [
       "             ID  GEOHASH              MAC  \\\n",
       "0  TANGARA_260A  d29edyj  D29ESP32DE1260A   \n",
       "1  TANGARA_14D6  d29eg4k  D29ESP32DED14D6   \n",
       "2  TANGARA_2B42  d29e6pg  D29ESP32DED2B42   \n",
       "3  TANGARA_2E9A  d29ed62  D29ESP32DED2E9A   \n",
       "4  TANGARA_2FF6  d29e66v  D29ESP32DED2FF6   \n",
       "\n",
       "                             GEOLOCATION  LATITUDE  LONGITUDE  \n",
       "0  3.4613800048828125 -76.51222229003906  3.461380 -76.512222  \n",
       "1  3.4847259521484375 -76.50260925292969  3.484726 -76.502609  \n",
       "2  3.4270477294921875 -76.54792785644531  3.427048 -76.547928  \n",
       "3  3.4407806396484375 -76.54106140136719  3.440781 -76.541061  \n",
       "4  3.3995819091796875 -76.53419494628906  3.399582 -76.534195  "
      ]
     },
     "execution_count": 2,
     "metadata": {},
     "output_type": "execute_result"
    }
   ],
   "source": [
    "# Load Tangaras\n",
    "df_tangaras = df_from_csv(\"tangaras.csv\", dtindex=False)\n",
    "\n",
    "print(f\"Total Tangara Sensors: {len(df_tangaras)}\")\n",
    "\n",
    "df_tangaras.head()"
   ]
  },
  {
   "cell_type": "code",
   "execution_count": 3,
   "metadata": {
    "execution": {
     "iopub.execute_input": "2023-11-08T22:41:04.328665Z",
     "iopub.status.busy": "2023-11-08T22:41:04.326176Z",
     "iopub.status.idle": "2023-11-08T22:41:04.347094Z",
     "shell.execute_reply": "2023-11-08T22:41:04.344678Z"
    }
   },
   "outputs": [
    {
     "name": "stdout",
     "output_type": "stream",
     "text": [
      "Since: 2023-11-07T23:00:00-05:00 -> 1699416000000, Until: 2023-11-08T00:00:00-05:00 -> 1699419600000\n",
      "Group by Time: 30s\n"
     ]
    }
   ],
   "source": [
    "# Start Date Time ISO 8601 Format, TZ='America/Bogota' -05:00\n",
    "START_ISO8601_DATETIME = os.getenv(\"START_ISO8601_DATETIME\", None)\n",
    "start_timestamp = to_timestamp(START_ISO8601_DATETIME)\n",
    "# End Date Time ISO 8601 Format, TZ='America/Bogota' -05:00\n",
    "END_ISO8601_DATETIME = os.getenv(\"END_ISO8601_DATETIME\", None)\n",
    "end_timestamp = to_timestamp(os.getenv(\"END_ISO8601_DATETIME\", None))\n",
    "\n",
    "# GROUP BY TIME\n",
    "GROUP_BY_TIME = os.getenv(\"GROUP_BY_TIME\", None)\n",
    "\n",
    "print(f'Since: {START_ISO8601_DATETIME} -> {start_timestamp}, Until: {END_ISO8601_DATETIME} -> {end_timestamp}')\n",
    "print(f\"Group by Time: {GROUP_BY_TIME}\")"
   ]
  },
  {
   "cell_type": "code",
   "execution_count": 4,
   "metadata": {
    "execution": {
     "iopub.execute_input": "2023-11-08T22:41:04.361893Z",
     "iopub.status.busy": "2023-11-08T22:41:04.360531Z",
     "iopub.status.idle": "2023-11-08T22:41:04.726292Z",
     "shell.execute_reply": "2023-11-08T22:41:04.723200Z"
    }
   },
   "outputs": [
    {
     "data": {
      "text/html": [
       "<div>\n",
       "<style scoped>\n",
       "    .dataframe tbody tr th:only-of-type {\n",
       "        vertical-align: middle;\n",
       "    }\n",
       "\n",
       "    .dataframe tbody tr th {\n",
       "        vertical-align: top;\n",
       "    }\n",
       "\n",
       "    .dataframe thead th {\n",
       "        text-align: right;\n",
       "    }\n",
       "</style>\n",
       "<table border=\"1\" class=\"dataframe\">\n",
       "  <thead>\n",
       "    <tr style=\"text-align: right;\">\n",
       "      <th></th>\n",
       "      <th>TANGARA_260A</th>\n",
       "      <th>TANGARA_14D6</th>\n",
       "      <th>TANGARA_2B42</th>\n",
       "      <th>TANGARA_2E9A</th>\n",
       "      <th>TANGARA_2FF6</th>\n",
       "      <th>TANGARA_48C6</th>\n",
       "      <th>TANGARA_F1AE</th>\n",
       "      <th>TANGARA_06BE</th>\n",
       "    </tr>\n",
       "    <tr>\n",
       "      <th>DATETIME</th>\n",
       "      <th></th>\n",
       "      <th></th>\n",
       "      <th></th>\n",
       "      <th></th>\n",
       "      <th></th>\n",
       "      <th></th>\n",
       "      <th></th>\n",
       "      <th></th>\n",
       "    </tr>\n",
       "  </thead>\n",
       "  <tbody>\n",
       "    <tr>\n",
       "      <th>2023-11-07 23:00:00-05:00</th>\n",
       "      <td>29.39</td>\n",
       "      <td>28.47</td>\n",
       "      <td>27.91</td>\n",
       "      <td>30.71</td>\n",
       "      <td>28.48</td>\n",
       "      <td>28.1</td>\n",
       "      <td>28.90</td>\n",
       "      <td>29.07</td>\n",
       "    </tr>\n",
       "    <tr>\n",
       "      <th>2023-11-07 23:00:30-05:00</th>\n",
       "      <td>29.40</td>\n",
       "      <td>28.45</td>\n",
       "      <td>NaN</td>\n",
       "      <td>30.74</td>\n",
       "      <td>28.47</td>\n",
       "      <td>28.0</td>\n",
       "      <td>28.85</td>\n",
       "      <td>29.06</td>\n",
       "    </tr>\n",
       "    <tr>\n",
       "      <th>2023-11-07 23:01:00-05:00</th>\n",
       "      <td>29.37</td>\n",
       "      <td>28.45</td>\n",
       "      <td>27.90</td>\n",
       "      <td>30.75</td>\n",
       "      <td>28.44</td>\n",
       "      <td>28.1</td>\n",
       "      <td>28.85</td>\n",
       "      <td>29.07</td>\n",
       "    </tr>\n",
       "    <tr>\n",
       "      <th>2023-11-07 23:01:30-05:00</th>\n",
       "      <td>29.35</td>\n",
       "      <td>28.47</td>\n",
       "      <td>27.90</td>\n",
       "      <td>30.72</td>\n",
       "      <td>28.42</td>\n",
       "      <td>28.1</td>\n",
       "      <td>28.88</td>\n",
       "      <td>29.10</td>\n",
       "    </tr>\n",
       "    <tr>\n",
       "      <th>2023-11-07 23:02:00-05:00</th>\n",
       "      <td>29.39</td>\n",
       "      <td>28.44</td>\n",
       "      <td>NaN</td>\n",
       "      <td>30.74</td>\n",
       "      <td>28.40</td>\n",
       "      <td>28.0</td>\n",
       "      <td>28.87</td>\n",
       "      <td>29.06</td>\n",
       "    </tr>\n",
       "  </tbody>\n",
       "</table>\n",
       "</div>"
      ],
      "text/plain": [
       "                           TANGARA_260A  TANGARA_14D6  TANGARA_2B42  \\\n",
       "DATETIME                                                              \n",
       "2023-11-07 23:00:00-05:00         29.39         28.47         27.91   \n",
       "2023-11-07 23:00:30-05:00         29.40         28.45           NaN   \n",
       "2023-11-07 23:01:00-05:00         29.37         28.45         27.90   \n",
       "2023-11-07 23:01:30-05:00         29.35         28.47         27.90   \n",
       "2023-11-07 23:02:00-05:00         29.39         28.44           NaN   \n",
       "\n",
       "                           TANGARA_2E9A  TANGARA_2FF6  TANGARA_48C6  \\\n",
       "DATETIME                                                              \n",
       "2023-11-07 23:00:00-05:00         30.71         28.48          28.1   \n",
       "2023-11-07 23:00:30-05:00         30.74         28.47          28.0   \n",
       "2023-11-07 23:01:00-05:00         30.75         28.44          28.1   \n",
       "2023-11-07 23:01:30-05:00         30.72         28.42          28.1   \n",
       "2023-11-07 23:02:00-05:00         30.74         28.40          28.0   \n",
       "\n",
       "                           TANGARA_F1AE  TANGARA_06BE  \n",
       "DATETIME                                               \n",
       "2023-11-07 23:00:00-05:00         28.90         29.07  \n",
       "2023-11-07 23:00:30-05:00         28.85         29.06  \n",
       "2023-11-07 23:01:00-05:00         28.85         29.07  \n",
       "2023-11-07 23:01:30-05:00         28.88         29.10  \n",
       "2023-11-07 23:02:00-05:00         28.87         29.06  "
      ]
     },
     "execution_count": 4,
     "metadata": {},
     "output_type": "execute_result"
    }
   ],
   "source": [
    "# Temperature Data Frame Sensors\n",
    "df_temp_raw = df_data_sensors(df_tangaras, start_timestamp, end_timestamp, 'tmp', GROUP_BY_TIME)\n",
    "df_temp_raw.head()\n",
    "#df_temp_raw.shape"
   ]
  },
  {
   "cell_type": "markdown",
   "metadata": {},
   "source": [
    "## Descriptive Statistics"
   ]
  },
  {
   "cell_type": "code",
   "execution_count": 5,
   "metadata": {
    "execution": {
     "iopub.execute_input": "2023-11-08T22:41:04.735872Z",
     "iopub.status.busy": "2023-11-08T22:41:04.734464Z",
     "iopub.status.idle": "2023-11-08T22:41:04.811063Z",
     "shell.execute_reply": "2023-11-08T22:41:04.808898Z"
    }
   },
   "outputs": [
    {
     "data": {
      "text/html": [
       "<div>\n",
       "<style scoped>\n",
       "    .dataframe tbody tr th:only-of-type {\n",
       "        vertical-align: middle;\n",
       "    }\n",
       "\n",
       "    .dataframe tbody tr th {\n",
       "        vertical-align: top;\n",
       "    }\n",
       "\n",
       "    .dataframe thead th {\n",
       "        text-align: right;\n",
       "    }\n",
       "</style>\n",
       "<table border=\"1\" class=\"dataframe\">\n",
       "  <thead>\n",
       "    <tr style=\"text-align: right;\">\n",
       "      <th></th>\n",
       "      <th>TANGARA_260A</th>\n",
       "      <th>TANGARA_14D6</th>\n",
       "      <th>TANGARA_2B42</th>\n",
       "      <th>TANGARA_2E9A</th>\n",
       "      <th>TANGARA_2FF6</th>\n",
       "      <th>TANGARA_48C6</th>\n",
       "      <th>TANGARA_F1AE</th>\n",
       "      <th>TANGARA_06BE</th>\n",
       "    </tr>\n",
       "  </thead>\n",
       "  <tbody>\n",
       "    <tr>\n",
       "      <th>count</th>\n",
       "      <td>115.000000</td>\n",
       "      <td>115.000000</td>\n",
       "      <td>78.000000</td>\n",
       "      <td>114.000000</td>\n",
       "      <td>111.000000</td>\n",
       "      <td>111.000000</td>\n",
       "      <td>115.000000</td>\n",
       "      <td>115.000000</td>\n",
       "    </tr>\n",
       "    <tr>\n",
       "      <th>mean</th>\n",
       "      <td>29.098174</td>\n",
       "      <td>28.148261</td>\n",
       "      <td>27.721026</td>\n",
       "      <td>30.807982</td>\n",
       "      <td>28.365766</td>\n",
       "      <td>27.922523</td>\n",
       "      <td>28.749652</td>\n",
       "      <td>29.051565</td>\n",
       "    </tr>\n",
       "    <tr>\n",
       "      <th>std</th>\n",
       "      <td>0.217766</td>\n",
       "      <td>0.165541</td>\n",
       "      <td>0.098701</td>\n",
       "      <td>0.110631</td>\n",
       "      <td>0.045137</td>\n",
       "      <td>0.121868</td>\n",
       "      <td>0.061286</td>\n",
       "      <td>0.169771</td>\n",
       "    </tr>\n",
       "    <tr>\n",
       "      <th>min</th>\n",
       "      <td>28.690000</td>\n",
       "      <td>27.930000</td>\n",
       "      <td>27.570000</td>\n",
       "      <td>30.610000</td>\n",
       "      <td>28.250000</td>\n",
       "      <td>27.700000</td>\n",
       "      <td>28.660000</td>\n",
       "      <td>28.650000</td>\n",
       "    </tr>\n",
       "    <tr>\n",
       "      <th>25%</th>\n",
       "      <td>28.940000</td>\n",
       "      <td>28.020000</td>\n",
       "      <td>27.632500</td>\n",
       "      <td>30.720000</td>\n",
       "      <td>28.320000</td>\n",
       "      <td>27.800000</td>\n",
       "      <td>28.700000</td>\n",
       "      <td>29.000000</td>\n",
       "    </tr>\n",
       "    <tr>\n",
       "      <th>50%</th>\n",
       "      <td>29.120000</td>\n",
       "      <td>28.090000</td>\n",
       "      <td>27.720000</td>\n",
       "      <td>30.840000</td>\n",
       "      <td>28.380000</td>\n",
       "      <td>27.900000</td>\n",
       "      <td>28.740000</td>\n",
       "      <td>29.100000</td>\n",
       "    </tr>\n",
       "    <tr>\n",
       "      <th>75%</th>\n",
       "      <td>29.300000</td>\n",
       "      <td>28.305000</td>\n",
       "      <td>27.807500</td>\n",
       "      <td>30.895000</td>\n",
       "      <td>28.400000</td>\n",
       "      <td>28.000000</td>\n",
       "      <td>28.790000</td>\n",
       "      <td>29.170000</td>\n",
       "    </tr>\n",
       "    <tr>\n",
       "      <th>max</th>\n",
       "      <td>29.400000</td>\n",
       "      <td>28.470000</td>\n",
       "      <td>27.910000</td>\n",
       "      <td>30.990000</td>\n",
       "      <td>28.480000</td>\n",
       "      <td>28.200000</td>\n",
       "      <td>28.900000</td>\n",
       "      <td>29.260000</td>\n",
       "    </tr>\n",
       "  </tbody>\n",
       "</table>\n",
       "</div>"
      ],
      "text/plain": [
       "       TANGARA_260A  TANGARA_14D6  TANGARA_2B42  TANGARA_2E9A  TANGARA_2FF6  \\\n",
       "count    115.000000    115.000000     78.000000    114.000000    111.000000   \n",
       "mean      29.098174     28.148261     27.721026     30.807982     28.365766   \n",
       "std        0.217766      0.165541      0.098701      0.110631      0.045137   \n",
       "min       28.690000     27.930000     27.570000     30.610000     28.250000   \n",
       "25%       28.940000     28.020000     27.632500     30.720000     28.320000   \n",
       "50%       29.120000     28.090000     27.720000     30.840000     28.380000   \n",
       "75%       29.300000     28.305000     27.807500     30.895000     28.400000   \n",
       "max       29.400000     28.470000     27.910000     30.990000     28.480000   \n",
       "\n",
       "       TANGARA_48C6  TANGARA_F1AE  TANGARA_06BE  \n",
       "count    111.000000    115.000000    115.000000  \n",
       "mean      27.922523     28.749652     29.051565  \n",
       "std        0.121868      0.061286      0.169771  \n",
       "min       27.700000     28.660000     28.650000  \n",
       "25%       27.800000     28.700000     29.000000  \n",
       "50%       27.900000     28.740000     29.100000  \n",
       "75%       28.000000     28.790000     29.170000  \n",
       "max       28.200000     28.900000     29.260000  "
      ]
     },
     "execution_count": 5,
     "metadata": {},
     "output_type": "execute_result"
    }
   ],
   "source": [
    "# Describe Data\n",
    "df_temp_raw.describe()"
   ]
  },
  {
   "cell_type": "markdown",
   "metadata": {},
   "source": [
    "## Missing Data"
   ]
  },
  {
   "cell_type": "code",
   "execution_count": 6,
   "metadata": {
    "execution": {
     "iopub.execute_input": "2023-11-08T22:41:04.820557Z",
     "iopub.status.busy": "2023-11-08T22:41:04.818986Z",
     "iopub.status.idle": "2023-11-08T22:41:04.862257Z",
     "shell.execute_reply": "2023-11-08T22:41:04.859834Z"
    }
   },
   "outputs": [
    {
     "name": "stdout",
     "output_type": "stream",
     "text": [
      "Threshold: 90%\n",
      "Tangara Sensor: TANGARA_2B42, Data: 66%, Missing: 34%, To be checked\n"
     ]
    },
    {
     "name": "stderr",
     "output_type": "stream",
     "text": [
      "/home/sebaxtian/Workspaces/Tangara/tangara-pipeline/standalone/notebooks/utils.ipynb:197: FutureWarning: Series.__getitem__ treating keys as positions is deprecated. In a future version, integer keys will always be treated as labels (consistent with DataFrame behavior). To access a value by position, use `ser.iloc[pos]`\n",
      "  missing_data_percent = round(df_sensor.isna().sum()[0] * 100 / total)\n",
      "/home/sebaxtian/Workspaces/Tangara/tangara-pipeline/standalone/notebooks/utils.ipynb:198: FutureWarning: Series.__getitem__ treating keys as positions is deprecated. In a future version, integer keys will always be treated as labels (consistent with DataFrame behavior). To access a value by position, use `ser.iloc[pos]`\n",
      "  data_percent = round(df_sensor.count()[0] * 100 / total)\n",
      "/home/sebaxtian/Workspaces/Tangara/tangara-pipeline/standalone/notebooks/utils.ipynb:197: FutureWarning: Series.__getitem__ treating keys as positions is deprecated. In a future version, integer keys will always be treated as labels (consistent with DataFrame behavior). To access a value by position, use `ser.iloc[pos]`\n",
      "  missing_data_percent = round(df_sensor.isna().sum()[0] * 100 / total)\n",
      "/home/sebaxtian/Workspaces/Tangara/tangara-pipeline/standalone/notebooks/utils.ipynb:198: FutureWarning: Series.__getitem__ treating keys as positions is deprecated. In a future version, integer keys will always be treated as labels (consistent with DataFrame behavior). To access a value by position, use `ser.iloc[pos]`\n",
      "  data_percent = round(df_sensor.count()[0] * 100 / total)\n",
      "/home/sebaxtian/Workspaces/Tangara/tangara-pipeline/standalone/notebooks/utils.ipynb:197: FutureWarning: Series.__getitem__ treating keys as positions is deprecated. In a future version, integer keys will always be treated as labels (consistent with DataFrame behavior). To access a value by position, use `ser.iloc[pos]`\n",
      "  missing_data_percent = round(df_sensor.isna().sum()[0] * 100 / total)\n",
      "/home/sebaxtian/Workspaces/Tangara/tangara-pipeline/standalone/notebooks/utils.ipynb:198: FutureWarning: Series.__getitem__ treating keys as positions is deprecated. In a future version, integer keys will always be treated as labels (consistent with DataFrame behavior). To access a value by position, use `ser.iloc[pos]`\n",
      "  data_percent = round(df_sensor.count()[0] * 100 / total)\n",
      "/home/sebaxtian/Workspaces/Tangara/tangara-pipeline/standalone/notebooks/utils.ipynb:197: FutureWarning: Series.__getitem__ treating keys as positions is deprecated. In a future version, integer keys will always be treated as labels (consistent with DataFrame behavior). To access a value by position, use `ser.iloc[pos]`\n",
      "  missing_data_percent = round(df_sensor.isna().sum()[0] * 100 / total)\n",
      "/home/sebaxtian/Workspaces/Tangara/tangara-pipeline/standalone/notebooks/utils.ipynb:198: FutureWarning: Series.__getitem__ treating keys as positions is deprecated. In a future version, integer keys will always be treated as labels (consistent with DataFrame behavior). To access a value by position, use `ser.iloc[pos]`\n",
      "  data_percent = round(df_sensor.count()[0] * 100 / total)\n",
      "/home/sebaxtian/Workspaces/Tangara/tangara-pipeline/standalone/notebooks/utils.ipynb:197: FutureWarning: Series.__getitem__ treating keys as positions is deprecated. In a future version, integer keys will always be treated as labels (consistent with DataFrame behavior). To access a value by position, use `ser.iloc[pos]`\n",
      "  missing_data_percent = round(df_sensor.isna().sum()[0] * 100 / total)\n",
      "/home/sebaxtian/Workspaces/Tangara/tangara-pipeline/standalone/notebooks/utils.ipynb:198: FutureWarning: Series.__getitem__ treating keys as positions is deprecated. In a future version, integer keys will always be treated as labels (consistent with DataFrame behavior). To access a value by position, use `ser.iloc[pos]`\n",
      "  data_percent = round(df_sensor.count()[0] * 100 / total)\n",
      "/home/sebaxtian/Workspaces/Tangara/tangara-pipeline/standalone/notebooks/utils.ipynb:197: FutureWarning: Series.__getitem__ treating keys as positions is deprecated. In a future version, integer keys will always be treated as labels (consistent with DataFrame behavior). To access a value by position, use `ser.iloc[pos]`\n",
      "  missing_data_percent = round(df_sensor.isna().sum()[0] * 100 / total)\n",
      "/home/sebaxtian/Workspaces/Tangara/tangara-pipeline/standalone/notebooks/utils.ipynb:198: FutureWarning: Series.__getitem__ treating keys as positions is deprecated. In a future version, integer keys will always be treated as labels (consistent with DataFrame behavior). To access a value by position, use `ser.iloc[pos]`\n",
      "  data_percent = round(df_sensor.count()[0] * 100 / total)\n",
      "/home/sebaxtian/Workspaces/Tangara/tangara-pipeline/standalone/notebooks/utils.ipynb:197: FutureWarning: Series.__getitem__ treating keys as positions is deprecated. In a future version, integer keys will always be treated as labels (consistent with DataFrame behavior). To access a value by position, use `ser.iloc[pos]`\n",
      "  missing_data_percent = round(df_sensor.isna().sum()[0] * 100 / total)\n",
      "/home/sebaxtian/Workspaces/Tangara/tangara-pipeline/standalone/notebooks/utils.ipynb:198: FutureWarning: Series.__getitem__ treating keys as positions is deprecated. In a future version, integer keys will always be treated as labels (consistent with DataFrame behavior). To access a value by position, use `ser.iloc[pos]`\n",
      "  data_percent = round(df_sensor.count()[0] * 100 / total)\n",
      "/home/sebaxtian/Workspaces/Tangara/tangara-pipeline/standalone/notebooks/utils.ipynb:197: FutureWarning: Series.__getitem__ treating keys as positions is deprecated. In a future version, integer keys will always be treated as labels (consistent with DataFrame behavior). To access a value by position, use `ser.iloc[pos]`\n",
      "  missing_data_percent = round(df_sensor.isna().sum()[0] * 100 / total)\n",
      "/home/sebaxtian/Workspaces/Tangara/tangara-pipeline/standalone/notebooks/utils.ipynb:198: FutureWarning: Series.__getitem__ treating keys as positions is deprecated. In a future version, integer keys will always be treated as labels (consistent with DataFrame behavior). To access a value by position, use `ser.iloc[pos]`\n",
      "  data_percent = round(df_sensor.count()[0] * 100 / total)\n"
     ]
    }
   ],
   "source": [
    "# Missing Data Threshold\n",
    "threshold = 90\n",
    "print(f'Threshold: {threshold}%')\n",
    "\n",
    "# For each Tangara sensor\n",
    "for id_tangara_sensor in df_temp_raw.columns:\n",
    "    df_temp_sensor = df_temp_raw[[id_tangara_sensor]]\n",
    "    # To be checked\n",
    "    is_ok, data_percent, missing_data_percent = to_be_checked(df_temp_sensor, threshold)\n",
    "    if not is_ok:\n",
    "        print(f\"Tangara Sensor: {id_tangara_sensor}, Data: {data_percent}%, Missing: {missing_data_percent}%, To be checked\")"
   ]
  },
  {
   "cell_type": "markdown",
   "metadata": {},
   "source": [
    "## Data Correlation"
   ]
  },
  {
   "cell_type": "code",
   "execution_count": 7,
   "metadata": {
    "execution": {
     "iopub.execute_input": "2023-11-08T22:41:04.873337Z",
     "iopub.status.busy": "2023-11-08T22:41:04.871940Z",
     "iopub.status.idle": "2023-11-08T22:41:04.889389Z",
     "shell.execute_reply": "2023-11-08T22:41:04.887033Z"
    }
   },
   "outputs": [
    {
     "name": "stdout",
     "output_type": "stream",
     "text": [
      "Threshold: 0.9%\n",
      "Reference Tangara Sensor: TANGARA_06BE, Target Tangara Sensor: TANGARA_2FF6, Correlation: 0.0, To be checked\n"
     ]
    }
   ],
   "source": [
    "# Data Correlation Threshold\n",
    "threshold = 0.9\n",
    "print(f'Threshold: {threshold}%')\n",
    "\n",
    "ID_REFE_TANGARA_SENSOR='TANGARA_06BE'\n",
    "ID_TARG_TANGARA_SENSOR='TANGARA_2FF6'\n",
    "# Reference Tangara Sensor\n",
    "df_reference_sensor = df_temp_raw[ID_REFE_TANGARA_SENSOR]\n",
    "# Target Tangara Sensor\n",
    "df_target_sensor = df_temp_raw[ID_TARG_TANGARA_SENSOR]\n",
    "\n",
    "# To be checked\n",
    "if not math.isnan(df_reference_sensor.std()):\n",
    "    is_ok, corr = is_corr_ok(df_reference_sensor, df_target_sensor, threshold)\n",
    "    if not is_ok:\n",
    "        print(f\"Reference Tangara Sensor: {ID_REFE_TANGARA_SENSOR}, Target Tangara Sensor: {ID_TARG_TANGARA_SENSOR}, Correlation: {corr}, To be checked\")\n",
    "\n",
    "# For each Tangara sensor\n",
    "# for id_tangara_sensor in df_temp_raw.columns:\n",
    "#     # Target Tangara Sensor\n",
    "#     df_target_sensor = df_temp_raw[id_tangara_sensor]\n",
    "#     # To be checked\n",
    "#     is_ok, corr = is_corr_ok(df_reference_sensor, df_target_sensor, threshold)\n",
    "#     if not is_ok:\n",
    "#         print(f\"Reference Tangara Sensor: {ID_REFE_TANGARA_SENSOR}, Target Tangara Sensor: {id_tangara_sensor}, Correlation: {corr}, To be checked\")\n"
   ]
  },
  {
   "cell_type": "code",
   "execution_count": 8,
   "metadata": {
    "execution": {
     "iopub.execute_input": "2023-11-08T22:41:04.898665Z",
     "iopub.status.busy": "2023-11-08T22:41:04.897854Z",
     "iopub.status.idle": "2023-11-08T22:41:04.917696Z",
     "shell.execute_reply": "2023-11-08T22:41:04.915693Z"
    }
   },
   "outputs": [],
   "source": [
    "# Save Temperature Data Frame Sensors into CSV file\n",
    "df_to_csv(df_temp_raw, \"temp_raw.csv\")"
   ]
  },
  {
   "cell_type": "code",
   "execution_count": null,
   "metadata": {},
   "outputs": [],
   "source": []
  }
 ],
 "metadata": {
  "kernelspec": {
   "display_name": ".venv",
   "language": "python",
   "name": "python3"
  },
  "language_info": {
   "codemirror_mode": {
    "name": "ipython",
    "version": 3
   },
   "file_extension": ".py",
   "mimetype": "text/x-python",
   "name": "python",
   "nbconvert_exporter": "python",
   "pygments_lexer": "ipython3",
   "version": "3.12.0"
  }
 },
 "nbformat": 4,
 "nbformat_minor": 2
}
