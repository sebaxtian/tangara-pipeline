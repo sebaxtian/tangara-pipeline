{
 "cells": [
  {
   "cell_type": "code",
   "execution_count": 1,
   "metadata": {
    "execution": {
     "iopub.execute_input": "2023-11-14T18:36:03.803510Z",
     "iopub.status.busy": "2023-11-14T18:36:03.803187Z",
     "iopub.status.idle": "2023-11-14T18:36:06.221790Z",
     "shell.execute_reply": "2023-11-14T18:36:06.220548Z"
    }
   },
   "outputs": [
    {
     "name": "stdout",
     "output_type": "stream",
     "text": [
      "PM2.5: 35.9, AQI: 102\n",
      "PM2.5: 35.9, Measure Level: MeasureLevels.UNHEALTHY_FOR_SENSITIVE_GROUPS, Range Values: Min: 35.5, Max: 55.4\n",
      "AQI: 102, Measure Level: MeasureLevels.UNHEALTHY_FOR_SENSITIVE_GROUPS, Range Values: Min: 101, Max: 150\n"
     ]
    }
   ],
   "source": [
    "import os\n",
    "import math\n",
    "from dotenv import load_dotenv\n",
    "\n",
    "# Explicitly providing path to '.env'\n",
    "from pathlib import Path  # Python 3.6+ only\n",
    "# Load .env variables\n",
    "_ = load_dotenv(dotenv_path=f\"{Path().resolve().parents[1]}/standalone/.env\")\n",
    "\n",
    "# with the new api\n",
    "from importnb import imports\n",
    "with imports(\"ipynb\"):\n",
    "    from utils import to_timestamp, df_data_sensors, to_be_checked, is_corr_ok, df_to_csv, df_from_csv"
   ]
  },
  {
   "cell_type": "markdown",
   "metadata": {},
   "source": [
    "## Temperature Raw Data"
   ]
  },
  {
   "cell_type": "code",
   "execution_count": 2,
   "metadata": {
    "execution": {
     "iopub.execute_input": "2023-11-14T18:36:06.295419Z",
     "iopub.status.busy": "2023-11-14T18:36:06.294922Z",
     "iopub.status.idle": "2023-11-14T18:36:06.322754Z",
     "shell.execute_reply": "2023-11-14T18:36:06.321666Z"
    }
   },
   "outputs": [
    {
     "name": "stdout",
     "output_type": "stream",
     "text": [
      "Total Tangara Sensors: 10\n"
     ]
    },
    {
     "data": {
      "text/html": [
       "<div>\n",
       "<style scoped>\n",
       "    .dataframe tbody tr th:only-of-type {\n",
       "        vertical-align: middle;\n",
       "    }\n",
       "\n",
       "    .dataframe tbody tr th {\n",
       "        vertical-align: top;\n",
       "    }\n",
       "\n",
       "    .dataframe thead th {\n",
       "        text-align: right;\n",
       "    }\n",
       "</style>\n",
       "<table border=\"1\" class=\"dataframe\">\n",
       "  <thead>\n",
       "    <tr style=\"text-align: right;\">\n",
       "      <th></th>\n",
       "      <th>ID</th>\n",
       "      <th>GEOHASH</th>\n",
       "      <th>MAC</th>\n",
       "      <th>GEOLOCATION</th>\n",
       "      <th>LATITUDE</th>\n",
       "      <th>LONGITUDE</th>\n",
       "    </tr>\n",
       "  </thead>\n",
       "  <tbody>\n",
       "    <tr>\n",
       "      <th>0</th>\n",
       "      <td>TANGARA_260A</td>\n",
       "      <td>d29edyj</td>\n",
       "      <td>D29ESP32DE1260A</td>\n",
       "      <td>3.4613800048828125 -76.51222229003906</td>\n",
       "      <td>3.461380</td>\n",
       "      <td>-76.512222</td>\n",
       "    </tr>\n",
       "    <tr>\n",
       "      <th>1</th>\n",
       "      <td>TANGARA_4B1A</td>\n",
       "      <td>d29esj8</td>\n",
       "      <td>D29ESP32DE94B1A</td>\n",
       "      <td>3.4586334228515625 -76.46415710449219</td>\n",
       "      <td>3.458633</td>\n",
       "      <td>-76.464157</td>\n",
       "    </tr>\n",
       "    <tr>\n",
       "      <th>2</th>\n",
       "      <td>TANGARA_14D6</td>\n",
       "      <td>d29eg4k</td>\n",
       "      <td>D29ESP32DED14D6</td>\n",
       "      <td>3.4847259521484375 -76.50260925292969</td>\n",
       "      <td>3.484726</td>\n",
       "      <td>-76.502609</td>\n",
       "    </tr>\n",
       "    <tr>\n",
       "      <th>3</th>\n",
       "      <td>TANGARA_2B42</td>\n",
       "      <td>d29e6pg</td>\n",
       "      <td>D29ESP32DED2B42</td>\n",
       "      <td>3.4270477294921875 -76.54792785644531</td>\n",
       "      <td>3.427048</td>\n",
       "      <td>-76.547928</td>\n",
       "    </tr>\n",
       "    <tr>\n",
       "      <th>4</th>\n",
       "      <td>TANGARA_2E9A</td>\n",
       "      <td>d29ed62</td>\n",
       "      <td>D29ESP32DED2E9A</td>\n",
       "      <td>3.4407806396484375 -76.54106140136719</td>\n",
       "      <td>3.440781</td>\n",
       "      <td>-76.541061</td>\n",
       "    </tr>\n",
       "  </tbody>\n",
       "</table>\n",
       "</div>"
      ],
      "text/plain": [
       "             ID  GEOHASH              MAC  \\\n",
       "0  TANGARA_260A  d29edyj  D29ESP32DE1260A   \n",
       "1  TANGARA_4B1A  d29esj8  D29ESP32DE94B1A   \n",
       "2  TANGARA_14D6  d29eg4k  D29ESP32DED14D6   \n",
       "3  TANGARA_2B42  d29e6pg  D29ESP32DED2B42   \n",
       "4  TANGARA_2E9A  d29ed62  D29ESP32DED2E9A   \n",
       "\n",
       "                             GEOLOCATION  LATITUDE  LONGITUDE  \n",
       "0  3.4613800048828125 -76.51222229003906  3.461380 -76.512222  \n",
       "1  3.4586334228515625 -76.46415710449219  3.458633 -76.464157  \n",
       "2  3.4847259521484375 -76.50260925292969  3.484726 -76.502609  \n",
       "3  3.4270477294921875 -76.54792785644531  3.427048 -76.547928  \n",
       "4  3.4407806396484375 -76.54106140136719  3.440781 -76.541061  "
      ]
     },
     "execution_count": 2,
     "metadata": {},
     "output_type": "execute_result"
    }
   ],
   "source": [
    "# Load Tangaras\n",
    "df_tangaras = df_from_csv(\"tangaras.csv\", dtindex=False)\n",
    "\n",
    "print(f\"Total Tangara Sensors: {len(df_tangaras)}\")\n",
    "\n",
    "df_tangaras.head()"
   ]
  },
  {
   "cell_type": "code",
   "execution_count": 3,
   "metadata": {
    "execution": {
     "iopub.execute_input": "2023-11-14T18:36:06.328246Z",
     "iopub.status.busy": "2023-11-14T18:36:06.327828Z",
     "iopub.status.idle": "2023-11-14T18:36:06.334780Z",
     "shell.execute_reply": "2023-11-14T18:36:06.333738Z"
    }
   },
   "outputs": [
    {
     "name": "stdout",
     "output_type": "stream",
     "text": [
      "Since: 2023-11-10T00:00:00-05:00 -> 1699592400000, Until: 2023-11-11T23:59:59-05:00 -> 1699765199000\n",
      "Group by Time: 30s\n"
     ]
    }
   ],
   "source": [
    "# Start Date Time ISO 8601 Format, TZ='America/Bogota' -05:00\n",
    "START_ISO8601_DATETIME = os.getenv(\"START_ISO8601_DATETIME\", None)\n",
    "start_timestamp = to_timestamp(START_ISO8601_DATETIME)\n",
    "# End Date Time ISO 8601 Format, TZ='America/Bogota' -05:00\n",
    "END_ISO8601_DATETIME = os.getenv(\"END_ISO8601_DATETIME\", None)\n",
    "end_timestamp = to_timestamp(os.getenv(\"END_ISO8601_DATETIME\", None))\n",
    "\n",
    "# GROUP BY TIME\n",
    "GROUP_BY_TIME = os.getenv(\"GROUP_BY_TIME\", None)\n",
    "\n",
    "print(f'Since: {START_ISO8601_DATETIME} -> {start_timestamp}, Until: {END_ISO8601_DATETIME} -> {end_timestamp}')\n",
    "print(f\"Group by Time: {GROUP_BY_TIME}\")"
   ]
  },
  {
   "cell_type": "code",
   "execution_count": 4,
   "metadata": {
    "execution": {
     "iopub.execute_input": "2023-11-14T18:36:06.338434Z",
     "iopub.status.busy": "2023-11-14T18:36:06.338097Z",
     "iopub.status.idle": "2023-11-14T18:36:07.811255Z",
     "shell.execute_reply": "2023-11-14T18:36:07.810441Z"
    }
   },
   "outputs": [
    {
     "data": {
      "text/html": [
       "<div>\n",
       "<style scoped>\n",
       "    .dataframe tbody tr th:only-of-type {\n",
       "        vertical-align: middle;\n",
       "    }\n",
       "\n",
       "    .dataframe tbody tr th {\n",
       "        vertical-align: top;\n",
       "    }\n",
       "\n",
       "    .dataframe thead th {\n",
       "        text-align: right;\n",
       "    }\n",
       "</style>\n",
       "<table border=\"1\" class=\"dataframe\">\n",
       "  <thead>\n",
       "    <tr style=\"text-align: right;\">\n",
       "      <th></th>\n",
       "      <th>TANGARA_260A</th>\n",
       "      <th>TANGARA_4B1A</th>\n",
       "      <th>TANGARA_14D6</th>\n",
       "      <th>TANGARA_2B42</th>\n",
       "      <th>TANGARA_2E9A</th>\n",
       "      <th>TANGARA_2FF6</th>\n",
       "      <th>TANGARA_307A</th>\n",
       "      <th>TANGARA_48C6</th>\n",
       "      <th>TANGARA_F1AE</th>\n",
       "      <th>TANGARA_06BE</th>\n",
       "    </tr>\n",
       "    <tr>\n",
       "      <th>DATETIME</th>\n",
       "      <th></th>\n",
       "      <th></th>\n",
       "      <th></th>\n",
       "      <th></th>\n",
       "      <th></th>\n",
       "      <th></th>\n",
       "      <th></th>\n",
       "      <th></th>\n",
       "      <th></th>\n",
       "      <th></th>\n",
       "    </tr>\n",
       "  </thead>\n",
       "  <tbody>\n",
       "    <tr>\n",
       "      <th>2023-11-10 00:00:00-05:00</th>\n",
       "      <td>NaN</td>\n",
       "      <td>NaN</td>\n",
       "      <td>NaN</td>\n",
       "      <td>NaN</td>\n",
       "      <td>NaN</td>\n",
       "      <td>NaN</td>\n",
       "      <td>NaN</td>\n",
       "      <td>NaN</td>\n",
       "      <td>29.76</td>\n",
       "      <td>NaN</td>\n",
       "    </tr>\n",
       "    <tr>\n",
       "      <th>2023-11-10 00:00:30-05:00</th>\n",
       "      <td>29.06</td>\n",
       "      <td>26.92</td>\n",
       "      <td>28.83</td>\n",
       "      <td>NaN</td>\n",
       "      <td>30.56</td>\n",
       "      <td>30.01</td>\n",
       "      <td>29.21</td>\n",
       "      <td>29.7</td>\n",
       "      <td>29.76</td>\n",
       "      <td>29.71</td>\n",
       "    </tr>\n",
       "    <tr>\n",
       "      <th>2023-11-10 00:01:00-05:00</th>\n",
       "      <td>29.05</td>\n",
       "      <td>26.89</td>\n",
       "      <td>28.82</td>\n",
       "      <td>NaN</td>\n",
       "      <td>30.51</td>\n",
       "      <td>30.05</td>\n",
       "      <td>29.16</td>\n",
       "      <td>29.6</td>\n",
       "      <td>29.72</td>\n",
       "      <td>29.74</td>\n",
       "    </tr>\n",
       "    <tr>\n",
       "      <th>2023-11-10 00:01:30-05:00</th>\n",
       "      <td>29.05</td>\n",
       "      <td>26.86</td>\n",
       "      <td>28.79</td>\n",
       "      <td>NaN</td>\n",
       "      <td>30.47</td>\n",
       "      <td>30.05</td>\n",
       "      <td>29.11</td>\n",
       "      <td>29.6</td>\n",
       "      <td>29.75</td>\n",
       "      <td>29.76</td>\n",
       "    </tr>\n",
       "    <tr>\n",
       "      <th>2023-11-10 00:02:00-05:00</th>\n",
       "      <td>29.04</td>\n",
       "      <td>26.83</td>\n",
       "      <td>28.81</td>\n",
       "      <td>NaN</td>\n",
       "      <td>30.43</td>\n",
       "      <td>30.02</td>\n",
       "      <td>29.09</td>\n",
       "      <td>29.6</td>\n",
       "      <td>29.76</td>\n",
       "      <td>29.78</td>\n",
       "    </tr>\n",
       "  </tbody>\n",
       "</table>\n",
       "</div>"
      ],
      "text/plain": [
       "                           TANGARA_260A  TANGARA_4B1A  TANGARA_14D6  \\\n",
       "DATETIME                                                              \n",
       "2023-11-10 00:00:00-05:00           NaN           NaN           NaN   \n",
       "2023-11-10 00:00:30-05:00         29.06         26.92         28.83   \n",
       "2023-11-10 00:01:00-05:00         29.05         26.89         28.82   \n",
       "2023-11-10 00:01:30-05:00         29.05         26.86         28.79   \n",
       "2023-11-10 00:02:00-05:00         29.04         26.83         28.81   \n",
       "\n",
       "                           TANGARA_2B42  TANGARA_2E9A  TANGARA_2FF6  \\\n",
       "DATETIME                                                              \n",
       "2023-11-10 00:00:00-05:00           NaN           NaN           NaN   \n",
       "2023-11-10 00:00:30-05:00           NaN         30.56         30.01   \n",
       "2023-11-10 00:01:00-05:00           NaN         30.51         30.05   \n",
       "2023-11-10 00:01:30-05:00           NaN         30.47         30.05   \n",
       "2023-11-10 00:02:00-05:00           NaN         30.43         30.02   \n",
       "\n",
       "                           TANGARA_307A  TANGARA_48C6  TANGARA_F1AE  \\\n",
       "DATETIME                                                              \n",
       "2023-11-10 00:00:00-05:00           NaN           NaN         29.76   \n",
       "2023-11-10 00:00:30-05:00         29.21          29.7         29.76   \n",
       "2023-11-10 00:01:00-05:00         29.16          29.6         29.72   \n",
       "2023-11-10 00:01:30-05:00         29.11          29.6         29.75   \n",
       "2023-11-10 00:02:00-05:00         29.09          29.6         29.76   \n",
       "\n",
       "                           TANGARA_06BE  \n",
       "DATETIME                                 \n",
       "2023-11-10 00:00:00-05:00           NaN  \n",
       "2023-11-10 00:00:30-05:00         29.71  \n",
       "2023-11-10 00:01:00-05:00         29.74  \n",
       "2023-11-10 00:01:30-05:00         29.76  \n",
       "2023-11-10 00:02:00-05:00         29.78  "
      ]
     },
     "execution_count": 4,
     "metadata": {},
     "output_type": "execute_result"
    }
   ],
   "source": [
    "# Temperature Data Frame Sensors\n",
    "df_temp_raw = df_data_sensors(df_tangaras, start_timestamp, end_timestamp, 'tmp', GROUP_BY_TIME)\n",
    "df_temp_raw.head()\n",
    "#df_temp_raw.shape"
   ]
  },
  {
   "cell_type": "markdown",
   "metadata": {},
   "source": [
    "## Descriptive Statistics"
   ]
  },
  {
   "cell_type": "code",
   "execution_count": 5,
   "metadata": {
    "execution": {
     "iopub.execute_input": "2023-11-14T18:36:07.815102Z",
     "iopub.status.busy": "2023-11-14T18:36:07.814774Z",
     "iopub.status.idle": "2023-11-14T18:36:07.858080Z",
     "shell.execute_reply": "2023-11-14T18:36:07.857104Z"
    }
   },
   "outputs": [
    {
     "data": {
      "text/html": [
       "<div>\n",
       "<style scoped>\n",
       "    .dataframe tbody tr th:only-of-type {\n",
       "        vertical-align: middle;\n",
       "    }\n",
       "\n",
       "    .dataframe tbody tr th {\n",
       "        vertical-align: top;\n",
       "    }\n",
       "\n",
       "    .dataframe thead th {\n",
       "        text-align: right;\n",
       "    }\n",
       "</style>\n",
       "<table border=\"1\" class=\"dataframe\">\n",
       "  <thead>\n",
       "    <tr style=\"text-align: right;\">\n",
       "      <th></th>\n",
       "      <th>TANGARA_260A</th>\n",
       "      <th>TANGARA_4B1A</th>\n",
       "      <th>TANGARA_14D6</th>\n",
       "      <th>TANGARA_2B42</th>\n",
       "      <th>TANGARA_2E9A</th>\n",
       "      <th>TANGARA_2FF6</th>\n",
       "      <th>TANGARA_307A</th>\n",
       "      <th>TANGARA_48C6</th>\n",
       "      <th>TANGARA_F1AE</th>\n",
       "      <th>TANGARA_06BE</th>\n",
       "    </tr>\n",
       "  </thead>\n",
       "  <tbody>\n",
       "    <tr>\n",
       "      <th>count</th>\n",
       "      <td>5615.000000</td>\n",
       "      <td>5663.000000</td>\n",
       "      <td>1039.000000</td>\n",
       "      <td>4226.000000</td>\n",
       "      <td>5679.000000</td>\n",
       "      <td>5692.000000</td>\n",
       "      <td>5599.000000</td>\n",
       "      <td>5511.000000</td>\n",
       "      <td>5734.000000</td>\n",
       "      <td>5388.000000</td>\n",
       "    </tr>\n",
       "    <tr>\n",
       "      <th>mean</th>\n",
       "      <td>30.621811</td>\n",
       "      <td>30.179135</td>\n",
       "      <td>27.854206</td>\n",
       "      <td>28.954624</td>\n",
       "      <td>32.563907</td>\n",
       "      <td>31.734805</td>\n",
       "      <td>31.096035</td>\n",
       "      <td>30.978969</td>\n",
       "      <td>31.546650</td>\n",
       "      <td>31.321431</td>\n",
       "    </tr>\n",
       "    <tr>\n",
       "      <th>std</th>\n",
       "      <td>2.262406</td>\n",
       "      <td>3.733033</td>\n",
       "      <td>0.703534</td>\n",
       "      <td>1.758038</td>\n",
       "      <td>2.763188</td>\n",
       "      <td>4.113531</td>\n",
       "      <td>4.020052</td>\n",
       "      <td>3.855376</td>\n",
       "      <td>2.374798</td>\n",
       "      <td>3.161958</td>\n",
       "    </tr>\n",
       "    <tr>\n",
       "      <th>min</th>\n",
       "      <td>27.050000</td>\n",
       "      <td>25.730000</td>\n",
       "      <td>27.050000</td>\n",
       "      <td>24.580000</td>\n",
       "      <td>29.220000</td>\n",
       "      <td>26.770000</td>\n",
       "      <td>26.590000</td>\n",
       "      <td>26.200000</td>\n",
       "      <td>28.090000</td>\n",
       "      <td>25.020000</td>\n",
       "    </tr>\n",
       "    <tr>\n",
       "      <th>25%</th>\n",
       "      <td>28.710000</td>\n",
       "      <td>26.820000</td>\n",
       "      <td>27.420000</td>\n",
       "      <td>27.555000</td>\n",
       "      <td>30.430000</td>\n",
       "      <td>27.910000</td>\n",
       "      <td>27.790000</td>\n",
       "      <td>27.600000</td>\n",
       "      <td>29.290000</td>\n",
       "      <td>28.240000</td>\n",
       "    </tr>\n",
       "    <tr>\n",
       "      <th>50%</th>\n",
       "      <td>30.170000</td>\n",
       "      <td>28.610000</td>\n",
       "      <td>27.650000</td>\n",
       "      <td>28.830000</td>\n",
       "      <td>31.180000</td>\n",
       "      <td>30.490000</td>\n",
       "      <td>29.260000</td>\n",
       "      <td>29.700000</td>\n",
       "      <td>31.300000</td>\n",
       "      <td>30.780000</td>\n",
       "    </tr>\n",
       "    <tr>\n",
       "      <th>75%</th>\n",
       "      <td>32.670000</td>\n",
       "      <td>33.840000</td>\n",
       "      <td>27.930000</td>\n",
       "      <td>30.450000</td>\n",
       "      <td>35.300000</td>\n",
       "      <td>35.625000</td>\n",
       "      <td>34.230000</td>\n",
       "      <td>34.200000</td>\n",
       "      <td>33.925000</td>\n",
       "      <td>34.220000</td>\n",
       "    </tr>\n",
       "    <tr>\n",
       "      <th>max</th>\n",
       "      <td>35.460000</td>\n",
       "      <td>38.090000</td>\n",
       "      <td>30.360000</td>\n",
       "      <td>32.630000</td>\n",
       "      <td>39.080000</td>\n",
       "      <td>39.800000</td>\n",
       "      <td>40.510000</td>\n",
       "      <td>39.000000</td>\n",
       "      <td>36.300000</td>\n",
       "      <td>37.190000</td>\n",
       "    </tr>\n",
       "  </tbody>\n",
       "</table>\n",
       "</div>"
      ],
      "text/plain": [
       "       TANGARA_260A  TANGARA_4B1A  TANGARA_14D6  TANGARA_2B42  TANGARA_2E9A  \\\n",
       "count   5615.000000   5663.000000   1039.000000   4226.000000   5679.000000   \n",
       "mean      30.621811     30.179135     27.854206     28.954624     32.563907   \n",
       "std        2.262406      3.733033      0.703534      1.758038      2.763188   \n",
       "min       27.050000     25.730000     27.050000     24.580000     29.220000   \n",
       "25%       28.710000     26.820000     27.420000     27.555000     30.430000   \n",
       "50%       30.170000     28.610000     27.650000     28.830000     31.180000   \n",
       "75%       32.670000     33.840000     27.930000     30.450000     35.300000   \n",
       "max       35.460000     38.090000     30.360000     32.630000     39.080000   \n",
       "\n",
       "       TANGARA_2FF6  TANGARA_307A  TANGARA_48C6  TANGARA_F1AE  TANGARA_06BE  \n",
       "count   5692.000000   5599.000000   5511.000000   5734.000000   5388.000000  \n",
       "mean      31.734805     31.096035     30.978969     31.546650     31.321431  \n",
       "std        4.113531      4.020052      3.855376      2.374798      3.161958  \n",
       "min       26.770000     26.590000     26.200000     28.090000     25.020000  \n",
       "25%       27.910000     27.790000     27.600000     29.290000     28.240000  \n",
       "50%       30.490000     29.260000     29.700000     31.300000     30.780000  \n",
       "75%       35.625000     34.230000     34.200000     33.925000     34.220000  \n",
       "max       39.800000     40.510000     39.000000     36.300000     37.190000  "
      ]
     },
     "execution_count": 5,
     "metadata": {},
     "output_type": "execute_result"
    }
   ],
   "source": [
    "# Describe Data\n",
    "df_temp_raw.describe()"
   ]
  },
  {
   "cell_type": "markdown",
   "metadata": {},
   "source": [
    "## Missing Data"
   ]
  },
  {
   "cell_type": "code",
   "execution_count": 6,
   "metadata": {
    "execution": {
     "iopub.execute_input": "2023-11-14T18:36:07.861910Z",
     "iopub.status.busy": "2023-11-14T18:36:07.861577Z",
     "iopub.status.idle": "2023-11-14T18:36:07.887569Z",
     "shell.execute_reply": "2023-11-14T18:36:07.886594Z"
    }
   },
   "outputs": [
    {
     "name": "stdout",
     "output_type": "stream",
     "text": [
      "Threshold: 90%\n",
      "Tangara Sensor: TANGARA_14D6, Data: 18%, Missing: 82%, To be checked\n",
      "Tangara Sensor: TANGARA_2B42, Data: 73%, Missing: 27%, To be checked\n"
     ]
    }
   ],
   "source": [
    "import warnings\n",
    "warnings.filterwarnings('ignore')\n",
    "\n",
    "# Missing Data Threshold\n",
    "threshold = 90\n",
    "print(f'Threshold: {threshold}%')\n",
    "\n",
    "# For each Tangara sensor\n",
    "for id_tangara_sensor in df_temp_raw.columns:\n",
    "    df_temp_sensor = df_temp_raw[[id_tangara_sensor]]\n",
    "    # To be checked\n",
    "    is_ok, data_percent, missing_data_percent = to_be_checked(df_temp_sensor, threshold)\n",
    "    if not is_ok:\n",
    "        print(f\"Tangara Sensor: {id_tangara_sensor}, Data: {data_percent}%, Missing: {missing_data_percent}%, To be checked\")"
   ]
  },
  {
   "cell_type": "markdown",
   "metadata": {},
   "source": [
    "## Data Correlation"
   ]
  },
  {
   "cell_type": "code",
   "execution_count": 7,
   "metadata": {
    "execution": {
     "iopub.execute_input": "2023-11-14T18:36:07.891325Z",
     "iopub.status.busy": "2023-11-14T18:36:07.890998Z",
     "iopub.status.idle": "2023-11-14T18:36:07.898773Z",
     "shell.execute_reply": "2023-11-14T18:36:07.898008Z"
    }
   },
   "outputs": [
    {
     "name": "stdout",
     "output_type": "stream",
     "text": [
      "Threshold: 0.9%\n",
      "Reference Tangara Sensor: TANGARA_06BE, Target Tangara Sensor: TANGARA_2FF6, Correlation: 0.0, To be checked\n"
     ]
    }
   ],
   "source": [
    "# Data Correlation Threshold\n",
    "threshold = 0.9\n",
    "print(f'Threshold: {threshold}%')\n",
    "\n",
    "ID_REFE_TANGARA_SENSOR='TANGARA_06BE'\n",
    "ID_TARG_TANGARA_SENSOR='TANGARA_2FF6'\n",
    "# Reference Tangara Sensor\n",
    "df_reference_sensor = df_temp_raw[ID_REFE_TANGARA_SENSOR]\n",
    "# Target Tangara Sensor\n",
    "df_target_sensor = df_temp_raw[ID_TARG_TANGARA_SENSOR]\n",
    "\n",
    "# To be checked\n",
    "if not math.isnan(df_reference_sensor.std()):\n",
    "    is_ok, corr = is_corr_ok(df_reference_sensor, df_target_sensor, threshold)\n",
    "    if not is_ok:\n",
    "        print(f\"Reference Tangara Sensor: {ID_REFE_TANGARA_SENSOR}, Target Tangara Sensor: {ID_TARG_TANGARA_SENSOR}, Correlation: {corr}, To be checked\")\n",
    "\n",
    "# For each Tangara sensor\n",
    "# for id_tangara_sensor in df_temp_raw.columns:\n",
    "#     # Target Tangara Sensor\n",
    "#     df_target_sensor = df_temp_raw[id_tangara_sensor]\n",
    "#     # To be checked\n",
    "#     is_ok, corr = is_corr_ok(df_reference_sensor, df_target_sensor, threshold)\n",
    "#     if not is_ok:\n",
    "#         print(f\"Reference Tangara Sensor: {ID_REFE_TANGARA_SENSOR}, Target Tangara Sensor: {id_tangara_sensor}, Correlation: {corr}, To be checked\")\n"
   ]
  },
  {
   "cell_type": "code",
   "execution_count": 8,
   "metadata": {
    "execution": {
     "iopub.execute_input": "2023-11-14T18:36:07.902272Z",
     "iopub.status.busy": "2023-11-14T18:36:07.901951Z",
     "iopub.status.idle": "2023-11-14T18:36:08.052890Z",
     "shell.execute_reply": "2023-11-14T18:36:08.051813Z"
    }
   },
   "outputs": [],
   "source": [
    "# Save Temperature Data Frame Sensors into CSV file\n",
    "df_to_csv(df_temp_raw, \"temp_raw.csv\")"
   ]
  },
  {
   "cell_type": "code",
   "execution_count": null,
   "metadata": {},
   "outputs": [],
   "source": []
  }
 ],
 "metadata": {
  "kernelspec": {
   "display_name": ".venv",
   "language": "python",
   "name": "python3"
  },
  "language_info": {
   "codemirror_mode": {
    "name": "ipython",
    "version": 3
   },
   "file_extension": ".py",
   "mimetype": "text/x-python",
   "name": "python",
   "nbconvert_exporter": "python",
   "pygments_lexer": "ipython3",
   "version": "3.12.0"
  }
 },
 "nbformat": 4,
 "nbformat_minor": 2
}
