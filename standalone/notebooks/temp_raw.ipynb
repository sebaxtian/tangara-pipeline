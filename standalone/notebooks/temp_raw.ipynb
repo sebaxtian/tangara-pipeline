{
 "cells": [
  {
   "cell_type": "code",
   "execution_count": 1,
   "metadata": {
    "execution": {
     "iopub.execute_input": "2023-10-05T23:31:20.560671Z",
     "iopub.status.busy": "2023-10-05T23:31:20.559996Z",
     "iopub.status.idle": "2023-10-05T23:31:24.019784Z",
     "shell.execute_reply": "2023-10-05T23:31:24.018007Z"
    }
   },
   "outputs": [
    {
     "name": "stdout",
     "output_type": "stream",
     "text": [
      "importing Jupyter notebook from utils.ipynb\n",
      "importing Jupyter notebook from aqi_epa_pm25.ipynb\n",
      "PM2.5: 35.9, AQI: 102\n",
      "PM2.5: 35.9, Measure Level: MeasureLevels.UNHEALTHY_FOR_SENSITIVE_GROUPS, Range Values: Min: 35.5, Max: 55.4\n",
      "AQI: 102, Measure Level: MeasureLevels.UNHEALTHY_FOR_SENSITIVE_GROUPS, Range Values: Min: 101, Max: 150\n"
     ]
    }
   ],
   "source": [
    "import os\n",
    "\n",
    "from dotenv import load_dotenv\n",
    "\n",
    "# Explicitly providing path to '.env'\n",
    "from pathlib import Path  # Python 3.6+ only\n",
    "# Load .env variables\n",
    "_ = load_dotenv(dotenv_path=f\"{Path().resolve().parents[1]}/standalone/.env\")\n",
    "\n",
    "import import_ipynb\n",
    "from utils import to_timestamp, df_data_sensors, to_be_checked, is_corr_ok, df_to_csv, df_from_csv"
   ]
  },
  {
   "cell_type": "markdown",
   "metadata": {},
   "source": [
    "## Temperature Raw Data"
   ]
  },
  {
   "cell_type": "code",
   "execution_count": 2,
   "metadata": {
    "execution": {
     "iopub.execute_input": "2023-10-05T23:31:24.026193Z",
     "iopub.status.busy": "2023-10-05T23:31:24.025689Z",
     "iopub.status.idle": "2023-10-05T23:31:24.063966Z",
     "shell.execute_reply": "2023-10-05T23:31:24.061927Z"
    }
   },
   "outputs": [
    {
     "name": "stdout",
     "output_type": "stream",
     "text": [
      "Total Tangara Sensors: 12\n"
     ]
    },
    {
     "data": {
      "text/html": [
       "<div>\n",
       "<style scoped>\n",
       "    .dataframe tbody tr th:only-of-type {\n",
       "        vertical-align: middle;\n",
       "    }\n",
       "\n",
       "    .dataframe tbody tr th {\n",
       "        vertical-align: top;\n",
       "    }\n",
       "\n",
       "    .dataframe thead th {\n",
       "        text-align: right;\n",
       "    }\n",
       "</style>\n",
       "<table border=\"1\" class=\"dataframe\">\n",
       "  <thead>\n",
       "    <tr style=\"text-align: right;\">\n",
       "      <th></th>\n",
       "      <th>ID</th>\n",
       "      <th>GEOHASH</th>\n",
       "      <th>MAC</th>\n",
       "      <th>GEOLOCATION</th>\n",
       "      <th>LATITUDE</th>\n",
       "      <th>LONGITUDE</th>\n",
       "    </tr>\n",
       "  </thead>\n",
       "  <tbody>\n",
       "    <tr>\n",
       "      <th>0</th>\n",
       "      <td>TANGARA_25CE</td>\n",
       "      <td>d29e4r0</td>\n",
       "      <td>D29ESP32DE125CE</td>\n",
       "      <td>3.3789825439453125 -76.54106140136719</td>\n",
       "      <td>3.378983</td>\n",
       "      <td>-76.541061</td>\n",
       "    </tr>\n",
       "    <tr>\n",
       "      <th>1</th>\n",
       "      <td>TANGARA_260A</td>\n",
       "      <td>d29edyj</td>\n",
       "      <td>D29ESP32DE1260A</td>\n",
       "      <td>3.4613800048828125 -76.51222229003906</td>\n",
       "      <td>3.461380</td>\n",
       "      <td>-76.512222</td>\n",
       "    </tr>\n",
       "    <tr>\n",
       "      <th>2</th>\n",
       "      <td>TANGARA_4B1A</td>\n",
       "      <td>d29esj8</td>\n",
       "      <td>D29ESP32DE94B1A</td>\n",
       "      <td>3.4586334228515625 -76.46415710449219</td>\n",
       "      <td>3.458633</td>\n",
       "      <td>-76.464157</td>\n",
       "    </tr>\n",
       "    <tr>\n",
       "      <th>3</th>\n",
       "      <td>TANGARA_14D6</td>\n",
       "      <td>d29eg4k</td>\n",
       "      <td>D29ESP32DED14D6</td>\n",
       "      <td>3.4847259521484375 -76.50260925292969</td>\n",
       "      <td>3.484726</td>\n",
       "      <td>-76.502609</td>\n",
       "    </tr>\n",
       "    <tr>\n",
       "      <th>4</th>\n",
       "      <td>TANGARA_1EE6</td>\n",
       "      <td>d29edh3</td>\n",
       "      <td>D29ESP32DED1EE6</td>\n",
       "      <td>3.4517669677734375 -76.55067443847656</td>\n",
       "      <td>3.451767</td>\n",
       "      <td>-76.550674</td>\n",
       "    </tr>\n",
       "  </tbody>\n",
       "</table>\n",
       "</div>"
      ],
      "text/plain": [
       "             ID  GEOHASH              MAC  \\\n",
       "0  TANGARA_25CE  d29e4r0  D29ESP32DE125CE   \n",
       "1  TANGARA_260A  d29edyj  D29ESP32DE1260A   \n",
       "2  TANGARA_4B1A  d29esj8  D29ESP32DE94B1A   \n",
       "3  TANGARA_14D6  d29eg4k  D29ESP32DED14D6   \n",
       "4  TANGARA_1EE6  d29edh3  D29ESP32DED1EE6   \n",
       "\n",
       "                             GEOLOCATION  LATITUDE  LONGITUDE  \n",
       "0  3.3789825439453125 -76.54106140136719  3.378983 -76.541061  \n",
       "1  3.4613800048828125 -76.51222229003906  3.461380 -76.512222  \n",
       "2  3.4586334228515625 -76.46415710449219  3.458633 -76.464157  \n",
       "3  3.4847259521484375 -76.50260925292969  3.484726 -76.502609  \n",
       "4  3.4517669677734375 -76.55067443847656  3.451767 -76.550674  "
      ]
     },
     "execution_count": 2,
     "metadata": {},
     "output_type": "execute_result"
    }
   ],
   "source": [
    "# Load Tangaras\n",
    "df_tangaras = df_from_csv(\"tangaras.csv\", dtindex=False)\n",
    "\n",
    "print(f\"Total Tangara Sensors: {len(df_tangaras)}\")\n",
    "\n",
    "df_tangaras.head()"
   ]
  },
  {
   "cell_type": "code",
   "execution_count": 3,
   "metadata": {
    "execution": {
     "iopub.execute_input": "2023-10-05T23:31:24.070744Z",
     "iopub.status.busy": "2023-10-05T23:31:24.070111Z",
     "iopub.status.idle": "2023-10-05T23:31:24.081175Z",
     "shell.execute_reply": "2023-10-05T23:31:24.079075Z"
    }
   },
   "outputs": [
    {
     "name": "stdout",
     "output_type": "stream",
     "text": [
      "Since: 2023-09-26T00:00:00-05:00 -> 1695704400000, Until: 2023-09-26T00:05:00-05:00 -> 1695704700000\n"
     ]
    }
   ],
   "source": [
    "# Start Date Time ISO 8601 Format, TZ='America/Bogota' -05:00\n",
    "START_ISO8601_DATETIME=os.getenv(\"START_ISO8601_DATETIME\", None)\n",
    "start_timestamp = to_timestamp(START_ISO8601_DATETIME)\n",
    "# End Date Time ISO 8601 Format, TZ='America/Bogota' -05:00\n",
    "END_ISO8601_DATETIME=os.getenv(\"END_ISO8601_DATETIME\", None)\n",
    "end_timestamp = to_timestamp(os.getenv(\"END_ISO8601_DATETIME\", None))\n",
    "\n",
    "print(f'Since: {START_ISO8601_DATETIME} -> {start_timestamp}, Until: {END_ISO8601_DATETIME} -> {end_timestamp}')"
   ]
  },
  {
   "cell_type": "code",
   "execution_count": 4,
   "metadata": {
    "execution": {
     "iopub.execute_input": "2023-10-05T23:31:24.087445Z",
     "iopub.status.busy": "2023-10-05T23:31:24.086938Z",
     "iopub.status.idle": "2023-10-05T23:31:24.655400Z",
     "shell.execute_reply": "2023-10-05T23:31:24.653413Z"
    }
   },
   "outputs": [
    {
     "data": {
      "text/html": [
       "<div>\n",
       "<style scoped>\n",
       "    .dataframe tbody tr th:only-of-type {\n",
       "        vertical-align: middle;\n",
       "    }\n",
       "\n",
       "    .dataframe tbody tr th {\n",
       "        vertical-align: top;\n",
       "    }\n",
       "\n",
       "    .dataframe thead th {\n",
       "        text-align: right;\n",
       "    }\n",
       "</style>\n",
       "<table border=\"1\" class=\"dataframe\">\n",
       "  <thead>\n",
       "    <tr style=\"text-align: right;\">\n",
       "      <th></th>\n",
       "      <th>TANGARA_25CE</th>\n",
       "      <th>TANGARA_260A</th>\n",
       "      <th>TANGARA_4B1A</th>\n",
       "      <th>TANGARA_14D6</th>\n",
       "      <th>TANGARA_1EE6</th>\n",
       "      <th>TANGARA_2E9A</th>\n",
       "      <th>TANGARA_2FF6</th>\n",
       "      <th>TANGARA_1712</th>\n",
       "      <th>TANGARA_48C6</th>\n",
       "      <th>TANGARA_532E</th>\n",
       "      <th>TANGARA_F1AE</th>\n",
       "      <th>TANGARA_06BE</th>\n",
       "    </tr>\n",
       "    <tr>\n",
       "      <th>DATETIME</th>\n",
       "      <th></th>\n",
       "      <th></th>\n",
       "      <th></th>\n",
       "      <th></th>\n",
       "      <th></th>\n",
       "      <th></th>\n",
       "      <th></th>\n",
       "      <th></th>\n",
       "      <th></th>\n",
       "      <th></th>\n",
       "      <th></th>\n",
       "      <th></th>\n",
       "    </tr>\n",
       "  </thead>\n",
       "  <tbody>\n",
       "    <tr>\n",
       "      <th>2023-09-26 00:00:30-05:00</th>\n",
       "      <td>0.0</td>\n",
       "      <td>30.17</td>\n",
       "      <td>28.22</td>\n",
       "      <td>29.50</td>\n",
       "      <td>29.60</td>\n",
       "      <td>30.18</td>\n",
       "      <td>28.98</td>\n",
       "      <td>26.72</td>\n",
       "      <td>28.9</td>\n",
       "      <td>27.3</td>\n",
       "      <td>31.09</td>\n",
       "      <td>29.26</td>\n",
       "    </tr>\n",
       "    <tr>\n",
       "      <th>2023-09-26 00:01:00-05:00</th>\n",
       "      <td>0.0</td>\n",
       "      <td>30.20</td>\n",
       "      <td>28.25</td>\n",
       "      <td>29.51</td>\n",
       "      <td>29.65</td>\n",
       "      <td>30.18</td>\n",
       "      <td>28.89</td>\n",
       "      <td>26.70</td>\n",
       "      <td>28.9</td>\n",
       "      <td>27.3</td>\n",
       "      <td>31.09</td>\n",
       "      <td>29.30</td>\n",
       "    </tr>\n",
       "    <tr>\n",
       "      <th>2023-09-26 00:01:30-05:00</th>\n",
       "      <td>0.0</td>\n",
       "      <td>30.20</td>\n",
       "      <td>28.23</td>\n",
       "      <td>29.49</td>\n",
       "      <td>29.62</td>\n",
       "      <td>30.17</td>\n",
       "      <td>28.88</td>\n",
       "      <td>26.70</td>\n",
       "      <td>28.9</td>\n",
       "      <td>NaN</td>\n",
       "      <td>31.10</td>\n",
       "      <td>29.32</td>\n",
       "    </tr>\n",
       "    <tr>\n",
       "      <th>2023-09-26 00:02:00-05:00</th>\n",
       "      <td>0.0</td>\n",
       "      <td>30.20</td>\n",
       "      <td>28.26</td>\n",
       "      <td>29.49</td>\n",
       "      <td>29.65</td>\n",
       "      <td>30.14</td>\n",
       "      <td>28.83</td>\n",
       "      <td>26.69</td>\n",
       "      <td>28.9</td>\n",
       "      <td>27.3</td>\n",
       "      <td>31.08</td>\n",
       "      <td>29.36</td>\n",
       "    </tr>\n",
       "    <tr>\n",
       "      <th>2023-09-26 00:02:30-05:00</th>\n",
       "      <td>0.0</td>\n",
       "      <td>30.18</td>\n",
       "      <td>28.25</td>\n",
       "      <td>29.46</td>\n",
       "      <td>29.65</td>\n",
       "      <td>30.14</td>\n",
       "      <td>28.79</td>\n",
       "      <td>26.67</td>\n",
       "      <td>28.9</td>\n",
       "      <td>27.3</td>\n",
       "      <td>31.12</td>\n",
       "      <td>29.37</td>\n",
       "    </tr>\n",
       "  </tbody>\n",
       "</table>\n",
       "</div>"
      ],
      "text/plain": [
       "                           TANGARA_25CE  TANGARA_260A  TANGARA_4B1A  \\\n",
       "DATETIME                                                              \n",
       "2023-09-26 00:00:30-05:00           0.0         30.17         28.22   \n",
       "2023-09-26 00:01:00-05:00           0.0         30.20         28.25   \n",
       "2023-09-26 00:01:30-05:00           0.0         30.20         28.23   \n",
       "2023-09-26 00:02:00-05:00           0.0         30.20         28.26   \n",
       "2023-09-26 00:02:30-05:00           0.0         30.18         28.25   \n",
       "\n",
       "                           TANGARA_14D6  TANGARA_1EE6  TANGARA_2E9A  \\\n",
       "DATETIME                                                              \n",
       "2023-09-26 00:00:30-05:00         29.50         29.60         30.18   \n",
       "2023-09-26 00:01:00-05:00         29.51         29.65         30.18   \n",
       "2023-09-26 00:01:30-05:00         29.49         29.62         30.17   \n",
       "2023-09-26 00:02:00-05:00         29.49         29.65         30.14   \n",
       "2023-09-26 00:02:30-05:00         29.46         29.65         30.14   \n",
       "\n",
       "                           TANGARA_2FF6  TANGARA_1712  TANGARA_48C6  \\\n",
       "DATETIME                                                              \n",
       "2023-09-26 00:00:30-05:00         28.98         26.72          28.9   \n",
       "2023-09-26 00:01:00-05:00         28.89         26.70          28.9   \n",
       "2023-09-26 00:01:30-05:00         28.88         26.70          28.9   \n",
       "2023-09-26 00:02:00-05:00         28.83         26.69          28.9   \n",
       "2023-09-26 00:02:30-05:00         28.79         26.67          28.9   \n",
       "\n",
       "                           TANGARA_532E  TANGARA_F1AE  TANGARA_06BE  \n",
       "DATETIME                                                             \n",
       "2023-09-26 00:00:30-05:00          27.3         31.09         29.26  \n",
       "2023-09-26 00:01:00-05:00          27.3         31.09         29.30  \n",
       "2023-09-26 00:01:30-05:00           NaN         31.10         29.32  \n",
       "2023-09-26 00:02:00-05:00          27.3         31.08         29.36  \n",
       "2023-09-26 00:02:30-05:00          27.3         31.12         29.37  "
      ]
     },
     "execution_count": 4,
     "metadata": {},
     "output_type": "execute_result"
    }
   ],
   "source": [
    "# Temperature Data Frame Sensors\n",
    "df_temp_raw = df_data_sensors(df_tangaras, start_timestamp, end_timestamp, 'tmp')\n",
    "df_temp_raw.head()\n",
    "#df_temp_raw.shape"
   ]
  },
  {
   "cell_type": "markdown",
   "metadata": {},
   "source": [
    "## Descriptive Statistics"
   ]
  },
  {
   "cell_type": "code",
   "execution_count": 5,
   "metadata": {
    "execution": {
     "iopub.execute_input": "2023-10-05T23:31:24.661956Z",
     "iopub.status.busy": "2023-10-05T23:31:24.661438Z",
     "iopub.status.idle": "2023-10-05T23:31:24.753033Z",
     "shell.execute_reply": "2023-10-05T23:31:24.751273Z"
    }
   },
   "outputs": [
    {
     "data": {
      "text/html": [
       "<div>\n",
       "<style scoped>\n",
       "    .dataframe tbody tr th:only-of-type {\n",
       "        vertical-align: middle;\n",
       "    }\n",
       "\n",
       "    .dataframe tbody tr th {\n",
       "        vertical-align: top;\n",
       "    }\n",
       "\n",
       "    .dataframe thead th {\n",
       "        text-align: right;\n",
       "    }\n",
       "</style>\n",
       "<table border=\"1\" class=\"dataframe\">\n",
       "  <thead>\n",
       "    <tr style=\"text-align: right;\">\n",
       "      <th></th>\n",
       "      <th>TANGARA_25CE</th>\n",
       "      <th>TANGARA_260A</th>\n",
       "      <th>TANGARA_4B1A</th>\n",
       "      <th>TANGARA_14D6</th>\n",
       "      <th>TANGARA_1EE6</th>\n",
       "      <th>TANGARA_2E9A</th>\n",
       "      <th>TANGARA_2FF6</th>\n",
       "      <th>TANGARA_1712</th>\n",
       "      <th>TANGARA_48C6</th>\n",
       "      <th>TANGARA_532E</th>\n",
       "      <th>TANGARA_F1AE</th>\n",
       "      <th>TANGARA_06BE</th>\n",
       "    </tr>\n",
       "  </thead>\n",
       "  <tbody>\n",
       "    <tr>\n",
       "      <th>count</th>\n",
       "      <td>9.0</td>\n",
       "      <td>9.000000</td>\n",
       "      <td>9.000000</td>\n",
       "      <td>9.000000</td>\n",
       "      <td>9.000000</td>\n",
       "      <td>9.000000</td>\n",
       "      <td>9.000000</td>\n",
       "      <td>9.000000</td>\n",
       "      <td>9.000000e+00</td>\n",
       "      <td>8.000000</td>\n",
       "      <td>9.000000</td>\n",
       "      <td>9.000000</td>\n",
       "    </tr>\n",
       "    <tr>\n",
       "      <th>mean</th>\n",
       "      <td>0.0</td>\n",
       "      <td>30.183333</td>\n",
       "      <td>28.246667</td>\n",
       "      <td>29.464444</td>\n",
       "      <td>29.657778</td>\n",
       "      <td>30.122222</td>\n",
       "      <td>28.796667</td>\n",
       "      <td>26.685556</td>\n",
       "      <td>2.890000e+01</td>\n",
       "      <td>27.362500</td>\n",
       "      <td>31.096667</td>\n",
       "      <td>29.355556</td>\n",
       "    </tr>\n",
       "    <tr>\n",
       "      <th>std</th>\n",
       "      <td>0.0</td>\n",
       "      <td>0.017321</td>\n",
       "      <td>0.013229</td>\n",
       "      <td>0.033208</td>\n",
       "      <td>0.033458</td>\n",
       "      <td>0.065532</td>\n",
       "      <td>0.106888</td>\n",
       "      <td>0.021279</td>\n",
       "      <td>3.768222e-15</td>\n",
       "      <td>0.074402</td>\n",
       "      <td>0.011180</td>\n",
       "      <td>0.054339</td>\n",
       "    </tr>\n",
       "    <tr>\n",
       "      <th>min</th>\n",
       "      <td>0.0</td>\n",
       "      <td>30.160000</td>\n",
       "      <td>28.220000</td>\n",
       "      <td>29.430000</td>\n",
       "      <td>29.600000</td>\n",
       "      <td>29.970000</td>\n",
       "      <td>28.670000</td>\n",
       "      <td>26.660000</td>\n",
       "      <td>2.890000e+01</td>\n",
       "      <td>27.300000</td>\n",
       "      <td>31.080000</td>\n",
       "      <td>29.260000</td>\n",
       "    </tr>\n",
       "    <tr>\n",
       "      <th>25%</th>\n",
       "      <td>0.0</td>\n",
       "      <td>30.170000</td>\n",
       "      <td>28.250000</td>\n",
       "      <td>29.430000</td>\n",
       "      <td>29.650000</td>\n",
       "      <td>30.100000</td>\n",
       "      <td>28.690000</td>\n",
       "      <td>26.670000</td>\n",
       "      <td>2.890000e+01</td>\n",
       "      <td>27.300000</td>\n",
       "      <td>31.090000</td>\n",
       "      <td>29.320000</td>\n",
       "    </tr>\n",
       "    <tr>\n",
       "      <th>50%</th>\n",
       "      <td>0.0</td>\n",
       "      <td>30.180000</td>\n",
       "      <td>28.250000</td>\n",
       "      <td>29.460000</td>\n",
       "      <td>29.650000</td>\n",
       "      <td>30.140000</td>\n",
       "      <td>28.790000</td>\n",
       "      <td>26.690000</td>\n",
       "      <td>2.890000e+01</td>\n",
       "      <td>27.350000</td>\n",
       "      <td>31.100000</td>\n",
       "      <td>29.370000</td>\n",
       "    </tr>\n",
       "    <tr>\n",
       "      <th>75%</th>\n",
       "      <td>0.0</td>\n",
       "      <td>30.200000</td>\n",
       "      <td>28.250000</td>\n",
       "      <td>29.490000</td>\n",
       "      <td>29.690000</td>\n",
       "      <td>30.170000</td>\n",
       "      <td>28.880000</td>\n",
       "      <td>26.700000</td>\n",
       "      <td>2.890000e+01</td>\n",
       "      <td>27.400000</td>\n",
       "      <td>31.100000</td>\n",
       "      <td>29.380000</td>\n",
       "    </tr>\n",
       "    <tr>\n",
       "      <th>max</th>\n",
       "      <td>0.0</td>\n",
       "      <td>30.200000</td>\n",
       "      <td>28.260000</td>\n",
       "      <td>29.510000</td>\n",
       "      <td>29.700000</td>\n",
       "      <td>30.180000</td>\n",
       "      <td>28.980000</td>\n",
       "      <td>26.720000</td>\n",
       "      <td>2.890000e+01</td>\n",
       "      <td>27.500000</td>\n",
       "      <td>31.120000</td>\n",
       "      <td>29.440000</td>\n",
       "    </tr>\n",
       "  </tbody>\n",
       "</table>\n",
       "</div>"
      ],
      "text/plain": [
       "       TANGARA_25CE  TANGARA_260A  TANGARA_4B1A  TANGARA_14D6  TANGARA_1EE6  \\\n",
       "count           9.0      9.000000      9.000000      9.000000      9.000000   \n",
       "mean            0.0     30.183333     28.246667     29.464444     29.657778   \n",
       "std             0.0      0.017321      0.013229      0.033208      0.033458   \n",
       "min             0.0     30.160000     28.220000     29.430000     29.600000   \n",
       "25%             0.0     30.170000     28.250000     29.430000     29.650000   \n",
       "50%             0.0     30.180000     28.250000     29.460000     29.650000   \n",
       "75%             0.0     30.200000     28.250000     29.490000     29.690000   \n",
       "max             0.0     30.200000     28.260000     29.510000     29.700000   \n",
       "\n",
       "       TANGARA_2E9A  TANGARA_2FF6  TANGARA_1712  TANGARA_48C6  TANGARA_532E  \\\n",
       "count      9.000000      9.000000      9.000000  9.000000e+00      8.000000   \n",
       "mean      30.122222     28.796667     26.685556  2.890000e+01     27.362500   \n",
       "std        0.065532      0.106888      0.021279  3.768222e-15      0.074402   \n",
       "min       29.970000     28.670000     26.660000  2.890000e+01     27.300000   \n",
       "25%       30.100000     28.690000     26.670000  2.890000e+01     27.300000   \n",
       "50%       30.140000     28.790000     26.690000  2.890000e+01     27.350000   \n",
       "75%       30.170000     28.880000     26.700000  2.890000e+01     27.400000   \n",
       "max       30.180000     28.980000     26.720000  2.890000e+01     27.500000   \n",
       "\n",
       "       TANGARA_F1AE  TANGARA_06BE  \n",
       "count      9.000000      9.000000  \n",
       "mean      31.096667     29.355556  \n",
       "std        0.011180      0.054339  \n",
       "min       31.080000     29.260000  \n",
       "25%       31.090000     29.320000  \n",
       "50%       31.100000     29.370000  \n",
       "75%       31.100000     29.380000  \n",
       "max       31.120000     29.440000  "
      ]
     },
     "execution_count": 5,
     "metadata": {},
     "output_type": "execute_result"
    }
   ],
   "source": [
    "# Describe Data\n",
    "df_temp_raw.describe()"
   ]
  },
  {
   "cell_type": "markdown",
   "metadata": {},
   "source": [
    "## Missing Data"
   ]
  },
  {
   "cell_type": "code",
   "execution_count": 6,
   "metadata": {
    "execution": {
     "iopub.execute_input": "2023-10-05T23:31:24.759505Z",
     "iopub.status.busy": "2023-10-05T23:31:24.758990Z",
     "iopub.status.idle": "2023-10-05T23:31:24.812295Z",
     "shell.execute_reply": "2023-10-05T23:31:24.810697Z"
    }
   },
   "outputs": [
    {
     "name": "stdout",
     "output_type": "stream",
     "text": [
      "Threshold: 90%\n",
      "Tangara Sensor: TANGARA_532E, Data: 89%, Missing: 11%, To be checked\n"
     ]
    }
   ],
   "source": [
    "# Missing Data Threshold\n",
    "threshold = 90\n",
    "print(f'Threshold: {threshold}%')\n",
    "\n",
    "# For each Tangara sensor\n",
    "for id_tangara_sensor in df_temp_raw.columns:\n",
    "    df_temp_sensor = df_temp_raw[[id_tangara_sensor]]\n",
    "    # To be checked\n",
    "    is_ok, data_percent, missing_data_percent = to_be_checked(df_temp_sensor, threshold)\n",
    "    if not is_ok:\n",
    "        print(f\"Tangara Sensor: {id_tangara_sensor}, Data: {data_percent}%, Missing: {missing_data_percent}%, To be checked\")"
   ]
  },
  {
   "cell_type": "markdown",
   "metadata": {},
   "source": [
    "## Data Correlation"
   ]
  },
  {
   "cell_type": "code",
   "execution_count": 7,
   "metadata": {
    "execution": {
     "iopub.execute_input": "2023-10-05T23:31:24.818482Z",
     "iopub.status.busy": "2023-10-05T23:31:24.817948Z",
     "iopub.status.idle": "2023-10-05T23:31:24.836557Z",
     "shell.execute_reply": "2023-10-05T23:31:24.834402Z"
    }
   },
   "outputs": [
    {
     "name": "stdout",
     "output_type": "stream",
     "text": [
      "Threshold: 0.9%\n",
      "Reference Tangara Sensor: TANGARA_06BE, Target Tangara Sensor: TANGARA_2FF6, Correlation: -0.94, To be checked\n"
     ]
    }
   ],
   "source": [
    "# Data Correlation Threshold\n",
    "threshold = 0.9\n",
    "print(f'Threshold: {threshold}%')\n",
    "\n",
    "ID_REFE_TANGARA_SENSOR='TANGARA_06BE'\n",
    "ID_TARG_TANGARA_SENSOR='TANGARA_2FF6'\n",
    "# Reference Tangara Sensor\n",
    "df_reference_sensor = df_temp_raw[ID_REFE_TANGARA_SENSOR]\n",
    "# Target Tangara Sensor\n",
    "df_target_sensor = df_temp_raw[ID_TARG_TANGARA_SENSOR]\n",
    "\n",
    "# To be checked\n",
    "is_ok, corr = is_corr_ok(df_reference_sensor, df_target_sensor, threshold)\n",
    "if not is_ok:\n",
    "    print(f\"Reference Tangara Sensor: {ID_REFE_TANGARA_SENSOR}, Target Tangara Sensor: {ID_TARG_TANGARA_SENSOR}, Correlation: {corr}, To be checked\")\n",
    "\n",
    "# For each Tangara sensor\n",
    "# for id_tangara_sensor in df_temp_raw.columns:\n",
    "#     # Target Tangara Sensor\n",
    "#     df_target_sensor = df_temp_raw[id_tangara_sensor]\n",
    "#     # To be checked\n",
    "#     is_ok, corr = is_corr_ok(df_reference_sensor, df_target_sensor, threshold)\n",
    "#     if not is_ok:\n",
    "#         print(f\"Reference Tangara Sensor: {ID_REFE_TANGARA_SENSOR}, Target Tangara Sensor: {id_tangara_sensor}, Correlation: {corr}, To be checked\")\n"
   ]
  },
  {
   "cell_type": "code",
   "execution_count": 8,
   "metadata": {
    "execution": {
     "iopub.execute_input": "2023-10-05T23:31:24.843629Z",
     "iopub.status.busy": "2023-10-05T23:31:24.843077Z",
     "iopub.status.idle": "2023-10-05T23:31:24.854756Z",
     "shell.execute_reply": "2023-10-05T23:31:24.852883Z"
    }
   },
   "outputs": [],
   "source": [
    "# Save Temperature Data Frame Sensors into CSV file\n",
    "df_to_csv(df_temp_raw, \"temp_raw.csv\")"
   ]
  },
  {
   "cell_type": "code",
   "execution_count": null,
   "metadata": {},
   "outputs": [],
   "source": []
  }
 ],
 "metadata": {
  "kernelspec": {
   "display_name": ".venv",
   "language": "python",
   "name": "python3"
  },
  "language_info": {
   "codemirror_mode": {
    "name": "ipython",
    "version": 3
   },
   "file_extension": ".py",
   "mimetype": "text/x-python",
   "name": "python",
   "nbconvert_exporter": "python",
   "pygments_lexer": "ipython3",
   "version": "3.10.12"
  }
 },
 "nbformat": 4,
 "nbformat_minor": 2
}
