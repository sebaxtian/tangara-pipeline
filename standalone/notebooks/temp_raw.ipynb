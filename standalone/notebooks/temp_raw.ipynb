{
 "cells": [
  {
   "cell_type": "code",
   "execution_count": 1,
   "metadata": {
    "execution": {
     "iopub.execute_input": "2023-11-09T01:12:09.391245Z",
     "iopub.status.busy": "2023-11-09T01:12:09.390921Z",
     "iopub.status.idle": "2023-11-09T01:12:11.862749Z",
     "shell.execute_reply": "2023-11-09T01:12:11.861628Z"
    }
   },
   "outputs": [
    {
     "name": "stdout",
     "output_type": "stream",
     "text": [
      "PM2.5: 35.9, AQI: 102\n",
      "PM2.5: 35.9, Measure Level: MeasureLevels.UNHEALTHY_FOR_SENSITIVE_GROUPS, Range Values: Min: 35.5, Max: 55.4\n",
      "AQI: 102, Measure Level: MeasureLevels.UNHEALTHY_FOR_SENSITIVE_GROUPS, Range Values: Min: 101, Max: 150\n"
     ]
    }
   ],
   "source": [
    "import os\n",
    "import math\n",
    "from dotenv import load_dotenv\n",
    "\n",
    "# Explicitly providing path to '.env'\n",
    "from pathlib import Path  # Python 3.6+ only\n",
    "# Load .env variables\n",
    "_ = load_dotenv(dotenv_path=f\"{Path().resolve().parents[1]}/standalone/.env\")\n",
    "\n",
    "# import import_ipynb\n",
    "# from utils import to_timestamp, df_data_sensors, to_be_checked, is_corr_ok, df_to_csv, df_from_csv\n",
    "\n",
    "# with the new api\n",
    "from importnb import imports\n",
    "with imports(\"ipynb\"):\n",
    "    from utils import to_timestamp, df_data_sensors, to_be_checked, is_corr_ok, df_to_csv, df_from_csv"
   ]
  },
  {
   "cell_type": "markdown",
   "metadata": {},
   "source": [
    "## Temperature Raw Data"
   ]
  },
  {
   "cell_type": "code",
   "execution_count": 2,
   "metadata": {
    "execution": {
     "iopub.execute_input": "2023-11-09T01:12:11.940222Z",
     "iopub.status.busy": "2023-11-09T01:12:11.939334Z",
     "iopub.status.idle": "2023-11-09T01:12:11.969480Z",
     "shell.execute_reply": "2023-11-09T01:12:11.968512Z"
    }
   },
   "outputs": [
    {
     "name": "stdout",
     "output_type": "stream",
     "text": [
      "Total Tangara Sensors: 10\n"
     ]
    },
    {
     "data": {
      "text/html": [
       "<div>\n",
       "<style scoped>\n",
       "    .dataframe tbody tr th:only-of-type {\n",
       "        vertical-align: middle;\n",
       "    }\n",
       "\n",
       "    .dataframe tbody tr th {\n",
       "        vertical-align: top;\n",
       "    }\n",
       "\n",
       "    .dataframe thead th {\n",
       "        text-align: right;\n",
       "    }\n",
       "</style>\n",
       "<table border=\"1\" class=\"dataframe\">\n",
       "  <thead>\n",
       "    <tr style=\"text-align: right;\">\n",
       "      <th></th>\n",
       "      <th>ID</th>\n",
       "      <th>GEOHASH</th>\n",
       "      <th>MAC</th>\n",
       "      <th>GEOLOCATION</th>\n",
       "      <th>LATITUDE</th>\n",
       "      <th>LONGITUDE</th>\n",
       "    </tr>\n",
       "  </thead>\n",
       "  <tbody>\n",
       "    <tr>\n",
       "      <th>0</th>\n",
       "      <td>TANGARA_14D6</td>\n",
       "      <td>d29eg4k</td>\n",
       "      <td>D29ESP32DED14D6</td>\n",
       "      <td>3.4847259521484375 -76.50260925292969</td>\n",
       "      <td>3.484726</td>\n",
       "      <td>-76.502609</td>\n",
       "    </tr>\n",
       "    <tr>\n",
       "      <th>1</th>\n",
       "      <td>TANGARA_2B42</td>\n",
       "      <td>d29e6pg</td>\n",
       "      <td>D29ESP32DED2B42</td>\n",
       "      <td>3.4270477294921875 -76.54792785644531</td>\n",
       "      <td>3.427048</td>\n",
       "      <td>-76.547928</td>\n",
       "    </tr>\n",
       "    <tr>\n",
       "      <th>2</th>\n",
       "      <td>TANGARA_2E9A</td>\n",
       "      <td>d29ed62</td>\n",
       "      <td>D29ESP32DED2E9A</td>\n",
       "      <td>3.4407806396484375 -76.54106140136719</td>\n",
       "      <td>3.440781</td>\n",
       "      <td>-76.541061</td>\n",
       "    </tr>\n",
       "    <tr>\n",
       "      <th>3</th>\n",
       "      <td>TANGARA_2FF6</td>\n",
       "      <td>d29e66v</td>\n",
       "      <td>D29ESP32DED2FF6</td>\n",
       "      <td>3.3995819091796875 -76.53419494628906</td>\n",
       "      <td>3.399582</td>\n",
       "      <td>-76.534195</td>\n",
       "    </tr>\n",
       "    <tr>\n",
       "      <th>4</th>\n",
       "      <td>TANGARA_307A</td>\n",
       "      <td>d29e48s</td>\n",
       "      <td>D29ESP32DED307A</td>\n",
       "      <td>3.3432769775390625 -76.52458190917969</td>\n",
       "      <td>3.343277</td>\n",
       "      <td>-76.524582</td>\n",
       "    </tr>\n",
       "  </tbody>\n",
       "</table>\n",
       "</div>"
      ],
      "text/plain": [
       "             ID  GEOHASH              MAC  \\\n",
       "0  TANGARA_14D6  d29eg4k  D29ESP32DED14D6   \n",
       "1  TANGARA_2B42  d29e6pg  D29ESP32DED2B42   \n",
       "2  TANGARA_2E9A  d29ed62  D29ESP32DED2E9A   \n",
       "3  TANGARA_2FF6  d29e66v  D29ESP32DED2FF6   \n",
       "4  TANGARA_307A  d29e48s  D29ESP32DED307A   \n",
       "\n",
       "                             GEOLOCATION  LATITUDE  LONGITUDE  \n",
       "0  3.4847259521484375 -76.50260925292969  3.484726 -76.502609  \n",
       "1  3.4270477294921875 -76.54792785644531  3.427048 -76.547928  \n",
       "2  3.4407806396484375 -76.54106140136719  3.440781 -76.541061  \n",
       "3  3.3995819091796875 -76.53419494628906  3.399582 -76.534195  \n",
       "4  3.3432769775390625 -76.52458190917969  3.343277 -76.524582  "
      ]
     },
     "execution_count": 2,
     "metadata": {},
     "output_type": "execute_result"
    }
   ],
   "source": [
    "# Load Tangaras\n",
    "df_tangaras = df_from_csv(\"tangaras.csv\", dtindex=False)\n",
    "\n",
    "print(f\"Total Tangara Sensors: {len(df_tangaras)}\")\n",
    "\n",
    "df_tangaras.head()"
   ]
  },
  {
   "cell_type": "code",
   "execution_count": 3,
   "metadata": {
    "execution": {
     "iopub.execute_input": "2023-11-09T01:12:11.973580Z",
     "iopub.status.busy": "2023-11-09T01:12:11.973245Z",
     "iopub.status.idle": "2023-11-09T01:12:11.980071Z",
     "shell.execute_reply": "2023-11-09T01:12:11.979091Z"
    }
   },
   "outputs": [
    {
     "name": "stdout",
     "output_type": "stream",
     "text": [
      "Since: 2023-10-30T23:00:00-05:00 -> 1698724800000, Until: 2023-10-31T00:00:00-05:00 -> 1698728400000\n",
      "Group by Time: 30s\n"
     ]
    }
   ],
   "source": [
    "# Start Date Time ISO 8601 Format, TZ='America/Bogota' -05:00\n",
    "START_ISO8601_DATETIME = os.getenv(\"START_ISO8601_DATETIME\", None)\n",
    "start_timestamp = to_timestamp(START_ISO8601_DATETIME)\n",
    "# End Date Time ISO 8601 Format, TZ='America/Bogota' -05:00\n",
    "END_ISO8601_DATETIME = os.getenv(\"END_ISO8601_DATETIME\", None)\n",
    "end_timestamp = to_timestamp(os.getenv(\"END_ISO8601_DATETIME\", None))\n",
    "\n",
    "# GROUP BY TIME\n",
    "GROUP_BY_TIME = os.getenv(\"GROUP_BY_TIME\", None)\n",
    "\n",
    "print(f'Since: {START_ISO8601_DATETIME} -> {start_timestamp}, Until: {END_ISO8601_DATETIME} -> {end_timestamp}')\n",
    "print(f\"Group by Time: {GROUP_BY_TIME}\")"
   ]
  },
  {
   "cell_type": "code",
   "execution_count": 4,
   "metadata": {
    "execution": {
     "iopub.execute_input": "2023-11-09T01:12:11.983430Z",
     "iopub.status.busy": "2023-11-09T01:12:11.983116Z",
     "iopub.status.idle": "2023-11-09T01:12:12.224733Z",
     "shell.execute_reply": "2023-11-09T01:12:12.223739Z"
    }
   },
   "outputs": [
    {
     "data": {
      "text/html": [
       "<div>\n",
       "<style scoped>\n",
       "    .dataframe tbody tr th:only-of-type {\n",
       "        vertical-align: middle;\n",
       "    }\n",
       "\n",
       "    .dataframe tbody tr th {\n",
       "        vertical-align: top;\n",
       "    }\n",
       "\n",
       "    .dataframe thead th {\n",
       "        text-align: right;\n",
       "    }\n",
       "</style>\n",
       "<table border=\"1\" class=\"dataframe\">\n",
       "  <thead>\n",
       "    <tr style=\"text-align: right;\">\n",
       "      <th></th>\n",
       "      <th>TANGARA_14D6</th>\n",
       "      <th>TANGARA_2B42</th>\n",
       "      <th>TANGARA_2E9A</th>\n",
       "      <th>TANGARA_2FF6</th>\n",
       "      <th>TANGARA_307A</th>\n",
       "      <th>TANGARA_1712</th>\n",
       "      <th>TANGARA_48C6</th>\n",
       "      <th>TANGARA_532E</th>\n",
       "      <th>TANGARA_F1AE</th>\n",
       "      <th>TANGARA_06BE</th>\n",
       "    </tr>\n",
       "    <tr>\n",
       "      <th>DATETIME</th>\n",
       "      <th></th>\n",
       "      <th></th>\n",
       "      <th></th>\n",
       "      <th></th>\n",
       "      <th></th>\n",
       "      <th></th>\n",
       "      <th></th>\n",
       "      <th></th>\n",
       "      <th></th>\n",
       "      <th></th>\n",
       "    </tr>\n",
       "  </thead>\n",
       "  <tbody>\n",
       "    <tr>\n",
       "      <th>2023-10-30 23:00:00-05:00</th>\n",
       "      <td>25.47</td>\n",
       "      <td>25.26</td>\n",
       "      <td>29.13</td>\n",
       "      <td>26.01</td>\n",
       "      <td>26.11</td>\n",
       "      <td>24.52</td>\n",
       "      <td>25.8</td>\n",
       "      <td>23.7</td>\n",
       "      <td>27.15</td>\n",
       "      <td>26.15</td>\n",
       "    </tr>\n",
       "    <tr>\n",
       "      <th>2023-10-30 23:00:30-05:00</th>\n",
       "      <td>25.51</td>\n",
       "      <td>25.23</td>\n",
       "      <td>29.11</td>\n",
       "      <td>26.01</td>\n",
       "      <td>26.15</td>\n",
       "      <td>24.49</td>\n",
       "      <td>25.7</td>\n",
       "      <td>23.7</td>\n",
       "      <td>27.15</td>\n",
       "      <td>26.12</td>\n",
       "    </tr>\n",
       "    <tr>\n",
       "      <th>2023-10-30 23:01:00-05:00</th>\n",
       "      <td>25.51</td>\n",
       "      <td>25.20</td>\n",
       "      <td>29.09</td>\n",
       "      <td>26.03</td>\n",
       "      <td>26.14</td>\n",
       "      <td>24.52</td>\n",
       "      <td>25.7</td>\n",
       "      <td>23.7</td>\n",
       "      <td>27.14</td>\n",
       "      <td>26.11</td>\n",
       "    </tr>\n",
       "    <tr>\n",
       "      <th>2023-10-30 23:01:30-05:00</th>\n",
       "      <td>25.56</td>\n",
       "      <td>25.21</td>\n",
       "      <td>29.11</td>\n",
       "      <td>26.05</td>\n",
       "      <td>26.14</td>\n",
       "      <td>24.52</td>\n",
       "      <td>25.7</td>\n",
       "      <td>23.7</td>\n",
       "      <td>27.14</td>\n",
       "      <td>26.15</td>\n",
       "    </tr>\n",
       "    <tr>\n",
       "      <th>2023-10-30 23:02:00-05:00</th>\n",
       "      <td>25.56</td>\n",
       "      <td>25.21</td>\n",
       "      <td>29.11</td>\n",
       "      <td>26.03</td>\n",
       "      <td>26.14</td>\n",
       "      <td>24.48</td>\n",
       "      <td>25.7</td>\n",
       "      <td>23.6</td>\n",
       "      <td>27.14</td>\n",
       "      <td>26.13</td>\n",
       "    </tr>\n",
       "  </tbody>\n",
       "</table>\n",
       "</div>"
      ],
      "text/plain": [
       "                           TANGARA_14D6  TANGARA_2B42  TANGARA_2E9A  \\\n",
       "DATETIME                                                              \n",
       "2023-10-30 23:00:00-05:00         25.47         25.26         29.13   \n",
       "2023-10-30 23:00:30-05:00         25.51         25.23         29.11   \n",
       "2023-10-30 23:01:00-05:00         25.51         25.20         29.09   \n",
       "2023-10-30 23:01:30-05:00         25.56         25.21         29.11   \n",
       "2023-10-30 23:02:00-05:00         25.56         25.21         29.11   \n",
       "\n",
       "                           TANGARA_2FF6  TANGARA_307A  TANGARA_1712  \\\n",
       "DATETIME                                                              \n",
       "2023-10-30 23:00:00-05:00         26.01         26.11         24.52   \n",
       "2023-10-30 23:00:30-05:00         26.01         26.15         24.49   \n",
       "2023-10-30 23:01:00-05:00         26.03         26.14         24.52   \n",
       "2023-10-30 23:01:30-05:00         26.05         26.14         24.52   \n",
       "2023-10-30 23:02:00-05:00         26.03         26.14         24.48   \n",
       "\n",
       "                           TANGARA_48C6  TANGARA_532E  TANGARA_F1AE  \\\n",
       "DATETIME                                                              \n",
       "2023-10-30 23:00:00-05:00          25.8          23.7         27.15   \n",
       "2023-10-30 23:00:30-05:00          25.7          23.7         27.15   \n",
       "2023-10-30 23:01:00-05:00          25.7          23.7         27.14   \n",
       "2023-10-30 23:01:30-05:00          25.7          23.7         27.14   \n",
       "2023-10-30 23:02:00-05:00          25.7          23.6         27.14   \n",
       "\n",
       "                           TANGARA_06BE  \n",
       "DATETIME                                 \n",
       "2023-10-30 23:00:00-05:00         26.15  \n",
       "2023-10-30 23:00:30-05:00         26.12  \n",
       "2023-10-30 23:01:00-05:00         26.11  \n",
       "2023-10-30 23:01:30-05:00         26.15  \n",
       "2023-10-30 23:02:00-05:00         26.13  "
      ]
     },
     "execution_count": 4,
     "metadata": {},
     "output_type": "execute_result"
    }
   ],
   "source": [
    "# Temperature Data Frame Sensors\n",
    "df_temp_raw = df_data_sensors(df_tangaras, start_timestamp, end_timestamp, 'tmp', GROUP_BY_TIME)\n",
    "df_temp_raw.head()\n",
    "#df_temp_raw.shape"
   ]
  },
  {
   "cell_type": "markdown",
   "metadata": {},
   "source": [
    "## Descriptive Statistics"
   ]
  },
  {
   "cell_type": "code",
   "execution_count": 5,
   "metadata": {
    "execution": {
     "iopub.execute_input": "2023-11-09T01:12:12.228546Z",
     "iopub.status.busy": "2023-11-09T01:12:12.228219Z",
     "iopub.status.idle": "2023-11-09T01:12:12.270850Z",
     "shell.execute_reply": "2023-11-09T01:12:12.269753Z"
    }
   },
   "outputs": [
    {
     "data": {
      "text/html": [
       "<div>\n",
       "<style scoped>\n",
       "    .dataframe tbody tr th:only-of-type {\n",
       "        vertical-align: middle;\n",
       "    }\n",
       "\n",
       "    .dataframe tbody tr th {\n",
       "        vertical-align: top;\n",
       "    }\n",
       "\n",
       "    .dataframe thead th {\n",
       "        text-align: right;\n",
       "    }\n",
       "</style>\n",
       "<table border=\"1\" class=\"dataframe\">\n",
       "  <thead>\n",
       "    <tr style=\"text-align: right;\">\n",
       "      <th></th>\n",
       "      <th>TANGARA_14D6</th>\n",
       "      <th>TANGARA_2B42</th>\n",
       "      <th>TANGARA_2E9A</th>\n",
       "      <th>TANGARA_2FF6</th>\n",
       "      <th>TANGARA_307A</th>\n",
       "      <th>TANGARA_1712</th>\n",
       "      <th>TANGARA_48C6</th>\n",
       "      <th>TANGARA_532E</th>\n",
       "      <th>TANGARA_F1AE</th>\n",
       "      <th>TANGARA_06BE</th>\n",
       "    </tr>\n",
       "  </thead>\n",
       "  <tbody>\n",
       "    <tr>\n",
       "      <th>count</th>\n",
       "      <td>116.000000</td>\n",
       "      <td>113.000000</td>\n",
       "      <td>115.000000</td>\n",
       "      <td>115.000000</td>\n",
       "      <td>111.000000</td>\n",
       "      <td>115.000000</td>\n",
       "      <td>112.000000</td>\n",
       "      <td>116.000000</td>\n",
       "      <td>116.000000</td>\n",
       "      <td>116.000000</td>\n",
       "    </tr>\n",
       "    <tr>\n",
       "      <th>mean</th>\n",
       "      <td>25.561552</td>\n",
       "      <td>25.041239</td>\n",
       "      <td>29.062087</td>\n",
       "      <td>25.906174</td>\n",
       "      <td>25.976306</td>\n",
       "      <td>24.252609</td>\n",
       "      <td>25.007143</td>\n",
       "      <td>23.191379</td>\n",
       "      <td>27.204052</td>\n",
       "      <td>25.842155</td>\n",
       "    </tr>\n",
       "    <tr>\n",
       "      <th>std</th>\n",
       "      <td>0.101977</td>\n",
       "      <td>0.081975</td>\n",
       "      <td>0.106873</td>\n",
       "      <td>0.104088</td>\n",
       "      <td>0.102442</td>\n",
       "      <td>0.138267</td>\n",
       "      <td>0.242997</td>\n",
       "      <td>0.208335</td>\n",
       "      <td>0.028099</td>\n",
       "      <td>0.104755</td>\n",
       "    </tr>\n",
       "    <tr>\n",
       "      <th>min</th>\n",
       "      <td>25.330000</td>\n",
       "      <td>24.930000</td>\n",
       "      <td>28.820000</td>\n",
       "      <td>25.650000</td>\n",
       "      <td>25.750000</td>\n",
       "      <td>24.060000</td>\n",
       "      <td>24.700000</td>\n",
       "      <td>22.900000</td>\n",
       "      <td>27.140000</td>\n",
       "      <td>25.700000</td>\n",
       "    </tr>\n",
       "    <tr>\n",
       "      <th>25%</th>\n",
       "      <td>25.507500</td>\n",
       "      <td>24.990000</td>\n",
       "      <td>28.980000</td>\n",
       "      <td>25.880000</td>\n",
       "      <td>25.920000</td>\n",
       "      <td>24.130000</td>\n",
       "      <td>24.800000</td>\n",
       "      <td>23.000000</td>\n",
       "      <td>27.195000</td>\n",
       "      <td>25.760000</td>\n",
       "    </tr>\n",
       "    <tr>\n",
       "      <th>50%</th>\n",
       "      <td>25.590000</td>\n",
       "      <td>25.020000</td>\n",
       "      <td>29.090000</td>\n",
       "      <td>25.920000</td>\n",
       "      <td>25.970000</td>\n",
       "      <td>24.210000</td>\n",
       "      <td>25.000000</td>\n",
       "      <td>23.100000</td>\n",
       "      <td>27.210000</td>\n",
       "      <td>25.835000</td>\n",
       "    </tr>\n",
       "    <tr>\n",
       "      <th>75%</th>\n",
       "      <td>25.640000</td>\n",
       "      <td>25.060000</td>\n",
       "      <td>29.130000</td>\n",
       "      <td>25.980000</td>\n",
       "      <td>26.080000</td>\n",
       "      <td>24.355000</td>\n",
       "      <td>25.025000</td>\n",
       "      <td>23.300000</td>\n",
       "      <td>27.220000</td>\n",
       "      <td>25.880000</td>\n",
       "    </tr>\n",
       "    <tr>\n",
       "      <th>max</th>\n",
       "      <td>25.700000</td>\n",
       "      <td>25.260000</td>\n",
       "      <td>29.250000</td>\n",
       "      <td>26.080000</td>\n",
       "      <td>26.150000</td>\n",
       "      <td>24.520000</td>\n",
       "      <td>25.800000</td>\n",
       "      <td>23.700000</td>\n",
       "      <td>27.270000</td>\n",
       "      <td>26.150000</td>\n",
       "    </tr>\n",
       "  </tbody>\n",
       "</table>\n",
       "</div>"
      ],
      "text/plain": [
       "       TANGARA_14D6  TANGARA_2B42  TANGARA_2E9A  TANGARA_2FF6  TANGARA_307A  \\\n",
       "count    116.000000    113.000000    115.000000    115.000000    111.000000   \n",
       "mean      25.561552     25.041239     29.062087     25.906174     25.976306   \n",
       "std        0.101977      0.081975      0.106873      0.104088      0.102442   \n",
       "min       25.330000     24.930000     28.820000     25.650000     25.750000   \n",
       "25%       25.507500     24.990000     28.980000     25.880000     25.920000   \n",
       "50%       25.590000     25.020000     29.090000     25.920000     25.970000   \n",
       "75%       25.640000     25.060000     29.130000     25.980000     26.080000   \n",
       "max       25.700000     25.260000     29.250000     26.080000     26.150000   \n",
       "\n",
       "       TANGARA_1712  TANGARA_48C6  TANGARA_532E  TANGARA_F1AE  TANGARA_06BE  \n",
       "count    115.000000    112.000000    116.000000    116.000000    116.000000  \n",
       "mean      24.252609     25.007143     23.191379     27.204052     25.842155  \n",
       "std        0.138267      0.242997      0.208335      0.028099      0.104755  \n",
       "min       24.060000     24.700000     22.900000     27.140000     25.700000  \n",
       "25%       24.130000     24.800000     23.000000     27.195000     25.760000  \n",
       "50%       24.210000     25.000000     23.100000     27.210000     25.835000  \n",
       "75%       24.355000     25.025000     23.300000     27.220000     25.880000  \n",
       "max       24.520000     25.800000     23.700000     27.270000     26.150000  "
      ]
     },
     "execution_count": 5,
     "metadata": {},
     "output_type": "execute_result"
    }
   ],
   "source": [
    "# Describe Data\n",
    "df_temp_raw.describe()"
   ]
  },
  {
   "cell_type": "markdown",
   "metadata": {},
   "source": [
    "## Missing Data"
   ]
  },
  {
   "cell_type": "code",
   "execution_count": 6,
   "metadata": {
    "execution": {
     "iopub.execute_input": "2023-11-09T01:12:12.275289Z",
     "iopub.status.busy": "2023-11-09T01:12:12.274569Z",
     "iopub.status.idle": "2023-11-09T01:12:12.302167Z",
     "shell.execute_reply": "2023-11-09T01:12:12.300758Z"
    }
   },
   "outputs": [
    {
     "name": "stdout",
     "output_type": "stream",
     "text": [
      "Threshold: 90%\n"
     ]
    },
    {
     "name": "stderr",
     "output_type": "stream",
     "text": [
      "/home/sebaxtian/Workspaces/Tangara/tangara-pipeline/standalone/notebooks/utils.ipynb:197: FutureWarning: Series.__getitem__ treating keys as positions is deprecated. In a future version, integer keys will always be treated as labels (consistent with DataFrame behavior). To access a value by position, use `ser.iloc[pos]`\n",
      "  missing_data_percent = round(df_sensor.isna().sum()[0] * 100 / total)\n",
      "/home/sebaxtian/Workspaces/Tangara/tangara-pipeline/standalone/notebooks/utils.ipynb:198: FutureWarning: Series.__getitem__ treating keys as positions is deprecated. In a future version, integer keys will always be treated as labels (consistent with DataFrame behavior). To access a value by position, use `ser.iloc[pos]`\n",
      "  data_percent = round(df_sensor.count()[0] * 100 / total)\n",
      "/home/sebaxtian/Workspaces/Tangara/tangara-pipeline/standalone/notebooks/utils.ipynb:197: FutureWarning: Series.__getitem__ treating keys as positions is deprecated. In a future version, integer keys will always be treated as labels (consistent with DataFrame behavior). To access a value by position, use `ser.iloc[pos]`\n",
      "  missing_data_percent = round(df_sensor.isna().sum()[0] * 100 / total)\n",
      "/home/sebaxtian/Workspaces/Tangara/tangara-pipeline/standalone/notebooks/utils.ipynb:198: FutureWarning: Series.__getitem__ treating keys as positions is deprecated. In a future version, integer keys will always be treated as labels (consistent with DataFrame behavior). To access a value by position, use `ser.iloc[pos]`\n",
      "  data_percent = round(df_sensor.count()[0] * 100 / total)\n",
      "/home/sebaxtian/Workspaces/Tangara/tangara-pipeline/standalone/notebooks/utils.ipynb:197: FutureWarning: Series.__getitem__ treating keys as positions is deprecated. In a future version, integer keys will always be treated as labels (consistent with DataFrame behavior). To access a value by position, use `ser.iloc[pos]`\n",
      "  missing_data_percent = round(df_sensor.isna().sum()[0] * 100 / total)\n",
      "/home/sebaxtian/Workspaces/Tangara/tangara-pipeline/standalone/notebooks/utils.ipynb:198: FutureWarning: Series.__getitem__ treating keys as positions is deprecated. In a future version, integer keys will always be treated as labels (consistent with DataFrame behavior). To access a value by position, use `ser.iloc[pos]`\n",
      "  data_percent = round(df_sensor.count()[0] * 100 / total)\n",
      "/home/sebaxtian/Workspaces/Tangara/tangara-pipeline/standalone/notebooks/utils.ipynb:197: FutureWarning: Series.__getitem__ treating keys as positions is deprecated. In a future version, integer keys will always be treated as labels (consistent with DataFrame behavior). To access a value by position, use `ser.iloc[pos]`\n",
      "  missing_data_percent = round(df_sensor.isna().sum()[0] * 100 / total)\n",
      "/home/sebaxtian/Workspaces/Tangara/tangara-pipeline/standalone/notebooks/utils.ipynb:198: FutureWarning: Series.__getitem__ treating keys as positions is deprecated. In a future version, integer keys will always be treated as labels (consistent with DataFrame behavior). To access a value by position, use `ser.iloc[pos]`\n",
      "  data_percent = round(df_sensor.count()[0] * 100 / total)\n",
      "/home/sebaxtian/Workspaces/Tangara/tangara-pipeline/standalone/notebooks/utils.ipynb:197: FutureWarning: Series.__getitem__ treating keys as positions is deprecated. In a future version, integer keys will always be treated as labels (consistent with DataFrame behavior). To access a value by position, use `ser.iloc[pos]`\n",
      "  missing_data_percent = round(df_sensor.isna().sum()[0] * 100 / total)\n",
      "/home/sebaxtian/Workspaces/Tangara/tangara-pipeline/standalone/notebooks/utils.ipynb:198: FutureWarning: Series.__getitem__ treating keys as positions is deprecated. In a future version, integer keys will always be treated as labels (consistent with DataFrame behavior). To access a value by position, use `ser.iloc[pos]`\n",
      "  data_percent = round(df_sensor.count()[0] * 100 / total)\n",
      "/home/sebaxtian/Workspaces/Tangara/tangara-pipeline/standalone/notebooks/utils.ipynb:197: FutureWarning: Series.__getitem__ treating keys as positions is deprecated. In a future version, integer keys will always be treated as labels (consistent with DataFrame behavior). To access a value by position, use `ser.iloc[pos]`\n",
      "  missing_data_percent = round(df_sensor.isna().sum()[0] * 100 / total)\n",
      "/home/sebaxtian/Workspaces/Tangara/tangara-pipeline/standalone/notebooks/utils.ipynb:198: FutureWarning: Series.__getitem__ treating keys as positions is deprecated. In a future version, integer keys will always be treated as labels (consistent with DataFrame behavior). To access a value by position, use `ser.iloc[pos]`\n",
      "  data_percent = round(df_sensor.count()[0] * 100 / total)\n",
      "/home/sebaxtian/Workspaces/Tangara/tangara-pipeline/standalone/notebooks/utils.ipynb:197: FutureWarning: Series.__getitem__ treating keys as positions is deprecated. In a future version, integer keys will always be treated as labels (consistent with DataFrame behavior). To access a value by position, use `ser.iloc[pos]`\n",
      "  missing_data_percent = round(df_sensor.isna().sum()[0] * 100 / total)\n",
      "/home/sebaxtian/Workspaces/Tangara/tangara-pipeline/standalone/notebooks/utils.ipynb:198: FutureWarning: Series.__getitem__ treating keys as positions is deprecated. In a future version, integer keys will always be treated as labels (consistent with DataFrame behavior). To access a value by position, use `ser.iloc[pos]`\n",
      "  data_percent = round(df_sensor.count()[0] * 100 / total)\n",
      "/home/sebaxtian/Workspaces/Tangara/tangara-pipeline/standalone/notebooks/utils.ipynb:197: FutureWarning: Series.__getitem__ treating keys as positions is deprecated. In a future version, integer keys will always be treated as labels (consistent with DataFrame behavior). To access a value by position, use `ser.iloc[pos]`\n",
      "  missing_data_percent = round(df_sensor.isna().sum()[0] * 100 / total)\n",
      "/home/sebaxtian/Workspaces/Tangara/tangara-pipeline/standalone/notebooks/utils.ipynb:198: FutureWarning: Series.__getitem__ treating keys as positions is deprecated. In a future version, integer keys will always be treated as labels (consistent with DataFrame behavior). To access a value by position, use `ser.iloc[pos]`\n",
      "  data_percent = round(df_sensor.count()[0] * 100 / total)\n",
      "/home/sebaxtian/Workspaces/Tangara/tangara-pipeline/standalone/notebooks/utils.ipynb:197: FutureWarning: Series.__getitem__ treating keys as positions is deprecated. In a future version, integer keys will always be treated as labels (consistent with DataFrame behavior). To access a value by position, use `ser.iloc[pos]`\n",
      "  missing_data_percent = round(df_sensor.isna().sum()[0] * 100 / total)\n",
      "/home/sebaxtian/Workspaces/Tangara/tangara-pipeline/standalone/notebooks/utils.ipynb:198: FutureWarning: Series.__getitem__ treating keys as positions is deprecated. In a future version, integer keys will always be treated as labels (consistent with DataFrame behavior). To access a value by position, use `ser.iloc[pos]`\n",
      "  data_percent = round(df_sensor.count()[0] * 100 / total)\n",
      "/home/sebaxtian/Workspaces/Tangara/tangara-pipeline/standalone/notebooks/utils.ipynb:197: FutureWarning: Series.__getitem__ treating keys as positions is deprecated. In a future version, integer keys will always be treated as labels (consistent with DataFrame behavior). To access a value by position, use `ser.iloc[pos]`\n",
      "  missing_data_percent = round(df_sensor.isna().sum()[0] * 100 / total)\n",
      "/home/sebaxtian/Workspaces/Tangara/tangara-pipeline/standalone/notebooks/utils.ipynb:198: FutureWarning: Series.__getitem__ treating keys as positions is deprecated. In a future version, integer keys will always be treated as labels (consistent with DataFrame behavior). To access a value by position, use `ser.iloc[pos]`\n",
      "  data_percent = round(df_sensor.count()[0] * 100 / total)\n"
     ]
    }
   ],
   "source": [
    "# Missing Data Threshold\n",
    "threshold = 90\n",
    "print(f'Threshold: {threshold}%')\n",
    "\n",
    "# For each Tangara sensor\n",
    "for id_tangara_sensor in df_temp_raw.columns:\n",
    "    df_temp_sensor = df_temp_raw[[id_tangara_sensor]]\n",
    "    # To be checked\n",
    "    is_ok, data_percent, missing_data_percent = to_be_checked(df_temp_sensor, threshold)\n",
    "    if not is_ok:\n",
    "        print(f\"Tangara Sensor: {id_tangara_sensor}, Data: {data_percent}%, Missing: {missing_data_percent}%, To be checked\")"
   ]
  },
  {
   "cell_type": "markdown",
   "metadata": {},
   "source": [
    "## Data Correlation"
   ]
  },
  {
   "cell_type": "code",
   "execution_count": 7,
   "metadata": {
    "execution": {
     "iopub.execute_input": "2023-11-09T01:12:12.309727Z",
     "iopub.status.busy": "2023-11-09T01:12:12.309343Z",
     "iopub.status.idle": "2023-11-09T01:12:12.320390Z",
     "shell.execute_reply": "2023-11-09T01:12:12.318660Z"
    }
   },
   "outputs": [
    {
     "name": "stdout",
     "output_type": "stream",
     "text": [
      "Threshold: 0.9%\n",
      "Reference Tangara Sensor: TANGARA_06BE, Target Tangara Sensor: TANGARA_2FF6, Correlation: 0.0, To be checked\n"
     ]
    }
   ],
   "source": [
    "# Data Correlation Threshold\n",
    "threshold = 0.9\n",
    "print(f'Threshold: {threshold}%')\n",
    "\n",
    "ID_REFE_TANGARA_SENSOR='TANGARA_06BE'\n",
    "ID_TARG_TANGARA_SENSOR='TANGARA_2FF6'\n",
    "# Reference Tangara Sensor\n",
    "df_reference_sensor = df_temp_raw[ID_REFE_TANGARA_SENSOR]\n",
    "# Target Tangara Sensor\n",
    "df_target_sensor = df_temp_raw[ID_TARG_TANGARA_SENSOR]\n",
    "\n",
    "# To be checked\n",
    "if not math.isnan(df_reference_sensor.std()):\n",
    "    is_ok, corr = is_corr_ok(df_reference_sensor, df_target_sensor, threshold)\n",
    "    if not is_ok:\n",
    "        print(f\"Reference Tangara Sensor: {ID_REFE_TANGARA_SENSOR}, Target Tangara Sensor: {ID_TARG_TANGARA_SENSOR}, Correlation: {corr}, To be checked\")\n",
    "\n",
    "# For each Tangara sensor\n",
    "# for id_tangara_sensor in df_temp_raw.columns:\n",
    "#     # Target Tangara Sensor\n",
    "#     df_target_sensor = df_temp_raw[id_tangara_sensor]\n",
    "#     # To be checked\n",
    "#     is_ok, corr = is_corr_ok(df_reference_sensor, df_target_sensor, threshold)\n",
    "#     if not is_ok:\n",
    "#         print(f\"Reference Tangara Sensor: {ID_REFE_TANGARA_SENSOR}, Target Tangara Sensor: {id_tangara_sensor}, Correlation: {corr}, To be checked\")\n"
   ]
  },
  {
   "cell_type": "code",
   "execution_count": 8,
   "metadata": {
    "execution": {
     "iopub.execute_input": "2023-11-09T01:12:12.325218Z",
     "iopub.status.busy": "2023-11-09T01:12:12.324715Z",
     "iopub.status.idle": "2023-11-09T01:12:12.341220Z",
     "shell.execute_reply": "2023-11-09T01:12:12.339584Z"
    }
   },
   "outputs": [],
   "source": [
    "# Save Temperature Data Frame Sensors into CSV file\n",
    "df_to_csv(df_temp_raw, \"temp_raw.csv\")"
   ]
  },
  {
   "cell_type": "code",
   "execution_count": null,
   "metadata": {},
   "outputs": [],
   "source": []
  }
 ],
 "metadata": {
  "kernelspec": {
   "display_name": ".venv",
   "language": "python",
   "name": "python3"
  },
  "language_info": {
   "codemirror_mode": {
    "name": "ipython",
    "version": 3
   },
   "file_extension": ".py",
   "mimetype": "text/x-python",
   "name": "python",
   "nbconvert_exporter": "python",
   "pygments_lexer": "ipython3",
   "version": "3.12.0"
  }
 },
 "nbformat": 4,
 "nbformat_minor": 2
}
