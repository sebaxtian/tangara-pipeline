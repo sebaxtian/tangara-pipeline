{
 "cells": [
  {
   "cell_type": "code",
   "execution_count": 1,
   "metadata": {},
   "outputs": [],
   "source": [
    "import math\n",
    "from enum import Enum"
   ]
  },
  {
   "cell_type": "markdown",
   "metadata": {},
   "source": [
    "## Calculating AQI from EPA"
   ]
  },
  {
   "cell_type": "markdown",
   "metadata": {},
   "source": [
    "## What is the U.S. Air Quality Index - AQI?\n",
    "Read more [README.md](../docs/README.md)\n",
    "\n",
    "## How do I Calculate the AQI from pollutant concentration data?\n",
    "\n",
    "The AQI is the highest value calculated for each pollutan as follows:\n",
    "\n",
    "    A. Identify the highest concentration among all of the monitors within each reporting area and truncate as follow:\n",
    "\n",
    "![Pollutants](../docs/pollutants.png)\n",
    "\n",
    "    B. Using Table 5, find the two breakpoints tha contain the concentration.\n",
    "\n",
    "![Pollutants Breakpoints](../docs/pollutants-breakpoints.png)\n",
    "\n",
    "    C. Using Equation 1, calculate the index\n",
    "\n",
    "![Equation 1](../docs/equation1.png)\n",
    "\n",
    "    D. Round the index to the nearest integer\n"
   ]
  },
  {
   "cell_type": "markdown",
   "metadata": {},
   "source": [
    "## AQI Levels\n",
    "![AQI Levels](../docs/aqi-epa.png)"
   ]
  },
  {
   "cell_type": "markdown",
   "metadata": {},
   "source": [
    "### AQI and PM2.5"
   ]
  },
  {
   "cell_type": "markdown",
   "metadata": {},
   "source": [
    "### Contants"
   ]
  },
  {
   "cell_type": "code",
   "execution_count": 2,
   "metadata": {},
   "outputs": [],
   "source": [
    "# AQI Max and Min Values\n",
    "AQI_MIN_VALUE=0\n",
    "AQI_MAX_VALUE=500\n",
    "# PM2.5 Max and Min Values\n",
    "PM25_MIN_VALUE=0.0\n",
    "PM25_MAX_VALUE=500.4"
   ]
  },
  {
   "cell_type": "code",
   "execution_count": 3,
   "metadata": {},
   "outputs": [],
   "source": [
    "class RangeValues:\n",
    "    min: int | float\n",
    "    max: int | float\n",
    "\n",
    "    def __init__(self, min: int | float=0, max: int | float=0):\n",
    "        self.min = min\n",
    "        self.max = max\n",
    "    \n",
    "    def is_in(self, value: int | float) -> bool:\n",
    "        if value >= self.min and value <= self.max:\n",
    "            return True\n",
    "        return False\n",
    "    \n",
    "    def __str__(self) -> str:\n",
    "        return f\"Min: {self.min}, Max: {self.max}\"\n",
    "\n",
    "\n",
    "class MeasureInfo:\n",
    "    title: str\n",
    "    desc: str\n",
    "    color: str\n",
    "\n",
    "    def __init__(self, title: str, desc: str, color: str):\n",
    "        self.title = title\n",
    "        self.desc = desc\n",
    "        self.color = color\n",
    "    \n",
    "    def __str__(self) -> str:\n",
    "        return f\"Title: {self.title}, Description: {self.desc}, Color: {self.color}\"\n",
    "\n",
    "\n",
    "class MeasureLevels(Enum):\n",
    "\n",
    "    GOOD: MeasureInfo = MeasureInfo(\n",
    "        \"Good\", \n",
    "        \"Air quality is satisfactory, and air pollution poses little or no risk\", \n",
    "        \"#00e400\"\n",
    "    )\n",
    "    MODERATE: MeasureInfo = MeasureInfo(\n",
    "        \"Moderate\", \n",
    "        \"Air quality is acceptable. However, there may be a risk for some people, particularly those who are unusually sensitive to air pollution\", \n",
    "        \"#ffff00\"\n",
    "    )\n",
    "    UNHEALTHY_FOR_SENSITIVE_GROUPS: MeasureInfo = MeasureInfo(\n",
    "        \"Unhealthy for Sensitive Groups\", \n",
    "        \"Members of sensitive groups may experience health effects. The general public is less likely to be affected\", \n",
    "        \"#ff7e00\"\n",
    "    )\n",
    "    UNHEALTHY: MeasureInfo = MeasureInfo(\n",
    "        \"Unhealthy\", \n",
    "        \"Some members of the general public may experience health effects; members of sensitive groups may experience more serious health effects\", \n",
    "        \"#ff0000\"\n",
    "    )\n",
    "    VERY_UNHEALTHY: MeasureInfo = MeasureInfo(\n",
    "        \"Very Unhealthy\", \n",
    "        \"Health alert: The risk of health effects is increased for everyone\", \n",
    "        \"#8f3f97\"\n",
    "    )\n",
    "    HAZARDOUS: MeasureInfo = MeasureInfo(\n",
    "        \"Hazardous\", \n",
    "        \"Health warning of emergency conditions: everyone is more likely to be affected\", \n",
    "        \"#7e0023\"\n",
    "    )\n",
    "\n",
    "\n",
    "class IndexEPA():\n",
    "    measure_level: MeasureLevels\n",
    "    range: RangeValues\n",
    "\n",
    "    def __init__(self, measure_level: MeasureLevels, range: RangeValues):\n",
    "        self. measure_level = measure_level\n",
    "        self.range = range\n",
    "    \n",
    "    def __str__(self) -> str:\n",
    "        return f\"Measure Level: {self.measure_level}, Range Values: {self.range}\"\n",
    "\n",
    "\n",
    "class AQILevels(Enum):\n",
    "\n",
    "    GOOD: IndexEPA = IndexEPA(MeasureLevels.GOOD, RangeValues(AQI_MIN_VALUE, 50))\n",
    "    MODERATE: IndexEPA = IndexEPA(MeasureLevels.MODERATE, RangeValues(51, 100))\n",
    "    UNHEALTHY_FOR_SENSITIVE_GROUPS: IndexEPA = IndexEPA(MeasureLevels.UNHEALTHY_FOR_SENSITIVE_GROUPS, RangeValues(101, 150))\n",
    "    UNHEALTHY: IndexEPA = IndexEPA(MeasureLevels.UNHEALTHY, RangeValues(151, 200))\n",
    "    VERY_UNHEALTHY: IndexEPA = IndexEPA(MeasureLevels.VERY_UNHEALTHY, RangeValues(201, 300))\n",
    "    HAZARDOUS: IndexEPA = IndexEPA(MeasureLevels.HAZARDOUS, RangeValues(301, AQI_MAX_VALUE))\n",
    "\n",
    "\n",
    "class PM25Levels(Enum):\n",
    "\n",
    "    GOOD: IndexEPA = IndexEPA(MeasureLevels.GOOD, RangeValues(PM25_MIN_VALUE, 12.0))\n",
    "    MODERATE: IndexEPA = IndexEPA(MeasureLevels.MODERATE, RangeValues(12.1, 35.4))\n",
    "    UNHEALTHY_FOR_SENSITIVE_GROUPS: IndexEPA = IndexEPA(MeasureLevels.UNHEALTHY_FOR_SENSITIVE_GROUPS, RangeValues(35.5, 55.4))\n",
    "    UNHEALTHY: IndexEPA = IndexEPA(MeasureLevels.UNHEALTHY, RangeValues(55.5, 150.4))\n",
    "    VERY_UNHEALTHY: IndexEPA = IndexEPA(MeasureLevels.VERY_UNHEALTHY, RangeValues(150.5, 250.4))\n",
    "    HAZARDOUS: IndexEPA = IndexEPA(MeasureLevels.HAZARDOUS, RangeValues(250.5, PM25_MAX_VALUE))\n",
    "\n",
    "\n",
    "def get_index_epa(value: int | float, measure: Enum) -> IndexEPA:\n",
    "    for index in measure:\n",
    "        if index.value.range.is_in(value):\n",
    "            return index.value\n"
   ]
  },
  {
   "cell_type": "markdown",
   "metadata": {},
   "source": [
    "### Equation 1"
   ]
  },
  {
   "cell_type": "code",
   "execution_count": 4,
   "metadata": {},
   "outputs": [],
   "source": [
    "# Define Equation 1 to Calculate PM2.5 AQI Value\n",
    "#\n",
    "# AQI = AQI for pollutant p\n",
    "# Cp = The truncated concentrattion of pollutant p, This cases PM2.5\n",
    "# BP_hi = The concentration breakpoint that is greater than or equal to Cp\n",
    "# BP_lo = The concentration breakpoint that is less than or equal to Cp\n",
    "# AQI_hi = The AQI value corresponding to BP_hi\n",
    "# AQI_lo = The AQI value corresponding to BP_lo\n",
    "#\n",
    "\n",
    "def pm25_to_aqi(pm25_value: float) -> int:\n",
    "    # Truncate PM2.5 Value\n",
    "    pm25_value = float(f'{pm25_value:.1f}')\n",
    "    # AQI Value to Concentration of PM2.5\n",
    "    aqi_value = None\n",
    "    # Variables\n",
    "    BP_hi = None # The concentration breakpoint that is greater than or equal to pm25_value\n",
    "    BP_lo = None # The concentration breakpoint that is less than or equal to pm25_value\n",
    "    AQI_hi = None # The AQI value corresponding to BP_hi\n",
    "    AQI_lo = None # The AQI value corresponding to BP_lo\n",
    "\n",
    "    # Get BP_hi and BP_lo\n",
    "    for bp in PM25Levels:\n",
    "        #print('bp:', bp)\n",
    "        if bp.value.range.is_in(pm25_value):\n",
    "            BP_hi = bp.value.range.max\n",
    "            BP_lo = bp.value.range.min\n",
    "            AQI_hi = AQILevels[bp.name].value.range.max\n",
    "            AQI_lo = AQILevels[bp.name].value.range.min\n",
    "            break\n",
    "\n",
    "    aqi_value = pm25_value if math.isnan(pm25_value) else math.ceil((((AQI_hi - AQI_lo) / (BP_hi - BP_lo)) * (pm25_value - BP_lo)) + AQI_lo)\n",
    "\n",
    "    return aqi_value"
   ]
  },
  {
   "cell_type": "code",
   "execution_count": 5,
   "metadata": {},
   "outputs": [
    {
     "name": "stdout",
     "output_type": "stream",
     "text": [
      "PM2.5: 35.9, AQI: 102\n",
      "PM2.5: 35.9, Measure Level: MeasureLevels.UNHEALTHY_FOR_SENSITIVE_GROUPS, Range Values: Min: 35.5, Max: 55.4\n",
      "AQI: 102, Measure Level: MeasureLevels.UNHEALTHY_FOR_SENSITIVE_GROUPS, Range Values: Min: 101, Max: 150\n"
     ]
    }
   ],
   "source": [
    "# Example:\n",
    "# Equation 1 to calculate the AQI value\n",
    "pm25_value = 35.9\n",
    "#pm25_value = math.nan\n",
    "aqi_value = pm25_to_aqi(pm25_value)\n",
    "\n",
    "print(f\"PM2.5: {pm25_value}, AQI: {aqi_value}\")\n",
    "print(f\"PM2.5: {pm25_value}, {get_index_epa(pm25_value, PM25Levels)}\")\n",
    "print(f\"AQI: {aqi_value}, {get_index_epa(aqi_value, AQILevels)}\")"
   ]
  },
  {
   "cell_type": "code",
   "execution_count": null,
   "metadata": {},
   "outputs": [],
   "source": []
  }
 ],
 "metadata": {
  "kernelspec": {
   "display_name": ".venv",
   "language": "python",
   "name": "python3"
  },
  "language_info": {
   "codemirror_mode": {
    "name": "ipython",
    "version": 3
   },
   "file_extension": ".py",
   "mimetype": "text/x-python",
   "name": "python",
   "nbconvert_exporter": "python",
   "pygments_lexer": "ipython3",
   "version": "3.12.0"
  },
  "orig_nbformat": 4
 },
 "nbformat": 4,
 "nbformat_minor": 2
}
