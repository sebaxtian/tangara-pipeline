{
 "cells": [
  {
   "cell_type": "code",
   "execution_count": 1,
   "metadata": {
    "execution": {
     "iopub.execute_input": "2023-11-09T15:18:37.068906Z",
     "iopub.status.busy": "2023-11-09T15:18:37.068430Z",
     "iopub.status.idle": "2023-11-09T15:18:39.491623Z",
     "shell.execute_reply": "2023-11-09T15:18:39.490454Z"
    }
   },
   "outputs": [
    {
     "name": "stdout",
     "output_type": "stream",
     "text": [
      "PM2.5: 35.9, AQI: 102\n",
      "PM2.5: 35.9, Measure Level: MeasureLevels.UNHEALTHY_FOR_SENSITIVE_GROUPS, Range Values: Min: 35.5, Max: 55.4\n",
      "AQI: 102, Measure Level: MeasureLevels.UNHEALTHY_FOR_SENSITIVE_GROUPS, Range Values: Min: 101, Max: 150\n"
     ]
    }
   ],
   "source": [
    "import os\n",
    "import math\n",
    "from dotenv import load_dotenv\n",
    "\n",
    "# Explicitly providing path to '.env'\n",
    "from pathlib import Path  # Python 3.6+ only\n",
    "# Load .env variables\n",
    "_ = load_dotenv(dotenv_path=f\"{Path().resolve().parents[1]}/standalone/.env\")\n",
    "\n",
    "# import import_ipynb\n",
    "# from utils import to_timestamp, df_data_sensors, to_be_checked, is_corr_ok, df_to_csv, df_from_csv\n",
    "\n",
    "# with the new api\n",
    "from importnb import imports\n",
    "with imports(\"ipynb\"):\n",
    "    from utils import to_timestamp, df_data_sensors, to_be_checked, is_corr_ok, df_to_csv, df_from_csv"
   ]
  },
  {
   "cell_type": "markdown",
   "metadata": {},
   "source": [
    "## PM2.5 Raw Data"
   ]
  },
  {
   "cell_type": "code",
   "execution_count": 2,
   "metadata": {
    "execution": {
     "iopub.execute_input": "2023-11-09T15:18:39.563722Z",
     "iopub.status.busy": "2023-11-09T15:18:39.563231Z",
     "iopub.status.idle": "2023-11-09T15:18:39.590433Z",
     "shell.execute_reply": "2023-11-09T15:18:39.589309Z"
    }
   },
   "outputs": [
    {
     "name": "stdout",
     "output_type": "stream",
     "text": [
      "Total Tangara Sensors: 9\n"
     ]
    },
    {
     "data": {
      "text/html": [
       "<div>\n",
       "<style scoped>\n",
       "    .dataframe tbody tr th:only-of-type {\n",
       "        vertical-align: middle;\n",
       "    }\n",
       "\n",
       "    .dataframe tbody tr th {\n",
       "        vertical-align: top;\n",
       "    }\n",
       "\n",
       "    .dataframe thead th {\n",
       "        text-align: right;\n",
       "    }\n",
       "</style>\n",
       "<table border=\"1\" class=\"dataframe\">\n",
       "  <thead>\n",
       "    <tr style=\"text-align: right;\">\n",
       "      <th></th>\n",
       "      <th>ID</th>\n",
       "      <th>GEOHASH</th>\n",
       "      <th>MAC</th>\n",
       "      <th>GEOLOCATION</th>\n",
       "      <th>LATITUDE</th>\n",
       "      <th>LONGITUDE</th>\n",
       "    </tr>\n",
       "  </thead>\n",
       "  <tbody>\n",
       "    <tr>\n",
       "      <th>0</th>\n",
       "      <td>TANGARA_260A</td>\n",
       "      <td>d29edyj</td>\n",
       "      <td>D29ESP32DE1260A</td>\n",
       "      <td>3.4613800048828125 -76.51222229003906</td>\n",
       "      <td>3.461380</td>\n",
       "      <td>-76.512222</td>\n",
       "    </tr>\n",
       "    <tr>\n",
       "      <th>1</th>\n",
       "      <td>TANGARA_4B1A</td>\n",
       "      <td>d29esj8</td>\n",
       "      <td>D29ESP32DE94B1A</td>\n",
       "      <td>3.4586334228515625 -76.46415710449219</td>\n",
       "      <td>3.458633</td>\n",
       "      <td>-76.464157</td>\n",
       "    </tr>\n",
       "    <tr>\n",
       "      <th>2</th>\n",
       "      <td>TANGARA_14D6</td>\n",
       "      <td>d29eg4k</td>\n",
       "      <td>D29ESP32DED14D6</td>\n",
       "      <td>3.4847259521484375 -76.50260925292969</td>\n",
       "      <td>3.484726</td>\n",
       "      <td>-76.502609</td>\n",
       "    </tr>\n",
       "    <tr>\n",
       "      <th>3</th>\n",
       "      <td>TANGARA_2B42</td>\n",
       "      <td>d29e6pg</td>\n",
       "      <td>D29ESP32DED2B42</td>\n",
       "      <td>3.4270477294921875 -76.54792785644531</td>\n",
       "      <td>3.427048</td>\n",
       "      <td>-76.547928</td>\n",
       "    </tr>\n",
       "    <tr>\n",
       "      <th>4</th>\n",
       "      <td>TANGARA_2E9A</td>\n",
       "      <td>d29ed62</td>\n",
       "      <td>D29ESP32DED2E9A</td>\n",
       "      <td>3.4407806396484375 -76.54106140136719</td>\n",
       "      <td>3.440781</td>\n",
       "      <td>-76.541061</td>\n",
       "    </tr>\n",
       "  </tbody>\n",
       "</table>\n",
       "</div>"
      ],
      "text/plain": [
       "             ID  GEOHASH              MAC  \\\n",
       "0  TANGARA_260A  d29edyj  D29ESP32DE1260A   \n",
       "1  TANGARA_4B1A  d29esj8  D29ESP32DE94B1A   \n",
       "2  TANGARA_14D6  d29eg4k  D29ESP32DED14D6   \n",
       "3  TANGARA_2B42  d29e6pg  D29ESP32DED2B42   \n",
       "4  TANGARA_2E9A  d29ed62  D29ESP32DED2E9A   \n",
       "\n",
       "                             GEOLOCATION  LATITUDE  LONGITUDE  \n",
       "0  3.4613800048828125 -76.51222229003906  3.461380 -76.512222  \n",
       "1  3.4586334228515625 -76.46415710449219  3.458633 -76.464157  \n",
       "2  3.4847259521484375 -76.50260925292969  3.484726 -76.502609  \n",
       "3  3.4270477294921875 -76.54792785644531  3.427048 -76.547928  \n",
       "4  3.4407806396484375 -76.54106140136719  3.440781 -76.541061  "
      ]
     },
     "execution_count": 2,
     "metadata": {},
     "output_type": "execute_result"
    }
   ],
   "source": [
    "# Load Tangaras\n",
    "df_tangaras = df_from_csv(\"tangaras.csv\", dtindex=False)\n",
    "\n",
    "print(f\"Total Tangara Sensors: {len(df_tangaras)}\")\n",
    "\n",
    "df_tangaras.head()"
   ]
  },
  {
   "cell_type": "code",
   "execution_count": 3,
   "metadata": {
    "execution": {
     "iopub.execute_input": "2023-11-09T15:18:39.594636Z",
     "iopub.status.busy": "2023-11-09T15:18:39.594224Z",
     "iopub.status.idle": "2023-11-09T15:18:39.601783Z",
     "shell.execute_reply": "2023-11-09T15:18:39.600666Z"
    }
   },
   "outputs": [
    {
     "name": "stdout",
     "output_type": "stream",
     "text": [
      "Since: 2023-11-09T10:13:09-05:00 -> 1699542789000, Until: 2023-11-09T10:18:09-05:00 -> 1699543089000\n",
      "Group by Time: 30s\n"
     ]
    }
   ],
   "source": [
    "# Start Date Time ISO 8601 Format, TZ='America/Bogota' -05:00\n",
    "START_ISO8601_DATETIME = os.getenv(\"START_ISO8601_DATETIME\", None)\n",
    "start_timestamp = to_timestamp(START_ISO8601_DATETIME)\n",
    "# End Date Time ISO 8601 Format, TZ='America/Bogota' -05:00\n",
    "END_ISO8601_DATETIME = os.getenv(\"END_ISO8601_DATETIME\", None)\n",
    "end_timestamp = to_timestamp(os.getenv(\"END_ISO8601_DATETIME\", None))\n",
    "\n",
    "# GROUP BY TIME\n",
    "GROUP_BY_TIME = os.getenv(\"GROUP_BY_TIME\", None)\n",
    "\n",
    "print(f'Since: {START_ISO8601_DATETIME} -> {start_timestamp}, Until: {END_ISO8601_DATETIME} -> {end_timestamp}')\n",
    "print(f\"Group by Time: {GROUP_BY_TIME}\")"
   ]
  },
  {
   "cell_type": "code",
   "execution_count": 4,
   "metadata": {
    "execution": {
     "iopub.execute_input": "2023-11-09T15:18:39.605870Z",
     "iopub.status.busy": "2023-11-09T15:18:39.605492Z",
     "iopub.status.idle": "2023-11-09T15:18:40.166075Z",
     "shell.execute_reply": "2023-11-09T15:18:40.164991Z"
    }
   },
   "outputs": [
    {
     "data": {
      "text/html": [
       "<div>\n",
       "<style scoped>\n",
       "    .dataframe tbody tr th:only-of-type {\n",
       "        vertical-align: middle;\n",
       "    }\n",
       "\n",
       "    .dataframe tbody tr th {\n",
       "        vertical-align: top;\n",
       "    }\n",
       "\n",
       "    .dataframe thead th {\n",
       "        text-align: right;\n",
       "    }\n",
       "</style>\n",
       "<table border=\"1\" class=\"dataframe\">\n",
       "  <thead>\n",
       "    <tr style=\"text-align: right;\">\n",
       "      <th></th>\n",
       "      <th>TANGARA_260A</th>\n",
       "      <th>TANGARA_4B1A</th>\n",
       "      <th>TANGARA_14D6</th>\n",
       "      <th>TANGARA_2B42</th>\n",
       "      <th>TANGARA_2E9A</th>\n",
       "      <th>TANGARA_2FF6</th>\n",
       "      <th>TANGARA_48C6</th>\n",
       "      <th>TANGARA_F1AE</th>\n",
       "      <th>TANGARA_06BE</th>\n",
       "    </tr>\n",
       "    <tr>\n",
       "      <th>DATETIME</th>\n",
       "      <th></th>\n",
       "      <th></th>\n",
       "      <th></th>\n",
       "      <th></th>\n",
       "      <th></th>\n",
       "      <th></th>\n",
       "      <th></th>\n",
       "      <th></th>\n",
       "      <th></th>\n",
       "    </tr>\n",
       "  </thead>\n",
       "  <tbody>\n",
       "    <tr>\n",
       "      <th>2023-11-09 10:13:00-05:00</th>\n",
       "      <td>15.0</td>\n",
       "      <td>NaN</td>\n",
       "      <td>18.0</td>\n",
       "      <td>9.0</td>\n",
       "      <td>7.0</td>\n",
       "      <td>NaN</td>\n",
       "      <td>7.0</td>\n",
       "      <td>NaN</td>\n",
       "      <td>NaN</td>\n",
       "    </tr>\n",
       "    <tr>\n",
       "      <th>2023-11-09 10:13:30-05:00</th>\n",
       "      <td>14.0</td>\n",
       "      <td>10.0</td>\n",
       "      <td>17.0</td>\n",
       "      <td>10.0</td>\n",
       "      <td>7.0</td>\n",
       "      <td>9.0</td>\n",
       "      <td>7.0</td>\n",
       "      <td>15.0</td>\n",
       "      <td>11.0</td>\n",
       "    </tr>\n",
       "    <tr>\n",
       "      <th>2023-11-09 10:14:00-05:00</th>\n",
       "      <td>13.0</td>\n",
       "      <td>10.0</td>\n",
       "      <td>18.0</td>\n",
       "      <td>10.0</td>\n",
       "      <td>9.0</td>\n",
       "      <td>9.0</td>\n",
       "      <td>8.0</td>\n",
       "      <td>15.0</td>\n",
       "      <td>12.0</td>\n",
       "    </tr>\n",
       "    <tr>\n",
       "      <th>2023-11-09 10:14:30-05:00</th>\n",
       "      <td>13.0</td>\n",
       "      <td>10.0</td>\n",
       "      <td>17.0</td>\n",
       "      <td>10.0</td>\n",
       "      <td>8.0</td>\n",
       "      <td>9.0</td>\n",
       "      <td>8.0</td>\n",
       "      <td>14.0</td>\n",
       "      <td>11.0</td>\n",
       "    </tr>\n",
       "    <tr>\n",
       "      <th>2023-11-09 10:15:00-05:00</th>\n",
       "      <td>13.0</td>\n",
       "      <td>9.0</td>\n",
       "      <td>17.0</td>\n",
       "      <td>9.0</td>\n",
       "      <td>8.0</td>\n",
       "      <td>8.0</td>\n",
       "      <td>9.0</td>\n",
       "      <td>14.0</td>\n",
       "      <td>12.0</td>\n",
       "    </tr>\n",
       "  </tbody>\n",
       "</table>\n",
       "</div>"
      ],
      "text/plain": [
       "                           TANGARA_260A  TANGARA_4B1A  TANGARA_14D6  \\\n",
       "DATETIME                                                              \n",
       "2023-11-09 10:13:00-05:00          15.0           NaN          18.0   \n",
       "2023-11-09 10:13:30-05:00          14.0          10.0          17.0   \n",
       "2023-11-09 10:14:00-05:00          13.0          10.0          18.0   \n",
       "2023-11-09 10:14:30-05:00          13.0          10.0          17.0   \n",
       "2023-11-09 10:15:00-05:00          13.0           9.0          17.0   \n",
       "\n",
       "                           TANGARA_2B42  TANGARA_2E9A  TANGARA_2FF6  \\\n",
       "DATETIME                                                              \n",
       "2023-11-09 10:13:00-05:00           9.0           7.0           NaN   \n",
       "2023-11-09 10:13:30-05:00          10.0           7.0           9.0   \n",
       "2023-11-09 10:14:00-05:00          10.0           9.0           9.0   \n",
       "2023-11-09 10:14:30-05:00          10.0           8.0           9.0   \n",
       "2023-11-09 10:15:00-05:00           9.0           8.0           8.0   \n",
       "\n",
       "                           TANGARA_48C6  TANGARA_F1AE  TANGARA_06BE  \n",
       "DATETIME                                                             \n",
       "2023-11-09 10:13:00-05:00           7.0           NaN           NaN  \n",
       "2023-11-09 10:13:30-05:00           7.0          15.0          11.0  \n",
       "2023-11-09 10:14:00-05:00           8.0          15.0          12.0  \n",
       "2023-11-09 10:14:30-05:00           8.0          14.0          11.0  \n",
       "2023-11-09 10:15:00-05:00           9.0          14.0          12.0  "
      ]
     },
     "execution_count": 4,
     "metadata": {},
     "output_type": "execute_result"
    }
   ],
   "source": [
    "# PM2.5 Data Frame Sensors\n",
    "df_pm25_raw = df_data_sensors(df_tangaras, start_timestamp, end_timestamp, 'pm25', GROUP_BY_TIME)\n",
    "df_pm25_raw.head()\n",
    "#df_pm25_raw.shape"
   ]
  },
  {
   "cell_type": "markdown",
   "metadata": {},
   "source": [
    "## Descriptive Statistics"
   ]
  },
  {
   "cell_type": "code",
   "execution_count": 5,
   "metadata": {
    "execution": {
     "iopub.execute_input": "2023-11-09T15:18:40.169731Z",
     "iopub.status.busy": "2023-11-09T15:18:40.169411Z",
     "iopub.status.idle": "2023-11-09T15:18:40.207923Z",
     "shell.execute_reply": "2023-11-09T15:18:40.206944Z"
    }
   },
   "outputs": [
    {
     "data": {
      "text/html": [
       "<div>\n",
       "<style scoped>\n",
       "    .dataframe tbody tr th:only-of-type {\n",
       "        vertical-align: middle;\n",
       "    }\n",
       "\n",
       "    .dataframe tbody tr th {\n",
       "        vertical-align: top;\n",
       "    }\n",
       "\n",
       "    .dataframe thead th {\n",
       "        text-align: right;\n",
       "    }\n",
       "</style>\n",
       "<table border=\"1\" class=\"dataframe\">\n",
       "  <thead>\n",
       "    <tr style=\"text-align: right;\">\n",
       "      <th></th>\n",
       "      <th>TANGARA_260A</th>\n",
       "      <th>TANGARA_4B1A</th>\n",
       "      <th>TANGARA_14D6</th>\n",
       "      <th>TANGARA_2B42</th>\n",
       "      <th>TANGARA_2E9A</th>\n",
       "      <th>TANGARA_2FF6</th>\n",
       "      <th>TANGARA_48C6</th>\n",
       "      <th>TANGARA_F1AE</th>\n",
       "      <th>TANGARA_06BE</th>\n",
       "    </tr>\n",
       "  </thead>\n",
       "  <tbody>\n",
       "    <tr>\n",
       "      <th>count</th>\n",
       "      <td>10.000000</td>\n",
       "      <td>9.000000</td>\n",
       "      <td>10.000000</td>\n",
       "      <td>10.000000</td>\n",
       "      <td>10.000000</td>\n",
       "      <td>9.000000</td>\n",
       "      <td>10.000000</td>\n",
       "      <td>9.000000</td>\n",
       "      <td>9.000000</td>\n",
       "    </tr>\n",
       "    <tr>\n",
       "      <th>mean</th>\n",
       "      <td>13.300000</td>\n",
       "      <td>9.888889</td>\n",
       "      <td>17.700000</td>\n",
       "      <td>9.300000</td>\n",
       "      <td>8.100000</td>\n",
       "      <td>8.555556</td>\n",
       "      <td>7.800000</td>\n",
       "      <td>14.111111</td>\n",
       "      <td>10.666667</td>\n",
       "    </tr>\n",
       "    <tr>\n",
       "      <th>std</th>\n",
       "      <td>0.823273</td>\n",
       "      <td>0.600925</td>\n",
       "      <td>0.823273</td>\n",
       "      <td>0.674949</td>\n",
       "      <td>0.737865</td>\n",
       "      <td>0.527046</td>\n",
       "      <td>1.032796</td>\n",
       "      <td>0.600925</td>\n",
       "      <td>1.000000</td>\n",
       "    </tr>\n",
       "    <tr>\n",
       "      <th>min</th>\n",
       "      <td>12.000000</td>\n",
       "      <td>9.000000</td>\n",
       "      <td>17.000000</td>\n",
       "      <td>8.000000</td>\n",
       "      <td>7.000000</td>\n",
       "      <td>8.000000</td>\n",
       "      <td>6.000000</td>\n",
       "      <td>13.000000</td>\n",
       "      <td>9.000000</td>\n",
       "    </tr>\n",
       "    <tr>\n",
       "      <th>25%</th>\n",
       "      <td>13.000000</td>\n",
       "      <td>10.000000</td>\n",
       "      <td>17.000000</td>\n",
       "      <td>9.000000</td>\n",
       "      <td>8.000000</td>\n",
       "      <td>8.000000</td>\n",
       "      <td>7.000000</td>\n",
       "      <td>14.000000</td>\n",
       "      <td>10.000000</td>\n",
       "    </tr>\n",
       "    <tr>\n",
       "      <th>50%</th>\n",
       "      <td>13.000000</td>\n",
       "      <td>10.000000</td>\n",
       "      <td>17.500000</td>\n",
       "      <td>9.000000</td>\n",
       "      <td>8.000000</td>\n",
       "      <td>9.000000</td>\n",
       "      <td>8.000000</td>\n",
       "      <td>14.000000</td>\n",
       "      <td>11.000000</td>\n",
       "    </tr>\n",
       "    <tr>\n",
       "      <th>75%</th>\n",
       "      <td>13.750000</td>\n",
       "      <td>10.000000</td>\n",
       "      <td>18.000000</td>\n",
       "      <td>10.000000</td>\n",
       "      <td>8.750000</td>\n",
       "      <td>9.000000</td>\n",
       "      <td>8.750000</td>\n",
       "      <td>14.000000</td>\n",
       "      <td>11.000000</td>\n",
       "    </tr>\n",
       "    <tr>\n",
       "      <th>max</th>\n",
       "      <td>15.000000</td>\n",
       "      <td>11.000000</td>\n",
       "      <td>19.000000</td>\n",
       "      <td>10.000000</td>\n",
       "      <td>9.000000</td>\n",
       "      <td>9.000000</td>\n",
       "      <td>9.000000</td>\n",
       "      <td>15.000000</td>\n",
       "      <td>12.000000</td>\n",
       "    </tr>\n",
       "  </tbody>\n",
       "</table>\n",
       "</div>"
      ],
      "text/plain": [
       "       TANGARA_260A  TANGARA_4B1A  TANGARA_14D6  TANGARA_2B42  TANGARA_2E9A  \\\n",
       "count     10.000000      9.000000     10.000000     10.000000     10.000000   \n",
       "mean      13.300000      9.888889     17.700000      9.300000      8.100000   \n",
       "std        0.823273      0.600925      0.823273      0.674949      0.737865   \n",
       "min       12.000000      9.000000     17.000000      8.000000      7.000000   \n",
       "25%       13.000000     10.000000     17.000000      9.000000      8.000000   \n",
       "50%       13.000000     10.000000     17.500000      9.000000      8.000000   \n",
       "75%       13.750000     10.000000     18.000000     10.000000      8.750000   \n",
       "max       15.000000     11.000000     19.000000     10.000000      9.000000   \n",
       "\n",
       "       TANGARA_2FF6  TANGARA_48C6  TANGARA_F1AE  TANGARA_06BE  \n",
       "count      9.000000     10.000000      9.000000      9.000000  \n",
       "mean       8.555556      7.800000     14.111111     10.666667  \n",
       "std        0.527046      1.032796      0.600925      1.000000  \n",
       "min        8.000000      6.000000     13.000000      9.000000  \n",
       "25%        8.000000      7.000000     14.000000     10.000000  \n",
       "50%        9.000000      8.000000     14.000000     11.000000  \n",
       "75%        9.000000      8.750000     14.000000     11.000000  \n",
       "max        9.000000      9.000000     15.000000     12.000000  "
      ]
     },
     "execution_count": 5,
     "metadata": {},
     "output_type": "execute_result"
    }
   ],
   "source": [
    "# Describe Data\n",
    "df_pm25_raw.describe()"
   ]
  },
  {
   "cell_type": "markdown",
   "metadata": {},
   "source": [
    "## Missing Data"
   ]
  },
  {
   "cell_type": "code",
   "execution_count": 6,
   "metadata": {
    "execution": {
     "iopub.execute_input": "2023-11-09T15:18:40.211543Z",
     "iopub.status.busy": "2023-11-09T15:18:40.211227Z",
     "iopub.status.idle": "2023-11-09T15:18:40.234671Z",
     "shell.execute_reply": "2023-11-09T15:18:40.233876Z"
    }
   },
   "outputs": [
    {
     "name": "stdout",
     "output_type": "stream",
     "text": [
      "Threshold: 90%\n"
     ]
    },
    {
     "name": "stderr",
     "output_type": "stream",
     "text": [
      "/home/sebaxtian/Workspaces/Tangara/tangara-pipeline/standalone/notebooks/utils.ipynb:197: FutureWarning: Series.__getitem__ treating keys as positions is deprecated. In a future version, integer keys will always be treated as labels (consistent with DataFrame behavior). To access a value by position, use `ser.iloc[pos]`\n",
      "  missing_data_percent = round(df_sensor.isna().sum()[0] * 100 / total)\n",
      "/home/sebaxtian/Workspaces/Tangara/tangara-pipeline/standalone/notebooks/utils.ipynb:198: FutureWarning: Series.__getitem__ treating keys as positions is deprecated. In a future version, integer keys will always be treated as labels (consistent with DataFrame behavior). To access a value by position, use `ser.iloc[pos]`\n",
      "  data_percent = round(df_sensor.count()[0] * 100 / total)\n",
      "/home/sebaxtian/Workspaces/Tangara/tangara-pipeline/standalone/notebooks/utils.ipynb:197: FutureWarning: Series.__getitem__ treating keys as positions is deprecated. In a future version, integer keys will always be treated as labels (consistent with DataFrame behavior). To access a value by position, use `ser.iloc[pos]`\n",
      "  missing_data_percent = round(df_sensor.isna().sum()[0] * 100 / total)\n",
      "/home/sebaxtian/Workspaces/Tangara/tangara-pipeline/standalone/notebooks/utils.ipynb:198: FutureWarning: Series.__getitem__ treating keys as positions is deprecated. In a future version, integer keys will always be treated as labels (consistent with DataFrame behavior). To access a value by position, use `ser.iloc[pos]`\n",
      "  data_percent = round(df_sensor.count()[0] * 100 / total)\n",
      "/home/sebaxtian/Workspaces/Tangara/tangara-pipeline/standalone/notebooks/utils.ipynb:197: FutureWarning: Series.__getitem__ treating keys as positions is deprecated. In a future version, integer keys will always be treated as labels (consistent with DataFrame behavior). To access a value by position, use `ser.iloc[pos]`\n",
      "  missing_data_percent = round(df_sensor.isna().sum()[0] * 100 / total)\n",
      "/home/sebaxtian/Workspaces/Tangara/tangara-pipeline/standalone/notebooks/utils.ipynb:198: FutureWarning: Series.__getitem__ treating keys as positions is deprecated. In a future version, integer keys will always be treated as labels (consistent with DataFrame behavior). To access a value by position, use `ser.iloc[pos]`\n",
      "  data_percent = round(df_sensor.count()[0] * 100 / total)\n",
      "/home/sebaxtian/Workspaces/Tangara/tangara-pipeline/standalone/notebooks/utils.ipynb:197: FutureWarning: Series.__getitem__ treating keys as positions is deprecated. In a future version, integer keys will always be treated as labels (consistent with DataFrame behavior). To access a value by position, use `ser.iloc[pos]`\n",
      "  missing_data_percent = round(df_sensor.isna().sum()[0] * 100 / total)\n",
      "/home/sebaxtian/Workspaces/Tangara/tangara-pipeline/standalone/notebooks/utils.ipynb:198: FutureWarning: Series.__getitem__ treating keys as positions is deprecated. In a future version, integer keys will always be treated as labels (consistent with DataFrame behavior). To access a value by position, use `ser.iloc[pos]`\n",
      "  data_percent = round(df_sensor.count()[0] * 100 / total)\n",
      "/home/sebaxtian/Workspaces/Tangara/tangara-pipeline/standalone/notebooks/utils.ipynb:197: FutureWarning: Series.__getitem__ treating keys as positions is deprecated. In a future version, integer keys will always be treated as labels (consistent with DataFrame behavior). To access a value by position, use `ser.iloc[pos]`\n",
      "  missing_data_percent = round(df_sensor.isna().sum()[0] * 100 / total)\n",
      "/home/sebaxtian/Workspaces/Tangara/tangara-pipeline/standalone/notebooks/utils.ipynb:198: FutureWarning: Series.__getitem__ treating keys as positions is deprecated. In a future version, integer keys will always be treated as labels (consistent with DataFrame behavior). To access a value by position, use `ser.iloc[pos]`\n",
      "  data_percent = round(df_sensor.count()[0] * 100 / total)\n",
      "/home/sebaxtian/Workspaces/Tangara/tangara-pipeline/standalone/notebooks/utils.ipynb:197: FutureWarning: Series.__getitem__ treating keys as positions is deprecated. In a future version, integer keys will always be treated as labels (consistent with DataFrame behavior). To access a value by position, use `ser.iloc[pos]`\n",
      "  missing_data_percent = round(df_sensor.isna().sum()[0] * 100 / total)\n",
      "/home/sebaxtian/Workspaces/Tangara/tangara-pipeline/standalone/notebooks/utils.ipynb:198: FutureWarning: Series.__getitem__ treating keys as positions is deprecated. In a future version, integer keys will always be treated as labels (consistent with DataFrame behavior). To access a value by position, use `ser.iloc[pos]`\n",
      "  data_percent = round(df_sensor.count()[0] * 100 / total)\n",
      "/home/sebaxtian/Workspaces/Tangara/tangara-pipeline/standalone/notebooks/utils.ipynb:197: FutureWarning: Series.__getitem__ treating keys as positions is deprecated. In a future version, integer keys will always be treated as labels (consistent with DataFrame behavior). To access a value by position, use `ser.iloc[pos]`\n",
      "  missing_data_percent = round(df_sensor.isna().sum()[0] * 100 / total)\n",
      "/home/sebaxtian/Workspaces/Tangara/tangara-pipeline/standalone/notebooks/utils.ipynb:198: FutureWarning: Series.__getitem__ treating keys as positions is deprecated. In a future version, integer keys will always be treated as labels (consistent with DataFrame behavior). To access a value by position, use `ser.iloc[pos]`\n",
      "  data_percent = round(df_sensor.count()[0] * 100 / total)\n",
      "/home/sebaxtian/Workspaces/Tangara/tangara-pipeline/standalone/notebooks/utils.ipynb:197: FutureWarning: Series.__getitem__ treating keys as positions is deprecated. In a future version, integer keys will always be treated as labels (consistent with DataFrame behavior). To access a value by position, use `ser.iloc[pos]`\n",
      "  missing_data_percent = round(df_sensor.isna().sum()[0] * 100 / total)\n",
      "/home/sebaxtian/Workspaces/Tangara/tangara-pipeline/standalone/notebooks/utils.ipynb:198: FutureWarning: Series.__getitem__ treating keys as positions is deprecated. In a future version, integer keys will always be treated as labels (consistent with DataFrame behavior). To access a value by position, use `ser.iloc[pos]`\n",
      "  data_percent = round(df_sensor.count()[0] * 100 / total)\n",
      "/home/sebaxtian/Workspaces/Tangara/tangara-pipeline/standalone/notebooks/utils.ipynb:197: FutureWarning: Series.__getitem__ treating keys as positions is deprecated. In a future version, integer keys will always be treated as labels (consistent with DataFrame behavior). To access a value by position, use `ser.iloc[pos]`\n",
      "  missing_data_percent = round(df_sensor.isna().sum()[0] * 100 / total)\n",
      "/home/sebaxtian/Workspaces/Tangara/tangara-pipeline/standalone/notebooks/utils.ipynb:198: FutureWarning: Series.__getitem__ treating keys as positions is deprecated. In a future version, integer keys will always be treated as labels (consistent with DataFrame behavior). To access a value by position, use `ser.iloc[pos]`\n",
      "  data_percent = round(df_sensor.count()[0] * 100 / total)\n"
     ]
    }
   ],
   "source": [
    "# Missing Data Threshold\n",
    "threshold = 90\n",
    "print(f'Threshold: {threshold}%')\n",
    "\n",
    "# For each Tangara sensor\n",
    "for id_tangara_sensor in df_pm25_raw.columns:\n",
    "    df_pm25_sensor = df_pm25_raw[[id_tangara_sensor]]\n",
    "    # To be checked\n",
    "    is_ok, data_percent, missing_data_percent = to_be_checked(df_pm25_sensor, threshold)\n",
    "    if not is_ok:\n",
    "        print(f\"Tangara Sensor: {id_tangara_sensor}, Data: {data_percent}%, Missing: {missing_data_percent}%, To be checked\")"
   ]
  },
  {
   "cell_type": "markdown",
   "metadata": {},
   "source": [
    "## Data Correlation"
   ]
  },
  {
   "cell_type": "code",
   "execution_count": 7,
   "metadata": {
    "execution": {
     "iopub.execute_input": "2023-11-09T15:18:40.238918Z",
     "iopub.status.busy": "2023-11-09T15:18:40.238599Z",
     "iopub.status.idle": "2023-11-09T15:18:40.245933Z",
     "shell.execute_reply": "2023-11-09T15:18:40.245202Z"
    }
   },
   "outputs": [
    {
     "name": "stdout",
     "output_type": "stream",
     "text": [
      "Threshold: 0.9%\n",
      "Reference Tangara Sensor: TANGARA_06BE, Target Tangara Sensor: TANGARA_2FF6, Correlation: 0.0, To be checked\n"
     ]
    }
   ],
   "source": [
    "# Data Correlation Threshold\n",
    "threshold = 0.9\n",
    "print(f'Threshold: {threshold}%')\n",
    "\n",
    "ID_REFE_TANGARA_SENSOR='TANGARA_06BE'\n",
    "ID_TARG_TANGARA_SENSOR='TANGARA_2FF6'\n",
    "# Reference Tangara Sensor\n",
    "df_reference_sensor = df_pm25_raw[ID_REFE_TANGARA_SENSOR]\n",
    "# Target Tangara Sensor\n",
    "df_target_sensor = df_pm25_raw[ID_TARG_TANGARA_SENSOR]\n",
    "\n",
    "# To be checked\n",
    "if not math.isnan(df_reference_sensor.std()):\n",
    "    is_ok, corr = is_corr_ok(df_reference_sensor, df_target_sensor, threshold)\n",
    "    if not is_ok:\n",
    "        print(f\"Reference Tangara Sensor: {ID_REFE_TANGARA_SENSOR}, Target Tangara Sensor: {ID_TARG_TANGARA_SENSOR}, Correlation: {corr}, To be checked\")\n",
    "\n",
    "# For each Tangara sensor\n",
    "# for id_tangara_sensor in df_pm25_raw.columns:\n",
    "#     # Target Tangara Sensor\n",
    "#     df_target_sensor = df_pm25_raw[id_tangara_sensor]\n",
    "#     # To be checked\n",
    "#     is_ok, corr = is_corr_ok(df_reference_sensor, df_target_sensor, threshold)\n",
    "#     if not is_ok:\n",
    "#         print(f\"Reference Tangara Sensor: {ID_REFE_TANGARA_SENSOR}, Target Tangara Sensor: {id_tangara_sensor}, Correlation: {corr}, To be checked\")\n"
   ]
  },
  {
   "cell_type": "code",
   "execution_count": 8,
   "metadata": {
    "execution": {
     "iopub.execute_input": "2023-11-09T15:18:40.249539Z",
     "iopub.status.busy": "2023-11-09T15:18:40.249214Z",
     "iopub.status.idle": "2023-11-09T15:18:40.256321Z",
     "shell.execute_reply": "2023-11-09T15:18:40.255447Z"
    }
   },
   "outputs": [],
   "source": [
    "# Save PM2.5 Data Frame Sensors into CSV file\n",
    "df_to_csv(df_pm25_raw, \"pm25_raw.csv\")"
   ]
  },
  {
   "cell_type": "code",
   "execution_count": null,
   "metadata": {},
   "outputs": [],
   "source": []
  }
 ],
 "metadata": {
  "kernelspec": {
   "display_name": ".venv",
   "language": "python",
   "name": "python3"
  },
  "language_info": {
   "codemirror_mode": {
    "name": "ipython",
    "version": 3
   },
   "file_extension": ".py",
   "mimetype": "text/x-python",
   "name": "python",
   "nbconvert_exporter": "python",
   "pygments_lexer": "ipython3",
   "version": "3.12.0"
  }
 },
 "nbformat": 4,
 "nbformat_minor": 2
}
