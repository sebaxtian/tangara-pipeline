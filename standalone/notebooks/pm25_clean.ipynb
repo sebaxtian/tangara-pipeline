{
 "cells": [
  {
   "cell_type": "code",
   "execution_count": 1,
   "metadata": {
    "execution": {
     "iopub.execute_input": "2023-11-11T19:52:40.958342Z",
     "iopub.status.busy": "2023-11-11T19:52:40.957167Z",
     "iopub.status.idle": "2023-11-11T19:52:44.079659Z",
     "shell.execute_reply": "2023-11-11T19:52:44.078328Z"
    }
   },
   "outputs": [
    {
     "name": "stdout",
     "output_type": "stream",
     "text": [
      "PM2.5: 35.9, AQI: 102\n",
      "PM2.5: 35.9, Measure Level: MeasureLevels.UNHEALTHY_FOR_SENSITIVE_GROUPS, Range Values: Min: 35.5, Max: 55.4\n",
      "AQI: 102, Measure Level: MeasureLevels.UNHEALTHY_FOR_SENSITIVE_GROUPS, Range Values: Min: 101, Max: 150\n"
     ]
    }
   ],
   "source": [
    "import os\n",
    "import math\n",
    "from dotenv import load_dotenv\n",
    "\n",
    "# Explicitly providing path to '.env'\n",
    "from pathlib import Path  # Python 3.6+ only\n",
    "# Load .env variables\n",
    "_ = load_dotenv(dotenv_path=f\"{Path().resolve().parents[1]}/standalone/.env\")\n",
    "\n",
    "# with the new api\n",
    "from importnb import imports\n",
    "with imports(\"ipynb\"):\n",
    "    from utils import df_from_csv, to_be_checked, is_corr_ok, plot_hist, plot_boxes, plot_lines, df_to_csv, drop_pm25_outliers"
   ]
  },
  {
   "cell_type": "markdown",
   "metadata": {},
   "source": [
    "## PM2.5 Clean Data"
   ]
  },
  {
   "cell_type": "code",
   "execution_count": 2,
   "metadata": {
    "execution": {
     "iopub.execute_input": "2023-11-11T19:52:44.166933Z",
     "iopub.status.busy": "2023-11-11T19:52:44.166237Z",
     "iopub.status.idle": "2023-11-11T19:52:44.376932Z",
     "shell.execute_reply": "2023-11-11T19:52:44.375883Z"
    }
   },
   "outputs": [
    {
     "name": "stdout",
     "output_type": "stream",
     "text": [
      "TANGARA_260A    float64\n",
      "TANGARA_4B1A    float64\n",
      "TANGARA_14D6    float64\n",
      "TANGARA_2B42    float64\n",
      "TANGARA_2E9A    float64\n",
      "TANGARA_2FF6    float64\n",
      "TANGARA_307A    float64\n",
      "TANGARA_48C6    float64\n",
      "TANGARA_F1AE    float64\n",
      "TANGARA_06BE    float64\n",
      "dtype: object\n"
     ]
    },
    {
     "data": {
      "text/html": [
       "<div>\n",
       "<style scoped>\n",
       "    .dataframe tbody tr th:only-of-type {\n",
       "        vertical-align: middle;\n",
       "    }\n",
       "\n",
       "    .dataframe tbody tr th {\n",
       "        vertical-align: top;\n",
       "    }\n",
       "\n",
       "    .dataframe thead th {\n",
       "        text-align: right;\n",
       "    }\n",
       "</style>\n",
       "<table border=\"1\" class=\"dataframe\">\n",
       "  <thead>\n",
       "    <tr style=\"text-align: right;\">\n",
       "      <th></th>\n",
       "      <th>TANGARA_260A</th>\n",
       "      <th>TANGARA_4B1A</th>\n",
       "      <th>TANGARA_14D6</th>\n",
       "      <th>TANGARA_2B42</th>\n",
       "      <th>TANGARA_2E9A</th>\n",
       "      <th>TANGARA_2FF6</th>\n",
       "      <th>TANGARA_307A</th>\n",
       "      <th>TANGARA_48C6</th>\n",
       "      <th>TANGARA_F1AE</th>\n",
       "      <th>TANGARA_06BE</th>\n",
       "    </tr>\n",
       "    <tr>\n",
       "      <th>DATETIME</th>\n",
       "      <th></th>\n",
       "      <th></th>\n",
       "      <th></th>\n",
       "      <th></th>\n",
       "      <th></th>\n",
       "      <th></th>\n",
       "      <th></th>\n",
       "      <th></th>\n",
       "      <th></th>\n",
       "      <th></th>\n",
       "    </tr>\n",
       "  </thead>\n",
       "  <tbody>\n",
       "    <tr>\n",
       "      <th>2023-11-09 00:00:00-05:00</th>\n",
       "      <td>NaN</td>\n",
       "      <td>NaN</td>\n",
       "      <td>NaN</td>\n",
       "      <td>9.0</td>\n",
       "      <td>NaN</td>\n",
       "      <td>NaN</td>\n",
       "      <td>NaN</td>\n",
       "      <td>NaN</td>\n",
       "      <td>9.0</td>\n",
       "      <td>NaN</td>\n",
       "    </tr>\n",
       "    <tr>\n",
       "      <th>2023-11-09 00:00:30-05:00</th>\n",
       "      <td>11.0</td>\n",
       "      <td>12.0</td>\n",
       "      <td>NaN</td>\n",
       "      <td>9.0</td>\n",
       "      <td>3.0</td>\n",
       "      <td>11.0</td>\n",
       "      <td>NaN</td>\n",
       "      <td>3.0</td>\n",
       "      <td>10.0</td>\n",
       "      <td>12.0</td>\n",
       "    </tr>\n",
       "    <tr>\n",
       "      <th>2023-11-09 00:01:00-05:00</th>\n",
       "      <td>12.0</td>\n",
       "      <td>12.0</td>\n",
       "      <td>10.0</td>\n",
       "      <td>9.0</td>\n",
       "      <td>2.0</td>\n",
       "      <td>13.0</td>\n",
       "      <td>NaN</td>\n",
       "      <td>6.0</td>\n",
       "      <td>10.0</td>\n",
       "      <td>14.0</td>\n",
       "    </tr>\n",
       "    <tr>\n",
       "      <th>2023-11-09 00:01:30-05:00</th>\n",
       "      <td>12.0</td>\n",
       "      <td>12.0</td>\n",
       "      <td>10.0</td>\n",
       "      <td>9.0</td>\n",
       "      <td>3.0</td>\n",
       "      <td>13.0</td>\n",
       "      <td>NaN</td>\n",
       "      <td>6.0</td>\n",
       "      <td>10.0</td>\n",
       "      <td>14.0</td>\n",
       "    </tr>\n",
       "    <tr>\n",
       "      <th>2023-11-09 00:02:00-05:00</th>\n",
       "      <td>11.0</td>\n",
       "      <td>13.0</td>\n",
       "      <td>10.0</td>\n",
       "      <td>10.0</td>\n",
       "      <td>2.0</td>\n",
       "      <td>13.0</td>\n",
       "      <td>NaN</td>\n",
       "      <td>9.0</td>\n",
       "      <td>10.0</td>\n",
       "      <td>14.0</td>\n",
       "    </tr>\n",
       "  </tbody>\n",
       "</table>\n",
       "</div>"
      ],
      "text/plain": [
       "                           TANGARA_260A  TANGARA_4B1A  TANGARA_14D6  \\\n",
       "DATETIME                                                              \n",
       "2023-11-09 00:00:00-05:00           NaN           NaN           NaN   \n",
       "2023-11-09 00:00:30-05:00          11.0          12.0           NaN   \n",
       "2023-11-09 00:01:00-05:00          12.0          12.0          10.0   \n",
       "2023-11-09 00:01:30-05:00          12.0          12.0          10.0   \n",
       "2023-11-09 00:02:00-05:00          11.0          13.0          10.0   \n",
       "\n",
       "                           TANGARA_2B42  TANGARA_2E9A  TANGARA_2FF6  \\\n",
       "DATETIME                                                              \n",
       "2023-11-09 00:00:00-05:00           9.0           NaN           NaN   \n",
       "2023-11-09 00:00:30-05:00           9.0           3.0          11.0   \n",
       "2023-11-09 00:01:00-05:00           9.0           2.0          13.0   \n",
       "2023-11-09 00:01:30-05:00           9.0           3.0          13.0   \n",
       "2023-11-09 00:02:00-05:00          10.0           2.0          13.0   \n",
       "\n",
       "                           TANGARA_307A  TANGARA_48C6  TANGARA_F1AE  \\\n",
       "DATETIME                                                              \n",
       "2023-11-09 00:00:00-05:00           NaN           NaN           9.0   \n",
       "2023-11-09 00:00:30-05:00           NaN           3.0          10.0   \n",
       "2023-11-09 00:01:00-05:00           NaN           6.0          10.0   \n",
       "2023-11-09 00:01:30-05:00           NaN           6.0          10.0   \n",
       "2023-11-09 00:02:00-05:00           NaN           9.0          10.0   \n",
       "\n",
       "                           TANGARA_06BE  \n",
       "DATETIME                                 \n",
       "2023-11-09 00:00:00-05:00           NaN  \n",
       "2023-11-09 00:00:30-05:00          12.0  \n",
       "2023-11-09 00:01:00-05:00          14.0  \n",
       "2023-11-09 00:01:30-05:00          14.0  \n",
       "2023-11-09 00:02:00-05:00          14.0  "
      ]
     },
     "execution_count": 2,
     "metadata": {},
     "output_type": "execute_result"
    }
   ],
   "source": [
    "# Load Raw Data\n",
    "df_pm25_raw = df_from_csv(\"pm25_raw.csv\")\n",
    "\n",
    "# Check Data Types\n",
    "print(df_pm25_raw.dtypes)\n",
    "\n",
    "df_pm25_raw.head()"
   ]
  },
  {
   "cell_type": "markdown",
   "metadata": {},
   "source": [
    "## Descriptive Statistics"
   ]
  },
  {
   "cell_type": "code",
   "execution_count": 3,
   "metadata": {
    "execution": {
     "iopub.execute_input": "2023-11-11T19:52:44.380721Z",
     "iopub.status.busy": "2023-11-11T19:52:44.380393Z",
     "iopub.status.idle": "2023-11-11T19:52:44.426434Z",
     "shell.execute_reply": "2023-11-11T19:52:44.425472Z"
    }
   },
   "outputs": [
    {
     "data": {
      "text/html": [
       "<div>\n",
       "<style scoped>\n",
       "    .dataframe tbody tr th:only-of-type {\n",
       "        vertical-align: middle;\n",
       "    }\n",
       "\n",
       "    .dataframe tbody tr th {\n",
       "        vertical-align: top;\n",
       "    }\n",
       "\n",
       "    .dataframe thead th {\n",
       "        text-align: right;\n",
       "    }\n",
       "</style>\n",
       "<table border=\"1\" class=\"dataframe\">\n",
       "  <thead>\n",
       "    <tr style=\"text-align: right;\">\n",
       "      <th></th>\n",
       "      <th>TANGARA_260A</th>\n",
       "      <th>TANGARA_4B1A</th>\n",
       "      <th>TANGARA_14D6</th>\n",
       "      <th>TANGARA_2B42</th>\n",
       "      <th>TANGARA_2E9A</th>\n",
       "      <th>TANGARA_2FF6</th>\n",
       "      <th>TANGARA_307A</th>\n",
       "      <th>TANGARA_48C6</th>\n",
       "      <th>TANGARA_F1AE</th>\n",
       "      <th>TANGARA_06BE</th>\n",
       "    </tr>\n",
       "  </thead>\n",
       "  <tbody>\n",
       "    <tr>\n",
       "      <th>count</th>\n",
       "      <td>5609.000000</td>\n",
       "      <td>5639.000000</td>\n",
       "      <td>3836.000000</td>\n",
       "      <td>4181.000000</td>\n",
       "      <td>5666.000000</td>\n",
       "      <td>5683.000000</td>\n",
       "      <td>3226.000000</td>\n",
       "      <td>5506.000000</td>\n",
       "      <td>5723.000000</td>\n",
       "      <td>5522.000000</td>\n",
       "    </tr>\n",
       "    <tr>\n",
       "      <th>mean</th>\n",
       "      <td>9.393475</td>\n",
       "      <td>11.711296</td>\n",
       "      <td>12.083942</td>\n",
       "      <td>7.288448</td>\n",
       "      <td>6.432227</td>\n",
       "      <td>7.373394</td>\n",
       "      <td>7.687539</td>\n",
       "      <td>6.244279</td>\n",
       "      <td>9.574699</td>\n",
       "      <td>9.730170</td>\n",
       "    </tr>\n",
       "    <tr>\n",
       "      <th>std</th>\n",
       "      <td>4.733606</td>\n",
       "      <td>7.959368</td>\n",
       "      <td>6.522791</td>\n",
       "      <td>4.396990</td>\n",
       "      <td>8.252764</td>\n",
       "      <td>3.117201</td>\n",
       "      <td>2.824535</td>\n",
       "      <td>3.828438</td>\n",
       "      <td>4.974644</td>\n",
       "      <td>4.887244</td>\n",
       "    </tr>\n",
       "    <tr>\n",
       "      <th>min</th>\n",
       "      <td>1.000000</td>\n",
       "      <td>2.000000</td>\n",
       "      <td>2.000000</td>\n",
       "      <td>0.000000</td>\n",
       "      <td>0.000000</td>\n",
       "      <td>1.000000</td>\n",
       "      <td>1.000000</td>\n",
       "      <td>0.000000</td>\n",
       "      <td>1.000000</td>\n",
       "      <td>1.000000</td>\n",
       "    </tr>\n",
       "    <tr>\n",
       "      <th>25%</th>\n",
       "      <td>6.000000</td>\n",
       "      <td>8.000000</td>\n",
       "      <td>8.000000</td>\n",
       "      <td>3.000000</td>\n",
       "      <td>3.000000</td>\n",
       "      <td>5.000000</td>\n",
       "      <td>6.000000</td>\n",
       "      <td>4.000000</td>\n",
       "      <td>6.000000</td>\n",
       "      <td>6.000000</td>\n",
       "    </tr>\n",
       "    <tr>\n",
       "      <th>50%</th>\n",
       "      <td>9.000000</td>\n",
       "      <td>9.000000</td>\n",
       "      <td>11.000000</td>\n",
       "      <td>8.000000</td>\n",
       "      <td>6.000000</td>\n",
       "      <td>8.000000</td>\n",
       "      <td>8.000000</td>\n",
       "      <td>6.000000</td>\n",
       "      <td>8.000000</td>\n",
       "      <td>10.000000</td>\n",
       "    </tr>\n",
       "    <tr>\n",
       "      <th>75%</th>\n",
       "      <td>12.000000</td>\n",
       "      <td>12.000000</td>\n",
       "      <td>14.000000</td>\n",
       "      <td>10.000000</td>\n",
       "      <td>9.000000</td>\n",
       "      <td>9.000000</td>\n",
       "      <td>9.000000</td>\n",
       "      <td>8.000000</td>\n",
       "      <td>12.000000</td>\n",
       "      <td>12.000000</td>\n",
       "    </tr>\n",
       "    <tr>\n",
       "      <th>max</th>\n",
       "      <td>27.000000</td>\n",
       "      <td>76.000000</td>\n",
       "      <td>53.000000</td>\n",
       "      <td>23.000000</td>\n",
       "      <td>527.000000</td>\n",
       "      <td>17.000000</td>\n",
       "      <td>43.000000</td>\n",
       "      <td>27.000000</td>\n",
       "      <td>73.000000</td>\n",
       "      <td>94.000000</td>\n",
       "    </tr>\n",
       "  </tbody>\n",
       "</table>\n",
       "</div>"
      ],
      "text/plain": [
       "       TANGARA_260A  TANGARA_4B1A  TANGARA_14D6  TANGARA_2B42  TANGARA_2E9A  \\\n",
       "count   5609.000000   5639.000000   3836.000000   4181.000000   5666.000000   \n",
       "mean       9.393475     11.711296     12.083942      7.288448      6.432227   \n",
       "std        4.733606      7.959368      6.522791      4.396990      8.252764   \n",
       "min        1.000000      2.000000      2.000000      0.000000      0.000000   \n",
       "25%        6.000000      8.000000      8.000000      3.000000      3.000000   \n",
       "50%        9.000000      9.000000     11.000000      8.000000      6.000000   \n",
       "75%       12.000000     12.000000     14.000000     10.000000      9.000000   \n",
       "max       27.000000     76.000000     53.000000     23.000000    527.000000   \n",
       "\n",
       "       TANGARA_2FF6  TANGARA_307A  TANGARA_48C6  TANGARA_F1AE  TANGARA_06BE  \n",
       "count   5683.000000   3226.000000   5506.000000   5723.000000   5522.000000  \n",
       "mean       7.373394      7.687539      6.244279      9.574699      9.730170  \n",
       "std        3.117201      2.824535      3.828438      4.974644      4.887244  \n",
       "min        1.000000      1.000000      0.000000      1.000000      1.000000  \n",
       "25%        5.000000      6.000000      4.000000      6.000000      6.000000  \n",
       "50%        8.000000      8.000000      6.000000      8.000000     10.000000  \n",
       "75%        9.000000      9.000000      8.000000     12.000000     12.000000  \n",
       "max       17.000000     43.000000     27.000000     73.000000     94.000000  "
      ]
     },
     "execution_count": 3,
     "metadata": {},
     "output_type": "execute_result"
    }
   ],
   "source": [
    "# Describe Data\n",
    "df_pm25_raw.describe()"
   ]
  },
  {
   "cell_type": "markdown",
   "metadata": {},
   "source": [
    "## Missing Data"
   ]
  },
  {
   "cell_type": "code",
   "execution_count": 4,
   "metadata": {
    "execution": {
     "iopub.execute_input": "2023-11-11T19:52:44.430211Z",
     "iopub.status.busy": "2023-11-11T19:52:44.429886Z",
     "iopub.status.idle": "2023-11-11T19:52:44.456333Z",
     "shell.execute_reply": "2023-11-11T19:52:44.455555Z"
    }
   },
   "outputs": [
    {
     "name": "stdout",
     "output_type": "stream",
     "text": [
      "Threshold: 90%\n",
      "Tangara Sensor: TANGARA_14D6, Data: 67%, Missing: 33%, To be checked\n",
      "Tangara Sensor: TANGARA_2B42, Data: 73%, Missing: 27%, To be checked\n",
      "Tangara Sensor: TANGARA_307A, Data: 56%, Missing: 44%, To be checked\n"
     ]
    }
   ],
   "source": [
    "import warnings\n",
    "warnings.filterwarnings('ignore')\n",
    "\n",
    "# Missing Data Threshold\n",
    "threshold = 90\n",
    "print(f'Threshold: {threshold}%')\n",
    "\n",
    "# For each Tangara sensor\n",
    "for id_tangara_sensor in df_pm25_raw.columns:\n",
    "    df_pm25_sensor = df_pm25_raw[[id_tangara_sensor]]\n",
    "    # To be checked\n",
    "    is_ok, data_percent, missing_data_percent = to_be_checked(df_pm25_sensor, threshold)\n",
    "    if not is_ok:\n",
    "        print(f\"Tangara Sensor: {id_tangara_sensor}, Data: {data_percent}%, Missing: {missing_data_percent}%, To be checked\")"
   ]
  },
  {
   "cell_type": "markdown",
   "metadata": {},
   "source": [
    "## Data Correlation"
   ]
  },
  {
   "cell_type": "code",
   "execution_count": 5,
   "metadata": {
    "execution": {
     "iopub.execute_input": "2023-11-11T19:52:44.461154Z",
     "iopub.status.busy": "2023-11-11T19:52:44.460810Z",
     "iopub.status.idle": "2023-11-11T19:52:44.468742Z",
     "shell.execute_reply": "2023-11-11T19:52:44.467811Z"
    }
   },
   "outputs": [
    {
     "name": "stdout",
     "output_type": "stream",
     "text": [
      "Threshold: 0.9%\n",
      "Reference Tangara Sensor: TANGARA_06BE, Target Tangara Sensor: TANGARA_2FF6, Correlation: 0.0, To be checked\n"
     ]
    }
   ],
   "source": [
    "# Data Correlation Threshold\n",
    "threshold = 0.9\n",
    "print(f'Threshold: {threshold}%')\n",
    "\n",
    "ID_REFE_TANGARA_SENSOR='TANGARA_06BE'\n",
    "ID_TARG_TANGARA_SENSOR='TANGARA_2FF6'\n",
    "# Reference Tangara Sensor\n",
    "df_reference_sensor = df_pm25_raw[ID_REFE_TANGARA_SENSOR]\n",
    "# Target Tangara Sensor\n",
    "df_target_sensor = df_pm25_raw[ID_TARG_TANGARA_SENSOR]\n",
    "\n",
    "# To be checked\n",
    "if not math.isnan(df_reference_sensor.std()):\n",
    "    is_ok, corr = is_corr_ok(df_reference_sensor, df_target_sensor, threshold)\n",
    "    if not is_ok:\n",
    "        print(f\"Reference Tangara Sensor: {ID_REFE_TANGARA_SENSOR}, Target Tangara Sensor: {ID_TARG_TANGARA_SENSOR}, Correlation: {corr}, To be checked\")\n",
    "\n",
    "# For each Tangara sensor\n",
    "# for id_tangara_sensor in df_pm25_raw.columns:\n",
    "#     # Target Tangara Sensor\n",
    "#     df_target_sensor = df_pm25_raw[id_tangara_sensor]\n",
    "#     # To be checked\n",
    "#     is_ok, corr = is_corr_ok(df_reference_sensor, df_target_sensor, threshold)\n",
    "#     if not is_ok:\n",
    "#         print(f\"Reference Tangara Sensor: {ID_REFE_TANGARA_SENSOR}, Target Tangara Sensor: {id_tangara_sensor}, Correlation: {corr}, To be checked\")"
   ]
  },
  {
   "cell_type": "markdown",
   "metadata": {},
   "source": [
    "## Histograms"
   ]
  },
  {
   "cell_type": "code",
   "execution_count": 6,
   "metadata": {
    "execution": {
     "iopub.execute_input": "2023-11-11T19:52:44.474263Z",
     "iopub.status.busy": "2023-11-11T19:52:44.473928Z",
     "iopub.status.idle": "2023-11-11T19:52:44.479047Z",
     "shell.execute_reply": "2023-11-11T19:52:44.478043Z"
    }
   },
   "outputs": [
    {
     "name": "stdout",
     "output_type": "stream",
     "text": [
      "PLOT_CHARTS: False Plot charts were ignored\n"
     ]
    }
   ],
   "source": [
    "# Plot Histograms\n",
    "plot_hist(df_pm25_raw) if bool(os.getenv(\"PLOT_CHARTS\", None)) else print(\"PLOT_CHARTS:\", False, \"Plot charts were ignored\")"
   ]
  },
  {
   "cell_type": "markdown",
   "metadata": {},
   "source": [
    "## Boxplots"
   ]
  },
  {
   "cell_type": "code",
   "execution_count": 7,
   "metadata": {
    "execution": {
     "iopub.execute_input": "2023-11-11T19:52:44.482877Z",
     "iopub.status.busy": "2023-11-11T19:52:44.482457Z",
     "iopub.status.idle": "2023-11-11T19:52:44.488042Z",
     "shell.execute_reply": "2023-11-11T19:52:44.487025Z"
    }
   },
   "outputs": [
    {
     "name": "stdout",
     "output_type": "stream",
     "text": [
      "PLOT_CHARTS: False Plot charts were ignored\n"
     ]
    }
   ],
   "source": [
    "# Plot Boxplots\n",
    "plot_boxes(df_pm25_raw) if bool(os.getenv(\"PLOT_CHARTS\", None)) else print(\"PLOT_CHARTS:\", False, \"Plot charts were ignored\")"
   ]
  },
  {
   "cell_type": "markdown",
   "metadata": {},
   "source": [
    "## Lineplots"
   ]
  },
  {
   "cell_type": "code",
   "execution_count": 8,
   "metadata": {
    "execution": {
     "iopub.execute_input": "2023-11-11T19:52:44.491832Z",
     "iopub.status.busy": "2023-11-11T19:52:44.491512Z",
     "iopub.status.idle": "2023-11-11T19:52:44.496308Z",
     "shell.execute_reply": "2023-11-11T19:52:44.495417Z"
    }
   },
   "outputs": [
    {
     "name": "stdout",
     "output_type": "stream",
     "text": [
      "PLOT_CHARTS: False Plot charts were ignored\n"
     ]
    }
   ],
   "source": [
    "# Plot Lineplots\n",
    "plot_lines(df_pm25_raw) if bool(os.getenv(\"PLOT_CHARTS\", None)) else print(\"PLOT_CHARTS:\", False, \"Plot charts were ignored\")"
   ]
  },
  {
   "cell_type": "markdown",
   "metadata": {},
   "source": [
    "## Drop PM2.5 Outliers"
   ]
  },
  {
   "cell_type": "code",
   "execution_count": 9,
   "metadata": {
    "execution": {
     "iopub.execute_input": "2023-11-11T19:52:44.499825Z",
     "iopub.status.busy": "2023-11-11T19:52:44.499509Z",
     "iopub.status.idle": "2023-11-11T19:52:44.569632Z",
     "shell.execute_reply": "2023-11-11T19:52:44.568624Z"
    }
   },
   "outputs": [],
   "source": [
    "# Drop PM2.5 Outliers\n",
    "df_pm25_clean, resume = drop_pm25_outliers(df_pm25_raw)"
   ]
  },
  {
   "cell_type": "code",
   "execution_count": 10,
   "metadata": {
    "execution": {
     "iopub.execute_input": "2023-11-11T19:52:44.573367Z",
     "iopub.status.busy": "2023-11-11T19:52:44.573040Z",
     "iopub.status.idle": "2023-11-11T19:52:44.617221Z",
     "shell.execute_reply": "2023-11-11T19:52:44.616240Z"
    }
   },
   "outputs": [
    {
     "data": {
      "text/html": [
       "<div>\n",
       "<style scoped>\n",
       "    .dataframe tbody tr th:only-of-type {\n",
       "        vertical-align: middle;\n",
       "    }\n",
       "\n",
       "    .dataframe tbody tr th {\n",
       "        vertical-align: top;\n",
       "    }\n",
       "\n",
       "    .dataframe thead th {\n",
       "        text-align: right;\n",
       "    }\n",
       "</style>\n",
       "<table border=\"1\" class=\"dataframe\">\n",
       "  <thead>\n",
       "    <tr style=\"text-align: right;\">\n",
       "      <th></th>\n",
       "      <th>TANGARA_260A</th>\n",
       "      <th>TANGARA_4B1A</th>\n",
       "      <th>TANGARA_14D6</th>\n",
       "      <th>TANGARA_2B42</th>\n",
       "      <th>TANGARA_2E9A</th>\n",
       "      <th>TANGARA_2FF6</th>\n",
       "      <th>TANGARA_307A</th>\n",
       "      <th>TANGARA_48C6</th>\n",
       "      <th>TANGARA_F1AE</th>\n",
       "      <th>TANGARA_06BE</th>\n",
       "    </tr>\n",
       "  </thead>\n",
       "  <tbody>\n",
       "    <tr>\n",
       "      <th>count</th>\n",
       "      <td>5490.000000</td>\n",
       "      <td>5037.000000</td>\n",
       "      <td>3651.000000</td>\n",
       "      <td>4175.000000</td>\n",
       "      <td>5550.000000</td>\n",
       "      <td>5679.000000</td>\n",
       "      <td>3142.000000</td>\n",
       "      <td>5266.000000</td>\n",
       "      <td>5616.000000</td>\n",
       "      <td>5434.000000</td>\n",
       "    </tr>\n",
       "    <tr>\n",
       "      <th>mean</th>\n",
       "      <td>9.083060</td>\n",
       "      <td>9.471511</td>\n",
       "      <td>11.036154</td>\n",
       "      <td>7.267784</td>\n",
       "      <td>6.025946</td>\n",
       "      <td>7.367142</td>\n",
       "      <td>7.475812</td>\n",
       "      <td>5.734333</td>\n",
       "      <td>9.244302</td>\n",
       "      <td>9.391976</td>\n",
       "    </tr>\n",
       "    <tr>\n",
       "      <th>std</th>\n",
       "      <td>4.279498</td>\n",
       "      <td>3.087780</td>\n",
       "      <td>4.265543</td>\n",
       "      <td>4.366055</td>\n",
       "      <td>3.948631</td>\n",
       "      <td>3.109358</td>\n",
       "      <td>2.447387</td>\n",
       "      <td>3.013592</td>\n",
       "      <td>4.259290</td>\n",
       "      <td>3.870799</td>\n",
       "    </tr>\n",
       "    <tr>\n",
       "      <th>min</th>\n",
       "      <td>1.000000</td>\n",
       "      <td>2.000000</td>\n",
       "      <td>2.000000</td>\n",
       "      <td>0.000000</td>\n",
       "      <td>0.000000</td>\n",
       "      <td>1.000000</td>\n",
       "      <td>1.000000</td>\n",
       "      <td>0.000000</td>\n",
       "      <td>1.000000</td>\n",
       "      <td>1.000000</td>\n",
       "    </tr>\n",
       "    <tr>\n",
       "      <th>25%</th>\n",
       "      <td>6.000000</td>\n",
       "      <td>7.000000</td>\n",
       "      <td>8.000000</td>\n",
       "      <td>3.000000</td>\n",
       "      <td>3.000000</td>\n",
       "      <td>5.000000</td>\n",
       "      <td>6.000000</td>\n",
       "      <td>4.000000</td>\n",
       "      <td>6.000000</td>\n",
       "      <td>6.000000</td>\n",
       "    </tr>\n",
       "    <tr>\n",
       "      <th>50%</th>\n",
       "      <td>9.000000</td>\n",
       "      <td>9.000000</td>\n",
       "      <td>11.000000</td>\n",
       "      <td>8.000000</td>\n",
       "      <td>6.000000</td>\n",
       "      <td>8.000000</td>\n",
       "      <td>8.000000</td>\n",
       "      <td>6.000000</td>\n",
       "      <td>8.000000</td>\n",
       "      <td>10.000000</td>\n",
       "    </tr>\n",
       "    <tr>\n",
       "      <th>75%</th>\n",
       "      <td>12.000000</td>\n",
       "      <td>11.000000</td>\n",
       "      <td>13.000000</td>\n",
       "      <td>10.000000</td>\n",
       "      <td>9.000000</td>\n",
       "      <td>9.000000</td>\n",
       "      <td>9.000000</td>\n",
       "      <td>7.000000</td>\n",
       "      <td>11.000000</td>\n",
       "      <td>12.000000</td>\n",
       "    </tr>\n",
       "    <tr>\n",
       "      <th>max</th>\n",
       "      <td>21.000000</td>\n",
       "      <td>18.000000</td>\n",
       "      <td>23.000000</td>\n",
       "      <td>20.000000</td>\n",
       "      <td>18.000000</td>\n",
       "      <td>15.000000</td>\n",
       "      <td>13.000000</td>\n",
       "      <td>14.000000</td>\n",
       "      <td>21.000000</td>\n",
       "      <td>21.000000</td>\n",
       "    </tr>\n",
       "  </tbody>\n",
       "</table>\n",
       "</div>"
      ],
      "text/plain": [
       "       TANGARA_260A  TANGARA_4B1A  TANGARA_14D6  TANGARA_2B42  TANGARA_2E9A  \\\n",
       "count   5490.000000   5037.000000   3651.000000   4175.000000   5550.000000   \n",
       "mean       9.083060      9.471511     11.036154      7.267784      6.025946   \n",
       "std        4.279498      3.087780      4.265543      4.366055      3.948631   \n",
       "min        1.000000      2.000000      2.000000      0.000000      0.000000   \n",
       "25%        6.000000      7.000000      8.000000      3.000000      3.000000   \n",
       "50%        9.000000      9.000000     11.000000      8.000000      6.000000   \n",
       "75%       12.000000     11.000000     13.000000     10.000000      9.000000   \n",
       "max       21.000000     18.000000     23.000000     20.000000     18.000000   \n",
       "\n",
       "       TANGARA_2FF6  TANGARA_307A  TANGARA_48C6  TANGARA_F1AE  TANGARA_06BE  \n",
       "count   5679.000000   3142.000000   5266.000000   5616.000000   5434.000000  \n",
       "mean       7.367142      7.475812      5.734333      9.244302      9.391976  \n",
       "std        3.109358      2.447387      3.013592      4.259290      3.870799  \n",
       "min        1.000000      1.000000      0.000000      1.000000      1.000000  \n",
       "25%        5.000000      6.000000      4.000000      6.000000      6.000000  \n",
       "50%        8.000000      8.000000      6.000000      8.000000     10.000000  \n",
       "75%        9.000000      9.000000      7.000000     11.000000     12.000000  \n",
       "max       15.000000     13.000000     14.000000     21.000000     21.000000  "
      ]
     },
     "execution_count": 10,
     "metadata": {},
     "output_type": "execute_result"
    }
   ],
   "source": [
    "# Describe Data\n",
    "df_pm25_raw.describe()"
   ]
  },
  {
   "cell_type": "code",
   "execution_count": 11,
   "metadata": {
    "execution": {
     "iopub.execute_input": "2023-11-11T19:52:44.620935Z",
     "iopub.status.busy": "2023-11-11T19:52:44.620604Z",
     "iopub.status.idle": "2023-11-11T19:52:44.663520Z",
     "shell.execute_reply": "2023-11-11T19:52:44.662553Z"
    }
   },
   "outputs": [
    {
     "data": {
      "text/html": [
       "<div>\n",
       "<style scoped>\n",
       "    .dataframe tbody tr th:only-of-type {\n",
       "        vertical-align: middle;\n",
       "    }\n",
       "\n",
       "    .dataframe tbody tr th {\n",
       "        vertical-align: top;\n",
       "    }\n",
       "\n",
       "    .dataframe thead th {\n",
       "        text-align: right;\n",
       "    }\n",
       "</style>\n",
       "<table border=\"1\" class=\"dataframe\">\n",
       "  <thead>\n",
       "    <tr style=\"text-align: right;\">\n",
       "      <th></th>\n",
       "      <th>TANGARA_260A</th>\n",
       "      <th>TANGARA_4B1A</th>\n",
       "      <th>TANGARA_14D6</th>\n",
       "      <th>TANGARA_2B42</th>\n",
       "      <th>TANGARA_2E9A</th>\n",
       "      <th>TANGARA_2FF6</th>\n",
       "      <th>TANGARA_307A</th>\n",
       "      <th>TANGARA_48C6</th>\n",
       "      <th>TANGARA_F1AE</th>\n",
       "      <th>TANGARA_06BE</th>\n",
       "    </tr>\n",
       "  </thead>\n",
       "  <tbody>\n",
       "    <tr>\n",
       "      <th>count</th>\n",
       "      <td>5490.000000</td>\n",
       "      <td>5037.000000</td>\n",
       "      <td>3651.000000</td>\n",
       "      <td>4175.000000</td>\n",
       "      <td>5550.000000</td>\n",
       "      <td>5679.000000</td>\n",
       "      <td>3142.000000</td>\n",
       "      <td>5266.000000</td>\n",
       "      <td>5616.000000</td>\n",
       "      <td>5434.000000</td>\n",
       "    </tr>\n",
       "    <tr>\n",
       "      <th>mean</th>\n",
       "      <td>9.083060</td>\n",
       "      <td>9.471511</td>\n",
       "      <td>11.036154</td>\n",
       "      <td>7.267784</td>\n",
       "      <td>6.025946</td>\n",
       "      <td>7.367142</td>\n",
       "      <td>7.475812</td>\n",
       "      <td>5.734333</td>\n",
       "      <td>9.244302</td>\n",
       "      <td>9.391976</td>\n",
       "    </tr>\n",
       "    <tr>\n",
       "      <th>std</th>\n",
       "      <td>4.279498</td>\n",
       "      <td>3.087780</td>\n",
       "      <td>4.265543</td>\n",
       "      <td>4.366055</td>\n",
       "      <td>3.948631</td>\n",
       "      <td>3.109358</td>\n",
       "      <td>2.447387</td>\n",
       "      <td>3.013592</td>\n",
       "      <td>4.259290</td>\n",
       "      <td>3.870799</td>\n",
       "    </tr>\n",
       "    <tr>\n",
       "      <th>min</th>\n",
       "      <td>1.000000</td>\n",
       "      <td>2.000000</td>\n",
       "      <td>2.000000</td>\n",
       "      <td>0.000000</td>\n",
       "      <td>0.000000</td>\n",
       "      <td>1.000000</td>\n",
       "      <td>1.000000</td>\n",
       "      <td>0.000000</td>\n",
       "      <td>1.000000</td>\n",
       "      <td>1.000000</td>\n",
       "    </tr>\n",
       "    <tr>\n",
       "      <th>25%</th>\n",
       "      <td>6.000000</td>\n",
       "      <td>7.000000</td>\n",
       "      <td>8.000000</td>\n",
       "      <td>3.000000</td>\n",
       "      <td>3.000000</td>\n",
       "      <td>5.000000</td>\n",
       "      <td>6.000000</td>\n",
       "      <td>4.000000</td>\n",
       "      <td>6.000000</td>\n",
       "      <td>6.000000</td>\n",
       "    </tr>\n",
       "    <tr>\n",
       "      <th>50%</th>\n",
       "      <td>9.000000</td>\n",
       "      <td>9.000000</td>\n",
       "      <td>11.000000</td>\n",
       "      <td>8.000000</td>\n",
       "      <td>6.000000</td>\n",
       "      <td>8.000000</td>\n",
       "      <td>8.000000</td>\n",
       "      <td>6.000000</td>\n",
       "      <td>8.000000</td>\n",
       "      <td>10.000000</td>\n",
       "    </tr>\n",
       "    <tr>\n",
       "      <th>75%</th>\n",
       "      <td>12.000000</td>\n",
       "      <td>11.000000</td>\n",
       "      <td>13.000000</td>\n",
       "      <td>10.000000</td>\n",
       "      <td>9.000000</td>\n",
       "      <td>9.000000</td>\n",
       "      <td>9.000000</td>\n",
       "      <td>7.000000</td>\n",
       "      <td>11.000000</td>\n",
       "      <td>12.000000</td>\n",
       "    </tr>\n",
       "    <tr>\n",
       "      <th>max</th>\n",
       "      <td>21.000000</td>\n",
       "      <td>18.000000</td>\n",
       "      <td>23.000000</td>\n",
       "      <td>20.000000</td>\n",
       "      <td>18.000000</td>\n",
       "      <td>15.000000</td>\n",
       "      <td>13.000000</td>\n",
       "      <td>14.000000</td>\n",
       "      <td>21.000000</td>\n",
       "      <td>21.000000</td>\n",
       "    </tr>\n",
       "  </tbody>\n",
       "</table>\n",
       "</div>"
      ],
      "text/plain": [
       "       TANGARA_260A  TANGARA_4B1A  TANGARA_14D6  TANGARA_2B42  TANGARA_2E9A  \\\n",
       "count   5490.000000   5037.000000   3651.000000   4175.000000   5550.000000   \n",
       "mean       9.083060      9.471511     11.036154      7.267784      6.025946   \n",
       "std        4.279498      3.087780      4.265543      4.366055      3.948631   \n",
       "min        1.000000      2.000000      2.000000      0.000000      0.000000   \n",
       "25%        6.000000      7.000000      8.000000      3.000000      3.000000   \n",
       "50%        9.000000      9.000000     11.000000      8.000000      6.000000   \n",
       "75%       12.000000     11.000000     13.000000     10.000000      9.000000   \n",
       "max       21.000000     18.000000     23.000000     20.000000     18.000000   \n",
       "\n",
       "       TANGARA_2FF6  TANGARA_307A  TANGARA_48C6  TANGARA_F1AE  TANGARA_06BE  \n",
       "count   5679.000000   3142.000000   5266.000000   5616.000000   5434.000000  \n",
       "mean       7.367142      7.475812      5.734333      9.244302      9.391976  \n",
       "std        3.109358      2.447387      3.013592      4.259290      3.870799  \n",
       "min        1.000000      1.000000      0.000000      1.000000      1.000000  \n",
       "25%        5.000000      6.000000      4.000000      6.000000      6.000000  \n",
       "50%        8.000000      8.000000      6.000000      8.000000     10.000000  \n",
       "75%        9.000000      9.000000      7.000000     11.000000     12.000000  \n",
       "max       15.000000     13.000000     14.000000     21.000000     21.000000  "
      ]
     },
     "execution_count": 11,
     "metadata": {},
     "output_type": "execute_result"
    }
   ],
   "source": [
    "# Describe Data\n",
    "df_pm25_clean.describe()"
   ]
  },
  {
   "cell_type": "markdown",
   "metadata": {},
   "source": [
    "## Histograms"
   ]
  },
  {
   "cell_type": "code",
   "execution_count": 12,
   "metadata": {
    "execution": {
     "iopub.execute_input": "2023-11-11T19:52:44.667341Z",
     "iopub.status.busy": "2023-11-11T19:52:44.667006Z",
     "iopub.status.idle": "2023-11-11T19:52:44.672176Z",
     "shell.execute_reply": "2023-11-11T19:52:44.671240Z"
    }
   },
   "outputs": [
    {
     "name": "stdout",
     "output_type": "stream",
     "text": [
      "PLOT_CHARTS: False Plot charts were ignored\n"
     ]
    }
   ],
   "source": [
    "# Plot Histograms\n",
    "plot_hist(df_pm25_clean) if bool(os.getenv(\"PLOT_CHARTS\", None)) else print(\"PLOT_CHARTS:\", False, \"Plot charts were ignored\")"
   ]
  },
  {
   "cell_type": "markdown",
   "metadata": {},
   "source": [
    "## Boxplots"
   ]
  },
  {
   "cell_type": "code",
   "execution_count": 13,
   "metadata": {
    "execution": {
     "iopub.execute_input": "2023-11-11T19:52:44.675894Z",
     "iopub.status.busy": "2023-11-11T19:52:44.675570Z",
     "iopub.status.idle": "2023-11-11T19:52:44.680676Z",
     "shell.execute_reply": "2023-11-11T19:52:44.679798Z"
    }
   },
   "outputs": [
    {
     "name": "stdout",
     "output_type": "stream",
     "text": [
      "PLOT_CHARTS: False Plot charts were ignored\n"
     ]
    }
   ],
   "source": [
    "# Plot Boxplots\n",
    "plot_boxes(df_pm25_clean) if bool(os.getenv(\"PLOT_CHARTS\", None)) else print(\"PLOT_CHARTS:\", False, \"Plot charts were ignored\")"
   ]
  },
  {
   "cell_type": "markdown",
   "metadata": {},
   "source": [
    "## Lineplots"
   ]
  },
  {
   "cell_type": "code",
   "execution_count": 14,
   "metadata": {
    "execution": {
     "iopub.execute_input": "2023-11-11T19:52:44.684348Z",
     "iopub.status.busy": "2023-11-11T19:52:44.683943Z",
     "iopub.status.idle": "2023-11-11T19:52:44.689036Z",
     "shell.execute_reply": "2023-11-11T19:52:44.687956Z"
    }
   },
   "outputs": [
    {
     "name": "stdout",
     "output_type": "stream",
     "text": [
      "PLOT_CHARTS: False Plot charts were ignored\n"
     ]
    }
   ],
   "source": [
    "# Plot Lineplots\n",
    "plot_lines(df_pm25_clean) if bool(os.getenv(\"PLOT_CHARTS\", None)) else print(\"PLOT_CHARTS:\", False, \"Plot charts were ignored\")"
   ]
  },
  {
   "cell_type": "code",
   "execution_count": 15,
   "metadata": {
    "execution": {
     "iopub.execute_input": "2023-11-11T19:52:44.692550Z",
     "iopub.status.busy": "2023-11-11T19:52:44.692232Z",
     "iopub.status.idle": "2023-11-11T19:52:44.825080Z",
     "shell.execute_reply": "2023-11-11T19:52:44.824024Z"
    }
   },
   "outputs": [],
   "source": [
    "# Save PM2.5 Data Frame Sensors into CSV file\n",
    "df_to_csv(df_pm25_clean, \"pm25_clean.csv\", datafolder='1_clean')"
   ]
  },
  {
   "cell_type": "code",
   "execution_count": null,
   "metadata": {},
   "outputs": [],
   "source": []
  }
 ],
 "metadata": {
  "kernelspec": {
   "display_name": ".venv",
   "language": "python",
   "name": "python3"
  },
  "language_info": {
   "codemirror_mode": {
    "name": "ipython",
    "version": 3
   },
   "file_extension": ".py",
   "mimetype": "text/x-python",
   "name": "python",
   "nbconvert_exporter": "python",
   "pygments_lexer": "ipython3",
   "version": "3.12.0"
  }
 },
 "nbformat": 4,
 "nbformat_minor": 2
}
