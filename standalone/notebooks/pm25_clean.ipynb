{
 "cells": [
  {
   "cell_type": "code",
   "execution_count": 1,
   "metadata": {
    "execution": {
     "iopub.execute_input": "2023-11-14T18:36:27.555662Z",
     "iopub.status.busy": "2023-11-14T18:36:27.555339Z",
     "iopub.status.idle": "2023-11-14T18:36:29.970519Z",
     "shell.execute_reply": "2023-11-14T18:36:29.969419Z"
    }
   },
   "outputs": [
    {
     "name": "stdout",
     "output_type": "stream",
     "text": [
      "PM2.5: 35.9, AQI: 102\n",
      "PM2.5: 35.9, Measure Level: MeasureLevels.UNHEALTHY_FOR_SENSITIVE_GROUPS, Range Values: Min: 35.5, Max: 55.4\n",
      "AQI: 102, Measure Level: MeasureLevels.UNHEALTHY_FOR_SENSITIVE_GROUPS, Range Values: Min: 101, Max: 150\n"
     ]
    }
   ],
   "source": [
    "import os\n",
    "import math\n",
    "from dotenv import load_dotenv\n",
    "\n",
    "# Explicitly providing path to '.env'\n",
    "from pathlib import Path  # Python 3.6+ only\n",
    "# Load .env variables\n",
    "_ = load_dotenv(dotenv_path=f\"{Path().resolve().parents[1]}/standalone/.env\")\n",
    "\n",
    "# with the new api\n",
    "from importnb import imports\n",
    "with imports(\"ipynb\"):\n",
    "    from utils import df_from_csv, to_be_checked, is_corr_ok, plot_hist, plot_boxes, plot_lines, df_to_csv, drop_pm25_outliers"
   ]
  },
  {
   "cell_type": "markdown",
   "metadata": {},
   "source": [
    "## PM2.5 Clean Data"
   ]
  },
  {
   "cell_type": "code",
   "execution_count": 2,
   "metadata": {
    "execution": {
     "iopub.execute_input": "2023-11-14T18:36:30.043621Z",
     "iopub.status.busy": "2023-11-14T18:36:30.043125Z",
     "iopub.status.idle": "2023-11-14T18:36:30.240044Z",
     "shell.execute_reply": "2023-11-14T18:36:30.239081Z"
    }
   },
   "outputs": [
    {
     "name": "stdout",
     "output_type": "stream",
     "text": [
      "TANGARA_260A    float64\n",
      "TANGARA_4B1A    float64\n",
      "TANGARA_14D6    float64\n",
      "TANGARA_2B42    float64\n",
      "TANGARA_2E9A    float64\n",
      "TANGARA_2FF6    float64\n",
      "TANGARA_307A    float64\n",
      "TANGARA_48C6    float64\n",
      "TANGARA_F1AE    float64\n",
      "TANGARA_06BE    float64\n",
      "dtype: object\n"
     ]
    },
    {
     "data": {
      "text/html": [
       "<div>\n",
       "<style scoped>\n",
       "    .dataframe tbody tr th:only-of-type {\n",
       "        vertical-align: middle;\n",
       "    }\n",
       "\n",
       "    .dataframe tbody tr th {\n",
       "        vertical-align: top;\n",
       "    }\n",
       "\n",
       "    .dataframe thead th {\n",
       "        text-align: right;\n",
       "    }\n",
       "</style>\n",
       "<table border=\"1\" class=\"dataframe\">\n",
       "  <thead>\n",
       "    <tr style=\"text-align: right;\">\n",
       "      <th></th>\n",
       "      <th>TANGARA_260A</th>\n",
       "      <th>TANGARA_4B1A</th>\n",
       "      <th>TANGARA_14D6</th>\n",
       "      <th>TANGARA_2B42</th>\n",
       "      <th>TANGARA_2E9A</th>\n",
       "      <th>TANGARA_2FF6</th>\n",
       "      <th>TANGARA_307A</th>\n",
       "      <th>TANGARA_48C6</th>\n",
       "      <th>TANGARA_F1AE</th>\n",
       "      <th>TANGARA_06BE</th>\n",
       "    </tr>\n",
       "    <tr>\n",
       "      <th>DATETIME</th>\n",
       "      <th></th>\n",
       "      <th></th>\n",
       "      <th></th>\n",
       "      <th></th>\n",
       "      <th></th>\n",
       "      <th></th>\n",
       "      <th></th>\n",
       "      <th></th>\n",
       "      <th></th>\n",
       "      <th></th>\n",
       "    </tr>\n",
       "  </thead>\n",
       "  <tbody>\n",
       "    <tr>\n",
       "      <th>2023-11-10 00:00:00-05:00</th>\n",
       "      <td>NaN</td>\n",
       "      <td>NaN</td>\n",
       "      <td>NaN</td>\n",
       "      <td>NaN</td>\n",
       "      <td>NaN</td>\n",
       "      <td>NaN</td>\n",
       "      <td>NaN</td>\n",
       "      <td>NaN</td>\n",
       "      <td>6.0</td>\n",
       "      <td>NaN</td>\n",
       "    </tr>\n",
       "    <tr>\n",
       "      <th>2023-11-10 00:00:30-05:00</th>\n",
       "      <td>8.0</td>\n",
       "      <td>6.0</td>\n",
       "      <td>6.0</td>\n",
       "      <td>NaN</td>\n",
       "      <td>1.0</td>\n",
       "      <td>9.0</td>\n",
       "      <td>9.0</td>\n",
       "      <td>1.0</td>\n",
       "      <td>6.0</td>\n",
       "      <td>9.0</td>\n",
       "    </tr>\n",
       "    <tr>\n",
       "      <th>2023-11-10 00:01:00-05:00</th>\n",
       "      <td>7.0</td>\n",
       "      <td>4.0</td>\n",
       "      <td>6.0</td>\n",
       "      <td>NaN</td>\n",
       "      <td>1.0</td>\n",
       "      <td>8.0</td>\n",
       "      <td>9.0</td>\n",
       "      <td>1.0</td>\n",
       "      <td>5.0</td>\n",
       "      <td>9.0</td>\n",
       "    </tr>\n",
       "    <tr>\n",
       "      <th>2023-11-10 00:01:30-05:00</th>\n",
       "      <td>8.0</td>\n",
       "      <td>5.0</td>\n",
       "      <td>7.0</td>\n",
       "      <td>NaN</td>\n",
       "      <td>0.0</td>\n",
       "      <td>8.0</td>\n",
       "      <td>9.0</td>\n",
       "      <td>2.0</td>\n",
       "      <td>5.0</td>\n",
       "      <td>9.0</td>\n",
       "    </tr>\n",
       "    <tr>\n",
       "      <th>2023-11-10 00:02:00-05:00</th>\n",
       "      <td>7.0</td>\n",
       "      <td>3.0</td>\n",
       "      <td>6.0</td>\n",
       "      <td>NaN</td>\n",
       "      <td>0.0</td>\n",
       "      <td>8.0</td>\n",
       "      <td>8.0</td>\n",
       "      <td>2.0</td>\n",
       "      <td>5.0</td>\n",
       "      <td>9.0</td>\n",
       "    </tr>\n",
       "  </tbody>\n",
       "</table>\n",
       "</div>"
      ],
      "text/plain": [
       "                           TANGARA_260A  TANGARA_4B1A  TANGARA_14D6  \\\n",
       "DATETIME                                                              \n",
       "2023-11-10 00:00:00-05:00           NaN           NaN           NaN   \n",
       "2023-11-10 00:00:30-05:00           8.0           6.0           6.0   \n",
       "2023-11-10 00:01:00-05:00           7.0           4.0           6.0   \n",
       "2023-11-10 00:01:30-05:00           8.0           5.0           7.0   \n",
       "2023-11-10 00:02:00-05:00           7.0           3.0           6.0   \n",
       "\n",
       "                           TANGARA_2B42  TANGARA_2E9A  TANGARA_2FF6  \\\n",
       "DATETIME                                                              \n",
       "2023-11-10 00:00:00-05:00           NaN           NaN           NaN   \n",
       "2023-11-10 00:00:30-05:00           NaN           1.0           9.0   \n",
       "2023-11-10 00:01:00-05:00           NaN           1.0           8.0   \n",
       "2023-11-10 00:01:30-05:00           NaN           0.0           8.0   \n",
       "2023-11-10 00:02:00-05:00           NaN           0.0           8.0   \n",
       "\n",
       "                           TANGARA_307A  TANGARA_48C6  TANGARA_F1AE  \\\n",
       "DATETIME                                                              \n",
       "2023-11-10 00:00:00-05:00           NaN           NaN           6.0   \n",
       "2023-11-10 00:00:30-05:00           9.0           1.0           6.0   \n",
       "2023-11-10 00:01:00-05:00           9.0           1.0           5.0   \n",
       "2023-11-10 00:01:30-05:00           9.0           2.0           5.0   \n",
       "2023-11-10 00:02:00-05:00           8.0           2.0           5.0   \n",
       "\n",
       "                           TANGARA_06BE  \n",
       "DATETIME                                 \n",
       "2023-11-10 00:00:00-05:00           NaN  \n",
       "2023-11-10 00:00:30-05:00           9.0  \n",
       "2023-11-10 00:01:00-05:00           9.0  \n",
       "2023-11-10 00:01:30-05:00           9.0  \n",
       "2023-11-10 00:02:00-05:00           9.0  "
      ]
     },
     "execution_count": 2,
     "metadata": {},
     "output_type": "execute_result"
    }
   ],
   "source": [
    "# Load Raw Data\n",
    "df_pm25_raw = df_from_csv(\"pm25_raw.csv\")\n",
    "\n",
    "# Check Data Types\n",
    "print(df_pm25_raw.dtypes)\n",
    "\n",
    "df_pm25_raw.head()"
   ]
  },
  {
   "cell_type": "markdown",
   "metadata": {},
   "source": [
    "## Descriptive Statistics"
   ]
  },
  {
   "cell_type": "code",
   "execution_count": 3,
   "metadata": {
    "execution": {
     "iopub.execute_input": "2023-11-14T18:36:30.243708Z",
     "iopub.status.busy": "2023-11-14T18:36:30.243392Z",
     "iopub.status.idle": "2023-11-14T18:36:30.290259Z",
     "shell.execute_reply": "2023-11-14T18:36:30.289244Z"
    }
   },
   "outputs": [
    {
     "data": {
      "text/html": [
       "<div>\n",
       "<style scoped>\n",
       "    .dataframe tbody tr th:only-of-type {\n",
       "        vertical-align: middle;\n",
       "    }\n",
       "\n",
       "    .dataframe tbody tr th {\n",
       "        vertical-align: top;\n",
       "    }\n",
       "\n",
       "    .dataframe thead th {\n",
       "        text-align: right;\n",
       "    }\n",
       "</style>\n",
       "<table border=\"1\" class=\"dataframe\">\n",
       "  <thead>\n",
       "    <tr style=\"text-align: right;\">\n",
       "      <th></th>\n",
       "      <th>TANGARA_260A</th>\n",
       "      <th>TANGARA_4B1A</th>\n",
       "      <th>TANGARA_14D6</th>\n",
       "      <th>TANGARA_2B42</th>\n",
       "      <th>TANGARA_2E9A</th>\n",
       "      <th>TANGARA_2FF6</th>\n",
       "      <th>TANGARA_307A</th>\n",
       "      <th>TANGARA_48C6</th>\n",
       "      <th>TANGARA_F1AE</th>\n",
       "      <th>TANGARA_06BE</th>\n",
       "    </tr>\n",
       "  </thead>\n",
       "  <tbody>\n",
       "    <tr>\n",
       "      <th>count</th>\n",
       "      <td>5615.000000</td>\n",
       "      <td>5663.000000</td>\n",
       "      <td>1039.000000</td>\n",
       "      <td>4226.000000</td>\n",
       "      <td>5679.000000</td>\n",
       "      <td>5692.00000</td>\n",
       "      <td>5599.000000</td>\n",
       "      <td>5511.000000</td>\n",
       "      <td>5734.000000</td>\n",
       "      <td>5388.000000</td>\n",
       "    </tr>\n",
       "    <tr>\n",
       "      <th>mean</th>\n",
       "      <td>8.179163</td>\n",
       "      <td>9.315027</td>\n",
       "      <td>9.115496</td>\n",
       "      <td>6.977047</td>\n",
       "      <td>6.701004</td>\n",
       "      <td>7.50000</td>\n",
       "      <td>8.666548</td>\n",
       "      <td>6.022319</td>\n",
       "      <td>7.931287</td>\n",
       "      <td>9.582962</td>\n",
       "    </tr>\n",
       "    <tr>\n",
       "      <th>std</th>\n",
       "      <td>4.535844</td>\n",
       "      <td>4.566012</td>\n",
       "      <td>3.431429</td>\n",
       "      <td>5.910071</td>\n",
       "      <td>6.001325</td>\n",
       "      <td>4.51902</td>\n",
       "      <td>5.084152</td>\n",
       "      <td>3.974745</td>\n",
       "      <td>4.721420</td>\n",
       "      <td>5.822508</td>\n",
       "    </tr>\n",
       "    <tr>\n",
       "      <th>min</th>\n",
       "      <td>1.000000</td>\n",
       "      <td>1.000000</td>\n",
       "      <td>3.000000</td>\n",
       "      <td>0.000000</td>\n",
       "      <td>0.000000</td>\n",
       "      <td>1.00000</td>\n",
       "      <td>1.000000</td>\n",
       "      <td>0.000000</td>\n",
       "      <td>1.000000</td>\n",
       "      <td>1.000000</td>\n",
       "    </tr>\n",
       "    <tr>\n",
       "      <th>25%</th>\n",
       "      <td>4.000000</td>\n",
       "      <td>7.000000</td>\n",
       "      <td>6.000000</td>\n",
       "      <td>2.000000</td>\n",
       "      <td>2.000000</td>\n",
       "      <td>5.00000</td>\n",
       "      <td>7.000000</td>\n",
       "      <td>3.000000</td>\n",
       "      <td>5.000000</td>\n",
       "      <td>6.000000</td>\n",
       "    </tr>\n",
       "    <tr>\n",
       "      <th>50%</th>\n",
       "      <td>8.000000</td>\n",
       "      <td>9.000000</td>\n",
       "      <td>9.000000</td>\n",
       "      <td>7.000000</td>\n",
       "      <td>5.000000</td>\n",
       "      <td>7.00000</td>\n",
       "      <td>8.000000</td>\n",
       "      <td>6.000000</td>\n",
       "      <td>7.000000</td>\n",
       "      <td>9.000000</td>\n",
       "    </tr>\n",
       "    <tr>\n",
       "      <th>75%</th>\n",
       "      <td>11.000000</td>\n",
       "      <td>11.000000</td>\n",
       "      <td>12.000000</td>\n",
       "      <td>10.000000</td>\n",
       "      <td>10.000000</td>\n",
       "      <td>9.25000</td>\n",
       "      <td>10.000000</td>\n",
       "      <td>8.000000</td>\n",
       "      <td>9.000000</td>\n",
       "      <td>12.000000</td>\n",
       "    </tr>\n",
       "    <tr>\n",
       "      <th>max</th>\n",
       "      <td>27.000000</td>\n",
       "      <td>68.000000</td>\n",
       "      <td>23.000000</td>\n",
       "      <td>32.000000</td>\n",
       "      <td>48.000000</td>\n",
       "      <td>46.00000</td>\n",
       "      <td>173.000000</td>\n",
       "      <td>32.000000</td>\n",
       "      <td>73.000000</td>\n",
       "      <td>94.000000</td>\n",
       "    </tr>\n",
       "  </tbody>\n",
       "</table>\n",
       "</div>"
      ],
      "text/plain": [
       "       TANGARA_260A  TANGARA_4B1A  TANGARA_14D6  TANGARA_2B42  TANGARA_2E9A  \\\n",
       "count   5615.000000   5663.000000   1039.000000   4226.000000   5679.000000   \n",
       "mean       8.179163      9.315027      9.115496      6.977047      6.701004   \n",
       "std        4.535844      4.566012      3.431429      5.910071      6.001325   \n",
       "min        1.000000      1.000000      3.000000      0.000000      0.000000   \n",
       "25%        4.000000      7.000000      6.000000      2.000000      2.000000   \n",
       "50%        8.000000      9.000000      9.000000      7.000000      5.000000   \n",
       "75%       11.000000     11.000000     12.000000     10.000000     10.000000   \n",
       "max       27.000000     68.000000     23.000000     32.000000     48.000000   \n",
       "\n",
       "       TANGARA_2FF6  TANGARA_307A  TANGARA_48C6  TANGARA_F1AE  TANGARA_06BE  \n",
       "count    5692.00000   5599.000000   5511.000000   5734.000000   5388.000000  \n",
       "mean        7.50000      8.666548      6.022319      7.931287      9.582962  \n",
       "std         4.51902      5.084152      3.974745      4.721420      5.822508  \n",
       "min         1.00000      1.000000      0.000000      1.000000      1.000000  \n",
       "25%         5.00000      7.000000      3.000000      5.000000      6.000000  \n",
       "50%         7.00000      8.000000      6.000000      7.000000      9.000000  \n",
       "75%         9.25000     10.000000      8.000000      9.000000     12.000000  \n",
       "max        46.00000    173.000000     32.000000     73.000000     94.000000  "
      ]
     },
     "execution_count": 3,
     "metadata": {},
     "output_type": "execute_result"
    }
   ],
   "source": [
    "# Describe Data\n",
    "df_pm25_raw.describe()"
   ]
  },
  {
   "cell_type": "markdown",
   "metadata": {},
   "source": [
    "## Missing Data"
   ]
  },
  {
   "cell_type": "code",
   "execution_count": 4,
   "metadata": {
    "execution": {
     "iopub.execute_input": "2023-11-14T18:36:30.294270Z",
     "iopub.status.busy": "2023-11-14T18:36:30.293936Z",
     "iopub.status.idle": "2023-11-14T18:36:30.319698Z",
     "shell.execute_reply": "2023-11-14T18:36:30.318915Z"
    }
   },
   "outputs": [
    {
     "name": "stdout",
     "output_type": "stream",
     "text": [
      "Threshold: 90%\n",
      "Tangara Sensor: TANGARA_14D6, Data: 18%, Missing: 82%, To be checked\n",
      "Tangara Sensor: TANGARA_2B42, Data: 73%, Missing: 27%, To be checked\n"
     ]
    }
   ],
   "source": [
    "import warnings\n",
    "warnings.filterwarnings('ignore')\n",
    "\n",
    "# Missing Data Threshold\n",
    "threshold = 90\n",
    "print(f'Threshold: {threshold}%')\n",
    "\n",
    "# For each Tangara sensor\n",
    "for id_tangara_sensor in df_pm25_raw.columns:\n",
    "    df_pm25_sensor = df_pm25_raw[[id_tangara_sensor]]\n",
    "    # To be checked\n",
    "    is_ok, data_percent, missing_data_percent = to_be_checked(df_pm25_sensor, threshold)\n",
    "    if not is_ok:\n",
    "        print(f\"Tangara Sensor: {id_tangara_sensor}, Data: {data_percent}%, Missing: {missing_data_percent}%, To be checked\")"
   ]
  },
  {
   "cell_type": "markdown",
   "metadata": {},
   "source": [
    "## Data Correlation"
   ]
  },
  {
   "cell_type": "code",
   "execution_count": 5,
   "metadata": {
    "execution": {
     "iopub.execute_input": "2023-11-14T18:36:30.323465Z",
     "iopub.status.busy": "2023-11-14T18:36:30.323148Z",
     "iopub.status.idle": "2023-11-14T18:36:30.330964Z",
     "shell.execute_reply": "2023-11-14T18:36:30.330171Z"
    }
   },
   "outputs": [
    {
     "name": "stdout",
     "output_type": "stream",
     "text": [
      "Threshold: 0.9%\n",
      "Reference Tangara Sensor: TANGARA_06BE, Target Tangara Sensor: TANGARA_2FF6, Correlation: 0.0, To be checked\n"
     ]
    }
   ],
   "source": [
    "# Data Correlation Threshold\n",
    "threshold = 0.9\n",
    "print(f'Threshold: {threshold}%')\n",
    "\n",
    "ID_REFE_TANGARA_SENSOR='TANGARA_06BE'\n",
    "ID_TARG_TANGARA_SENSOR='TANGARA_2FF6'\n",
    "# Reference Tangara Sensor\n",
    "df_reference_sensor = df_pm25_raw[ID_REFE_TANGARA_SENSOR]\n",
    "# Target Tangara Sensor\n",
    "df_target_sensor = df_pm25_raw[ID_TARG_TANGARA_SENSOR]\n",
    "\n",
    "# To be checked\n",
    "if not math.isnan(df_reference_sensor.std()):\n",
    "    is_ok, corr = is_corr_ok(df_reference_sensor, df_target_sensor, threshold)\n",
    "    if not is_ok:\n",
    "        print(f\"Reference Tangara Sensor: {ID_REFE_TANGARA_SENSOR}, Target Tangara Sensor: {ID_TARG_TANGARA_SENSOR}, Correlation: {corr}, To be checked\")\n",
    "\n",
    "# For each Tangara sensor\n",
    "# for id_tangara_sensor in df_pm25_raw.columns:\n",
    "#     # Target Tangara Sensor\n",
    "#     df_target_sensor = df_pm25_raw[id_tangara_sensor]\n",
    "#     # To be checked\n",
    "#     is_ok, corr = is_corr_ok(df_reference_sensor, df_target_sensor, threshold)\n",
    "#     if not is_ok:\n",
    "#         print(f\"Reference Tangara Sensor: {ID_REFE_TANGARA_SENSOR}, Target Tangara Sensor: {id_tangara_sensor}, Correlation: {corr}, To be checked\")"
   ]
  },
  {
   "cell_type": "markdown",
   "metadata": {},
   "source": [
    "## Histograms"
   ]
  },
  {
   "cell_type": "code",
   "execution_count": 6,
   "metadata": {
    "execution": {
     "iopub.execute_input": "2023-11-14T18:36:30.334584Z",
     "iopub.status.busy": "2023-11-14T18:36:30.334269Z",
     "iopub.status.idle": "2023-11-14T18:36:30.339309Z",
     "shell.execute_reply": "2023-11-14T18:36:30.338337Z"
    }
   },
   "outputs": [
    {
     "name": "stdout",
     "output_type": "stream",
     "text": [
      "PLOT_CHARTS: False Plot charts were ignored\n"
     ]
    }
   ],
   "source": [
    "# Plot Histograms\n",
    "plot_hist(df_pm25_raw) if bool(os.getenv(\"PLOT_CHARTS\", None)) else print(\"PLOT_CHARTS:\", False, \"Plot charts were ignored\")"
   ]
  },
  {
   "cell_type": "markdown",
   "metadata": {},
   "source": [
    "## Boxplots"
   ]
  },
  {
   "cell_type": "code",
   "execution_count": 7,
   "metadata": {
    "execution": {
     "iopub.execute_input": "2023-11-14T18:36:30.342859Z",
     "iopub.status.busy": "2023-11-14T18:36:30.342544Z",
     "iopub.status.idle": "2023-11-14T18:36:30.347740Z",
     "shell.execute_reply": "2023-11-14T18:36:30.346746Z"
    }
   },
   "outputs": [
    {
     "name": "stdout",
     "output_type": "stream",
     "text": [
      "PLOT_CHARTS: False Plot charts were ignored\n"
     ]
    }
   ],
   "source": [
    "# Plot Boxplots\n",
    "plot_boxes(df_pm25_raw) if bool(os.getenv(\"PLOT_CHARTS\", None)) else print(\"PLOT_CHARTS:\", False, \"Plot charts were ignored\")"
   ]
  },
  {
   "cell_type": "markdown",
   "metadata": {},
   "source": [
    "## Lineplots"
   ]
  },
  {
   "cell_type": "code",
   "execution_count": 8,
   "metadata": {
    "execution": {
     "iopub.execute_input": "2023-11-14T18:36:30.351781Z",
     "iopub.status.busy": "2023-11-14T18:36:30.351099Z",
     "iopub.status.idle": "2023-11-14T18:36:30.356183Z",
     "shell.execute_reply": "2023-11-14T18:36:30.355230Z"
    }
   },
   "outputs": [
    {
     "name": "stdout",
     "output_type": "stream",
     "text": [
      "PLOT_CHARTS: False Plot charts were ignored\n"
     ]
    }
   ],
   "source": [
    "# Plot Lineplots\n",
    "plot_lines(df_pm25_raw) if bool(os.getenv(\"PLOT_CHARTS\", None)) else print(\"PLOT_CHARTS:\", False, \"Plot charts were ignored\")"
   ]
  },
  {
   "cell_type": "markdown",
   "metadata": {},
   "source": [
    "## Drop PM2.5 Outliers"
   ]
  },
  {
   "cell_type": "code",
   "execution_count": 9,
   "metadata": {
    "execution": {
     "iopub.execute_input": "2023-11-14T18:36:30.359745Z",
     "iopub.status.busy": "2023-11-14T18:36:30.359435Z",
     "iopub.status.idle": "2023-11-14T18:36:30.429207Z",
     "shell.execute_reply": "2023-11-14T18:36:30.428217Z"
    }
   },
   "outputs": [],
   "source": [
    "# Drop PM2.5 Outliers\n",
    "df_pm25_clean, resume = drop_pm25_outliers(df_pm25_raw)"
   ]
  },
  {
   "cell_type": "code",
   "execution_count": 10,
   "metadata": {
    "execution": {
     "iopub.execute_input": "2023-11-14T18:36:30.432880Z",
     "iopub.status.busy": "2023-11-14T18:36:30.432558Z",
     "iopub.status.idle": "2023-11-14T18:36:30.476430Z",
     "shell.execute_reply": "2023-11-14T18:36:30.475387Z"
    }
   },
   "outputs": [
    {
     "data": {
      "text/html": [
       "<div>\n",
       "<style scoped>\n",
       "    .dataframe tbody tr th:only-of-type {\n",
       "        vertical-align: middle;\n",
       "    }\n",
       "\n",
       "    .dataframe tbody tr th {\n",
       "        vertical-align: top;\n",
       "    }\n",
       "\n",
       "    .dataframe thead th {\n",
       "        text-align: right;\n",
       "    }\n",
       "</style>\n",
       "<table border=\"1\" class=\"dataframe\">\n",
       "  <thead>\n",
       "    <tr style=\"text-align: right;\">\n",
       "      <th></th>\n",
       "      <th>TANGARA_260A</th>\n",
       "      <th>TANGARA_4B1A</th>\n",
       "      <th>TANGARA_14D6</th>\n",
       "      <th>TANGARA_2B42</th>\n",
       "      <th>TANGARA_2E9A</th>\n",
       "      <th>TANGARA_2FF6</th>\n",
       "      <th>TANGARA_307A</th>\n",
       "      <th>TANGARA_48C6</th>\n",
       "      <th>TANGARA_F1AE</th>\n",
       "      <th>TANGARA_06BE</th>\n",
       "    </tr>\n",
       "  </thead>\n",
       "  <tbody>\n",
       "    <tr>\n",
       "      <th>count</th>\n",
       "      <td>5541.000000</td>\n",
       "      <td>5427.000000</td>\n",
       "      <td>1038.000000</td>\n",
       "      <td>4079.000000</td>\n",
       "      <td>5467.000000</td>\n",
       "      <td>5340.000000</td>\n",
       "      <td>5211.000000</td>\n",
       "      <td>5323.000000</td>\n",
       "      <td>5355.000000</td>\n",
       "      <td>5127.000000</td>\n",
       "    </tr>\n",
       "    <tr>\n",
       "      <th>mean</th>\n",
       "      <td>7.969681</td>\n",
       "      <td>8.674774</td>\n",
       "      <td>9.102119</td>\n",
       "      <td>6.257906</td>\n",
       "      <td>5.950430</td>\n",
       "      <td>6.739326</td>\n",
       "      <td>7.794089</td>\n",
       "      <td>5.600413</td>\n",
       "      <td>7.017180</td>\n",
       "      <td>8.779598</td>\n",
       "    </tr>\n",
       "    <tr>\n",
       "      <th>std</th>\n",
       "      <td>4.182716</td>\n",
       "      <td>2.988458</td>\n",
       "      <td>3.405874</td>\n",
       "      <td>4.583022</td>\n",
       "      <td>4.692591</td>\n",
       "      <td>3.428480</td>\n",
       "      <td>2.668220</td>\n",
       "      <td>3.309623</td>\n",
       "      <td>2.961981</td>\n",
       "      <td>4.429641</td>\n",
       "    </tr>\n",
       "    <tr>\n",
       "      <th>min</th>\n",
       "      <td>1.000000</td>\n",
       "      <td>1.000000</td>\n",
       "      <td>3.000000</td>\n",
       "      <td>0.000000</td>\n",
       "      <td>0.000000</td>\n",
       "      <td>1.000000</td>\n",
       "      <td>1.000000</td>\n",
       "      <td>0.000000</td>\n",
       "      <td>1.000000</td>\n",
       "      <td>1.000000</td>\n",
       "    </tr>\n",
       "    <tr>\n",
       "      <th>25%</th>\n",
       "      <td>4.000000</td>\n",
       "      <td>7.000000</td>\n",
       "      <td>6.000000</td>\n",
       "      <td>1.000000</td>\n",
       "      <td>2.000000</td>\n",
       "      <td>5.000000</td>\n",
       "      <td>6.000000</td>\n",
       "      <td>3.000000</td>\n",
       "      <td>5.000000</td>\n",
       "      <td>6.000000</td>\n",
       "    </tr>\n",
       "    <tr>\n",
       "      <th>50%</th>\n",
       "      <td>8.000000</td>\n",
       "      <td>9.000000</td>\n",
       "      <td>9.000000</td>\n",
       "      <td>7.000000</td>\n",
       "      <td>5.000000</td>\n",
       "      <td>7.000000</td>\n",
       "      <td>8.000000</td>\n",
       "      <td>5.000000</td>\n",
       "      <td>7.000000</td>\n",
       "      <td>9.000000</td>\n",
       "    </tr>\n",
       "    <tr>\n",
       "      <th>75%</th>\n",
       "      <td>10.000000</td>\n",
       "      <td>10.000000</td>\n",
       "      <td>12.000000</td>\n",
       "      <td>9.000000</td>\n",
       "      <td>9.000000</td>\n",
       "      <td>9.000000</td>\n",
       "      <td>9.000000</td>\n",
       "      <td>8.000000</td>\n",
       "      <td>9.000000</td>\n",
       "      <td>11.000000</td>\n",
       "    </tr>\n",
       "    <tr>\n",
       "      <th>max</th>\n",
       "      <td>21.000000</td>\n",
       "      <td>17.000000</td>\n",
       "      <td>20.000000</td>\n",
       "      <td>22.000000</td>\n",
       "      <td>22.000000</td>\n",
       "      <td>15.000000</td>\n",
       "      <td>14.000000</td>\n",
       "      <td>15.000000</td>\n",
       "      <td>15.000000</td>\n",
       "      <td>21.000000</td>\n",
       "    </tr>\n",
       "  </tbody>\n",
       "</table>\n",
       "</div>"
      ],
      "text/plain": [
       "       TANGARA_260A  TANGARA_4B1A  TANGARA_14D6  TANGARA_2B42  TANGARA_2E9A  \\\n",
       "count   5541.000000   5427.000000   1038.000000   4079.000000   5467.000000   \n",
       "mean       7.969681      8.674774      9.102119      6.257906      5.950430   \n",
       "std        4.182716      2.988458      3.405874      4.583022      4.692591   \n",
       "min        1.000000      1.000000      3.000000      0.000000      0.000000   \n",
       "25%        4.000000      7.000000      6.000000      1.000000      2.000000   \n",
       "50%        8.000000      9.000000      9.000000      7.000000      5.000000   \n",
       "75%       10.000000     10.000000     12.000000      9.000000      9.000000   \n",
       "max       21.000000     17.000000     20.000000     22.000000     22.000000   \n",
       "\n",
       "       TANGARA_2FF6  TANGARA_307A  TANGARA_48C6  TANGARA_F1AE  TANGARA_06BE  \n",
       "count   5340.000000   5211.000000   5323.000000   5355.000000   5127.000000  \n",
       "mean       6.739326      7.794089      5.600413      7.017180      8.779598  \n",
       "std        3.428480      2.668220      3.309623      2.961981      4.429641  \n",
       "min        1.000000      1.000000      0.000000      1.000000      1.000000  \n",
       "25%        5.000000      6.000000      3.000000      5.000000      6.000000  \n",
       "50%        7.000000      8.000000      5.000000      7.000000      9.000000  \n",
       "75%        9.000000      9.000000      8.000000      9.000000     11.000000  \n",
       "max       15.000000     14.000000     15.000000     15.000000     21.000000  "
      ]
     },
     "execution_count": 10,
     "metadata": {},
     "output_type": "execute_result"
    }
   ],
   "source": [
    "# Describe Data\n",
    "df_pm25_raw.describe()"
   ]
  },
  {
   "cell_type": "code",
   "execution_count": 11,
   "metadata": {
    "execution": {
     "iopub.execute_input": "2023-11-14T18:36:30.480148Z",
     "iopub.status.busy": "2023-11-14T18:36:30.479821Z",
     "iopub.status.idle": "2023-11-14T18:36:30.522773Z",
     "shell.execute_reply": "2023-11-14T18:36:30.521811Z"
    }
   },
   "outputs": [
    {
     "data": {
      "text/html": [
       "<div>\n",
       "<style scoped>\n",
       "    .dataframe tbody tr th:only-of-type {\n",
       "        vertical-align: middle;\n",
       "    }\n",
       "\n",
       "    .dataframe tbody tr th {\n",
       "        vertical-align: top;\n",
       "    }\n",
       "\n",
       "    .dataframe thead th {\n",
       "        text-align: right;\n",
       "    }\n",
       "</style>\n",
       "<table border=\"1\" class=\"dataframe\">\n",
       "  <thead>\n",
       "    <tr style=\"text-align: right;\">\n",
       "      <th></th>\n",
       "      <th>TANGARA_260A</th>\n",
       "      <th>TANGARA_4B1A</th>\n",
       "      <th>TANGARA_14D6</th>\n",
       "      <th>TANGARA_2B42</th>\n",
       "      <th>TANGARA_2E9A</th>\n",
       "      <th>TANGARA_2FF6</th>\n",
       "      <th>TANGARA_307A</th>\n",
       "      <th>TANGARA_48C6</th>\n",
       "      <th>TANGARA_F1AE</th>\n",
       "      <th>TANGARA_06BE</th>\n",
       "    </tr>\n",
       "  </thead>\n",
       "  <tbody>\n",
       "    <tr>\n",
       "      <th>count</th>\n",
       "      <td>5541.000000</td>\n",
       "      <td>5427.000000</td>\n",
       "      <td>1038.000000</td>\n",
       "      <td>4079.000000</td>\n",
       "      <td>5467.000000</td>\n",
       "      <td>5340.000000</td>\n",
       "      <td>5211.000000</td>\n",
       "      <td>5323.000000</td>\n",
       "      <td>5355.000000</td>\n",
       "      <td>5127.000000</td>\n",
       "    </tr>\n",
       "    <tr>\n",
       "      <th>mean</th>\n",
       "      <td>7.969681</td>\n",
       "      <td>8.674774</td>\n",
       "      <td>9.102119</td>\n",
       "      <td>6.257906</td>\n",
       "      <td>5.950430</td>\n",
       "      <td>6.739326</td>\n",
       "      <td>7.794089</td>\n",
       "      <td>5.600413</td>\n",
       "      <td>7.017180</td>\n",
       "      <td>8.779598</td>\n",
       "    </tr>\n",
       "    <tr>\n",
       "      <th>std</th>\n",
       "      <td>4.182716</td>\n",
       "      <td>2.988458</td>\n",
       "      <td>3.405874</td>\n",
       "      <td>4.583022</td>\n",
       "      <td>4.692591</td>\n",
       "      <td>3.428480</td>\n",
       "      <td>2.668220</td>\n",
       "      <td>3.309623</td>\n",
       "      <td>2.961981</td>\n",
       "      <td>4.429641</td>\n",
       "    </tr>\n",
       "    <tr>\n",
       "      <th>min</th>\n",
       "      <td>1.000000</td>\n",
       "      <td>1.000000</td>\n",
       "      <td>3.000000</td>\n",
       "      <td>0.000000</td>\n",
       "      <td>0.000000</td>\n",
       "      <td>1.000000</td>\n",
       "      <td>1.000000</td>\n",
       "      <td>0.000000</td>\n",
       "      <td>1.000000</td>\n",
       "      <td>1.000000</td>\n",
       "    </tr>\n",
       "    <tr>\n",
       "      <th>25%</th>\n",
       "      <td>4.000000</td>\n",
       "      <td>7.000000</td>\n",
       "      <td>6.000000</td>\n",
       "      <td>1.000000</td>\n",
       "      <td>2.000000</td>\n",
       "      <td>5.000000</td>\n",
       "      <td>6.000000</td>\n",
       "      <td>3.000000</td>\n",
       "      <td>5.000000</td>\n",
       "      <td>6.000000</td>\n",
       "    </tr>\n",
       "    <tr>\n",
       "      <th>50%</th>\n",
       "      <td>8.000000</td>\n",
       "      <td>9.000000</td>\n",
       "      <td>9.000000</td>\n",
       "      <td>7.000000</td>\n",
       "      <td>5.000000</td>\n",
       "      <td>7.000000</td>\n",
       "      <td>8.000000</td>\n",
       "      <td>5.000000</td>\n",
       "      <td>7.000000</td>\n",
       "      <td>9.000000</td>\n",
       "    </tr>\n",
       "    <tr>\n",
       "      <th>75%</th>\n",
       "      <td>10.000000</td>\n",
       "      <td>10.000000</td>\n",
       "      <td>12.000000</td>\n",
       "      <td>9.000000</td>\n",
       "      <td>9.000000</td>\n",
       "      <td>9.000000</td>\n",
       "      <td>9.000000</td>\n",
       "      <td>8.000000</td>\n",
       "      <td>9.000000</td>\n",
       "      <td>11.000000</td>\n",
       "    </tr>\n",
       "    <tr>\n",
       "      <th>max</th>\n",
       "      <td>21.000000</td>\n",
       "      <td>17.000000</td>\n",
       "      <td>20.000000</td>\n",
       "      <td>22.000000</td>\n",
       "      <td>22.000000</td>\n",
       "      <td>15.000000</td>\n",
       "      <td>14.000000</td>\n",
       "      <td>15.000000</td>\n",
       "      <td>15.000000</td>\n",
       "      <td>21.000000</td>\n",
       "    </tr>\n",
       "  </tbody>\n",
       "</table>\n",
       "</div>"
      ],
      "text/plain": [
       "       TANGARA_260A  TANGARA_4B1A  TANGARA_14D6  TANGARA_2B42  TANGARA_2E9A  \\\n",
       "count   5541.000000   5427.000000   1038.000000   4079.000000   5467.000000   \n",
       "mean       7.969681      8.674774      9.102119      6.257906      5.950430   \n",
       "std        4.182716      2.988458      3.405874      4.583022      4.692591   \n",
       "min        1.000000      1.000000      3.000000      0.000000      0.000000   \n",
       "25%        4.000000      7.000000      6.000000      1.000000      2.000000   \n",
       "50%        8.000000      9.000000      9.000000      7.000000      5.000000   \n",
       "75%       10.000000     10.000000     12.000000      9.000000      9.000000   \n",
       "max       21.000000     17.000000     20.000000     22.000000     22.000000   \n",
       "\n",
       "       TANGARA_2FF6  TANGARA_307A  TANGARA_48C6  TANGARA_F1AE  TANGARA_06BE  \n",
       "count   5340.000000   5211.000000   5323.000000   5355.000000   5127.000000  \n",
       "mean       6.739326      7.794089      5.600413      7.017180      8.779598  \n",
       "std        3.428480      2.668220      3.309623      2.961981      4.429641  \n",
       "min        1.000000      1.000000      0.000000      1.000000      1.000000  \n",
       "25%        5.000000      6.000000      3.000000      5.000000      6.000000  \n",
       "50%        7.000000      8.000000      5.000000      7.000000      9.000000  \n",
       "75%        9.000000      9.000000      8.000000      9.000000     11.000000  \n",
       "max       15.000000     14.000000     15.000000     15.000000     21.000000  "
      ]
     },
     "execution_count": 11,
     "metadata": {},
     "output_type": "execute_result"
    }
   ],
   "source": [
    "# Describe Data\n",
    "df_pm25_clean.describe()"
   ]
  },
  {
   "cell_type": "markdown",
   "metadata": {},
   "source": [
    "## Histograms"
   ]
  },
  {
   "cell_type": "code",
   "execution_count": 12,
   "metadata": {
    "execution": {
     "iopub.execute_input": "2023-11-14T18:36:30.526462Z",
     "iopub.status.busy": "2023-11-14T18:36:30.526145Z",
     "iopub.status.idle": "2023-11-14T18:36:30.530869Z",
     "shell.execute_reply": "2023-11-14T18:36:30.530129Z"
    }
   },
   "outputs": [
    {
     "name": "stdout",
     "output_type": "stream",
     "text": [
      "PLOT_CHARTS: False Plot charts were ignored\n"
     ]
    }
   ],
   "source": [
    "# Plot Histograms\n",
    "plot_hist(df_pm25_clean) if bool(os.getenv(\"PLOT_CHARTS\", None)) else print(\"PLOT_CHARTS:\", False, \"Plot charts were ignored\")"
   ]
  },
  {
   "cell_type": "markdown",
   "metadata": {},
   "source": [
    "## Boxplots"
   ]
  },
  {
   "cell_type": "code",
   "execution_count": 13,
   "metadata": {
    "execution": {
     "iopub.execute_input": "2023-11-14T18:36:30.534817Z",
     "iopub.status.busy": "2023-11-14T18:36:30.534497Z",
     "iopub.status.idle": "2023-11-14T18:36:30.539289Z",
     "shell.execute_reply": "2023-11-14T18:36:30.538495Z"
    }
   },
   "outputs": [
    {
     "name": "stdout",
     "output_type": "stream",
     "text": [
      "PLOT_CHARTS: False Plot charts were ignored\n"
     ]
    }
   ],
   "source": [
    "# Plot Boxplots\n",
    "plot_boxes(df_pm25_clean) if bool(os.getenv(\"PLOT_CHARTS\", None)) else print(\"PLOT_CHARTS:\", False, \"Plot charts were ignored\")"
   ]
  },
  {
   "cell_type": "markdown",
   "metadata": {},
   "source": [
    "## Lineplots"
   ]
  },
  {
   "cell_type": "code",
   "execution_count": 14,
   "metadata": {
    "execution": {
     "iopub.execute_input": "2023-11-14T18:36:30.543079Z",
     "iopub.status.busy": "2023-11-14T18:36:30.542755Z",
     "iopub.status.idle": "2023-11-14T18:36:30.547757Z",
     "shell.execute_reply": "2023-11-14T18:36:30.546757Z"
    }
   },
   "outputs": [
    {
     "name": "stdout",
     "output_type": "stream",
     "text": [
      "PLOT_CHARTS: False Plot charts were ignored\n"
     ]
    }
   ],
   "source": [
    "# Plot Lineplots\n",
    "plot_lines(df_pm25_clean) if bool(os.getenv(\"PLOT_CHARTS\", None)) else print(\"PLOT_CHARTS:\", False, \"Plot charts were ignored\")"
   ]
  },
  {
   "cell_type": "code",
   "execution_count": 15,
   "metadata": {
    "execution": {
     "iopub.execute_input": "2023-11-14T18:36:30.551319Z",
     "iopub.status.busy": "2023-11-14T18:36:30.551008Z",
     "iopub.status.idle": "2023-11-14T18:36:30.696355Z",
     "shell.execute_reply": "2023-11-14T18:36:30.695259Z"
    }
   },
   "outputs": [],
   "source": [
    "# Save PM2.5 Data Frame Sensors into CSV file\n",
    "df_to_csv(df_pm25_clean, \"pm25_clean.csv\", datafolder='1_clean')"
   ]
  },
  {
   "cell_type": "code",
   "execution_count": null,
   "metadata": {},
   "outputs": [],
   "source": []
  }
 ],
 "metadata": {
  "kernelspec": {
   "display_name": ".venv",
   "language": "python",
   "name": "python3"
  },
  "language_info": {
   "codemirror_mode": {
    "name": "ipython",
    "version": 3
   },
   "file_extension": ".py",
   "mimetype": "text/x-python",
   "name": "python",
   "nbconvert_exporter": "python",
   "pygments_lexer": "ipython3",
   "version": "3.12.0"
  }
 },
 "nbformat": 4,
 "nbformat_minor": 2
}
