{
 "cells": [
  {
   "cell_type": "code",
   "execution_count": 1,
   "id": "a853465e-cfbf-4ff6-bfae-b6c42cf6b098",
   "metadata": {},
   "outputs": [],
   "source": [
    "import pandas as pd\n",
    "import re"
   ]
  },
  {
   "cell_type": "markdown",
   "id": "b7f20999-c374-41ab-9a98-0ad7c61fe056",
   "metadata": {},
   "source": [
    "# Extraction"
   ]
  },
  {
   "cell_type": "code",
   "execution_count": 2,
   "id": "ad5c1a39",
   "metadata": {},
   "outputs": [
    {
     "name": "stdout",
     "output_type": "stream",
     "text": [
      "2022-05-31 16:46:23,757 - kedro.io.data_catalog - INFO - Loading data from `spreadsheets` (CSVDataSet)...\n",
      "2022-05-31 16:46:23,762 - kedro.io.data_catalog - INFO - Loading data from `tangaras` (CSVDataSet)...\n"
     ]
    }
   ],
   "source": [
    "# Kedro Catalog\n",
    "spreadsheets = catalog.load('spreadsheets')\n",
    "tangaras = catalog.load('tangaras')"
   ]
  },
  {
   "cell_type": "code",
   "execution_count": 3,
   "id": "2bf8abc3",
   "metadata": {},
   "outputs": [
    {
     "data": {
      "text/html": [
       "<div>\n",
       "<style scoped>\n",
       "    .dataframe tbody tr th:only-of-type {\n",
       "        vertical-align: middle;\n",
       "    }\n",
       "\n",
       "    .dataframe tbody tr th {\n",
       "        vertical-align: top;\n",
       "    }\n",
       "\n",
       "    .dataframe thead th {\n",
       "        text-align: right;\n",
       "    }\n",
       "</style>\n",
       "<table border=\"1\" class=\"dataframe\">\n",
       "  <thead>\n",
       "    <tr style=\"text-align: right;\">\n",
       "      <th></th>\n",
       "      <th>MAC</th>\n",
       "      <th>Label_ID</th>\n",
       "      <th>Geolocation</th>\n",
       "      <th>Status</th>\n",
       "    </tr>\n",
       "  </thead>\n",
       "  <tbody>\n",
       "    <tr>\n",
       "      <th>0</th>\n",
       "      <td>D29ESP32DED36FA</td>\n",
       "      <td>Tangara_36FA</td>\n",
       "      <td>NaN</td>\n",
       "      <td>Offline</td>\n",
       "    </tr>\n",
       "    <tr>\n",
       "      <th>1</th>\n",
       "      <td>D29ESP32DED1CE2</td>\n",
       "      <td>Tangara_1CE2</td>\n",
       "      <td>NaN</td>\n",
       "      <td>Offline</td>\n",
       "    </tr>\n",
       "    <tr>\n",
       "      <th>2</th>\n",
       "      <td>D29ESP32DED1FCA</td>\n",
       "      <td>Tangara_1FCA</td>\n",
       "      <td>NaN</td>\n",
       "      <td>Offline</td>\n",
       "    </tr>\n",
       "    <tr>\n",
       "      <th>3</th>\n",
       "      <td>D29ESP32DED14D6</td>\n",
       "      <td>Tangara_14D6</td>\n",
       "      <td>NaN</td>\n",
       "      <td>Offline</td>\n",
       "    </tr>\n",
       "    <tr>\n",
       "      <th>4</th>\n",
       "      <td>D29ESP32DED2FF6</td>\n",
       "      <td>Tangara_2FF6</td>\n",
       "      <td>NaN</td>\n",
       "      <td>Offline</td>\n",
       "    </tr>\n",
       "    <tr>\n",
       "      <th>5</th>\n",
       "      <td>D29ESP32DED2492</td>\n",
       "      <td>Tangara_2492</td>\n",
       "      <td>NaN</td>\n",
       "      <td>Offline</td>\n",
       "    </tr>\n",
       "    <tr>\n",
       "      <th>6</th>\n",
       "      <td>D29TTGOT7D4D7A</td>\n",
       "      <td>Tangara_4D7A</td>\n",
       "      <td>NaN</td>\n",
       "      <td>Offline</td>\n",
       "    </tr>\n",
       "    <tr>\n",
       "      <th>7</th>\n",
       "      <td>D29TTGOT7D48C6</td>\n",
       "      <td>CanAirIO_48C6</td>\n",
       "      <td>3.446018 -76.541824</td>\n",
       "      <td>Online</td>\n",
       "    </tr>\n",
       "    <tr>\n",
       "      <th>8</th>\n",
       "      <td>D29TTGOT7D532E</td>\n",
       "      <td>CanAirIO_532E</td>\n",
       "      <td>3.446018 -76.541824</td>\n",
       "      <td>Online</td>\n",
       "    </tr>\n",
       "  </tbody>\n",
       "</table>\n",
       "</div>"
      ],
      "text/plain": [
       "               MAC       Label_ID          Geolocation   Status\n",
       "0  D29ESP32DED36FA   Tangara_36FA                  NaN  Offline\n",
       "1  D29ESP32DED1CE2   Tangara_1CE2                  NaN  Offline\n",
       "2  D29ESP32DED1FCA   Tangara_1FCA                  NaN  Offline\n",
       "3  D29ESP32DED14D6   Tangara_14D6                  NaN  Offline\n",
       "4  D29ESP32DED2FF6   Tangara_2FF6                  NaN  Offline\n",
       "5  D29ESP32DED2492   Tangara_2492                  NaN  Offline\n",
       "6   D29TTGOT7D4D7A   Tangara_4D7A                  NaN  Offline\n",
       "7   D29TTGOT7D48C6  CanAirIO_48C6  3.446018 -76.541824   Online\n",
       "8   D29TTGOT7D532E  CanAirIO_532E  3.446018 -76.541824   Online"
      ]
     },
     "execution_count": 3,
     "metadata": {},
     "output_type": "execute_result"
    }
   ],
   "source": [
    "# Tangaras\n",
    "tangaras"
   ]
  },
  {
   "cell_type": "code",
   "execution_count": 4,
   "id": "85c0f6db",
   "metadata": {},
   "outputs": [
    {
     "data": {
      "text/html": [
       "<div>\n",
       "<style scoped>\n",
       "    .dataframe tbody tr th:only-of-type {\n",
       "        vertical-align: middle;\n",
       "    }\n",
       "\n",
       "    .dataframe tbody tr th {\n",
       "        vertical-align: top;\n",
       "    }\n",
       "\n",
       "    .dataframe thead th {\n",
       "        text-align: right;\n",
       "    }\n",
       "</style>\n",
       "<table border=\"1\" class=\"dataframe\">\n",
       "  <thead>\n",
       "    <tr style=\"text-align: right;\">\n",
       "      <th></th>\n",
       "      <th>ID</th>\n",
       "      <th>Name</th>\n",
       "      <th>URL</th>\n",
       "    </tr>\n",
       "  </thead>\n",
       "  <tbody>\n",
       "    <tr>\n",
       "      <th>0</th>\n",
       "      <td>1</td>\n",
       "      <td>Week 1</td>\n",
       "      <td>https://docs.google.com/spreadsheets/d/1pSX8Fg...</td>\n",
       "    </tr>\n",
       "    <tr>\n",
       "      <th>1</th>\n",
       "      <td>2</td>\n",
       "      <td>Week 2</td>\n",
       "      <td>https://docs.google.com/spreadsheets/d/1Anihf9...</td>\n",
       "    </tr>\n",
       "    <tr>\n",
       "      <th>2</th>\n",
       "      <td>3</td>\n",
       "      <td>Week 3</td>\n",
       "      <td>https://docs.google.com/spreadsheets/d/1fiy3aJ...</td>\n",
       "    </tr>\n",
       "    <tr>\n",
       "      <th>3</th>\n",
       "      <td>4</td>\n",
       "      <td>Week 4</td>\n",
       "      <td>https://docs.google.com/spreadsheets/d/1v90xfe...</td>\n",
       "    </tr>\n",
       "    <tr>\n",
       "      <th>4</th>\n",
       "      <td>5</td>\n",
       "      <td>Week 5</td>\n",
       "      <td>https://docs.google.com/spreadsheets/d/15-CwLf...</td>\n",
       "    </tr>\n",
       "  </tbody>\n",
       "</table>\n",
       "</div>"
      ],
      "text/plain": [
       "   ID    Name                                                URL\n",
       "0   1  Week 1  https://docs.google.com/spreadsheets/d/1pSX8Fg...\n",
       "1   2  Week 2  https://docs.google.com/spreadsheets/d/1Anihf9...\n",
       "2   3  Week 3  https://docs.google.com/spreadsheets/d/1fiy3aJ...\n",
       "3   4  Week 4  https://docs.google.com/spreadsheets/d/1v90xfe...\n",
       "4   5  Week 5  https://docs.google.com/spreadsheets/d/15-CwLf..."
      ]
     },
     "execution_count": 4,
     "metadata": {},
     "output_type": "execute_result"
    }
   ],
   "source": [
    "# Spreadsheets\n",
    "spreadsheets"
   ]
  },
  {
   "cell_type": "code",
   "execution_count": 5,
   "id": "c1b3b128-0b97-40e8-a6a1-a8f13f84d78c",
   "metadata": {
    "tags": [
     "node"
    ]
   },
   "outputs": [],
   "source": [
    "# This function will convert the url to a download link\n",
    "def convert_gsheets_url(url):\n",
    "    try:\n",
    "        worksheet_id = url.split('#gid=')[1]\n",
    "    except:\n",
    "        # Couldn't get worksheet id. Ignore it\n",
    "        worksheet_id = None\n",
    "    url = re.findall('https://docs.google.com/spreadsheets/d/.*?/',url)[0]\n",
    "    url += 'export'\n",
    "    url += '?format=csv'\n",
    "    if worksheet_id:\n",
    "        url += '&gid={}'.format(worksheet_id)\n",
    "    return url"
   ]
  },
  {
   "cell_type": "code",
   "execution_count": 6,
   "id": "241231ca-2bf4-4e0b-9809-243c6b8b5b1c",
   "metadata": {
    "tags": []
   },
   "outputs": [],
   "source": [
    "# Get Data Frame Sensors\n",
    "def get_df_sensors(spreadsheets, tangaras):\n",
    "    df_sensors = {}\n",
    "    sensors_label = tangaras['Label_ID'].to_list()\n",
    "    for index, row in spreadsheets.iterrows():\n",
    "        try:\n",
    "            url = convert_gsheets_url(row['URL'])\n",
    "            df = pd.read_csv(url)\n",
    "            df = df.filter(items=['Time'] + sensors_label)\n",
    "            df_sensors[row['Name']] = df\n",
    "            print('From', row['Name'], 'read successfully')\n",
    "        except Exception:\n",
    "            print('Could not read any data from', row['ID'], row['Name'], row['URL'])\n",
    "    return df_sensors"
   ]
  },
  {
   "cell_type": "code",
   "execution_count": 7,
   "id": "006130a0-9e2c-4bb2-8c56-a142b09489f4",
   "metadata": {},
   "outputs": [
    {
     "name": "stdout",
     "output_type": "stream",
     "text": [
      "From Week 1 read successfully\n",
      "From Week 2 read successfully\n",
      "From Week 3 read successfully\n",
      "From Week 4 read successfully\n",
      "From Week 5 read successfully\n"
     ]
    },
    {
     "data": {
      "text/plain": [
       "dict_keys(['Week 1', 'Week 2', 'Week 3', 'Week 4', 'Week 5'])"
      ]
     },
     "execution_count": 7,
     "metadata": {},
     "output_type": "execute_result"
    }
   ],
   "source": [
    "# Data Frame Sensors\n",
    "df_sensors = get_df_sensors(spreadsheets, tangaras)\n",
    "df_sensors.keys()"
   ]
  },
  {
   "cell_type": "code",
   "execution_count": 8,
   "id": "cfd80015-66de-4b3e-a7b9-517ad5dbcf3a",
   "metadata": {
    "tags": []
   },
   "outputs": [],
   "source": [
    "# Merge Data Frames Sensors\n",
    "def merge_df_sensors(df_sensors):\n",
    "    total_rows = 0\n",
    "    for key, value in df_sensors.items():\n",
    "        print(key, 'shape', value.shape)\n",
    "        total_rows += value.shape[0]\n",
    "    print('Total Rows:', total_rows)\n",
    "    df_sensors = pd.concat(list(df_sensors.values()))\n",
    "    df_sensors.rename(columns={'Time':'Datetime'}, inplace=True)\n",
    "    print('Columns:', list(df_sensors.columns))\n",
    "    print('Data Frame Sensors Shape:', df_sensors.shape)\n",
    "    return df_sensors"
   ]
  },
  {
   "cell_type": "code",
   "execution_count": 9,
   "id": "ab407ac3-b42d-4517-9821-a9e49d5da611",
   "metadata": {},
   "outputs": [
    {
     "name": "stdout",
     "output_type": "stream",
     "text": [
      "Week 1 shape (14395, 10)\n",
      "Week 2 shape (20159, 9)\n",
      "Week 3 shape (20093, 9)\n",
      "Week 4 shape (20082, 9)\n",
      "Week 5 shape (23040, 9)\n",
      "Total Rows: 97769\n",
      "Columns: ['Datetime', 'Tangara_36FA', 'Tangara_1CE2', 'Tangara_1FCA', 'Tangara_14D6', 'Tangara_2FF6', 'Tangara_2492', 'Tangara_4D7A', 'CanAirIO_48C6', 'CanAirIO_532E']\n",
      "Data Frame Sensors Shape: (97769, 10)\n"
     ]
    },
    {
     "data": {
      "text/html": [
       "<div>\n",
       "<style scoped>\n",
       "    .dataframe tbody tr th:only-of-type {\n",
       "        vertical-align: middle;\n",
       "    }\n",
       "\n",
       "    .dataframe tbody tr th {\n",
       "        vertical-align: top;\n",
       "    }\n",
       "\n",
       "    .dataframe thead th {\n",
       "        text-align: right;\n",
       "    }\n",
       "</style>\n",
       "<table border=\"1\" class=\"dataframe\">\n",
       "  <thead>\n",
       "    <tr style=\"text-align: right;\">\n",
       "      <th></th>\n",
       "      <th>Datetime</th>\n",
       "      <th>Tangara_36FA</th>\n",
       "      <th>Tangara_1CE2</th>\n",
       "      <th>Tangara_1FCA</th>\n",
       "      <th>Tangara_14D6</th>\n",
       "      <th>Tangara_2FF6</th>\n",
       "      <th>Tangara_2492</th>\n",
       "      <th>Tangara_4D7A</th>\n",
       "      <th>CanAirIO_48C6</th>\n",
       "      <th>CanAirIO_532E</th>\n",
       "    </tr>\n",
       "  </thead>\n",
       "  <tbody>\n",
       "    <tr>\n",
       "      <th>0</th>\n",
       "      <td>2022-03-30 0:00:00</td>\n",
       "      <td>5.0</td>\n",
       "      <td>4.0</td>\n",
       "      <td>NaN</td>\n",
       "      <td>NaN</td>\n",
       "      <td>3.0</td>\n",
       "      <td>NaN</td>\n",
       "      <td>2.0</td>\n",
       "      <td>NaN</td>\n",
       "      <td>NaN</td>\n",
       "    </tr>\n",
       "    <tr>\n",
       "      <th>1</th>\n",
       "      <td>2022-03-30 0:00:30</td>\n",
       "      <td>5.0</td>\n",
       "      <td>4.0</td>\n",
       "      <td>5.0</td>\n",
       "      <td>4.0</td>\n",
       "      <td>4.0</td>\n",
       "      <td>NaN</td>\n",
       "      <td>2.0</td>\n",
       "      <td>3.0</td>\n",
       "      <td>NaN</td>\n",
       "    </tr>\n",
       "    <tr>\n",
       "      <th>2</th>\n",
       "      <td>2022-03-30 0:01:00</td>\n",
       "      <td>4.0</td>\n",
       "      <td>NaN</td>\n",
       "      <td>5.0</td>\n",
       "      <td>5.0</td>\n",
       "      <td>4.0</td>\n",
       "      <td>NaN</td>\n",
       "      <td>2.0</td>\n",
       "      <td>2.0</td>\n",
       "      <td>NaN</td>\n",
       "    </tr>\n",
       "    <tr>\n",
       "      <th>3</th>\n",
       "      <td>2022-03-30 0:01:30</td>\n",
       "      <td>5.0</td>\n",
       "      <td>4.0</td>\n",
       "      <td>5.0</td>\n",
       "      <td>4.0</td>\n",
       "      <td>4.0</td>\n",
       "      <td>NaN</td>\n",
       "      <td>1.0</td>\n",
       "      <td>3.0</td>\n",
       "      <td>NaN</td>\n",
       "    </tr>\n",
       "    <tr>\n",
       "      <th>4</th>\n",
       "      <td>2022-03-30 0:02:00</td>\n",
       "      <td>5.0</td>\n",
       "      <td>4.0</td>\n",
       "      <td>4.0</td>\n",
       "      <td>4.0</td>\n",
       "      <td>3.0</td>\n",
       "      <td>NaN</td>\n",
       "      <td>2.0</td>\n",
       "      <td>1.0</td>\n",
       "      <td>NaN</td>\n",
       "    </tr>\n",
       "  </tbody>\n",
       "</table>\n",
       "</div>"
      ],
      "text/plain": [
       "             Datetime  Tangara_36FA  Tangara_1CE2  Tangara_1FCA  Tangara_14D6  \\\n",
       "0  2022-03-30 0:00:00           5.0           4.0           NaN           NaN   \n",
       "1  2022-03-30 0:00:30           5.0           4.0           5.0           4.0   \n",
       "2  2022-03-30 0:01:00           4.0           NaN           5.0           5.0   \n",
       "3  2022-03-30 0:01:30           5.0           4.0           5.0           4.0   \n",
       "4  2022-03-30 0:02:00           5.0           4.0           4.0           4.0   \n",
       "\n",
       "   Tangara_2FF6  Tangara_2492  Tangara_4D7A  CanAirIO_48C6  CanAirIO_532E  \n",
       "0           3.0           NaN           2.0            NaN            NaN  \n",
       "1           4.0           NaN           2.0            3.0            NaN  \n",
       "2           4.0           NaN           2.0            2.0            NaN  \n",
       "3           4.0           NaN           1.0            3.0            NaN  \n",
       "4           3.0           NaN           2.0            1.0            NaN  "
      ]
     },
     "execution_count": 9,
     "metadata": {},
     "output_type": "execute_result"
    }
   ],
   "source": [
    "# Data Frame Sensors\n",
    "df_sensors = merge_df_sensors(df_sensors)\n",
    "df_sensors.head()"
   ]
  },
  {
   "cell_type": "code",
   "execution_count": 10,
   "id": "cb6721fa",
   "metadata": {},
   "outputs": [
    {
     "name": "stdout",
     "output_type": "stream",
     "text": [
      "2022-05-31 16:46:40,762 - kedro.io.data_catalog - INFO - Saving data to `raw_data_sensors` (CSVDataSet)...\n"
     ]
    }
   ],
   "source": [
    "# Save df_sensors into Catalog\n",
    "catalog.save('raw_data_sensors', df_sensors)"
   ]
  }
 ],
 "metadata": {
  "celltoolbar": "Tags",
  "kernelspec": {
   "display_name": "Kedro (tangara_pipeline)",
   "language": "python",
   "name": "kedro_tangara_pipeline"
  },
  "language_info": {
   "codemirror_mode": {
    "name": "ipython",
    "version": 3
   },
   "file_extension": ".py",
   "mimetype": "text/x-python",
   "name": "python",
   "nbconvert_exporter": "python",
   "pygments_lexer": "ipython3",
   "version": "3.8.10"
  }
 },
 "nbformat": 4,
 "nbformat_minor": 5
}
