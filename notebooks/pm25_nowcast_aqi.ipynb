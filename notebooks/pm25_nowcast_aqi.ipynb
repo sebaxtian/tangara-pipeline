{
 "cells": [
  {
   "cell_type": "code",
   "execution_count": 1,
   "metadata": {},
   "outputs": [],
   "source": [
    "import pandas as pd\n",
    "import requests\n",
    "from datetime import datetime, timezone, timedelta\n",
    "from io import StringIO\n",
    "import geohash2"
   ]
  },
  {
   "cell_type": "markdown",
   "metadata": {},
   "source": [
    "# Extraction"
   ]
  },
  {
   "cell_type": "code",
   "execution_count": 2,
   "metadata": {},
   "outputs": [
    {
     "name": "stdout",
     "output_type": "stream",
     "text": [
      "2022-09-07 11:53:44,648 - kedro.io.data_catalog - INFO - Loading data from `parameters` (MemoryDataSet)...\n",
      "nowcast_datetime: 2022-09-06T13:00:00\n"
     ]
    }
   ],
   "source": [
    "# Time Period to Calculate NowCast AQI\n",
    "#\n",
    "# AQICN: https://aqicn.org/faq/2015-03-15/air-quality-nowcast-a-beginners-guide/\n",
    "# AirNow: http://airnow.gov/\n",
    "# NowCast: https://en.wikipedia.org/wiki/NowCast_(air_quality_index)\n",
    "#\n",
    "#\n",
    "parameters = catalog.load('parameters')\n",
    "# Current DateTime\n",
    "nowcast_datetime = parameters['nowcast_datetime']\n",
    "print('nowcast_datetime:', nowcast_datetime)"
   ]
  },
  {
   "cell_type": "code",
   "execution_count": null,
   "metadata": {},
   "outputs": [],
   "source": []
  }
 ],
 "metadata": {
  "kernelspec": {
   "display_name": "Kedro (tangara_pipeline)",
   "language": "python",
   "name": "kedro_tangara_pipeline"
  },
  "language_info": {
   "codemirror_mode": {
    "name": "ipython",
    "version": 3
   },
   "file_extension": ".py",
   "mimetype": "text/x-python",
   "name": "python",
   "nbconvert_exporter": "python",
   "pygments_lexer": "ipython3",
   "version": "3.8.10"
  },
  "orig_nbformat": 4
 },
 "nbformat": 4,
 "nbformat_minor": 2
}
