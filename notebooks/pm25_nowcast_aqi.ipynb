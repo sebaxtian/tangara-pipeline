{
 "cells": [
  {
   "cell_type": "code",
   "execution_count": 1,
   "metadata": {},
   "outputs": [],
   "source": [
    "import pandas as pd\n",
    "import numpy as np\n",
    "import requests\n",
    "from datetime import datetime, timezone, timedelta\n",
    "from io import StringIO\n",
    "import geohash2\n",
    "import matplotlib.pyplot as plt\n",
    "import seaborn as sns\n",
    "import sys\n",
    "import math\n",
    "# Gloabl seaborn Theme\n",
    "sns.set_theme(style=\"whitegrid\", palette=\"pastel\")"
   ]
  },
  {
   "cell_type": "markdown",
   "metadata": {},
   "source": [
    "# Extraction - PM25 - NowCast AQI"
   ]
  },
  {
   "cell_type": "markdown",
   "metadata": {},
   "source": [
    "---"
   ]
  },
  {
   "cell_type": "markdown",
   "metadata": {},
   "source": [
    "## Air Quality Index - AQI - Basics"
   ]
  },
  {
   "cell_type": "markdown",
   "metadata": {},
   "source": [
    "### What is the U.S. Air Quality Index - AQI?\n",
    "\n",
    "The U.S. AQI is EPA’s index for reporting air quality.\n",
    "\n",
    "[AQI - Basics](https://www.airnow.gov/aqi/aqi-basics/)\n",
    "\n",
    "[Technical Assistance Document for the Reporting of Daily Air Quality – the Air Quality Index - AQI](https://www.airnow.gov/sites/default/files/2020-05/aqi-technical-assistance-document-sept2018.pdf)\n",
    "\n",
    "| Using Table 5, find the two breakpoints that contain the concentration. | AQI for Ozone and Particle Pollution |\n",
    "| --- | --- |\n",
    "| <img src=\"breakpoints_aqi.png\" alt=\"Breakpoints for the AQI\" width=\"auto\"/> | <img src=\"categories_aqi.png\" alt=\"Categories for the AQI\" width=\"auto\"/> |\n"
   ]
  },
  {
   "cell_type": "markdown",
   "metadata": {},
   "source": [
    "### Calculating the AQI\n",
    "\n",
    "**How do I Calculate the AQI from pollutant concentration data?**\n",
    "\n",
    "The AQI is the highest value calculated for each pollutan as follows:\n",
    "\n",
    "    A. Identify the highest concentration among all of the monitors within each reporting area and truncate as follow:\n",
    "\n",
    "<img src=\"pollutants.png\" alt=\"Pollutants\" width=\"auto\"/>\n",
    "\n",
    "    B. Using Table 5, find the two breakpoints tha contain the concentration.\n",
    "\n",
    "    C. Using Equation 1, calculate the index\n",
    "\n",
    "<img src=\"equation1.png\" alt=\"Equation 1\" width=\"auto\"/>\n",
    "\n",
    "    D. Round the index to the nearest integer\n"
   ]
  },
  {
   "cell_type": "markdown",
   "metadata": {},
   "source": [
    "### Constants"
   ]
  },
  {
   "cell_type": "code",
   "execution_count": 2,
   "metadata": {},
   "outputs": [],
   "source": [
    "# Levels of Concern\n",
    "GOOD = 0\n",
    "MODERATE = 1\n",
    "UNHEALTHY_FOR_SENSITIVE_GROUPS = 2\n",
    "UNHEALTHY = 3\n",
    "VERY_UNHEALTHY = 4\n",
    "HAZARDOUS = 5\n",
    "# AQI Levels\n",
    "AQI_LEVELS = (\n",
    "    (GOOD, 'Good', [0, 50]), # 0 - 50\n",
    "    (MODERATE, 'Moderate', [51, 100]), # 51 - 100\n",
    "    (UNHEALTHY_FOR_SENSITIVE_GROUPS, 'Unhealthy for sensitive groups', [101, 150]), # 101 - 150\n",
    "    (UNHEALTHY, 'Unhealthy', [151, 200]), # 151 - 200\n",
    "    (VERY_UNHEALTHY, 'Very Unhealthy', [201, 300]), # 201 - 300\n",
    "    (HAZARDOUS, 'Hazardous', [301, sys.maxsize]), # 301 - higher\n",
    ")\n",
    "# PM25 Breakpoints Values\n",
    "PM25_BREAKPOINTS = (\n",
    "    (GOOD, 'Good', [0.0, 12.0]), # 0.0 - 12.0, Good\n",
    "    (MODERATE, 'Moderate', [12.1, 35.4]), # 12.1 - 35.4, Moderate\n",
    "    (UNHEALTHY_FOR_SENSITIVE_GROUPS, 'Unhealthy for sensitive groups', [35.5, 55.4]), # 35.5 - 55.4, Unhealthy for sensitive groups\n",
    "    (UNHEALTHY, 'Unhealthy', [55.5, 150.4]), # 55.5 - 150.4, Unhealthy\n",
    "    (VERY_UNHEALTHY, 'Very Unhealthy', [150.5, 250.4]), # 150.5 - 250.4, Very Unhealthy\n",
    "    (HAZARDOUS, 'Hazardous', [250.5, 350.4]), # 250.5 - 350.4, Hazardous\n",
    "    (HAZARDOUS, 'Hazardous', [350.5, 500.4]), # 350.5 - 500.4, Hazardous\n",
    ")\n",
    "# Max PM25 Value\n",
    "MAX_PM25_VALUE = 500.5"
   ]
  },
  {
   "cell_type": "markdown",
   "metadata": {},
   "source": [
    "### Equation 1"
   ]
  },
  {
   "cell_type": "code",
   "execution_count": 3,
   "metadata": {},
   "outputs": [],
   "source": [
    "# Define Equation 1 to Calculate AQI Value\n",
    "#\n",
    "# AQI = AQI for pollutant p\n",
    "# Cp = The truncated concentrattion of pollutant p\n",
    "# BP_hi = The concentration breakpoint that is greater than or equal to Cp\n",
    "# BP_lo = The concentration breakpoint that is less than or equal to Cp\n",
    "# AQI_hi = The AQI value corresponding to BP_hi\n",
    "# AQI_lo = The AQI value corresponding to BP_lo\n",
    "#\n",
    "def equation1(Cp):\n",
    "    # AQI Value to Concentration of Pollutant P\n",
    "    AQI = None\n",
    "    # Variables\n",
    "    BP_hi = None\n",
    "    BP_lo = None\n",
    "    AQI_hi = None\n",
    "    AQI_lo = None\n",
    "\n",
    "    # Get BP_hi and BP_lo\n",
    "    for bp in PM25_BREAKPOINTS:\n",
    "        #print('bp:', bp)\n",
    "        if (Cp >= bp[2][0]) and (Cp <= bp[2][-1]):\n",
    "            BP_hi = bp[2][-1]\n",
    "            BP_lo = bp[2][0]\n",
    "            AQI_hi = AQI_LEVELS[bp[0]][2][-1]\n",
    "            AQI_lo = AQI_LEVELS[bp[0]][2][0]\n",
    "            break\n",
    "\n",
    "    AQI = math.ceil((((AQI_hi - AQI_lo) / (BP_hi - BP_lo)) * (Cp - BP_lo)) + AQI_lo)\n",
    "    #print('Cp:', Cp, 'BP_hi:', BP_hi, 'BP_lo:', BP_lo, 'AQI_hi:', AQI_hi, 'AQI_lo:', AQI_lo, 'AQI:', AQI)\n",
    "    #print('Cp:', Cp, 'AQI:', AQI)\n",
    "\n",
    "    return AQI"
   ]
  },
  {
   "cell_type": "code",
   "execution_count": 5,
   "metadata": {},
   "outputs": [
    {
     "name": "stdout",
     "output_type": "stream",
     "text": [
      "PM25: 35.9 AQI: 102\n"
     ]
    }
   ],
   "source": [
    "# Equation 1 to calculate the AQI value\n",
    "pm25_value = 35.9\n",
    "aqi_value = equation1(35.9)\n",
    "print('PM25:', pm25_value, 'AQI:', aqi_value)"
   ]
  },
  {
   "cell_type": "markdown",
   "metadata": {},
   "source": [
    "---"
   ]
  },
  {
   "cell_type": "code",
   "execution_count": null,
   "metadata": {},
   "outputs": [],
   "source": []
  }
 ],
 "metadata": {
  "kernelspec": {
   "display_name": "Kedro (tangara_pipeline)",
   "language": "python",
   "name": "kedro_tangara_pipeline"
  },
  "language_info": {
   "codemirror_mode": {
    "name": "ipython",
    "version": 3
   },
   "file_extension": ".py",
   "mimetype": "text/x-python",
   "name": "python",
   "nbconvert_exporter": "python",
   "pygments_lexer": "ipython3",
   "version": "3.8.10"
  },
  "orig_nbformat": 4
 },
 "nbformat": 4,
 "nbformat_minor": 2
}
