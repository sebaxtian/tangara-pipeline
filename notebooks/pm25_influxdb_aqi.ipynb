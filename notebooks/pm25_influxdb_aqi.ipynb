{
 "cells": [
  {
   "cell_type": "code",
   "execution_count": 2,
   "metadata": {},
   "outputs": [],
   "source": [
    "import pandas as pd\n",
    "import numpy as np\n",
    "from datetime import datetime"
   ]
  },
  {
   "cell_type": "code",
   "execution_count": 3,
   "metadata": {},
   "outputs": [],
   "source": [
    "# Test InfluxDB Client Library\n",
    "from influxdb_client import InfluxDBClient, Point, WritePrecision\n",
    "from influxdb_client.client.write_api import SYNCHRONOUS\n",
    "\n",
    "# You can generate an API token from the \"API Tokens Tab\" in the UI\n",
    "token = \"dLe3h0QEFSQksnvVmzI3B6XepdIhWCvbd-WTSbNRBt1-wxyehufqf_sjwlE7H2-6BKa1hspJUhYOkCWrtRJQsA==\"\n",
    "org = \"Tangara\"\n",
    "bucket = \"Tangara\"\n",
    "\n",
    "with InfluxDBClient(url=\"http://localhost:8086\", token=token, org=org) as client:\n",
    "    # Write Data\n",
    "    write_api = client.write_api(write_options=SYNCHRONOUS)\n",
    "\n",
    "    # Option 1: Use InfluxDB Line Protocol to write data\n",
    "    data = \"mem,host=host1 used_percent=23.43234543\"\n",
    "    write_api.write(bucket, org, data)\n",
    "\n",
    "    # Option 2: Use a Data Point to write data\n",
    "    point = Point(\"mem\") \\\n",
    "        .tag(\"host\", \"host1\") \\\n",
    "        .field(\"used_percent\", 23.43234543) \\\n",
    "        .time(datetime.utcnow(), WritePrecision.NS)\n",
    "    write_api.write(bucket, org, point)\n",
    "\n",
    "    # Option 3: Use a Batch Sequence to write data\n",
    "    sequence = [\"mem,host=host1 used_percent=23.43234543\",\n",
    "                \"mem,host=host1 available_percent=15.856523\"]\n",
    "    write_api.write(bucket, org, sequence)\n",
    "\n",
    "    # Execute a Flux query\n",
    "    #query = 'from(bucket: \"Tangara\") |> range(start: -1h)'\n",
    "    #tables = client.query_api().query(query, org=org)\n",
    "    # Too Many Tables, Warning ...\n",
    "    #for table in tables:\n",
    "    #    for record in table.records:\n",
    "    #        print(record)\n",
    "    # Dispose the Client\n",
    "    client.close()\n"
   ]
  },
  {
   "cell_type": "code",
   "execution_count": null,
   "metadata": {},
   "outputs": [],
   "source": [
    "# Getting Started with InfluxDB and Pandas\n",
    "# https://www.influxdata.com/blog/getting-started-with-influxdb-and-pandas/\n",
    "# \n",
    "# https://github.com/influxdata/influxdb-client-python\n",
    "# \n",
    "# Getting Started with Python and InfluxDB v2.0\n",
    "# https://www.influxdata.com/blog/getting-started-with-python-and-influxdb-v2-0/\n",
    "#\n",
    "# How to ingest DataFrame with default tags\n",
    "# https://github.com/influxdata/influxdb-client-python/blob/master/examples/ingest_dataframe_default_tags.py\n",
    "#\n",
    "# How to ingest large DataFrame by splitting into chunks\n",
    "# https://github.com/influxdata/influxdb-client-python/blob/master/examples/ingest_large_dataframe.py\n",
    "#"
   ]
  },
  {
   "cell_type": "code",
   "execution_count": null,
   "metadata": {},
   "outputs": [],
   "source": []
  }
 ],
 "metadata": {
  "kernelspec": {
   "display_name": "Kedro (tangara_pipeline)",
   "language": "python",
   "name": "kedro_tangara_pipeline"
  },
  "language_info": {
   "codemirror_mode": {
    "name": "ipython",
    "version": 3
   },
   "file_extension": ".py",
   "mimetype": "text/x-python",
   "name": "python",
   "nbconvert_exporter": "python",
   "pygments_lexer": "ipython3",
   "version": "3.8.10"
  },
  "orig_nbformat": 4
 },
 "nbformat": 4,
 "nbformat_minor": 2
}
