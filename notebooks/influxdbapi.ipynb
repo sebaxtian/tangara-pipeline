{
 "cells": [
  {
   "cell_type": "code",
   "execution_count": 1,
   "metadata": {},
   "outputs": [],
   "source": [
    "import pandas as pd\n",
    "import requests\n",
    "from datetime import datetime, timezone, timedelta"
   ]
  },
  {
   "cell_type": "markdown",
   "metadata": {},
   "source": [
    "# Extraction"
   ]
  },
  {
   "cell_type": "code",
   "execution_count": 2,
   "metadata": {},
   "outputs": [
    {
     "name": "stdout",
     "output_type": "stream",
     "text": [
      "2022-06-01 15:44:24,500 - kedro.io.data_catalog - INFO - Loading data from `tangaras` (CSVDataSet)...\n"
     ]
    }
   ],
   "source": [
    "# Kedro Catalog\n",
    "tangaras = catalog.load('tangaras')"
   ]
  },
  {
   "cell_type": "code",
   "execution_count": 3,
   "metadata": {},
   "outputs": [
    {
     "data": {
      "text/html": [
       "<div>\n",
       "<style scoped>\n",
       "    .dataframe tbody tr th:only-of-type {\n",
       "        vertical-align: middle;\n",
       "    }\n",
       "\n",
       "    .dataframe tbody tr th {\n",
       "        vertical-align: top;\n",
       "    }\n",
       "\n",
       "    .dataframe thead th {\n",
       "        text-align: right;\n",
       "    }\n",
       "</style>\n",
       "<table border=\"1\" class=\"dataframe\">\n",
       "  <thead>\n",
       "    <tr style=\"text-align: right;\">\n",
       "      <th></th>\n",
       "      <th>MAC</th>\n",
       "      <th>Label_ID</th>\n",
       "      <th>Geolocation</th>\n",
       "      <th>Status</th>\n",
       "    </tr>\n",
       "  </thead>\n",
       "  <tbody>\n",
       "    <tr>\n",
       "      <th>0</th>\n",
       "      <td>D29ESP32DED36FA</td>\n",
       "      <td>Tangara_36FA</td>\n",
       "      <td>NaN</td>\n",
       "      <td>Offline</td>\n",
       "    </tr>\n",
       "    <tr>\n",
       "      <th>1</th>\n",
       "      <td>D29ESP32DED1CE2</td>\n",
       "      <td>Tangara_1CE2</td>\n",
       "      <td>NaN</td>\n",
       "      <td>Offline</td>\n",
       "    </tr>\n",
       "    <tr>\n",
       "      <th>2</th>\n",
       "      <td>D29ESP32DED1FCA</td>\n",
       "      <td>Tangara_1FCA</td>\n",
       "      <td>NaN</td>\n",
       "      <td>Offline</td>\n",
       "    </tr>\n",
       "    <tr>\n",
       "      <th>3</th>\n",
       "      <td>D29ESP32DED14D6</td>\n",
       "      <td>Tangara_14D6</td>\n",
       "      <td>NaN</td>\n",
       "      <td>Offline</td>\n",
       "    </tr>\n",
       "    <tr>\n",
       "      <th>4</th>\n",
       "      <td>D29ESP32DED2FF6</td>\n",
       "      <td>Tangara_2FF6</td>\n",
       "      <td>NaN</td>\n",
       "      <td>Offline</td>\n",
       "    </tr>\n",
       "    <tr>\n",
       "      <th>5</th>\n",
       "      <td>D29ESP32DED2492</td>\n",
       "      <td>Tangara_2492</td>\n",
       "      <td>NaN</td>\n",
       "      <td>Offline</td>\n",
       "    </tr>\n",
       "    <tr>\n",
       "      <th>6</th>\n",
       "      <td>D29TTGOT7D4D7A</td>\n",
       "      <td>Tangara_4D7A</td>\n",
       "      <td>NaN</td>\n",
       "      <td>Offline</td>\n",
       "    </tr>\n",
       "    <tr>\n",
       "      <th>7</th>\n",
       "      <td>D29TTGOT7D48C6</td>\n",
       "      <td>CanAirIO_48C6</td>\n",
       "      <td>3.446018 -76.541824</td>\n",
       "      <td>Online</td>\n",
       "    </tr>\n",
       "    <tr>\n",
       "      <th>8</th>\n",
       "      <td>D29TTGOT7D532E</td>\n",
       "      <td>CanAirIO_532E</td>\n",
       "      <td>3.446018 -76.541824</td>\n",
       "      <td>Online</td>\n",
       "    </tr>\n",
       "  </tbody>\n",
       "</table>\n",
       "</div>"
      ],
      "text/plain": [
       "               MAC       Label_ID          Geolocation   Status\n",
       "0  D29ESP32DED36FA   Tangara_36FA                  NaN  Offline\n",
       "1  D29ESP32DED1CE2   Tangara_1CE2                  NaN  Offline\n",
       "2  D29ESP32DED1FCA   Tangara_1FCA                  NaN  Offline\n",
       "3  D29ESP32DED14D6   Tangara_14D6                  NaN  Offline\n",
       "4  D29ESP32DED2FF6   Tangara_2FF6                  NaN  Offline\n",
       "5  D29ESP32DED2492   Tangara_2492                  NaN  Offline\n",
       "6   D29TTGOT7D4D7A   Tangara_4D7A                  NaN  Offline\n",
       "7   D29TTGOT7D48C6  CanAirIO_48C6  3.446018 -76.541824   Online\n",
       "8   D29TTGOT7D532E  CanAirIO_532E  3.446018 -76.541824   Online"
      ]
     },
     "execution_count": 3,
     "metadata": {},
     "output_type": "execute_result"
    }
   ],
   "source": [
    "# Tangaras\n",
    "tangaras"
   ]
  },
  {
   "cell_type": "code",
   "execution_count": 4,
   "metadata": {},
   "outputs": [
    {
     "name": "stdout",
     "output_type": "stream",
     "text": [
      "2022-06-01 15:44:24,690 - kedro.io.data_catalog - INFO - Loading data from `parameters` (MemoryDataSet)...\n"
     ]
    },
    {
     "data": {
      "text/plain": [
       "{'start_datetime': '2022-04-01T00:00:00',\n",
       " 'end_datetime': '2022-04-30T23:59:59'}"
      ]
     },
     "execution_count": 4,
     "metadata": {},
     "output_type": "execute_result"
    }
   ],
   "source": [
    "# Period time when sensors were validated on DAGMA stations\n",
    "validation_period = catalog.load('parameters')['validation_period']\n",
    "validation_period"
   ]
  },
  {
   "cell_type": "code",
   "execution_count": 5,
   "metadata": {},
   "outputs": [],
   "source": [
    "# Get Period Time\n",
    "def get_period_time(start_datetime, end_datetime):\n",
    "    start_datetime = int(datetime.fromisoformat(start_datetime).timestamp() * 1000)\n",
    "    end_datetime = int(datetime.fromisoformat(end_datetime).timestamp() * 1000)\n",
    "    return f\"time >= {start_datetime}ms and time <= {end_datetime}ms\""
   ]
  },
  {
   "cell_type": "code",
   "execution_count": 6,
   "metadata": {},
   "outputs": [],
   "source": [
    "# Get SQL Query Sensors\n",
    "def get_sql_query_sensors(tangaras):\n",
    "    sql_query = \"\"\n",
    "    period_time = get_period_time(validation_period['start_datetime'], validation_period['end_datetime'])\n",
    "    #period_time = \"time >= now() - 1h and time <= now()\"\n",
    "    for mac in tangaras['MAC'].to_list():\n",
    "        sql_query += \"SELECT \\\"name\\\", last(\\\"pm25\\\") \"\\\n",
    "                    \"FROM \\\"fixed_stations_01\\\" WHERE \"\\\n",
    "                    f\"(\\\"name\\\" = '{mac}') AND \"\\\n",
    "                    f\"{period_time} \" \\\n",
    "                    \"GROUP BY time(30s) fill(none); \"\n",
    "    return sql_query[:-2]"
   ]
  },
  {
   "cell_type": "code",
   "execution_count": 7,
   "metadata": {},
   "outputs": [],
   "source": [
    "# SQL Query by Sensor\n",
    "sql_query = get_sql_query_sensors(tangaras)\n",
    "#sql_query"
   ]
  },
  {
   "cell_type": "code",
   "execution_count": 8,
   "metadata": {},
   "outputs": [],
   "source": [
    "# Request to InfluxDB API REST\n",
    "def request_to_influxdb(sql_query):\n",
    "    endpoint = \"http://influxdb.canair.io:8086/query\"\n",
    "    database = \"canairio\"\n",
    "    parameters = {\n",
    "        'db': database,\n",
    "        'q': sql_query,\n",
    "        'epoch': 'ms'\n",
    "    }\n",
    "    return requests.get(endpoint, params=parameters)"
   ]
  },
  {
   "cell_type": "code",
   "execution_count": 9,
   "metadata": {},
   "outputs": [
    {
     "data": {
      "text/plain": [
       "<Response [200]>"
      ]
     },
     "execution_count": 9,
     "metadata": {},
     "output_type": "execute_result"
    }
   ],
   "source": [
    "# InfluxDB API REST Request\n",
    "influxdb_api_request = request_to_influxdb(sql_query)\n",
    "influxdb_api_request"
   ]
  },
  {
   "cell_type": "code",
   "execution_count": 10,
   "metadata": {},
   "outputs": [],
   "source": [
    "# Get Data Frame Sensors\n",
    "def get_df_sensors(tangaras, influxdb_api_request):\n",
    "    df_sensors = []\n",
    "\n",
    "    result_list = influxdb_api_request.json()['results']\n",
    "    result_list = [value for value in result_list if 'series' in value]\n",
    "    df_influxdb_sensors = pd.json_normalize(result_list, record_path=['series', 'values']).sort_values(by=[0])\n",
    "    \n",
    "    for index, row in tangaras.iterrows():\n",
    "        df_sensor = df_influxdb_sensors.loc[df_influxdb_sensors[1] == row['MAC']].reset_index(drop=True)[[0, 2]] # Warning\n",
    "        if not df_sensor.empty:\n",
    "            df_sensor.rename(columns={0: 'Datetime', 2: row['Label_ID']}, inplace=True)\n",
    "            df_sensor.set_index('Datetime', inplace=True)\n",
    "            df_sensors.append(df_sensor)\n",
    "    \n",
    "    df_sensors = df_sensors[0].join(df_sensors[1:]).reset_index()\n",
    "\n",
    "    tz = timezone(timedelta(hours=-5))\n",
    "    df_sensors['Datetime'] = df_sensors['Datetime'].apply(lambda x: datetime.fromtimestamp(x / 1000, tz=tz).isoformat())\n",
    "\n",
    "    df_sensors[df_sensors.columns.to_list()[1:]] = df_sensors[df_sensors.columns.to_list()[1:]].astype('Int64')\n",
    "    \n",
    "    return df_sensors"
   ]
  },
  {
   "cell_type": "code",
   "execution_count": 11,
   "metadata": {},
   "outputs": [
    {
     "data": {
      "text/html": [
       "<div>\n",
       "<style scoped>\n",
       "    .dataframe tbody tr th:only-of-type {\n",
       "        vertical-align: middle;\n",
       "    }\n",
       "\n",
       "    .dataframe tbody tr th {\n",
       "        vertical-align: top;\n",
       "    }\n",
       "\n",
       "    .dataframe thead th {\n",
       "        text-align: right;\n",
       "    }\n",
       "</style>\n",
       "<table border=\"1\" class=\"dataframe\">\n",
       "  <thead>\n",
       "    <tr style=\"text-align: right;\">\n",
       "      <th></th>\n",
       "      <th>Datetime</th>\n",
       "      <th>Tangara_36FA</th>\n",
       "      <th>Tangara_1CE2</th>\n",
       "      <th>Tangara_1FCA</th>\n",
       "      <th>Tangara_14D6</th>\n",
       "      <th>Tangara_2FF6</th>\n",
       "      <th>Tangara_2492</th>\n",
       "      <th>Tangara_4D7A</th>\n",
       "      <th>CanAirIO_48C6</th>\n",
       "      <th>CanAirIO_532E</th>\n",
       "    </tr>\n",
       "  </thead>\n",
       "  <tbody>\n",
       "    <tr>\n",
       "      <th>0</th>\n",
       "      <td>2022-04-01T00:00:00-05:00</td>\n",
       "      <td>6</td>\n",
       "      <td>6</td>\n",
       "      <td>6</td>\n",
       "      <td>5</td>\n",
       "      <td>6</td>\n",
       "      <td>&lt;NA&gt;</td>\n",
       "      <td>1</td>\n",
       "      <td>3</td>\n",
       "      <td>&lt;NA&gt;</td>\n",
       "    </tr>\n",
       "    <tr>\n",
       "      <th>1</th>\n",
       "      <td>2022-04-01T00:01:00-05:00</td>\n",
       "      <td>6</td>\n",
       "      <td>6</td>\n",
       "      <td>5</td>\n",
       "      <td>5</td>\n",
       "      <td>6</td>\n",
       "      <td>&lt;NA&gt;</td>\n",
       "      <td>1</td>\n",
       "      <td>3</td>\n",
       "      <td>&lt;NA&gt;</td>\n",
       "    </tr>\n",
       "    <tr>\n",
       "      <th>2</th>\n",
       "      <td>2022-04-01T00:01:30-05:00</td>\n",
       "      <td>6</td>\n",
       "      <td>&lt;NA&gt;</td>\n",
       "      <td>6</td>\n",
       "      <td>&lt;NA&gt;</td>\n",
       "      <td>6</td>\n",
       "      <td>&lt;NA&gt;</td>\n",
       "      <td>1</td>\n",
       "      <td>2</td>\n",
       "      <td>&lt;NA&gt;</td>\n",
       "    </tr>\n",
       "    <tr>\n",
       "      <th>3</th>\n",
       "      <td>2022-04-01T00:02:00-05:00</td>\n",
       "      <td>5</td>\n",
       "      <td>6</td>\n",
       "      <td>6</td>\n",
       "      <td>6</td>\n",
       "      <td>6</td>\n",
       "      <td>&lt;NA&gt;</td>\n",
       "      <td>1</td>\n",
       "      <td>&lt;NA&gt;</td>\n",
       "      <td>&lt;NA&gt;</td>\n",
       "    </tr>\n",
       "    <tr>\n",
       "      <th>4</th>\n",
       "      <td>2022-04-01T00:02:30-05:00</td>\n",
       "      <td>6</td>\n",
       "      <td>6</td>\n",
       "      <td>6</td>\n",
       "      <td>5</td>\n",
       "      <td>6</td>\n",
       "      <td>&lt;NA&gt;</td>\n",
       "      <td>1</td>\n",
       "      <td>3</td>\n",
       "      <td>&lt;NA&gt;</td>\n",
       "    </tr>\n",
       "  </tbody>\n",
       "</table>\n",
       "</div>"
      ],
      "text/plain": [
       "                    Datetime  Tangara_36FA  Tangara_1CE2  Tangara_1FCA  \\\n",
       "0  2022-04-01T00:00:00-05:00             6             6             6   \n",
       "1  2022-04-01T00:01:00-05:00             6             6             5   \n",
       "2  2022-04-01T00:01:30-05:00             6          <NA>             6   \n",
       "3  2022-04-01T00:02:00-05:00             5             6             6   \n",
       "4  2022-04-01T00:02:30-05:00             6             6             6   \n",
       "\n",
       "   Tangara_14D6  Tangara_2FF6  Tangara_2492  Tangara_4D7A  CanAirIO_48C6  \\\n",
       "0             5             6          <NA>             1              3   \n",
       "1             5             6          <NA>             1              3   \n",
       "2          <NA>             6          <NA>             1              2   \n",
       "3             6             6          <NA>             1           <NA>   \n",
       "4             5             6          <NA>             1              3   \n",
       "\n",
       "   CanAirIO_532E  \n",
       "0           <NA>  \n",
       "1           <NA>  \n",
       "2           <NA>  \n",
       "3           <NA>  \n",
       "4           <NA>  "
      ]
     },
     "execution_count": 11,
     "metadata": {},
     "output_type": "execute_result"
    }
   ],
   "source": [
    "# Data Frame Sensors\n",
    "df_sensors = get_df_sensors(tangaras, influxdb_api_request)\n",
    "df_sensors.head()"
   ]
  },
  {
   "cell_type": "code",
   "execution_count": 12,
   "metadata": {},
   "outputs": [
    {
     "name": "stdout",
     "output_type": "stream",
     "text": [
      "2022-06-01 15:44:40,302 - kedro.io.data_catalog - INFO - Saving data to `raw_data_sensors` (CSVDataSet)...\n"
     ]
    }
   ],
   "source": [
    "# Save df_sensors into Catalog\n",
    "catalog.save('raw_data_sensors', df_sensors)"
   ]
  }
 ],
 "metadata": {
  "kernelspec": {
   "display_name": "Kedro (tangara_pipeline)",
   "language": "python",
   "name": "kedro_tangara_pipeline"
  },
  "language_info": {
   "codemirror_mode": {
    "name": "ipython",
    "version": 3
   },
   "file_extension": ".py",
   "mimetype": "text/x-python",
   "name": "python",
   "nbconvert_exporter": "python",
   "pygments_lexer": "ipython3",
   "version": "3.8.10"
  },
  "orig_nbformat": 4
 },
 "nbformat": 4,
 "nbformat_minor": 2
}
