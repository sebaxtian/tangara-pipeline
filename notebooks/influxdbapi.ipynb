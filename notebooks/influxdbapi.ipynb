{
 "cells": [
  {
   "cell_type": "code",
   "execution_count": 1,
   "metadata": {},
   "outputs": [],
   "source": [
    "import pandas as pd\n",
    "import requests"
   ]
  },
  {
   "cell_type": "code",
   "execution_count": 5,
   "metadata": {},
   "outputs": [
    {
     "data": {
      "text/plain": [
       "'SELECT \"name\", last(\"pm25\") FROM \"fixed_stations_01\" WHERE (\"name\" = \\'D29TTGOT7D48C6\\') AND time >= now() - 1h and time <= now() GROUP BY time(30s) fill(none); SELECT \"name\", last(\"pm25\") FROM \"fixed_stations_01\" WHERE (\"name\" = \\'D29TTGOT7D532E\\') AND time >= now() - 1h and time <= now() GROUP BY time(30s) fill(none)'"
      ]
     },
     "execution_count": 5,
     "metadata": {},
     "output_type": "execute_result"
    }
   ],
   "source": [
    "# Create SQL Query\n",
    "name_sensors = {\n",
    "    #'D29ESP32DED36FA': 'Tangara_36FA',\n",
    "    #'D29ESP32DED1CE2': 'Tangara_1CE2',\n",
    "    #'D29ESP32DED1FCA': 'Tangara_1FCA',\n",
    "    #'D29ESP32DED14D6': 'Tangara_14D6',\n",
    "    #'D29ESP32DED2FF6': 'Tangara_2FF6',\n",
    "    #'D29ESP32DED2492': 'Tangara_2492',\n",
    "    #'D29TTGOT7D4D7A': 'Tangara_4D7A',\n",
    "    'D29TTGOT7D48C6': 'CanAirIO_48C6',\n",
    "    'D29TTGOT7D532E': 'CanAirIO_532E'\n",
    "}\n",
    "\n",
    "#condition = \"\"\n",
    "#for key, value in name_sensors.items():\n",
    "#    condition += f\"\\\"name\\\" = '{key}' or \"\n",
    "\n",
    "#sql_query = \"SELECT \\\"name\\\", last(\\\"pm25\\\") \"\\\n",
    "#            \"FROM fixed_stations_01 \"\\\n",
    "#            f\"WHERE ({condition[:-3]})\"\\\n",
    "#                \"and (time >= now() - 1h and time <= now()) \"\\\n",
    "#                \"GROUP BY time(30s) fill(none);\"\n",
    "\n",
    "sql_query = \"\"\n",
    "for key, value in name_sensors.items():\n",
    "    sql_query += \"SELECT \\\"name\\\", last(\\\"pm25\\\") \"\\\n",
    "                \"FROM \\\"fixed_stations_01\\\" WHERE \"\\\n",
    "                f\"(\\\"name\\\" = '{key}') AND \"\\\n",
    "                    \"time >= now() - 1h and time <= now() \"\\\n",
    "                \"GROUP BY time(30s) fill(none); \"\n",
    "\n",
    "sql_query = sql_query[:-2]\n",
    "sql_query"
   ]
  },
  {
   "cell_type": "code",
   "execution_count": 6,
   "metadata": {},
   "outputs": [],
   "source": [
    "# Request to InfluxDB API REST\n",
    "\n",
    "endpoint = \"http://influxdb.canair.io:8086/query\"\n",
    "#endpoint = 'http://influxdb.canair.io:8000/api/datasources/proxy/1/query'\n",
    "database = \"canairio\"\n",
    "\n",
    "#headers = {\n",
    "#    'Accept': 'application/csv',\n",
    "#    'Content-Type': 'application/csv'\n",
    "#}\n",
    "\n",
    "#parameters = {\n",
    "#    'q': sql_query,\n",
    "#    'db': database\n",
    "#}\n",
    "\n",
    "parameters = {\n",
    "    'db': database,\n",
    "    'q': sql_query,\n",
    "    #'epoch': 'ms'\n",
    "}\n",
    "\n",
    "#response = requests.get(endpoint, headers=headers, params=parameters)\n",
    "response = requests.get(endpoint, params=parameters)\n",
    "\n",
    "#print(response.text)\n",
    "#response.json()"
   ]
  },
  {
   "cell_type": "code",
   "execution_count": 7,
   "metadata": {},
   "outputs": [
    {
     "data": {
      "text/html": [
       "<div>\n",
       "<style scoped>\n",
       "    .dataframe tbody tr th:only-of-type {\n",
       "        vertical-align: middle;\n",
       "    }\n",
       "\n",
       "    .dataframe tbody tr th {\n",
       "        vertical-align: top;\n",
       "    }\n",
       "\n",
       "    .dataframe thead th {\n",
       "        text-align: right;\n",
       "    }\n",
       "</style>\n",
       "<table border=\"1\" class=\"dataframe\">\n",
       "  <thead>\n",
       "    <tr style=\"text-align: right;\">\n",
       "      <th></th>\n",
       "      <th>Datetime</th>\n",
       "      <th>CanAirIO_48C6</th>\n",
       "      <th>CanAirIO_532E</th>\n",
       "    </tr>\n",
       "  </thead>\n",
       "  <tbody>\n",
       "    <tr>\n",
       "      <th>0</th>\n",
       "      <td>2022-05-31T15:46:30Z</td>\n",
       "      <td>19.0</td>\n",
       "      <td>23.0</td>\n",
       "    </tr>\n",
       "    <tr>\n",
       "      <th>1</th>\n",
       "      <td>2022-05-31T15:48:00Z</td>\n",
       "      <td>23.0</td>\n",
       "      <td>23.0</td>\n",
       "    </tr>\n",
       "    <tr>\n",
       "      <th>2</th>\n",
       "      <td>2022-05-31T15:48:30Z</td>\n",
       "      <td>23.0</td>\n",
       "      <td>24.0</td>\n",
       "    </tr>\n",
       "    <tr>\n",
       "      <th>3</th>\n",
       "      <td>2022-05-31T15:49:00Z</td>\n",
       "      <td>24.0</td>\n",
       "      <td>23.0</td>\n",
       "    </tr>\n",
       "    <tr>\n",
       "      <th>4</th>\n",
       "      <td>2022-05-31T15:49:30Z</td>\n",
       "      <td>19.0</td>\n",
       "      <td>20.0</td>\n",
       "    </tr>\n",
       "  </tbody>\n",
       "</table>\n",
       "</div>"
      ],
      "text/plain": [
       "               Datetime  CanAirIO_48C6  CanAirIO_532E\n",
       "0  2022-05-31T15:46:30Z           19.0           23.0\n",
       "1  2022-05-31T15:48:00Z           23.0           23.0\n",
       "2  2022-05-31T15:48:30Z           23.0           24.0\n",
       "3  2022-05-31T15:49:00Z           24.0           23.0\n",
       "4  2022-05-31T15:49:30Z           19.0           20.0"
      ]
     },
     "execution_count": 7,
     "metadata": {},
     "output_type": "execute_result"
    }
   ],
   "source": [
    "# Load Data Frame from JSON response\n",
    "df_sensors_influxdb = pd.json_normalize(response.json()['results'], record_path=['series', 'values']).sort_values(by=[0])\n",
    "\n",
    "# Create Data Frame from JSON\n",
    "def create_df_sensors(df):\n",
    "    df_sensors = []\n",
    "    for key, value in name_sensors.items():\n",
    "        df_sensor = df.loc[df[1] == key].reset_index(drop=True)[[0, 2]] # Warning\n",
    "        df_sensor.rename(columns={0: 'Datetime', 2: name_sensors[key]}, inplace=True)\n",
    "        df_sensor.set_index('Datetime', inplace=True)\n",
    "        df_sensors.append(df_sensor)\n",
    "    return df_sensors\n",
    "\n",
    "df_sensors = create_df_sensors(df_sensors_influxdb)\n",
    "df_sensors_influxdb = df_sensors[0].join(df_sensors[1:]).reset_index()\n",
    "df_sensors_influxdb.head()"
   ]
  },
  {
   "cell_type": "code",
   "execution_count": null,
   "metadata": {},
   "outputs": [],
   "source": []
  }
 ],
 "metadata": {
  "kernelspec": {
   "display_name": "Kedro (tangara_pipeline)",
   "language": "python",
   "name": "kedro_tangara_pipeline"
  },
  "language_info": {
   "codemirror_mode": {
    "name": "ipython",
    "version": 3
   },
   "file_extension": ".py",
   "mimetype": "text/x-python",
   "name": "python",
   "nbconvert_exporter": "python",
   "pygments_lexer": "ipython3",
   "version": "3.8.10"
  },
  "orig_nbformat": 4
 },
 "nbformat": 4,
 "nbformat_minor": 2
}
